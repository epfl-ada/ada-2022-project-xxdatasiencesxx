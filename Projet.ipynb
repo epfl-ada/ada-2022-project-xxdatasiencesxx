{
 "cells": [
  {
   "cell_type": "markdown",
   "id": "a112c633-faf6-4243-8618-c8d0de5c1b1c",
   "metadata": {},
   "source": [
    "# The Outcasts of Hollywood "
   ]
  },
  {
   "cell_type": "markdown",
   "id": "b0362fb5-a173-43b4-86bc-5fcf62bd23c1",
   "metadata": {
    "tags": []
   },
   "source": [
    "## Data Wrangling"
   ]
  },
  {
   "cell_type": "code",
   "execution_count": 18,
   "id": "bc5dbdc4-6323-48db-874d-15076b4fce46",
   "metadata": {},
   "outputs": [],
   "source": [
    "import numpy as np\n",
    "import pandas as pd\n",
    "from bs4 import BeautifulSoup\n",
    "import gzip\n",
    "import glob, os\n",
    "from tqdm.auto import tqdm\n",
    "tqdm.pandas()\n",
    "from scipy import stats\n",
    "import seaborn as sns\n",
    "import matplotlib.pyplot as plt\n",
    "\n",
    "import plotly.graph_objects as go\n",
    "import plotly.express as px\n",
    "import chart_studio.tools as tls\n",
    "\n",
    "path = '../MovieSummaries/'"
   ]
  },
  {
   "cell_type": "code",
   "execution_count": 5,
   "id": "6a71c685",
   "metadata": {},
   "outputs": [],
   "source": [
    "# Load various datasets\n",
    "movies_db = pd.read_pickle(path + 'movies_db.pickle')\n",
    "name_clusters = pd.read_pickle(path + 'name_clusters.pickle')\n",
    "crew_basic = pd.read_csv(path + \"imdb_crew.tsv\", sep=\"\\t\")\n",
    "name_basics = pd.read_csv(path + \"imdb_name_basics.tsv\", sep=\"\\t\")\n",
    "movie_basics = pd.read_csv(path + \"imdb_movie_basics.tsv\", sep=\"\\t\", low_memory=False)\n",
    "directors_sex = pd.read_csv(path + \"git_all_directors_gender.csv\", sep=\",\")\n",
    "mainchar_budget = pd.read_csv(path + \"kaggle_movies.csv\", sep=\",\")"
   ]
  },
  {
   "cell_type": "markdown",
   "id": "83aa2a84-da80-44a6-8cb6-a33123cbfc62",
   "metadata": {},
   "source": [
    "### Import movie database"
   ]
  },
  {
   "cell_type": "code",
   "execution_count": 6,
   "id": "989fab5f-abe7-4bda-a8dd-d33eb4c670b4",
   "metadata": {},
   "outputs": [
    {
     "data": {
      "text/html": [
       "<div>\n",
       "<style scoped>\n",
       "    .dataframe tbody tr th:only-of-type {\n",
       "        vertical-align: middle;\n",
       "    }\n",
       "\n",
       "    .dataframe tbody tr th {\n",
       "        vertical-align: top;\n",
       "    }\n",
       "\n",
       "    .dataframe thead th {\n",
       "        text-align: right;\n",
       "    }\n",
       "</style>\n",
       "<table border=\"1\" class=\"dataframe\">\n",
       "  <thead>\n",
       "    <tr style=\"text-align: right;\">\n",
       "      <th></th>\n",
       "      <th>wiki_id</th>\n",
       "      <th>freebase_id</th>\n",
       "      <th>movie_name</th>\n",
       "      <th>date</th>\n",
       "      <th>revenue</th>\n",
       "      <th>runtime</th>\n",
       "      <th>lang</th>\n",
       "      <th>countries</th>\n",
       "      <th>genre</th>\n",
       "    </tr>\n",
       "  </thead>\n",
       "  <tbody>\n",
       "    <tr>\n",
       "      <th>0</th>\n",
       "      <td>975900</td>\n",
       "      <td>/m/03vyhn</td>\n",
       "      <td>Ghosts of Mars</td>\n",
       "      <td>2001-08-24</td>\n",
       "      <td>14010832.0</td>\n",
       "      <td>98.0</td>\n",
       "      <td>{\"/m/02h40lc\": \"English Language\"}</td>\n",
       "      <td>{\"/m/09c7w0\": \"United States of America\"}</td>\n",
       "      <td>{\"/m/01jfsb\": \"Thriller\", \"/m/06n90\": \"Science...</td>\n",
       "    </tr>\n",
       "    <tr>\n",
       "      <th>1</th>\n",
       "      <td>3196793</td>\n",
       "      <td>/m/08yl5d</td>\n",
       "      <td>Getting Away with Murder: The JonBenét Ramsey ...</td>\n",
       "      <td>2000-02-16</td>\n",
       "      <td>NaN</td>\n",
       "      <td>95.0</td>\n",
       "      <td>{\"/m/02h40lc\": \"English Language\"}</td>\n",
       "      <td>{\"/m/09c7w0\": \"United States of America\"}</td>\n",
       "      <td>{\"/m/02n4kr\": \"Mystery\", \"/m/03bxz7\": \"Biograp...</td>\n",
       "    </tr>\n",
       "    <tr>\n",
       "      <th>2</th>\n",
       "      <td>28463795</td>\n",
       "      <td>/m/0crgdbh</td>\n",
       "      <td>Brun bitter</td>\n",
       "      <td>1988</td>\n",
       "      <td>NaN</td>\n",
       "      <td>83.0</td>\n",
       "      <td>{\"/m/05f_3\": \"Norwegian Language\"}</td>\n",
       "      <td>{\"/m/05b4w\": \"Norway\"}</td>\n",
       "      <td>{\"/m/0lsxr\": \"Crime Fiction\", \"/m/07s9rl0\": \"D...</td>\n",
       "    </tr>\n",
       "    <tr>\n",
       "      <th>3</th>\n",
       "      <td>9363483</td>\n",
       "      <td>/m/0285_cd</td>\n",
       "      <td>White Of The Eye</td>\n",
       "      <td>1987</td>\n",
       "      <td>NaN</td>\n",
       "      <td>110.0</td>\n",
       "      <td>{\"/m/02h40lc\": \"English Language\"}</td>\n",
       "      <td>{\"/m/07ssc\": \"United Kingdom\"}</td>\n",
       "      <td>{\"/m/01jfsb\": \"Thriller\", \"/m/0glj9q\": \"Erotic...</td>\n",
       "    </tr>\n",
       "    <tr>\n",
       "      <th>4</th>\n",
       "      <td>261236</td>\n",
       "      <td>/m/01mrr1</td>\n",
       "      <td>A Woman in Flames</td>\n",
       "      <td>1983</td>\n",
       "      <td>NaN</td>\n",
       "      <td>106.0</td>\n",
       "      <td>{\"/m/04306rv\": \"German Language\"}</td>\n",
       "      <td>{\"/m/0345h\": \"Germany\"}</td>\n",
       "      <td>{\"/m/07s9rl0\": \"Drama\"}</td>\n",
       "    </tr>\n",
       "  </tbody>\n",
       "</table>\n",
       "</div>"
      ],
      "text/plain": [
       "    wiki_id freebase_id                                         movie_name  \\\n",
       "0    975900   /m/03vyhn                                     Ghosts of Mars   \n",
       "1   3196793   /m/08yl5d  Getting Away with Murder: The JonBenét Ramsey ...   \n",
       "2  28463795  /m/0crgdbh                                        Brun bitter   \n",
       "3   9363483  /m/0285_cd                                   White Of The Eye   \n",
       "4    261236   /m/01mrr1                                  A Woman in Flames   \n",
       "\n",
       "         date     revenue  runtime                                lang  \\\n",
       "0  2001-08-24  14010832.0     98.0  {\"/m/02h40lc\": \"English Language\"}   \n",
       "1  2000-02-16         NaN     95.0  {\"/m/02h40lc\": \"English Language\"}   \n",
       "2        1988         NaN     83.0  {\"/m/05f_3\": \"Norwegian Language\"}   \n",
       "3        1987         NaN    110.0  {\"/m/02h40lc\": \"English Language\"}   \n",
       "4        1983         NaN    106.0   {\"/m/04306rv\": \"German Language\"}   \n",
       "\n",
       "                                   countries  \\\n",
       "0  {\"/m/09c7w0\": \"United States of America\"}   \n",
       "1  {\"/m/09c7w0\": \"United States of America\"}   \n",
       "2                     {\"/m/05b4w\": \"Norway\"}   \n",
       "3             {\"/m/07ssc\": \"United Kingdom\"}   \n",
       "4                    {\"/m/0345h\": \"Germany\"}   \n",
       "\n",
       "                                               genre  \n",
       "0  {\"/m/01jfsb\": \"Thriller\", \"/m/06n90\": \"Science...  \n",
       "1  {\"/m/02n4kr\": \"Mystery\", \"/m/03bxz7\": \"Biograp...  \n",
       "2  {\"/m/0lsxr\": \"Crime Fiction\", \"/m/07s9rl0\": \"D...  \n",
       "3  {\"/m/01jfsb\": \"Thriller\", \"/m/0glj9q\": \"Erotic...  \n",
       "4                            {\"/m/07s9rl0\": \"Drama\"}  "
      ]
     },
     "execution_count": 6,
     "metadata": {},
     "output_type": "execute_result"
    }
   ],
   "source": [
    "movie = pd.read_csv(path+\"movie.metadata.tsv\", sep='\\t', header=None)\n",
    "\n",
    "movie_columns = ['wiki_id','freebase_id','movie_name','date','revenue','runtime','lang','countries','genre']\n",
    "movie.columns = movie_columns\n",
    "\n",
    "movie.head()"
   ]
  },
  {
   "cell_type": "markdown",
   "id": "e27ad5cd-9fd1-4242-9a6a-1cfec44934e9",
   "metadata": {},
   "source": [
    "### Import character database"
   ]
  },
  {
   "cell_type": "code",
   "execution_count": 7,
   "id": "e554850d-131d-485a-9ef6-53f000f1e89a",
   "metadata": {},
   "outputs": [
    {
     "data": {
      "text/html": [
       "<div>\n",
       "<style scoped>\n",
       "    .dataframe tbody tr th:only-of-type {\n",
       "        vertical-align: middle;\n",
       "    }\n",
       "\n",
       "    .dataframe tbody tr th {\n",
       "        vertical-align: top;\n",
       "    }\n",
       "\n",
       "    .dataframe thead th {\n",
       "        text-align: right;\n",
       "    }\n",
       "</style>\n",
       "<table border=\"1\" class=\"dataframe\">\n",
       "  <thead>\n",
       "    <tr style=\"text-align: right;\">\n",
       "      <th></th>\n",
       "      <th>wiki_id</th>\n",
       "      <th>freebase_id</th>\n",
       "      <th>date</th>\n",
       "      <th>char_name</th>\n",
       "      <th>birthday</th>\n",
       "      <th>gender</th>\n",
       "      <th>height</th>\n",
       "      <th>ethnicity</th>\n",
       "      <th>actor_name</th>\n",
       "      <th>age</th>\n",
       "      <th>map_id</th>\n",
       "      <th>char_id</th>\n",
       "      <th>actor_id</th>\n",
       "    </tr>\n",
       "  </thead>\n",
       "  <tbody>\n",
       "    <tr>\n",
       "      <th>0</th>\n",
       "      <td>975900</td>\n",
       "      <td>/m/03vyhn</td>\n",
       "      <td>2001-08-24</td>\n",
       "      <td>Akooshay</td>\n",
       "      <td>1958-08-26</td>\n",
       "      <td>F</td>\n",
       "      <td>1.620</td>\n",
       "      <td>NaN</td>\n",
       "      <td>Wanda De Jesus</td>\n",
       "      <td>42.0</td>\n",
       "      <td>/m/0bgchxw</td>\n",
       "      <td>/m/0bgcj3x</td>\n",
       "      <td>/m/03wcfv7</td>\n",
       "    </tr>\n",
       "    <tr>\n",
       "      <th>1</th>\n",
       "      <td>975900</td>\n",
       "      <td>/m/03vyhn</td>\n",
       "      <td>2001-08-24</td>\n",
       "      <td>Lieutenant Melanie Ballard</td>\n",
       "      <td>1974-08-15</td>\n",
       "      <td>F</td>\n",
       "      <td>1.780</td>\n",
       "      <td>/m/044038p</td>\n",
       "      <td>Natasha Henstridge</td>\n",
       "      <td>27.0</td>\n",
       "      <td>/m/0jys3m</td>\n",
       "      <td>/m/0bgchn4</td>\n",
       "      <td>/m/0346l4</td>\n",
       "    </tr>\n",
       "    <tr>\n",
       "      <th>2</th>\n",
       "      <td>975900</td>\n",
       "      <td>/m/03vyhn</td>\n",
       "      <td>2001-08-24</td>\n",
       "      <td>Desolation Williams</td>\n",
       "      <td>1969-06-15</td>\n",
       "      <td>M</td>\n",
       "      <td>1.727</td>\n",
       "      <td>/m/0x67</td>\n",
       "      <td>Ice Cube</td>\n",
       "      <td>32.0</td>\n",
       "      <td>/m/0jys3g</td>\n",
       "      <td>/m/0bgchn_</td>\n",
       "      <td>/m/01vw26l</td>\n",
       "    </tr>\n",
       "    <tr>\n",
       "      <th>3</th>\n",
       "      <td>975900</td>\n",
       "      <td>/m/03vyhn</td>\n",
       "      <td>2001-08-24</td>\n",
       "      <td>Sgt Jericho Butler</td>\n",
       "      <td>1967-09-12</td>\n",
       "      <td>M</td>\n",
       "      <td>1.750</td>\n",
       "      <td>NaN</td>\n",
       "      <td>Jason Statham</td>\n",
       "      <td>33.0</td>\n",
       "      <td>/m/02vchl6</td>\n",
       "      <td>/m/0bgchnq</td>\n",
       "      <td>/m/034hyc</td>\n",
       "    </tr>\n",
       "    <tr>\n",
       "      <th>4</th>\n",
       "      <td>975900</td>\n",
       "      <td>/m/03vyhn</td>\n",
       "      <td>2001-08-24</td>\n",
       "      <td>Bashira Kincaid</td>\n",
       "      <td>1977-09-25</td>\n",
       "      <td>F</td>\n",
       "      <td>1.650</td>\n",
       "      <td>NaN</td>\n",
       "      <td>Clea DuVall</td>\n",
       "      <td>23.0</td>\n",
       "      <td>/m/02vbb3r</td>\n",
       "      <td>/m/0bgchp9</td>\n",
       "      <td>/m/01y9xg</td>\n",
       "    </tr>\n",
       "  </tbody>\n",
       "</table>\n",
       "</div>"
      ],
      "text/plain": [
       "   wiki_id freebase_id        date                   char_name    birthday  \\\n",
       "0   975900   /m/03vyhn  2001-08-24                    Akooshay  1958-08-26   \n",
       "1   975900   /m/03vyhn  2001-08-24  Lieutenant Melanie Ballard  1974-08-15   \n",
       "2   975900   /m/03vyhn  2001-08-24         Desolation Williams  1969-06-15   \n",
       "3   975900   /m/03vyhn  2001-08-24          Sgt Jericho Butler  1967-09-12   \n",
       "4   975900   /m/03vyhn  2001-08-24             Bashira Kincaid  1977-09-25   \n",
       "\n",
       "  gender  height   ethnicity          actor_name   age      map_id  \\\n",
       "0      F   1.620         NaN      Wanda De Jesus  42.0  /m/0bgchxw   \n",
       "1      F   1.780  /m/044038p  Natasha Henstridge  27.0   /m/0jys3m   \n",
       "2      M   1.727     /m/0x67            Ice Cube  32.0   /m/0jys3g   \n",
       "3      M   1.750         NaN       Jason Statham  33.0  /m/02vchl6   \n",
       "4      F   1.650         NaN         Clea DuVall  23.0  /m/02vbb3r   \n",
       "\n",
       "      char_id    actor_id  \n",
       "0  /m/0bgcj3x  /m/03wcfv7  \n",
       "1  /m/0bgchn4   /m/0346l4  \n",
       "2  /m/0bgchn_  /m/01vw26l  \n",
       "3  /m/0bgchnq   /m/034hyc  \n",
       "4  /m/0bgchp9   /m/01y9xg  "
      ]
     },
     "execution_count": 7,
     "metadata": {},
     "output_type": "execute_result"
    }
   ],
   "source": [
    "char = pd.read_csv(path+\"character.metadata.tsv\", sep='\\t', header=None)\n",
    "\n",
    "char_columns = ['wiki_id', 'freebase_id', 'date', 'char_name', 'birthday', 'gender', 'height', 'ethnicity',\n",
    "              'actor_name', 'age', 'map_id', 'char_id', 'actor_id']\n",
    "\n",
    "char.columns = char_columns\n",
    "char.head()"
   ]
  },
  {
   "cell_type": "markdown",
   "id": "3d46d619-b530-4005-b34b-036c6658c84a",
   "metadata": {},
   "source": [
    "### Import summaries and join to movie"
   ]
  },
  {
   "cell_type": "code",
   "execution_count": 8,
   "id": "81dd9301-40e8-4dbf-a328-2c8b4c1c391a",
   "metadata": {},
   "outputs": [
    {
     "name": "stdout",
     "output_type": "stream",
     "text": [
      "Are all indexes numerical ? : True\n",
      "Duplicates in summary index ? : False\n",
      "Number of movies: 81741\n",
      "Number of summaries: 42306\n"
     ]
    }
   ],
   "source": [
    "with open(path+'plot_summaries.txt') as infile:\n",
    "    rawsum = infile.readlines()\n",
    "    \n",
    "\n",
    "sums = [t.split(\"\\t\") for t in rawsum]\n",
    "sums_dict = {wiki_id: summary for wiki_id, summary in sums}\n",
    "sums = pd.Series(sums_dict, name='summary')\n",
    "\n",
    "#Check if all indexes are numbers (i.e shows if tab is a good seperator)\n",
    "print('Are all indexes numerical ? : '+ str(all(ele.isdigit() for ele in sums.index)))\n",
    "\n",
    "#Check for duplicates after converting from string to numeric (problem if '01234'=='1234')\n",
    "sums.index = pd.to_numeric(sums.index)\n",
    "print('Duplicates in summary index ? : ' + str(any(sums.index.duplicated())))\n",
    "print(f'Number of movies: {len(movie)}\\nNumber of summaries: {len(sums)}')"
   ]
  },
  {
   "cell_type": "code",
   "execution_count": 9,
   "id": "52616af7-00b2-4e7a-8e43-a30642849bcd",
   "metadata": {},
   "outputs": [],
   "source": [
    "#Join summaries to movies. Left join to keep all movies, or inner join to drop those without summaries\n",
    "#validate raises MergeError when keys are not unique on both sides\n",
    "movie = movie.merge(sums, how='left', left_on='wiki_id', right_index=True, validate='1:1')"
   ]
  },
  {
   "cell_type": "markdown",
   "id": "7b96a243-6802-4a2d-bd16-418ac1f8b17d",
   "metadata": {
    "tags": []
   },
   "source": [
    "## Preparation for NLP tasks\n",
    "\n",
    "This section prepares the following methods: \n",
    "\n",
    "1. Identify role: A dataset containing the main role in movies was found. The issue with this dataset is that it does not contain movies released before 1980. Another approach would be using the NLP processed plot and count the number of times a character is cited in the plot. Therefore a ranking (most cited to less cited) can be applied assuming the main role is the most cited character in the Wikipedia plot.\n",
    "\n",
    "2. Stereotypes in summaries: The NLP processed plots are parsed. First all the characters are retrieved thanks to named-entity recognition. Once all the characters are found, the interesting dependencies (amod, appos, nsubj…) involving the characters found are retrieved.  Pronouns are also used to describe a character and only using dependencies on names will be a loss of information. Therefore, coreferences will be used to assign pronouns to corresponding characters."
   ]
  },
  {
   "cell_type": "code",
   "execution_count": 6,
   "id": "21839a4a-81b9-46c1-bf67-9cadebadccd6",
   "metadata": {},
   "outputs": [
    {
     "data": {
      "application/vnd.jupyter.widget-view+json": {
       "model_id": "ce767dfd95f749828a0f2e7490bfc20a",
       "version_major": 2,
       "version_minor": 0
      },
      "text/plain": [
       "  0%|          | 0/42306 [00:00<?, ?it/s]"
      ]
     },
     "metadata": {},
     "output_type": "display_data"
    }
   ],
   "source": [
    "# Reading the data inside the xml file to a variable under the name data\n",
    "nlp = pd.Series(dtype='object')\n",
    "\n",
    "for filename in tqdm(glob.glob('../corenlp_plot_summaries/*.xml.gz')):\n",
    "    with gzip.open(filename, 'r') as f:\n",
    "        wikid = os.path.basename(filename)[0:-7] #get wiki_id with filename and remove extension\n",
    "        data = f.read()\n",
    "        nlp = pd.concat([nlp, pd.Series([data], index=[wikid])])\n",
    "        \n",
    "    "
   ]
  },
  {
   "cell_type": "markdown",
   "id": "ea3abeaa-d76b-4af3-9057-203c17c059c3",
   "metadata": {},
   "source": [
    "### Working on one plot before adding the loops into the file reading loop"
   ]
  },
  {
   "cell_type": "code",
   "execution_count": 7,
   "id": "2a6687b5-2a38-45c3-a602-adcf6ac4378b",
   "metadata": {
    "tags": []
   },
   "outputs": [],
   "source": [
    "# Passing the stored data inside the beautifulsoup parser, storing the returned object\n",
    "soup = BeautifulSoup(data, \"xml\")"
   ]
  },
  {
   "cell_type": "code",
   "execution_count": 8,
   "id": "90cbe89a-8e6a-4cb1-a91c-7bf42117d963",
   "metadata": {},
   "outputs": [],
   "source": [
    "#Retrieving all characters\n",
    "soup = BeautifulSoup(data, 'xml')\n",
    "characters = soup.find_all(lambda tag: tag.name == \"token\" and 'PERSON' in tag.text)\n",
    "names = []\n",
    "\n",
    "for x in characters:\n",
    "    names.append(x.find('word').text)\n",
    "\n",
    "# Remove duplicates\n",
    "names = list(set(names))"
   ]
  },
  {
   "cell_type": "code",
   "execution_count": 9,
   "id": "615e79b0-7e52-4635-986b-2c5d841a87ce",
   "metadata": {},
   "outputs": [],
   "source": [
    "# Find all dependencies\n",
    "deps = soup.find_all(\"collapsed-ccprocessed-dependencies\")\n",
    "char_deps = []\n",
    "char_as_dep = []\n",
    "char_as_gov = []\n",
    "y = []\n",
    "\n",
    "# Looping through names and through sentences\n",
    "for name in names:\n",
    "    for sentence in deps:\n",
    "        \n",
    "        #find when the name is classified as dependent and governor\n",
    "        dependent = sentence.find_all(lambda tag: tag.name == \"dep\" and name in tag.dependent)\n",
    "        governor = sentence.find_all(lambda tag: tag.name == \"dep\" and name in tag.governor)\n",
    "        \n",
    "        if dependent != []:\n",
    "            char_as_dep += dependent\n",
    "            \n",
    "        if governor != []:\n",
    "            char_as_gov += governor\n",
    "            \n",
    "# List of the characters dependencies\n",
    "\n",
    "# List as dependent\n",
    "char_desc_dep = []\n",
    "\n",
    "for dep in char_as_dep:   \n",
    "    if dep['type']=='nsubj' or dep['type']=='appos' \\\n",
    "        or dep['type']=='nsubjpass' :\n",
    "        \n",
    "        char_desc_dep.append(dep)\n",
    "\n",
    "# List as governor\n",
    "char_desc_gov = []\n",
    "\n",
    "for gov in char_as_gov:\n",
    "    if gov['type']=='rcmod' or gov['type']=='amod':\n",
    "        char_desc_gov.append(gov)\n",
    "        "
   ]
  },
  {
   "cell_type": "markdown",
   "id": "66f9add3-ab8d-4293-8826-5a8af00c8d4a",
   "metadata": {
    "tags": []
   },
   "source": [
    "## Ethnicity Data Processing\n",
    "\n",
    "This section prepares the following method: \n",
    "\n",
    "3. Relationship between movie genre and ethnicity/genre of actors grouping the data based on the variables (i.e. ethnicity of director and grossing) and performing statistical tests \n"
   ]
  },
  {
   "cell_type": "markdown",
   "id": "9147ab62-1f41-4c7c-b229-e5df2ec148f0",
   "metadata": {},
   "source": [
    "### Data processing"
   ]
  },
  {
   "cell_type": "code",
   "execution_count": 11,
   "id": "cbefd7e8-b04a-4b30-b591-096c5743e477",
   "metadata": {
    "scrolled": true
   },
   "outputs": [
    {
     "data": {
      "text/html": [
       "<div>\n",
       "<style scoped>\n",
       "    .dataframe tbody tr th:only-of-type {\n",
       "        vertical-align: middle;\n",
       "    }\n",
       "\n",
       "    .dataframe tbody tr th {\n",
       "        vertical-align: top;\n",
       "    }\n",
       "\n",
       "    .dataframe thead th {\n",
       "        text-align: right;\n",
       "    }\n",
       "</style>\n",
       "<table border=\"1\" class=\"dataframe\">\n",
       "  <thead>\n",
       "    <tr style=\"text-align: right;\">\n",
       "      <th></th>\n",
       "      <th>item</th>\n",
       "      <th>freebaseID</th>\n",
       "      <th>ethnicity_original</th>\n",
       "      <th>ethnicity</th>\n",
       "    </tr>\n",
       "  </thead>\n",
       "  <tbody>\n",
       "    <tr>\n",
       "      <th>0</th>\n",
       "      <td>http://www.wikidata.org/entity/Q22633</td>\n",
       "      <td>/m/038cy</td>\n",
       "      <td>Germanic peoples</td>\n",
       "      <td>NaN</td>\n",
       "    </tr>\n",
       "    <tr>\n",
       "      <th>1</th>\n",
       "      <td>http://www.wikidata.org/entity/Q26862</td>\n",
       "      <td>/m/03gq7tt</td>\n",
       "      <td>Hän people</td>\n",
       "      <td>NaN</td>\n",
       "    </tr>\n",
       "    <tr>\n",
       "      <th>2</th>\n",
       "      <td>http://www.wikidata.org/entity/Q43482</td>\n",
       "      <td>/m/07fswd</td>\n",
       "      <td>Franks</td>\n",
       "      <td>NaN</td>\n",
       "    </tr>\n",
       "    <tr>\n",
       "      <th>3</th>\n",
       "      <td>http://www.wikidata.org/entity/Q44949</td>\n",
       "      <td>/m/04mwbb</td>\n",
       "      <td>Bukharan Jews</td>\n",
       "      <td>NaN</td>\n",
       "    </tr>\n",
       "    <tr>\n",
       "      <th>4</th>\n",
       "      <td>http://www.wikidata.org/entity/Q35533</td>\n",
       "      <td>/m/05nsbj</td>\n",
       "      <td>Kaingang</td>\n",
       "      <td>NaN</td>\n",
       "    </tr>\n",
       "    <tr>\n",
       "      <th>5</th>\n",
       "      <td>http://www.wikidata.org/entity/Q39615</td>\n",
       "      <td>/m/0443q7</td>\n",
       "      <td>Krashovani</td>\n",
       "      <td>NaN</td>\n",
       "    </tr>\n",
       "    <tr>\n",
       "      <th>6</th>\n",
       "      <td>http://www.wikidata.org/entity/Q41477</td>\n",
       "      <td>/m/036p3f</td>\n",
       "      <td>Bubi people</td>\n",
       "      <td>NaN</td>\n",
       "    </tr>\n",
       "    <tr>\n",
       "      <th>7</th>\n",
       "      <td>http://www.wikidata.org/entity/Q43103</td>\n",
       "      <td>/m/02vsw1</td>\n",
       "      <td>European Americans</td>\n",
       "      <td>White</td>\n",
       "    </tr>\n",
       "    <tr>\n",
       "      <th>8</th>\n",
       "      <td>http://www.wikidata.org/entity/Q49306</td>\n",
       "      <td>/m/0630vt</td>\n",
       "      <td>Apalachee people</td>\n",
       "      <td>NaN</td>\n",
       "    </tr>\n",
       "    <tr>\n",
       "      <th>9</th>\n",
       "      <td>http://www.wikidata.org/entity/Q51705</td>\n",
       "      <td>/m/0fr3k</td>\n",
       "      <td>Muscogee</td>\n",
       "      <td>NaN</td>\n",
       "    </tr>\n",
       "  </tbody>\n",
       "</table>\n",
       "</div>"
      ],
      "text/plain": [
       "                                    item  freebaseID  ethnicity_original  \\\n",
       "0  http://www.wikidata.org/entity/Q22633    /m/038cy    Germanic peoples   \n",
       "1  http://www.wikidata.org/entity/Q26862  /m/03gq7tt          Hän people   \n",
       "2  http://www.wikidata.org/entity/Q43482   /m/07fswd              Franks   \n",
       "3  http://www.wikidata.org/entity/Q44949   /m/04mwbb       Bukharan Jews   \n",
       "4  http://www.wikidata.org/entity/Q35533   /m/05nsbj            Kaingang   \n",
       "5  http://www.wikidata.org/entity/Q39615   /m/0443q7          Krashovani   \n",
       "6  http://www.wikidata.org/entity/Q41477   /m/036p3f         Bubi people   \n",
       "7  http://www.wikidata.org/entity/Q43103   /m/02vsw1  European Americans   \n",
       "8  http://www.wikidata.org/entity/Q49306   /m/0630vt    Apalachee people   \n",
       "9  http://www.wikidata.org/entity/Q51705    /m/0fr3k            Muscogee   \n",
       "\n",
       "  ethnicity  \n",
       "0       NaN  \n",
       "1       NaN  \n",
       "2       NaN  \n",
       "3       NaN  \n",
       "4       NaN  \n",
       "5       NaN  \n",
       "6       NaN  \n",
       "7     White  \n",
       "8       NaN  \n",
       "9       NaN  "
      ]
     },
     "execution_count": 11,
     "metadata": {},
     "output_type": "execute_result"
    }
   ],
   "source": [
    "# Load ethnicity query database containing corresponding ethnicity of every freebaseID code\n",
    "ethnicity_query = pd.read_csv(path + \"ethnicity_query.csv\",sep=\";\" )\n",
    "ethnicity_query.rename(columns = {'name': 'ethnicity_original'}, inplace = True)\n",
    "ethnicity_query.head(10)"
   ]
  },
  {
   "cell_type": "code",
   "execution_count": 12,
   "id": "ab824476-4b84-4d19-b730-a2eca9d42358",
   "metadata": {},
   "outputs": [
    {
     "data": {
      "text/html": [
       "<div>\n",
       "<style scoped>\n",
       "    .dataframe tbody tr th:only-of-type {\n",
       "        vertical-align: middle;\n",
       "    }\n",
       "\n",
       "    .dataframe tbody tr th {\n",
       "        vertical-align: top;\n",
       "    }\n",
       "\n",
       "    .dataframe thead th {\n",
       "        text-align: right;\n",
       "    }\n",
       "</style>\n",
       "<table border=\"1\" class=\"dataframe\">\n",
       "  <thead>\n",
       "    <tr style=\"text-align: right;\">\n",
       "      <th></th>\n",
       "      <th>name</th>\n",
       "      <th>rating</th>\n",
       "      <th>genre</th>\n",
       "      <th>year</th>\n",
       "      <th>score</th>\n",
       "      <th>votes</th>\n",
       "      <th>director</th>\n",
       "      <th>writer</th>\n",
       "      <th>star</th>\n",
       "      <th>country</th>\n",
       "      <th>budget</th>\n",
       "      <th>gross</th>\n",
       "      <th>company</th>\n",
       "      <th>runtime</th>\n",
       "    </tr>\n",
       "  </thead>\n",
       "  <tbody>\n",
       "    <tr>\n",
       "      <th>0</th>\n",
       "      <td>The Shining</td>\n",
       "      <td>R</td>\n",
       "      <td>Drama</td>\n",
       "      <td>1980</td>\n",
       "      <td>8.4</td>\n",
       "      <td>927000.0</td>\n",
       "      <td>Stanley Kubrick</td>\n",
       "      <td>Stephen King</td>\n",
       "      <td>Jack Nicholson</td>\n",
       "      <td>United Kingdom</td>\n",
       "      <td>19000000.0</td>\n",
       "      <td>46998772.0</td>\n",
       "      <td>Warner Bros.</td>\n",
       "      <td>146.0</td>\n",
       "    </tr>\n",
       "    <tr>\n",
       "      <th>1</th>\n",
       "      <td>The Blue Lagoon</td>\n",
       "      <td>R</td>\n",
       "      <td>Adventure</td>\n",
       "      <td>1980</td>\n",
       "      <td>5.8</td>\n",
       "      <td>65000.0</td>\n",
       "      <td>Randal Kleiser</td>\n",
       "      <td>Henry De Vere Stacpoole</td>\n",
       "      <td>Brooke Shields</td>\n",
       "      <td>United States</td>\n",
       "      <td>4500000.0</td>\n",
       "      <td>58853106.0</td>\n",
       "      <td>Columbia Pictures</td>\n",
       "      <td>104.0</td>\n",
       "    </tr>\n",
       "    <tr>\n",
       "      <th>2</th>\n",
       "      <td>Star Wars: Episode V - The Empire Strikes Back</td>\n",
       "      <td>PG</td>\n",
       "      <td>Action</td>\n",
       "      <td>1980</td>\n",
       "      <td>8.7</td>\n",
       "      <td>1200000.0</td>\n",
       "      <td>Irvin Kershner</td>\n",
       "      <td>Leigh Brackett</td>\n",
       "      <td>Mark Hamill</td>\n",
       "      <td>United States</td>\n",
       "      <td>18000000.0</td>\n",
       "      <td>538375067.0</td>\n",
       "      <td>Lucasfilm</td>\n",
       "      <td>124.0</td>\n",
       "    </tr>\n",
       "    <tr>\n",
       "      <th>3</th>\n",
       "      <td>Airplane!</td>\n",
       "      <td>PG</td>\n",
       "      <td>Comedy</td>\n",
       "      <td>1980</td>\n",
       "      <td>7.7</td>\n",
       "      <td>221000.0</td>\n",
       "      <td>Jim Abrahams</td>\n",
       "      <td>Jim Abrahams</td>\n",
       "      <td>Robert Hays</td>\n",
       "      <td>United States</td>\n",
       "      <td>3500000.0</td>\n",
       "      <td>83453539.0</td>\n",
       "      <td>Paramount Pictures</td>\n",
       "      <td>88.0</td>\n",
       "    </tr>\n",
       "    <tr>\n",
       "      <th>4</th>\n",
       "      <td>Caddyshack</td>\n",
       "      <td>R</td>\n",
       "      <td>Comedy</td>\n",
       "      <td>1980</td>\n",
       "      <td>7.3</td>\n",
       "      <td>108000.0</td>\n",
       "      <td>Harold Ramis</td>\n",
       "      <td>Brian Doyle-Murray</td>\n",
       "      <td>Chevy Chase</td>\n",
       "      <td>United States</td>\n",
       "      <td>6000000.0</td>\n",
       "      <td>39846344.0</td>\n",
       "      <td>Orion Pictures</td>\n",
       "      <td>98.0</td>\n",
       "    </tr>\n",
       "    <tr>\n",
       "      <th>5</th>\n",
       "      <td>Friday the 13th</td>\n",
       "      <td>R</td>\n",
       "      <td>Horror</td>\n",
       "      <td>1980</td>\n",
       "      <td>6.4</td>\n",
       "      <td>123000.0</td>\n",
       "      <td>Sean S. Cunningham</td>\n",
       "      <td>Victor Miller</td>\n",
       "      <td>Betsy Palmer</td>\n",
       "      <td>United States</td>\n",
       "      <td>550000.0</td>\n",
       "      <td>39754601.0</td>\n",
       "      <td>Paramount Pictures</td>\n",
       "      <td>95.0</td>\n",
       "    </tr>\n",
       "    <tr>\n",
       "      <th>6</th>\n",
       "      <td>The Blues Brothers</td>\n",
       "      <td>R</td>\n",
       "      <td>Action</td>\n",
       "      <td>1980</td>\n",
       "      <td>7.9</td>\n",
       "      <td>188000.0</td>\n",
       "      <td>John Landis</td>\n",
       "      <td>Dan Aykroyd</td>\n",
       "      <td>John Belushi</td>\n",
       "      <td>United States</td>\n",
       "      <td>27000000.0</td>\n",
       "      <td>115229890.0</td>\n",
       "      <td>Universal Pictures</td>\n",
       "      <td>133.0</td>\n",
       "    </tr>\n",
       "    <tr>\n",
       "      <th>7</th>\n",
       "      <td>Raging Bull</td>\n",
       "      <td>R</td>\n",
       "      <td>Biography</td>\n",
       "      <td>1980</td>\n",
       "      <td>8.2</td>\n",
       "      <td>330000.0</td>\n",
       "      <td>Martin Scorsese</td>\n",
       "      <td>Jake LaMotta</td>\n",
       "      <td>Robert De Niro</td>\n",
       "      <td>United States</td>\n",
       "      <td>18000000.0</td>\n",
       "      <td>23402427.0</td>\n",
       "      <td>Chartoff-Winkler Productions</td>\n",
       "      <td>129.0</td>\n",
       "    </tr>\n",
       "    <tr>\n",
       "      <th>8</th>\n",
       "      <td>Superman II</td>\n",
       "      <td>PG</td>\n",
       "      <td>Action</td>\n",
       "      <td>1980</td>\n",
       "      <td>6.8</td>\n",
       "      <td>101000.0</td>\n",
       "      <td>Richard Lester</td>\n",
       "      <td>Jerry Siegel</td>\n",
       "      <td>Gene Hackman</td>\n",
       "      <td>United States</td>\n",
       "      <td>54000000.0</td>\n",
       "      <td>108185706.0</td>\n",
       "      <td>Dovemead Films</td>\n",
       "      <td>127.0</td>\n",
       "    </tr>\n",
       "    <tr>\n",
       "      <th>9</th>\n",
       "      <td>The Long Riders</td>\n",
       "      <td>R</td>\n",
       "      <td>Biography</td>\n",
       "      <td>1980</td>\n",
       "      <td>7.0</td>\n",
       "      <td>10000.0</td>\n",
       "      <td>Walter Hill</td>\n",
       "      <td>Bill Bryden</td>\n",
       "      <td>David Carradine</td>\n",
       "      <td>United States</td>\n",
       "      <td>10000000.0</td>\n",
       "      <td>15795189.0</td>\n",
       "      <td>United Artists</td>\n",
       "      <td>100.0</td>\n",
       "    </tr>\n",
       "  </tbody>\n",
       "</table>\n",
       "</div>"
      ],
      "text/plain": [
       "                                             name rating      genre  year  \\\n",
       "0                                     The Shining      R      Drama  1980   \n",
       "1                                 The Blue Lagoon      R  Adventure  1980   \n",
       "2  Star Wars: Episode V - The Empire Strikes Back     PG     Action  1980   \n",
       "3                                       Airplane!     PG     Comedy  1980   \n",
       "4                                      Caddyshack      R     Comedy  1980   \n",
       "5                                 Friday the 13th      R     Horror  1980   \n",
       "6                              The Blues Brothers      R     Action  1980   \n",
       "7                                     Raging Bull      R  Biography  1980   \n",
       "8                                     Superman II     PG     Action  1980   \n",
       "9                                 The Long Riders      R  Biography  1980   \n",
       "\n",
       "   score      votes            director                   writer  \\\n",
       "0    8.4   927000.0     Stanley Kubrick             Stephen King   \n",
       "1    5.8    65000.0      Randal Kleiser  Henry De Vere Stacpoole   \n",
       "2    8.7  1200000.0      Irvin Kershner           Leigh Brackett   \n",
       "3    7.7   221000.0        Jim Abrahams             Jim Abrahams   \n",
       "4    7.3   108000.0        Harold Ramis       Brian Doyle-Murray   \n",
       "5    6.4   123000.0  Sean S. Cunningham            Victor Miller   \n",
       "6    7.9   188000.0         John Landis              Dan Aykroyd   \n",
       "7    8.2   330000.0     Martin Scorsese             Jake LaMotta   \n",
       "8    6.8   101000.0      Richard Lester             Jerry Siegel   \n",
       "9    7.0    10000.0         Walter Hill              Bill Bryden   \n",
       "\n",
       "              star         country      budget        gross  \\\n",
       "0   Jack Nicholson  United Kingdom  19000000.0   46998772.0   \n",
       "1   Brooke Shields   United States   4500000.0   58853106.0   \n",
       "2      Mark Hamill   United States  18000000.0  538375067.0   \n",
       "3      Robert Hays   United States   3500000.0   83453539.0   \n",
       "4      Chevy Chase   United States   6000000.0   39846344.0   \n",
       "5     Betsy Palmer   United States    550000.0   39754601.0   \n",
       "6     John Belushi   United States  27000000.0  115229890.0   \n",
       "7   Robert De Niro   United States  18000000.0   23402427.0   \n",
       "8     Gene Hackman   United States  54000000.0  108185706.0   \n",
       "9  David Carradine   United States  10000000.0   15795189.0   \n",
       "\n",
       "                        company  runtime  \n",
       "0                  Warner Bros.    146.0  \n",
       "1             Columbia Pictures    104.0  \n",
       "2                     Lucasfilm    124.0  \n",
       "3            Paramount Pictures     88.0  \n",
       "4                Orion Pictures     98.0  \n",
       "5            Paramount Pictures     95.0  \n",
       "6            Universal Pictures    133.0  \n",
       "7  Chartoff-Winkler Productions    129.0  \n",
       "8                Dovemead Films    127.0  \n",
       "9                United Artists    100.0  "
      ]
     },
     "execution_count": 12,
     "metadata": {},
     "output_type": "execute_result"
    }
   ],
   "source": [
    "# Load and read DataFrame with lead roles of every movie after 1980\n",
    "#mainchar_budget = pd.read_csv(path + \"mainchar_budget.csv\", sep= \",\")\n",
    "mainchar_budget.drop(['released'], axis =1, inplace = True)\n",
    "mainchar_budget.head(10)"
   ]
  },
  {
   "cell_type": "code",
   "execution_count": 13,
   "id": "49cc894c-0d91-457d-bb72-1a4178f334d6",
   "metadata": {},
   "outputs": [
    {
     "name": "stderr",
     "output_type": "stream",
     "text": [
      "/var/folders/n6/lb3wydpx1t7d72t1r2nt_4r80000gn/T/ipykernel_3037/1268931089.py:2: ParserWarning: Length of header or names does not match length of data. This leads to a loss of data with index_col=False.\n",
      "  characters_db = pd.read_csv(\n"
     ]
    },
    {
     "data": {
      "text/html": [
       "<div>\n",
       "<style scoped>\n",
       "    .dataframe tbody tr th:only-of-type {\n",
       "        vertical-align: middle;\n",
       "    }\n",
       "\n",
       "    .dataframe tbody tr th {\n",
       "        vertical-align: top;\n",
       "    }\n",
       "\n",
       "    .dataframe thead th {\n",
       "        text-align: right;\n",
       "    }\n",
       "</style>\n",
       "<table border=\"1\" class=\"dataframe\">\n",
       "  <thead>\n",
       "    <tr style=\"text-align: right;\">\n",
       "      <th></th>\n",
       "      <th>wiki_movieID</th>\n",
       "      <th>freebase_movieID</th>\n",
       "      <th>release</th>\n",
       "      <th>char_name</th>\n",
       "      <th>dob</th>\n",
       "      <th>gender</th>\n",
       "      <th>height</th>\n",
       "      <th>ethnicity</th>\n",
       "      <th>act_name</th>\n",
       "      <th>age_amr</th>\n",
       "      <th>freebase_charmap</th>\n",
       "    </tr>\n",
       "  </thead>\n",
       "  <tbody>\n",
       "    <tr>\n",
       "      <th>0</th>\n",
       "      <td>975900</td>\n",
       "      <td>/m/03vyhn</td>\n",
       "      <td>2001-08-24</td>\n",
       "      <td>Akooshay</td>\n",
       "      <td>1958-08-26</td>\n",
       "      <td>F</td>\n",
       "      <td>1.620</td>\n",
       "      <td>NaN</td>\n",
       "      <td>Wanda De Jesus</td>\n",
       "      <td>42.0</td>\n",
       "      <td>/m/0bgchxw</td>\n",
       "    </tr>\n",
       "    <tr>\n",
       "      <th>1</th>\n",
       "      <td>975900</td>\n",
       "      <td>/m/03vyhn</td>\n",
       "      <td>2001-08-24</td>\n",
       "      <td>Lieutenant Melanie Ballard</td>\n",
       "      <td>1974-08-15</td>\n",
       "      <td>F</td>\n",
       "      <td>1.780</td>\n",
       "      <td>/m/044038p</td>\n",
       "      <td>Natasha Henstridge</td>\n",
       "      <td>27.0</td>\n",
       "      <td>/m/0jys3m</td>\n",
       "    </tr>\n",
       "    <tr>\n",
       "      <th>2</th>\n",
       "      <td>975900</td>\n",
       "      <td>/m/03vyhn</td>\n",
       "      <td>2001-08-24</td>\n",
       "      <td>Desolation Williams</td>\n",
       "      <td>1969-06-15</td>\n",
       "      <td>M</td>\n",
       "      <td>1.727</td>\n",
       "      <td>/m/0x67</td>\n",
       "      <td>Ice Cube</td>\n",
       "      <td>32.0</td>\n",
       "      <td>/m/0jys3g</td>\n",
       "    </tr>\n",
       "    <tr>\n",
       "      <th>3</th>\n",
       "      <td>975900</td>\n",
       "      <td>/m/03vyhn</td>\n",
       "      <td>2001-08-24</td>\n",
       "      <td>Sgt Jericho Butler</td>\n",
       "      <td>1967-09-12</td>\n",
       "      <td>M</td>\n",
       "      <td>1.750</td>\n",
       "      <td>NaN</td>\n",
       "      <td>Jason Statham</td>\n",
       "      <td>33.0</td>\n",
       "      <td>/m/02vchl6</td>\n",
       "    </tr>\n",
       "    <tr>\n",
       "      <th>4</th>\n",
       "      <td>975900</td>\n",
       "      <td>/m/03vyhn</td>\n",
       "      <td>2001-08-24</td>\n",
       "      <td>Bashira Kincaid</td>\n",
       "      <td>1977-09-25</td>\n",
       "      <td>F</td>\n",
       "      <td>1.650</td>\n",
       "      <td>NaN</td>\n",
       "      <td>Clea DuVall</td>\n",
       "      <td>23.0</td>\n",
       "      <td>/m/02vbb3r</td>\n",
       "    </tr>\n",
       "    <tr>\n",
       "      <th>5</th>\n",
       "      <td>975900</td>\n",
       "      <td>/m/03vyhn</td>\n",
       "      <td>2001-08-24</td>\n",
       "      <td>Commander Helena Braddock</td>\n",
       "      <td>1949-05-26</td>\n",
       "      <td>F</td>\n",
       "      <td>1.727</td>\n",
       "      <td>/m/0x67</td>\n",
       "      <td>Pam Grier</td>\n",
       "      <td>52.0</td>\n",
       "      <td>/m/02vdcfp</td>\n",
       "    </tr>\n",
       "    <tr>\n",
       "      <th>6</th>\n",
       "      <td>975900</td>\n",
       "      <td>/m/03vyhn</td>\n",
       "      <td>2001-08-24</td>\n",
       "      <td>Whitlock</td>\n",
       "      <td>1945-08-02</td>\n",
       "      <td>F</td>\n",
       "      <td>1.753</td>\n",
       "      <td>NaN</td>\n",
       "      <td>Joanna Cassidy</td>\n",
       "      <td>56.0</td>\n",
       "      <td>/m/02vd6kw</td>\n",
       "    </tr>\n",
       "    <tr>\n",
       "      <th>7</th>\n",
       "      <td>975900</td>\n",
       "      <td>/m/03vyhn</td>\n",
       "      <td>2001-08-24</td>\n",
       "      <td>Big Daddy Mars</td>\n",
       "      <td>NaN</td>\n",
       "      <td>M</td>\n",
       "      <td>NaN</td>\n",
       "      <td>NaN</td>\n",
       "      <td>Richard Cetrone</td>\n",
       "      <td>NaN</td>\n",
       "      <td>/m/0bgchsy</td>\n",
       "    </tr>\n",
       "    <tr>\n",
       "      <th>8</th>\n",
       "      <td>975900</td>\n",
       "      <td>/m/03vyhn</td>\n",
       "      <td>2001-08-24</td>\n",
       "      <td>Michael Descanso</td>\n",
       "      <td>1971-03-20</td>\n",
       "      <td>M</td>\n",
       "      <td>1.892</td>\n",
       "      <td>NaN</td>\n",
       "      <td>Liam Waite</td>\n",
       "      <td>30.0</td>\n",
       "      <td>/m/03jqhb0</td>\n",
       "    </tr>\n",
       "    <tr>\n",
       "      <th>9</th>\n",
       "      <td>975900</td>\n",
       "      <td>/m/03vyhn</td>\n",
       "      <td>2001-08-24</td>\n",
       "      <td>Uno</td>\n",
       "      <td>NaN</td>\n",
       "      <td>M</td>\n",
       "      <td>NaN</td>\n",
       "      <td>NaN</td>\n",
       "      <td>Duane Davis</td>\n",
       "      <td>NaN</td>\n",
       "      <td>/m/0bgchtj</td>\n",
       "    </tr>\n",
       "  </tbody>\n",
       "</table>\n",
       "</div>"
      ],
      "text/plain": [
       "   wiki_movieID freebase_movieID     release                   char_name  \\\n",
       "0        975900        /m/03vyhn  2001-08-24                    Akooshay   \n",
       "1        975900        /m/03vyhn  2001-08-24  Lieutenant Melanie Ballard   \n",
       "2        975900        /m/03vyhn  2001-08-24         Desolation Williams   \n",
       "3        975900        /m/03vyhn  2001-08-24          Sgt Jericho Butler   \n",
       "4        975900        /m/03vyhn  2001-08-24             Bashira Kincaid   \n",
       "5        975900        /m/03vyhn  2001-08-24   Commander Helena Braddock   \n",
       "6        975900        /m/03vyhn  2001-08-24                    Whitlock   \n",
       "7        975900        /m/03vyhn  2001-08-24              Big Daddy Mars   \n",
       "8        975900        /m/03vyhn  2001-08-24            Michael Descanso   \n",
       "9        975900        /m/03vyhn  2001-08-24                         Uno   \n",
       "\n",
       "          dob gender  height   ethnicity            act_name  age_amr  \\\n",
       "0  1958-08-26      F   1.620         NaN      Wanda De Jesus     42.0   \n",
       "1  1974-08-15      F   1.780  /m/044038p  Natasha Henstridge     27.0   \n",
       "2  1969-06-15      M   1.727     /m/0x67            Ice Cube     32.0   \n",
       "3  1967-09-12      M   1.750         NaN       Jason Statham     33.0   \n",
       "4  1977-09-25      F   1.650         NaN         Clea DuVall     23.0   \n",
       "5  1949-05-26      F   1.727     /m/0x67           Pam Grier     52.0   \n",
       "6  1945-08-02      F   1.753         NaN      Joanna Cassidy     56.0   \n",
       "7         NaN      M     NaN         NaN     Richard Cetrone      NaN   \n",
       "8  1971-03-20      M   1.892         NaN          Liam Waite     30.0   \n",
       "9         NaN      M     NaN         NaN         Duane Davis      NaN   \n",
       "\n",
       "  freebase_charmap  \n",
       "0       /m/0bgchxw  \n",
       "1        /m/0jys3m  \n",
       "2        /m/0jys3g  \n",
       "3       /m/02vchl6  \n",
       "4       /m/02vbb3r  \n",
       "5       /m/02vdcfp  \n",
       "6       /m/02vd6kw  \n",
       "7       /m/0bgchsy  \n",
       "8       /m/03jqhb0  \n",
       "9       /m/0bgchtj  "
      ]
     },
     "execution_count": 13,
     "metadata": {},
     "output_type": "execute_result"
    }
   ],
   "source": [
    "# Building characters DataFrame\n",
    "characters_db = pd.read_csv(\n",
    "    path+'character.metadata.tsv',\n",
    "    sep='\\t',\n",
    "    header=None,\n",
    "    names = [\"wiki_movieID\", \"freebase_movieID\", \"release\", \"char_name\", \"dob\", \"gender\", \"height\", \"ethnicity\", \"act_name\", \"age_amr\", \"freebase_charmap\"],\n",
    "    index_col=False,\n",
    ")\n",
    "\n",
    "characters_db.head(10)"
   ]
  },
  {
   "cell_type": "code",
   "execution_count": 14,
   "id": "0b1125bf-0487-4418-961d-d2d13a592263",
   "metadata": {},
   "outputs": [
    {
     "data": {
      "text/html": [
       "<div>\n",
       "<style scoped>\n",
       "    .dataframe tbody tr th:only-of-type {\n",
       "        vertical-align: middle;\n",
       "    }\n",
       "\n",
       "    .dataframe tbody tr th {\n",
       "        vertical-align: top;\n",
       "    }\n",
       "\n",
       "    .dataframe thead th {\n",
       "        text-align: right;\n",
       "    }\n",
       "</style>\n",
       "<table border=\"1\" class=\"dataframe\">\n",
       "  <thead>\n",
       "    <tr style=\"text-align: right;\">\n",
       "      <th></th>\n",
       "      <th>wiki_movieID</th>\n",
       "      <th>freebase_movieID</th>\n",
       "      <th>char_name</th>\n",
       "      <th>dob</th>\n",
       "      <th>gender</th>\n",
       "      <th>height</th>\n",
       "      <th>act_name</th>\n",
       "      <th>age_amr</th>\n",
       "      <th>freebase_charmap</th>\n",
       "      <th>item</th>\n",
       "      <th>ethnicity_original</th>\n",
       "      <th>ethnicity</th>\n",
       "    </tr>\n",
       "  </thead>\n",
       "  <tbody>\n",
       "    <tr>\n",
       "      <th>0</th>\n",
       "      <td>975900</td>\n",
       "      <td>/m/03vyhn</td>\n",
       "      <td>Tres</td>\n",
       "      <td>1959-03-09</td>\n",
       "      <td>M</td>\n",
       "      <td>NaN</td>\n",
       "      <td>Rodney A. Grant</td>\n",
       "      <td>42.0</td>\n",
       "      <td>/m/0bgchrs</td>\n",
       "      <td>http://www.wikidata.org/entity/Q120601</td>\n",
       "      <td>Omaha people</td>\n",
       "      <td>Native American</td>\n",
       "    </tr>\n",
       "    <tr>\n",
       "      <th>1</th>\n",
       "      <td>8961059</td>\n",
       "      <td>/m/04j33ft</td>\n",
       "      <td>NaN</td>\n",
       "      <td>1959-03-09</td>\n",
       "      <td>M</td>\n",
       "      <td>NaN</td>\n",
       "      <td>Rodney A. Grant</td>\n",
       "      <td>38.0</td>\n",
       "      <td>/m/04j33fw</td>\n",
       "      <td>http://www.wikidata.org/entity/Q120601</td>\n",
       "      <td>Omaha people</td>\n",
       "      <td>Native American</td>\n",
       "    </tr>\n",
       "    <tr>\n",
       "      <th>2</th>\n",
       "      <td>129585</td>\n",
       "      <td>/m/0y_9q</td>\n",
       "      <td>Wind In His Hair</td>\n",
       "      <td>1959-03-09</td>\n",
       "      <td>M</td>\n",
       "      <td>NaN</td>\n",
       "      <td>Rodney A. Grant</td>\n",
       "      <td>31.0</td>\n",
       "      <td>/m/02vb6zz</td>\n",
       "      <td>http://www.wikidata.org/entity/Q120601</td>\n",
       "      <td>Omaha people</td>\n",
       "      <td>Native American</td>\n",
       "    </tr>\n",
       "    <tr>\n",
       "      <th>3</th>\n",
       "      <td>18616886</td>\n",
       "      <td>/m/04gnjpr</td>\n",
       "      <td>NaN</td>\n",
       "      <td>1959-03-09</td>\n",
       "      <td>M</td>\n",
       "      <td>NaN</td>\n",
       "      <td>Rodney A. Grant</td>\n",
       "      <td>38.0</td>\n",
       "      <td>/m/0h_05wr</td>\n",
       "      <td>http://www.wikidata.org/entity/Q120601</td>\n",
       "      <td>Omaha people</td>\n",
       "      <td>Native American</td>\n",
       "    </tr>\n",
       "    <tr>\n",
       "      <th>4</th>\n",
       "      <td>244610</td>\n",
       "      <td>/m/01kff7</td>\n",
       "      <td>Hudson</td>\n",
       "      <td>1959-03-09</td>\n",
       "      <td>M</td>\n",
       "      <td>NaN</td>\n",
       "      <td>Rodney A. Grant</td>\n",
       "      <td>40.0</td>\n",
       "      <td>/m/0bygtv9</td>\n",
       "      <td>http://www.wikidata.org/entity/Q120601</td>\n",
       "      <td>Omaha people</td>\n",
       "      <td>Native American</td>\n",
       "    </tr>\n",
       "    <tr>\n",
       "      <th>5</th>\n",
       "      <td>3097826</td>\n",
       "      <td>/m/08r81q</td>\n",
       "      <td>NaN</td>\n",
       "      <td>1959-03-09</td>\n",
       "      <td>M</td>\n",
       "      <td>NaN</td>\n",
       "      <td>Rodney A. Grant</td>\n",
       "      <td>39.0</td>\n",
       "      <td>/m/0glz1bk</td>\n",
       "      <td>http://www.wikidata.org/entity/Q120601</td>\n",
       "      <td>Omaha people</td>\n",
       "      <td>Native American</td>\n",
       "    </tr>\n",
       "    <tr>\n",
       "      <th>6</th>\n",
       "      <td>5324114</td>\n",
       "      <td>/m/0dfmt6</td>\n",
       "      <td>NaN</td>\n",
       "      <td>1959-03-09</td>\n",
       "      <td>M</td>\n",
       "      <td>NaN</td>\n",
       "      <td>Rodney A. Grant</td>\n",
       "      <td>35.0</td>\n",
       "      <td>/m/02tb3bn</td>\n",
       "      <td>http://www.wikidata.org/entity/Q120601</td>\n",
       "      <td>Omaha people</td>\n",
       "      <td>Native American</td>\n",
       "    </tr>\n",
       "    <tr>\n",
       "      <th>7</th>\n",
       "      <td>2314463</td>\n",
       "      <td>/m/0734w5</td>\n",
       "      <td>NaN</td>\n",
       "      <td>1974-08-12</td>\n",
       "      <td>M</td>\n",
       "      <td>NaN</td>\n",
       "      <td>Arj Barker</td>\n",
       "      <td>31.0</td>\n",
       "      <td>/m/0cgnvt9</td>\n",
       "      <td>http://www.wikidata.org/entity/Q2643509</td>\n",
       "      <td>Indian Americans</td>\n",
       "      <td>South Asian</td>\n",
       "    </tr>\n",
       "    <tr>\n",
       "      <th>8</th>\n",
       "      <td>24863901</td>\n",
       "      <td>/m/09gnwkp</td>\n",
       "      <td>Actress</td>\n",
       "      <td>1976-02-26</td>\n",
       "      <td>F</td>\n",
       "      <td>1.68</td>\n",
       "      <td>Namrata Singh Gujral</td>\n",
       "      <td>33.0</td>\n",
       "      <td>/m/09j46w3</td>\n",
       "      <td>http://www.wikidata.org/entity/Q2643509</td>\n",
       "      <td>Indian Americans</td>\n",
       "      <td>South Asian</td>\n",
       "    </tr>\n",
       "    <tr>\n",
       "      <th>9</th>\n",
       "      <td>24863901</td>\n",
       "      <td>/m/09gnwkp</td>\n",
       "      <td>Breast Cancer Survivor</td>\n",
       "      <td>1976-02-26</td>\n",
       "      <td>F</td>\n",
       "      <td>1.68</td>\n",
       "      <td>Namrata Singh Gujral</td>\n",
       "      <td>33.0</td>\n",
       "      <td>/m/0h8248x</td>\n",
       "      <td>http://www.wikidata.org/entity/Q2643509</td>\n",
       "      <td>Indian Americans</td>\n",
       "      <td>South Asian</td>\n",
       "    </tr>\n",
       "  </tbody>\n",
       "</table>\n",
       "</div>"
      ],
      "text/plain": [
       "   wiki_movieID freebase_movieID               char_name         dob gender  \\\n",
       "0        975900        /m/03vyhn                    Tres  1959-03-09      M   \n",
       "1       8961059       /m/04j33ft                     NaN  1959-03-09      M   \n",
       "2        129585         /m/0y_9q        Wind In His Hair  1959-03-09      M   \n",
       "3      18616886       /m/04gnjpr                     NaN  1959-03-09      M   \n",
       "4        244610        /m/01kff7                  Hudson  1959-03-09      M   \n",
       "5       3097826        /m/08r81q                     NaN  1959-03-09      M   \n",
       "6       5324114        /m/0dfmt6                     NaN  1959-03-09      M   \n",
       "7       2314463        /m/0734w5                     NaN  1974-08-12      M   \n",
       "8      24863901       /m/09gnwkp                 Actress  1976-02-26      F   \n",
       "9      24863901       /m/09gnwkp  Breast Cancer Survivor  1976-02-26      F   \n",
       "\n",
       "   height              act_name  age_amr freebase_charmap  \\\n",
       "0     NaN       Rodney A. Grant     42.0       /m/0bgchrs   \n",
       "1     NaN       Rodney A. Grant     38.0       /m/04j33fw   \n",
       "2     NaN       Rodney A. Grant     31.0       /m/02vb6zz   \n",
       "3     NaN       Rodney A. Grant     38.0       /m/0h_05wr   \n",
       "4     NaN       Rodney A. Grant     40.0       /m/0bygtv9   \n",
       "5     NaN       Rodney A. Grant     39.0       /m/0glz1bk   \n",
       "6     NaN       Rodney A. Grant     35.0       /m/02tb3bn   \n",
       "7     NaN            Arj Barker     31.0       /m/0cgnvt9   \n",
       "8    1.68  Namrata Singh Gujral     33.0       /m/09j46w3   \n",
       "9    1.68  Namrata Singh Gujral     33.0       /m/0h8248x   \n",
       "\n",
       "                                      item ethnicity_original        ethnicity  \n",
       "0   http://www.wikidata.org/entity/Q120601       Omaha people  Native American  \n",
       "1   http://www.wikidata.org/entity/Q120601       Omaha people  Native American  \n",
       "2   http://www.wikidata.org/entity/Q120601       Omaha people  Native American  \n",
       "3   http://www.wikidata.org/entity/Q120601       Omaha people  Native American  \n",
       "4   http://www.wikidata.org/entity/Q120601       Omaha people  Native American  \n",
       "5   http://www.wikidata.org/entity/Q120601       Omaha people  Native American  \n",
       "6   http://www.wikidata.org/entity/Q120601       Omaha people  Native American  \n",
       "7  http://www.wikidata.org/entity/Q2643509   Indian Americans      South Asian  \n",
       "8  http://www.wikidata.org/entity/Q2643509   Indian Americans      South Asian  \n",
       "9  http://www.wikidata.org/entity/Q2643509   Indian Americans      South Asian  "
      ]
     },
     "execution_count": 14,
     "metadata": {},
     "output_type": "execute_result"
    }
   ],
   "source": [
    "# Add ethnicity for each character in the database to characters_db DataFrame\n",
    "characters_db = pd.merge(characters_db, ethnicity_query, left_on='ethnicity', right_on='freebaseID')\n",
    "characters_db.drop(['freebaseID','release'], axis=1, inplace = True)\n",
    "characters_db.rename(columns = {'ethnicity_y': 'ethnicity'}, inplace = True)\n",
    "characters_db.drop('ethnicity_x', axis=1, inplace = True)\n",
    "characters_db.head(10)"
   ]
  },
  {
   "cell_type": "code",
   "execution_count": 15,
   "id": "8c14bd29-da4d-48bf-9af8-b19eb8fef1ca",
   "metadata": {},
   "outputs": [
    {
     "data": {
      "text/html": [
       "<div>\n",
       "<style scoped>\n",
       "    .dataframe tbody tr th:only-of-type {\n",
       "        vertical-align: middle;\n",
       "    }\n",
       "\n",
       "    .dataframe tbody tr th {\n",
       "        vertical-align: top;\n",
       "    }\n",
       "\n",
       "    .dataframe thead th {\n",
       "        text-align: right;\n",
       "    }\n",
       "</style>\n",
       "<table border=\"1\" class=\"dataframe\">\n",
       "  <thead>\n",
       "    <tr style=\"text-align: right;\">\n",
       "      <th></th>\n",
       "      <th>name</th>\n",
       "      <th>rating</th>\n",
       "      <th>genre</th>\n",
       "      <th>year</th>\n",
       "      <th>score</th>\n",
       "      <th>votes</th>\n",
       "      <th>director</th>\n",
       "      <th>writer</th>\n",
       "      <th>star</th>\n",
       "      <th>country</th>\n",
       "      <th>...</th>\n",
       "      <th>char_name</th>\n",
       "      <th>dob</th>\n",
       "      <th>gender</th>\n",
       "      <th>height</th>\n",
       "      <th>act_name</th>\n",
       "      <th>age_amr</th>\n",
       "      <th>freebase_charmap</th>\n",
       "      <th>item</th>\n",
       "      <th>ethnicity_original</th>\n",
       "      <th>ethnicity</th>\n",
       "    </tr>\n",
       "  </thead>\n",
       "  <tbody>\n",
       "    <tr>\n",
       "      <th>0</th>\n",
       "      <td>The Shining</td>\n",
       "      <td>R</td>\n",
       "      <td>Drama</td>\n",
       "      <td>1980</td>\n",
       "      <td>8.4</td>\n",
       "      <td>927000.0</td>\n",
       "      <td>Stanley Kubrick</td>\n",
       "      <td>Stephen King</td>\n",
       "      <td>Jack Nicholson</td>\n",
       "      <td>United Kingdom</td>\n",
       "      <td>...</td>\n",
       "      <td>Eugene Earl Axline, aka Harry Bliss</td>\n",
       "      <td>1937-04-22</td>\n",
       "      <td>M</td>\n",
       "      <td>1.77</td>\n",
       "      <td>Jack Nicholson</td>\n",
       "      <td>54.0</td>\n",
       "      <td>/m/0cg3hw2</td>\n",
       "      <td>http://www.wikidata.org/entity/Q974693</td>\n",
       "      <td>Italian Americans</td>\n",
       "      <td>White</td>\n",
       "    </tr>\n",
       "    <tr>\n",
       "      <th>1</th>\n",
       "      <td>The Shining</td>\n",
       "      <td>R</td>\n",
       "      <td>Drama</td>\n",
       "      <td>1980</td>\n",
       "      <td>8.4</td>\n",
       "      <td>927000.0</td>\n",
       "      <td>Stanley Kubrick</td>\n",
       "      <td>Stephen King</td>\n",
       "      <td>Jack Nicholson</td>\n",
       "      <td>United Kingdom</td>\n",
       "      <td>...</td>\n",
       "      <td>Brimmer</td>\n",
       "      <td>1937-04-22</td>\n",
       "      <td>M</td>\n",
       "      <td>1.77</td>\n",
       "      <td>Jack Nicholson</td>\n",
       "      <td>39.0</td>\n",
       "      <td>/m/03ls1f0</td>\n",
       "      <td>http://www.wikidata.org/entity/Q974693</td>\n",
       "      <td>Italian Americans</td>\n",
       "      <td>White</td>\n",
       "    </tr>\n",
       "    <tr>\n",
       "      <th>2</th>\n",
       "      <td>The Shining</td>\n",
       "      <td>R</td>\n",
       "      <td>Drama</td>\n",
       "      <td>1980</td>\n",
       "      <td>8.4</td>\n",
       "      <td>927000.0</td>\n",
       "      <td>Stanley Kubrick</td>\n",
       "      <td>Stephen King</td>\n",
       "      <td>Jack Nicholson</td>\n",
       "      <td>United Kingdom</td>\n",
       "      <td>...</td>\n",
       "      <td>The Specialist</td>\n",
       "      <td>1937-04-22</td>\n",
       "      <td>M</td>\n",
       "      <td>1.77</td>\n",
       "      <td>Jack Nicholson</td>\n",
       "      <td>37.0</td>\n",
       "      <td>/m/03l0hb0</td>\n",
       "      <td>http://www.wikidata.org/entity/Q974693</td>\n",
       "      <td>Italian Americans</td>\n",
       "      <td>White</td>\n",
       "    </tr>\n",
       "    <tr>\n",
       "      <th>3</th>\n",
       "      <td>The Shining</td>\n",
       "      <td>R</td>\n",
       "      <td>Drama</td>\n",
       "      <td>1980</td>\n",
       "      <td>8.4</td>\n",
       "      <td>927000.0</td>\n",
       "      <td>Stanley Kubrick</td>\n",
       "      <td>Stephen King</td>\n",
       "      <td>Jack Nicholson</td>\n",
       "      <td>United Kingdom</td>\n",
       "      <td>...</td>\n",
       "      <td>Burnett</td>\n",
       "      <td>1937-04-22</td>\n",
       "      <td>M</td>\n",
       "      <td>1.77</td>\n",
       "      <td>Jack Nicholson</td>\n",
       "      <td>26.0</td>\n",
       "      <td>/m/03hdnh2</td>\n",
       "      <td>http://www.wikidata.org/entity/Q974693</td>\n",
       "      <td>Italian Americans</td>\n",
       "      <td>White</td>\n",
       "    </tr>\n",
       "    <tr>\n",
       "      <th>4</th>\n",
       "      <td>The Shining</td>\n",
       "      <td>R</td>\n",
       "      <td>Drama</td>\n",
       "      <td>1980</td>\n",
       "      <td>8.4</td>\n",
       "      <td>927000.0</td>\n",
       "      <td>Stanley Kubrick</td>\n",
       "      <td>Stephen King</td>\n",
       "      <td>Jack Nicholson</td>\n",
       "      <td>United Kingdom</td>\n",
       "      <td>...</td>\n",
       "      <td>Charlie Smith</td>\n",
       "      <td>1937-04-22</td>\n",
       "      <td>M</td>\n",
       "      <td>1.77</td>\n",
       "      <td>Jack Nicholson</td>\n",
       "      <td>44.0</td>\n",
       "      <td>/m/03l950l</td>\n",
       "      <td>http://www.wikidata.org/entity/Q974693</td>\n",
       "      <td>Italian Americans</td>\n",
       "      <td>White</td>\n",
       "    </tr>\n",
       "    <tr>\n",
       "      <th>5</th>\n",
       "      <td>The Shining</td>\n",
       "      <td>R</td>\n",
       "      <td>Drama</td>\n",
       "      <td>1980</td>\n",
       "      <td>8.4</td>\n",
       "      <td>927000.0</td>\n",
       "      <td>Stanley Kubrick</td>\n",
       "      <td>Stephen King</td>\n",
       "      <td>Jack Nicholson</td>\n",
       "      <td>United Kingdom</td>\n",
       "      <td>...</td>\n",
       "      <td>Freddy Gale</td>\n",
       "      <td>1937-04-22</td>\n",
       "      <td>M</td>\n",
       "      <td>1.77</td>\n",
       "      <td>Jack Nicholson</td>\n",
       "      <td>58.0</td>\n",
       "      <td>/m/03l928n</td>\n",
       "      <td>http://www.wikidata.org/entity/Q974693</td>\n",
       "      <td>Italian Americans</td>\n",
       "      <td>White</td>\n",
       "    </tr>\n",
       "    <tr>\n",
       "      <th>6</th>\n",
       "      <td>The Shining</td>\n",
       "      <td>R</td>\n",
       "      <td>Drama</td>\n",
       "      <td>1980</td>\n",
       "      <td>8.4</td>\n",
       "      <td>927000.0</td>\n",
       "      <td>Stanley Kubrick</td>\n",
       "      <td>Stephen King</td>\n",
       "      <td>Jack Nicholson</td>\n",
       "      <td>United Kingdom</td>\n",
       "      <td>...</td>\n",
       "      <td>Wilbur Force</td>\n",
       "      <td>1937-04-22</td>\n",
       "      <td>M</td>\n",
       "      <td>1.77</td>\n",
       "      <td>Jack Nicholson</td>\n",
       "      <td>23.0</td>\n",
       "      <td>/m/0k5r4k</td>\n",
       "      <td>http://www.wikidata.org/entity/Q974693</td>\n",
       "      <td>Italian Americans</td>\n",
       "      <td>White</td>\n",
       "    </tr>\n",
       "    <tr>\n",
       "      <th>7</th>\n",
       "      <td>The Shining</td>\n",
       "      <td>R</td>\n",
       "      <td>Drama</td>\n",
       "      <td>1980</td>\n",
       "      <td>8.4</td>\n",
       "      <td>927000.0</td>\n",
       "      <td>Stanley Kubrick</td>\n",
       "      <td>Stephen King</td>\n",
       "      <td>Jack Nicholson</td>\n",
       "      <td>United Kingdom</td>\n",
       "      <td>...</td>\n",
       "      <td>Lt. Andre Duvalier</td>\n",
       "      <td>1937-04-22</td>\n",
       "      <td>M</td>\n",
       "      <td>1.77</td>\n",
       "      <td>Jack Nicholson</td>\n",
       "      <td>26.0</td>\n",
       "      <td>/m/0k6n0s</td>\n",
       "      <td>http://www.wikidata.org/entity/Q974693</td>\n",
       "      <td>Italian Americans</td>\n",
       "      <td>White</td>\n",
       "    </tr>\n",
       "    <tr>\n",
       "      <th>8</th>\n",
       "      <td>The Shining</td>\n",
       "      <td>R</td>\n",
       "      <td>Drama</td>\n",
       "      <td>1980</td>\n",
       "      <td>8.4</td>\n",
       "      <td>927000.0</td>\n",
       "      <td>Stanley Kubrick</td>\n",
       "      <td>Stephen King</td>\n",
       "      <td>Jack Nicholson</td>\n",
       "      <td>United Kingdom</td>\n",
       "      <td>...</td>\n",
       "      <td>J. J. Gittes</td>\n",
       "      <td>1937-04-22</td>\n",
       "      <td>M</td>\n",
       "      <td>1.77</td>\n",
       "      <td>Jack Nicholson</td>\n",
       "      <td>37.0</td>\n",
       "      <td>/m/0jwcjk</td>\n",
       "      <td>http://www.wikidata.org/entity/Q974693</td>\n",
       "      <td>Italian Americans</td>\n",
       "      <td>White</td>\n",
       "    </tr>\n",
       "    <tr>\n",
       "      <th>9</th>\n",
       "      <td>The Shining</td>\n",
       "      <td>R</td>\n",
       "      <td>Drama</td>\n",
       "      <td>1980</td>\n",
       "      <td>8.4</td>\n",
       "      <td>927000.0</td>\n",
       "      <td>Stanley Kubrick</td>\n",
       "      <td>Stephen King</td>\n",
       "      <td>Jack Nicholson</td>\n",
       "      <td>United Kingdom</td>\n",
       "      <td>...</td>\n",
       "      <td>George Hanson</td>\n",
       "      <td>1937-04-22</td>\n",
       "      <td>M</td>\n",
       "      <td>1.77</td>\n",
       "      <td>Jack Nicholson</td>\n",
       "      <td>32.0</td>\n",
       "      <td>/m/0jxpr3</td>\n",
       "      <td>http://www.wikidata.org/entity/Q974693</td>\n",
       "      <td>Italian Americans</td>\n",
       "      <td>White</td>\n",
       "    </tr>\n",
       "  </tbody>\n",
       "</table>\n",
       "<p>10 rows × 26 columns</p>\n",
       "</div>"
      ],
      "text/plain": [
       "          name rating  genre  year  score     votes         director  \\\n",
       "0  The Shining      R  Drama  1980    8.4  927000.0  Stanley Kubrick   \n",
       "1  The Shining      R  Drama  1980    8.4  927000.0  Stanley Kubrick   \n",
       "2  The Shining      R  Drama  1980    8.4  927000.0  Stanley Kubrick   \n",
       "3  The Shining      R  Drama  1980    8.4  927000.0  Stanley Kubrick   \n",
       "4  The Shining      R  Drama  1980    8.4  927000.0  Stanley Kubrick   \n",
       "5  The Shining      R  Drama  1980    8.4  927000.0  Stanley Kubrick   \n",
       "6  The Shining      R  Drama  1980    8.4  927000.0  Stanley Kubrick   \n",
       "7  The Shining      R  Drama  1980    8.4  927000.0  Stanley Kubrick   \n",
       "8  The Shining      R  Drama  1980    8.4  927000.0  Stanley Kubrick   \n",
       "9  The Shining      R  Drama  1980    8.4  927000.0  Stanley Kubrick   \n",
       "\n",
       "         writer            star         country  ...  \\\n",
       "0  Stephen King  Jack Nicholson  United Kingdom  ...   \n",
       "1  Stephen King  Jack Nicholson  United Kingdom  ...   \n",
       "2  Stephen King  Jack Nicholson  United Kingdom  ...   \n",
       "3  Stephen King  Jack Nicholson  United Kingdom  ...   \n",
       "4  Stephen King  Jack Nicholson  United Kingdom  ...   \n",
       "5  Stephen King  Jack Nicholson  United Kingdom  ...   \n",
       "6  Stephen King  Jack Nicholson  United Kingdom  ...   \n",
       "7  Stephen King  Jack Nicholson  United Kingdom  ...   \n",
       "8  Stephen King  Jack Nicholson  United Kingdom  ...   \n",
       "9  Stephen King  Jack Nicholson  United Kingdom  ...   \n",
       "\n",
       "                             char_name         dob gender  height  \\\n",
       "0  Eugene Earl Axline, aka Harry Bliss  1937-04-22      M    1.77   \n",
       "1                              Brimmer  1937-04-22      M    1.77   \n",
       "2                       The Specialist  1937-04-22      M    1.77   \n",
       "3                              Burnett  1937-04-22      M    1.77   \n",
       "4                        Charlie Smith  1937-04-22      M    1.77   \n",
       "5                          Freddy Gale  1937-04-22      M    1.77   \n",
       "6                         Wilbur Force  1937-04-22      M    1.77   \n",
       "7                   Lt. Andre Duvalier  1937-04-22      M    1.77   \n",
       "8                         J. J. Gittes  1937-04-22      M    1.77   \n",
       "9                        George Hanson  1937-04-22      M    1.77   \n",
       "\n",
       "         act_name age_amr freebase_charmap  \\\n",
       "0  Jack Nicholson    54.0       /m/0cg3hw2   \n",
       "1  Jack Nicholson    39.0       /m/03ls1f0   \n",
       "2  Jack Nicholson    37.0       /m/03l0hb0   \n",
       "3  Jack Nicholson    26.0       /m/03hdnh2   \n",
       "4  Jack Nicholson    44.0       /m/03l950l   \n",
       "5  Jack Nicholson    58.0       /m/03l928n   \n",
       "6  Jack Nicholson    23.0        /m/0k5r4k   \n",
       "7  Jack Nicholson    26.0        /m/0k6n0s   \n",
       "8  Jack Nicholson    37.0        /m/0jwcjk   \n",
       "9  Jack Nicholson    32.0        /m/0jxpr3   \n",
       "\n",
       "                                     item ethnicity_original  ethnicity  \n",
       "0  http://www.wikidata.org/entity/Q974693  Italian Americans      White  \n",
       "1  http://www.wikidata.org/entity/Q974693  Italian Americans      White  \n",
       "2  http://www.wikidata.org/entity/Q974693  Italian Americans      White  \n",
       "3  http://www.wikidata.org/entity/Q974693  Italian Americans      White  \n",
       "4  http://www.wikidata.org/entity/Q974693  Italian Americans      White  \n",
       "5  http://www.wikidata.org/entity/Q974693  Italian Americans      White  \n",
       "6  http://www.wikidata.org/entity/Q974693  Italian Americans      White  \n",
       "7  http://www.wikidata.org/entity/Q974693  Italian Americans      White  \n",
       "8  http://www.wikidata.org/entity/Q974693  Italian Americans      White  \n",
       "9  http://www.wikidata.org/entity/Q974693  Italian Americans      White  \n",
       "\n",
       "[10 rows x 26 columns]"
      ]
     },
     "execution_count": 15,
     "metadata": {},
     "output_type": "execute_result"
    }
   ],
   "source": [
    "# Filter out main characters from characters_db\n",
    "mainchar_budget_db = pd.merge(mainchar_budget, characters_db, left_on = 'star', right_on = 'act_name', how = 'inner')\n",
    "mainchar_budget_db.head(10)"
   ]
  },
  {
   "cell_type": "markdown",
   "id": "a6c582b0-9e04-4e9a-b976-ea8e073f103d",
   "metadata": {
    "tags": []
   },
   "source": [
    "### Relationship between Protagonist and Ethnicity assessment"
   ]
  },
  {
   "cell_type": "code",
   "execution_count": 16,
   "id": "c0d38366-da10-4469-940f-c65445077026",
   "metadata": {},
   "outputs": [
    {
     "data": {
      "image/png": "[encoded data removed]",
      "text/plain": [
       "<Figure size 1000x500 with 1 Axes>"
      ]
     },
     "metadata": {},
     "output_type": "display_data"
    }
   ],
   "source": [
    "movie_num_by_ethnicity = mainchar_budget_db.groupby(by=[\"ethnicity\"]).count()\n",
    "\n",
    "# Plot the number of movies by ethnicity of lead role\n",
    "fig = plt.figure(figsize = (10, 5))\n",
    " \n",
    "# Creating the bar plot\n",
    "plt.bar(movie_num_by_ethnicity.index , movie_num_by_ethnicity['name'] , color ='purple',\n",
    "        width = 0.4)\n",
    "plt.xticks(rotation = 90)\n",
    "plt.semilogy()\n",
    "plt.xlabel(\"Ethnicity of lead role\")\n",
    "plt.ylabel(\"Number of Movies\")\n",
    "plt.title(\"Number of movies released by ethnicity of lead role after 1980\")\n",
    "plt.show()"
   ]
  },
  {
   "cell_type": "markdown",
   "id": "49a35a65-7388-421b-aeba-bbc51b1dd616",
   "metadata": {
    "tags": []
   },
   "source": [
    "### Relationship between Protagonist and gender assessment"
   ]
  },
  {
   "cell_type": "code",
   "execution_count": 17,
   "id": "5bf0dc0d-532f-41c9-9b38-da4a41a97eff",
   "metadata": {},
   "outputs": [
    {
     "data": {
      "image/png": "[encoded data removed]",
      "text/plain": [
       "<Figure size 1000x500 with 1 Axes>"
      ]
     },
     "metadata": {},
     "output_type": "display_data"
    }
   ],
   "source": [
    "movie_num_by_gender = mainchar_budget_db.groupby(by=[\"gender\"]).count()\n",
    "\n",
    "# Plot the number of movies by ethnicity of lead role\n",
    "fig = plt.figure(figsize = (10, 5))\n",
    " \n",
    "# Creating the bar plot\n",
    "plt.bar(movie_num_by_gender.index , movie_num_by_gender['name'] , color ='purple',\n",
    "        width = 0.4)\n",
    "plt.xticks(rotation = 90)\n",
    "plt.semilogy()\n",
    "plt.xlabel(\"Gender of lead role\")\n",
    "plt.ylabel(\"Number of Movies\")\n",
    "plt.title(\"Number of movies released by gender of lead role after 1980\")\n",
    "plt.show()"
   ]
  },
  {
   "cell_type": "code",
   "execution_count": 18,
   "id": "cf1e262c-7fb5-4ac3-b56b-5d83c1b25907",
   "metadata": {},
   "outputs": [
    {
     "data": {
      "text/html": [
       "<div>\n",
       "<style scoped>\n",
       "    .dataframe tbody tr th:only-of-type {\n",
       "        vertical-align: middle;\n",
       "    }\n",
       "\n",
       "    .dataframe tbody tr th {\n",
       "        vertical-align: top;\n",
       "    }\n",
       "\n",
       "    .dataframe thead th {\n",
       "        text-align: right;\n",
       "    }\n",
       "</style>\n",
       "<table border=\"1\" class=\"dataframe\">\n",
       "  <thead>\n",
       "    <tr style=\"text-align: right;\">\n",
       "      <th></th>\n",
       "      <th>wiki_movieID</th>\n",
       "      <th>freebase_movieID</th>\n",
       "      <th>char_name</th>\n",
       "      <th>dob</th>\n",
       "      <th>gender</th>\n",
       "      <th>height</th>\n",
       "      <th>act_name</th>\n",
       "      <th>age_amr</th>\n",
       "      <th>freebase_charmap</th>\n",
       "      <th>item</th>\n",
       "      <th>ethnicity_original</th>\n",
       "      <th>ethnicity</th>\n",
       "      <th>wiki_movieID_y</th>\n",
       "      <th>name</th>\n",
       "      <th>release</th>\n",
       "      <th>revenue</th>\n",
       "      <th>runtime</th>\n",
       "      <th>languages</th>\n",
       "      <th>countries</th>\n",
       "      <th>genres</th>\n",
       "    </tr>\n",
       "  </thead>\n",
       "  <tbody>\n",
       "    <tr>\n",
       "      <th>0</th>\n",
       "      <td>975900</td>\n",
       "      <td>/m/03vyhn</td>\n",
       "      <td>Tres</td>\n",
       "      <td>1959-03-09</td>\n",
       "      <td>M</td>\n",
       "      <td>NaN</td>\n",
       "      <td>Rodney A. Grant</td>\n",
       "      <td>42.0</td>\n",
       "      <td>/m/0bgchrs</td>\n",
       "      <td>http://www.wikidata.org/entity/Q120601</td>\n",
       "      <td>Omaha people</td>\n",
       "      <td>Native American</td>\n",
       "      <td>975900</td>\n",
       "      <td>Ghosts of Mars</td>\n",
       "      <td>2001-08-24</td>\n",
       "      <td>14010832.0</td>\n",
       "      <td>98.0</td>\n",
       "      <td>{\"/m/02h40lc\": \"English Language\"}</td>\n",
       "      <td>{\"/m/09c7w0\": \"United States of America\"}</td>\n",
       "      <td>{\"/m/01jfsb\": \"Thriller\", \"/m/06n90\": \"Science...</td>\n",
       "    </tr>\n",
       "    <tr>\n",
       "      <th>1</th>\n",
       "      <td>8961059</td>\n",
       "      <td>/m/04j33ft</td>\n",
       "      <td>NaN</td>\n",
       "      <td>1959-03-09</td>\n",
       "      <td>M</td>\n",
       "      <td>NaN</td>\n",
       "      <td>Rodney A. Grant</td>\n",
       "      <td>38.0</td>\n",
       "      <td>/m/04j33fw</td>\n",
       "      <td>http://www.wikidata.org/entity/Q120601</td>\n",
       "      <td>Omaha people</td>\n",
       "      <td>Native American</td>\n",
       "      <td>8961059</td>\n",
       "      <td>White Wolves 3: Cry of The White Wolf</td>\n",
       "      <td>1998</td>\n",
       "      <td>NaN</td>\n",
       "      <td>87.0</td>\n",
       "      <td>{\"/m/02h40lc\": \"English Language\"}</td>\n",
       "      <td>{\"/m/09c7w0\": \"United States of America\", \"/m/...</td>\n",
       "      <td>{\"/m/03btsm8\": \"Action/Adventure\", \"/m/0hj3mtj...</td>\n",
       "    </tr>\n",
       "    <tr>\n",
       "      <th>2</th>\n",
       "      <td>129585</td>\n",
       "      <td>/m/0y_9q</td>\n",
       "      <td>Wind In His Hair</td>\n",
       "      <td>1959-03-09</td>\n",
       "      <td>M</td>\n",
       "      <td>NaN</td>\n",
       "      <td>Rodney A. Grant</td>\n",
       "      <td>31.0</td>\n",
       "      <td>/m/02vb6zz</td>\n",
       "      <td>http://www.wikidata.org/entity/Q120601</td>\n",
       "      <td>Omaha people</td>\n",
       "      <td>Native American</td>\n",
       "      <td>129585</td>\n",
       "      <td>Dances with Wolves</td>\n",
       "      <td>1990-10-19</td>\n",
       "      <td>424208848.0</td>\n",
       "      <td>224.0</td>\n",
       "      <td>{\"/m/0565z6\": \"Sioux language\", \"/m/06dqgy\": \"...</td>\n",
       "      <td>{\"/m/09c7w0\": \"United States of America\", \"/m/...</td>\n",
       "      <td>{\"/m/03k9fj\": \"Adventure\", \"/m/0253g1\": \"Epic ...</td>\n",
       "    </tr>\n",
       "    <tr>\n",
       "      <th>3</th>\n",
       "      <td>129585</td>\n",
       "      <td>/m/0y_9q</td>\n",
       "      <td>Toughest Pawnee</td>\n",
       "      <td>1947-12-17</td>\n",
       "      <td>M</td>\n",
       "      <td>1.83</td>\n",
       "      <td>Wes Studi</td>\n",
       "      <td>42.0</td>\n",
       "      <td>/m/03jsqb5</td>\n",
       "      <td>http://www.wikidata.org/entity/Q105405</td>\n",
       "      <td>Cherokee</td>\n",
       "      <td>Native American</td>\n",
       "      <td>129585</td>\n",
       "      <td>Dances with Wolves</td>\n",
       "      <td>1990-10-19</td>\n",
       "      <td>424208848.0</td>\n",
       "      <td>224.0</td>\n",
       "      <td>{\"/m/0565z6\": \"Sioux language\", \"/m/06dqgy\": \"...</td>\n",
       "      <td>{\"/m/09c7w0\": \"United States of America\", \"/m/...</td>\n",
       "      <td>{\"/m/03k9fj\": \"Adventure\", \"/m/0253g1\": \"Epic ...</td>\n",
       "    </tr>\n",
       "    <tr>\n",
       "      <th>4</th>\n",
       "      <td>129585</td>\n",
       "      <td>/m/0y_9q</td>\n",
       "      <td>Ten Bears</td>\n",
       "      <td>1936-08-17</td>\n",
       "      <td>M</td>\n",
       "      <td>NaN</td>\n",
       "      <td>Floyd Red Crow Westerman</td>\n",
       "      <td>54.0</td>\n",
       "      <td>/m/05ccmjc</td>\n",
       "      <td>http://www.wikidata.org/entity/Q107434</td>\n",
       "      <td>Sioux</td>\n",
       "      <td>Native American</td>\n",
       "      <td>129585</td>\n",
       "      <td>Dances with Wolves</td>\n",
       "      <td>1990-10-19</td>\n",
       "      <td>424208848.0</td>\n",
       "      <td>224.0</td>\n",
       "      <td>{\"/m/0565z6\": \"Sioux language\", \"/m/06dqgy\": \"...</td>\n",
       "      <td>{\"/m/09c7w0\": \"United States of America\", \"/m/...</td>\n",
       "      <td>{\"/m/03k9fj\": \"Adventure\", \"/m/0253g1\": \"Epic ...</td>\n",
       "    </tr>\n",
       "  </tbody>\n",
       "</table>\n",
       "</div>"
      ],
      "text/plain": [
       "   wiki_movieID freebase_movieID         char_name         dob gender  height  \\\n",
       "0        975900        /m/03vyhn              Tres  1959-03-09      M     NaN   \n",
       "1       8961059       /m/04j33ft               NaN  1959-03-09      M     NaN   \n",
       "2        129585         /m/0y_9q  Wind In His Hair  1959-03-09      M     NaN   \n",
       "3        129585         /m/0y_9q   Toughest Pawnee  1947-12-17      M    1.83   \n",
       "4        129585         /m/0y_9q         Ten Bears  1936-08-17      M     NaN   \n",
       "\n",
       "                   act_name  age_amr freebase_charmap  \\\n",
       "0           Rodney A. Grant     42.0       /m/0bgchrs   \n",
       "1           Rodney A. Grant     38.0       /m/04j33fw   \n",
       "2           Rodney A. Grant     31.0       /m/02vb6zz   \n",
       "3                 Wes Studi     42.0       /m/03jsqb5   \n",
       "4  Floyd Red Crow Westerman     54.0       /m/05ccmjc   \n",
       "\n",
       "                                     item ethnicity_original        ethnicity  \\\n",
       "0  http://www.wikidata.org/entity/Q120601       Omaha people  Native American   \n",
       "1  http://www.wikidata.org/entity/Q120601       Omaha people  Native American   \n",
       "2  http://www.wikidata.org/entity/Q120601       Omaha people  Native American   \n",
       "3  http://www.wikidata.org/entity/Q105405           Cherokee  Native American   \n",
       "4  http://www.wikidata.org/entity/Q107434              Sioux  Native American   \n",
       "\n",
       "   wiki_movieID_y                                   name     release  \\\n",
       "0          975900                         Ghosts of Mars  2001-08-24   \n",
       "1         8961059  White Wolves 3: Cry of The White Wolf        1998   \n",
       "2          129585                     Dances with Wolves  1990-10-19   \n",
       "3          129585                     Dances with Wolves  1990-10-19   \n",
       "4          129585                     Dances with Wolves  1990-10-19   \n",
       "\n",
       "       revenue  runtime                                          languages  \\\n",
       "0   14010832.0     98.0                 {\"/m/02h40lc\": \"English Language\"}   \n",
       "1          NaN     87.0                 {\"/m/02h40lc\": \"English Language\"}   \n",
       "2  424208848.0    224.0  {\"/m/0565z6\": \"Sioux language\", \"/m/06dqgy\": \"...   \n",
       "3  424208848.0    224.0  {\"/m/0565z6\": \"Sioux language\", \"/m/06dqgy\": \"...   \n",
       "4  424208848.0    224.0  {\"/m/0565z6\": \"Sioux language\", \"/m/06dqgy\": \"...   \n",
       "\n",
       "                                           countries  \\\n",
       "0          {\"/m/09c7w0\": \"United States of America\"}   \n",
       "1  {\"/m/09c7w0\": \"United States of America\", \"/m/...   \n",
       "2  {\"/m/09c7w0\": \"United States of America\", \"/m/...   \n",
       "3  {\"/m/09c7w0\": \"United States of America\", \"/m/...   \n",
       "4  {\"/m/09c7w0\": \"United States of America\", \"/m/...   \n",
       "\n",
       "                                              genres  \n",
       "0  {\"/m/01jfsb\": \"Thriller\", \"/m/06n90\": \"Science...  \n",
       "1  {\"/m/03btsm8\": \"Action/Adventure\", \"/m/0hj3mtj...  \n",
       "2  {\"/m/03k9fj\": \"Adventure\", \"/m/0253g1\": \"Epic ...  \n",
       "3  {\"/m/03k9fj\": \"Adventure\", \"/m/0253g1\": \"Epic ...  \n",
       "4  {\"/m/03k9fj\": \"Adventure\", \"/m/0253g1\": \"Epic ...  "
      ]
     },
     "execution_count": 18,
     "metadata": {},
     "output_type": "execute_result"
    }
   ],
   "source": [
    "# Get the ethnicity of all actors in movies_db instead of the freebaseID ethnicity code\n",
    "movies_ethnicity = pd.merge(characters_db, movies_db, on = 'freebase_movieID')\n",
    "#movies_ethnicity.drop(['wiki_movieID_y', 'release_y','ethnicity_original'], axis = 1, inplace = True)\n",
    "movies_ethnicity.rename(columns = {'wiki_movieID_x': 'wiki_movieID'}, inplace = True)\n",
    "movies_ethnicity.rename(columns = {'release_x': 'release'}, inplace = True)\n",
    "movies_ethnicity.head()"
   ]
  },
  {
   "cell_type": "markdown",
   "id": "40446347-c2dd-4932-a6e0-a0e760236fcf",
   "metadata": {
    "tags": []
   },
   "source": [
    "## Gender of the crew\n",
    "\n",
    "This section aims at answering the following research questions :\n",
    "\n",
    "4. Is there a noticeable difference in revenue for movies that portray some particular ethnicities/genre? Is there a noticeable difference in revenue for movies created by women ?\n",
    "5. Does the proportion of movies with ethnic people/women in the crew change with time ?"
   ]
  },
  {
   "cell_type": "markdown",
   "id": "0e437277-54d7-450c-95d7-54cf3ec900cd",
   "metadata": {
    "tags": []
   },
   "source": [
    "### Data processing"
   ]
  },
  {
   "cell_type": "code",
   "execution_count": 10,
   "id": "78138bfa",
   "metadata": {},
   "outputs": [],
   "source": [
    "# Extract american movies\n",
    "movies_usa = movies_db.loc[movies_db['countries']=='{\"/m/09c7w0\": \"United States of America\"}']\n",
    "\n",
    "# Merge crew info and movie info\n",
    "# Duplicates in the crew_title dataset \n",
    "# Still difference with number of unique names -> group by name by aggregating to a list the other info\n",
    "crew_title = pd.merge(crew_basic, movie_basics, on = 'tconst')\n",
    "crew_title.rename(columns = {'primaryTitle': 'name'}, inplace = True)\n",
    "crew_title = crew_title[['name', 'directors', 'writers']].drop_duplicates().groupby(\"name\").aggregate(lambda x: tuple(x))\n",
    "movies_crew = movies_usa.merge(crew_title, on = 'name', how = 'inner')\n",
    "\n",
    "# Add budget info\n",
    "movies_budget = movies_crew.merge(directors_sex[['name', 'budget']], on = 'name')\n",
    "\n",
    "# Add gender to name dataset - \n",
    "# Use of the ImdB dataset to get info on director and not just use of the directors_sex because it hase multiple \n",
    "# directors per movies and contains info on writers as well. Also, it is a more reliable source\n",
    "directors_sex.rename(columns = {'director': 'primaryName'}, inplace = True)\n",
    "name_genders = pd.merge(name_basics, directors_sex[['primaryName', 'gender']], on = 'primaryName')"
   ]
  },
  {
   "cell_type": "code",
   "execution_count": 11,
   "id": "f1a232bd",
   "metadata": {},
   "outputs": [
    {
     "data": {
      "text/html": [
       "<div>\n",
       "<style scoped>\n",
       "    .dataframe tbody tr th:only-of-type {\n",
       "        vertical-align: middle;\n",
       "    }\n",
       "\n",
       "    .dataframe tbody tr th {\n",
       "        vertical-align: top;\n",
       "    }\n",
       "\n",
       "    .dataframe thead th {\n",
       "        text-align: right;\n",
       "    }\n",
       "</style>\n",
       "<table border=\"1\" class=\"dataframe\">\n",
       "  <thead>\n",
       "    <tr style=\"text-align: right;\">\n",
       "      <th></th>\n",
       "      <th>directors</th>\n",
       "      <th>writers</th>\n",
       "    </tr>\n",
       "    <tr>\n",
       "      <th>name</th>\n",
       "      <th></th>\n",
       "      <th></th>\n",
       "    </tr>\n",
       "  </thead>\n",
       "  <tbody>\n",
       "    <tr>\n",
       "      <th>!Next?</th>\n",
       "      <td>(nm4133405,)</td>\n",
       "      <td>(\\N,)</td>\n",
       "    </tr>\n",
       "    <tr>\n",
       "      <th>!Que ve el Bisbe!</th>\n",
       "      <td>(nm1355949,)</td>\n",
       "      <td>(nm1313785,nm4756203,)</td>\n",
       "    </tr>\n",
       "    <tr>\n",
       "      <th>!Women Art Revolution</th>\n",
       "      <td>(nm0380961,)</td>\n",
       "      <td>(\\N,)</td>\n",
       "    </tr>\n",
       "    <tr>\n",
       "      <th>#</th>\n",
       "      <td>(nm5794862,nm5794856, nm11290834, nm2543090, n...</td>\n",
       "      <td>(nm5794862,nm5794856, nm11290834, nm2484612, n...</td>\n",
       "    </tr>\n",
       "    <tr>\n",
       "      <th># (Hashtag)</th>\n",
       "      <td>(\\N,)</td>\n",
       "      <td>(nm0124690,nm7368731,)</td>\n",
       "    </tr>\n",
       "    <tr>\n",
       "      <th># 14</th>\n",
       "      <td>(nm0954882,)</td>\n",
       "      <td>(nm0954882,)</td>\n",
       "    </tr>\n",
       "    <tr>\n",
       "      <th># 1997 Honda Accord: Gauges Upgrade -</th>\n",
       "      <td>(\\N,)</td>\n",
       "      <td>(nm2272457,)</td>\n",
       "    </tr>\n",
       "    <tr>\n",
       "      <th># 1: Units and Objectives</th>\n",
       "      <td>(\\N,)</td>\n",
       "      <td>(\\N,)</td>\n",
       "    </tr>\n",
       "    <tr>\n",
       "      <th># 1: Weird Al</th>\n",
       "      <td>(\\N,)</td>\n",
       "      <td>(\\N,)</td>\n",
       "    </tr>\n",
       "    <tr>\n",
       "      <th># 28 The Jon Spencer Blues Explosion</th>\n",
       "      <td>(\\N,)</td>\n",
       "      <td>(\\N,)</td>\n",
       "    </tr>\n",
       "  </tbody>\n",
       "</table>\n",
       "</div>"
      ],
      "text/plain": [
       "                                                                               directors  \\\n",
       "name                                                                                       \n",
       "!Next?                                                                      (nm4133405,)   \n",
       "!Que ve el Bisbe!                                                           (nm1355949,)   \n",
       "!Women Art Revolution                                                       (nm0380961,)   \n",
       "#                                      (nm5794862,nm5794856, nm11290834, nm2543090, n...   \n",
       "# (Hashtag)                                                                        (\\N,)   \n",
       "# 14                                                                        (nm0954882,)   \n",
       "# 1997 Honda Accord: Gauges Upgrade -                                              (\\N,)   \n",
       "# 1: Units and Objectives                                                          (\\N,)   \n",
       "# 1: Weird Al                                                                      (\\N,)   \n",
       "# 28 The Jon Spencer Blues Explosion                                               (\\N,)   \n",
       "\n",
       "                                                                                 writers  \n",
       "name                                                                                      \n",
       "!Next?                                                                             (\\N,)  \n",
       "!Que ve el Bisbe!                                                 (nm1313785,nm4756203,)  \n",
       "!Women Art Revolution                                                              (\\N,)  \n",
       "#                                      (nm5794862,nm5794856, nm11290834, nm2484612, n...  \n",
       "# (Hashtag)                                                       (nm0124690,nm7368731,)  \n",
       "# 14                                                                        (nm0954882,)  \n",
       "# 1997 Honda Accord: Gauges Upgrade -                                       (nm2272457,)  \n",
       "# 1: Units and Objectives                                                          (\\N,)  \n",
       "# 1: Weird Al                                                                      (\\N,)  \n",
       "# 28 The Jon Spencer Blues Explosion                                               (\\N,)  "
      ]
     },
     "execution_count": 11,
     "metadata": {},
     "output_type": "execute_result"
    }
   ],
   "source": [
    "crew_title.head(10)"
   ]
  },
  {
   "cell_type": "code",
   "execution_count": 12,
   "id": "dca3b775",
   "metadata": {},
   "outputs": [
    {
     "name": "stdout",
     "output_type": "stream",
     "text": [
      "Total movies at beginning: 81741\n",
      "Total american movies: 30300\n",
      "After merge with crew info: 27784\n",
      "\n",
      "Samples lost to have info on crew/director: 2516\n"
     ]
    }
   ],
   "source": [
    "# Print info possibly lost \n",
    "print(f'Total movies at beginning: {len(movies_db)}')\n",
    "print(f'Total american movies: {len(movies_usa)}')\n",
    "print(f'After merge with crew info: {len(movies_crew)}')\n",
    "print(f'\\nSamples lost to have info on crew/director: {len(movies_usa) - len(movies_crew)}')"
   ]
  },
  {
   "cell_type": "code",
   "execution_count": 13,
   "id": "42b66e10",
   "metadata": {},
   "outputs": [
    {
     "data": {
      "application/vnd.jupyter.widget-view+json": {
       "model_id": "d2595f7c1c4e4534922ad8f300966e0f",
       "version_major": 2,
       "version_minor": 0
      },
      "text/plain": [
       "  0%|          | 0/27784 [00:00<?, ?it/s]"
      ]
     },
     "metadata": {},
     "output_type": "display_data"
    }
   ],
   "source": [
    "# Add the presence of at least one women or all women in crew to DataFrame\n",
    "women = name_genders[name_genders['gender']=='female']['nconst']\n",
    "movies_crew['dir_one_fem'] = movies_crew['directors'].progress_apply(\n",
    "    lambda x: any(const_women == const_dir\n",
    "                  for directors in x\n",
    "                  for const_dir in directors.split(',')\n",
    "                  for const_women in women\n",
    "                 )) "
   ]
  },
  {
   "cell_type": "code",
   "execution_count": 14,
   "id": "bae70be5",
   "metadata": {},
   "outputs": [
    {
     "data": {
      "application/vnd.jupyter.widget-view+json": {
       "model_id": "65880f9af7f5492da32455f92ad91c27",
       "version_major": 2,
       "version_minor": 0
      },
      "text/plain": [
       "  0%|          | 0/27784 [00:00<?, ?it/s]"
      ]
     },
     "metadata": {},
     "output_type": "display_data"
    }
   ],
   "source": [
    "movies_crew['dir_all_fem'] = movies_crew['directors'].progress_apply(\n",
    "    lambda x: all(const_women == const_dir\n",
    "                  for directors in x\n",
    "                  for const_dir in directors.split(',')\n",
    "                  for const_women in women\n",
    "                 )) "
   ]
  },
  {
   "cell_type": "code",
   "execution_count": 15,
   "id": "611295f7",
   "metadata": {},
   "outputs": [
    {
     "data": {
      "application/vnd.jupyter.widget-view+json": {
       "model_id": "835affb31fa4425f92ea400adfc5b855",
       "version_major": 2,
       "version_minor": 0
      },
      "text/plain": [
       "  0%|          | 0/27784 [00:00<?, ?it/s]"
      ]
     },
     "metadata": {},
     "output_type": "display_data"
    }
   ],
   "source": [
    "movies_crew['wri_one_fem'] = movies_crew['writers'].progress_apply(\n",
    "    lambda x: any(const_women == const_wri\n",
    "                  for writers in x\n",
    "                  for const_wri in writers.split(',')\n",
    "                  for const_women in women\n",
    "                 )) "
   ]
  },
  {
   "cell_type": "code",
   "execution_count": 16,
   "id": "c9d351b6",
   "metadata": {},
   "outputs": [
    {
     "data": {
      "application/vnd.jupyter.widget-view+json": {
       "model_id": "c37c2da719c54020a3389ed33c7763d7",
       "version_major": 2,
       "version_minor": 0
      },
      "text/plain": [
       "  0%|          | 0/27784 [00:00<?, ?it/s]"
      ]
     },
     "metadata": {},
     "output_type": "display_data"
    }
   ],
   "source": [
    "movies_crew['wri_all_fem'] = movies_crew['writers'].progress_apply(\n",
    "    lambda x: all(const_women == const_wri\n",
    "                  for writers in x\n",
    "                  for const_wri in writers.split(',')\n",
    "                  for const_women in women\n",
    "                 )) "
   ]
  },
  {
   "cell_type": "code",
   "execution_count": 17,
   "id": "cbaa9bc9",
   "metadata": {},
   "outputs": [
    {
     "data": {
      "text/html": [
       "<div>\n",
       "<style scoped>\n",
       "    .dataframe tbody tr th:only-of-type {\n",
       "        vertical-align: middle;\n",
       "    }\n",
       "\n",
       "    .dataframe tbody tr th {\n",
       "        vertical-align: top;\n",
       "    }\n",
       "\n",
       "    .dataframe thead th {\n",
       "        text-align: right;\n",
       "    }\n",
       "</style>\n",
       "<table border=\"1\" class=\"dataframe\">\n",
       "  <thead>\n",
       "    <tr style=\"text-align: right;\">\n",
       "      <th></th>\n",
       "      <th>wiki_movieID</th>\n",
       "      <th>freebase_movieID</th>\n",
       "      <th>name</th>\n",
       "      <th>release</th>\n",
       "      <th>revenue</th>\n",
       "      <th>runtime</th>\n",
       "      <th>languages</th>\n",
       "      <th>countries</th>\n",
       "      <th>genres</th>\n",
       "      <th>directors</th>\n",
       "      <th>writers</th>\n",
       "      <th>dir_one_fem</th>\n",
       "      <th>dir_all_fem</th>\n",
       "      <th>wri_one_fem</th>\n",
       "      <th>wri_all_fem</th>\n",
       "    </tr>\n",
       "  </thead>\n",
       "  <tbody>\n",
       "    <tr>\n",
       "      <th>0</th>\n",
       "      <td>975900</td>\n",
       "      <td>/m/03vyhn</td>\n",
       "      <td>Ghosts of Mars</td>\n",
       "      <td>2001-08-24</td>\n",
       "      <td>14010832.0</td>\n",
       "      <td>98.0</td>\n",
       "      <td>{\"/m/02h40lc\": \"English Language\"}</td>\n",
       "      <td>{\"/m/09c7w0\": \"United States of America\"}</td>\n",
       "      <td>{\"/m/01jfsb\": \"Thriller\", \"/m/06n90\": \"Science...</td>\n",
       "      <td>(nm0000118, \\N, nm3973010)</td>\n",
       "      <td>(nm0837917,nm0000118, \\N, nm4270124,nm3973010,...</td>\n",
       "      <td>False</td>\n",
       "      <td>False</td>\n",
       "      <td>False</td>\n",
       "      <td>False</td>\n",
       "    </tr>\n",
       "    <tr>\n",
       "      <th>1</th>\n",
       "      <td>13696889</td>\n",
       "      <td>/m/03cfc81</td>\n",
       "      <td>The Gangsters</td>\n",
       "      <td>1913-05-29</td>\n",
       "      <td>NaN</td>\n",
       "      <td>35.0</td>\n",
       "      <td>{\"/m/06ppq\": \"Silent film\", \"/m/02h40lc\": \"Eng...</td>\n",
       "      <td>{\"/m/09c7w0\": \"United States of America\"}</td>\n",
       "      <td>{\"/m/02hmvc\": \"Short Film\", \"/m/06ppq\": \"Silen...</td>\n",
       "      <td>(nm0499883, nm0727225, nm4215028, \\N, nm5698891)</td>\n",
       "      <td>(nm0629243, nm0727225, nm4215028, \\N, nm5698891)</td>\n",
       "      <td>False</td>\n",
       "      <td>False</td>\n",
       "      <td>False</td>\n",
       "      <td>False</td>\n",
       "    </tr>\n",
       "    <tr>\n",
       "      <th>2</th>\n",
       "      <td>10408933</td>\n",
       "      <td>/m/02qc0j7</td>\n",
       "      <td>Alexander's Ragtime Band</td>\n",
       "      <td>1938-08-16</td>\n",
       "      <td>3600000.0</td>\n",
       "      <td>106.0</td>\n",
       "      <td>{\"/m/02h40lc\": \"English Language\"}</td>\n",
       "      <td>{\"/m/09c7w0\": \"United States of America\"}</td>\n",
       "      <td>{\"/m/04t36\": \"Musical\", \"/m/01z4y\": \"Comedy\", ...</td>\n",
       "      <td>(nm0281487, nm0281487,nm0191386, nm0454771)</td>\n",
       "      <td>(\\N, \\N, nm0778636,nm0873707,nm0792553,nm00009...</td>\n",
       "      <td>False</td>\n",
       "      <td>False</td>\n",
       "      <td>False</td>\n",
       "      <td>False</td>\n",
       "    </tr>\n",
       "    <tr>\n",
       "      <th>3</th>\n",
       "      <td>175026</td>\n",
       "      <td>/m/017n1p</td>\n",
       "      <td>Sarah and Son</td>\n",
       "      <td>1930</td>\n",
       "      <td>NaN</td>\n",
       "      <td>86.0</td>\n",
       "      <td>{\"/m/02h40lc\": \"English Language\"}</td>\n",
       "      <td>{\"/m/09c7w0\": \"United States of America\"}</td>\n",
       "      <td>{\"/m/07s9rl0\": \"Drama\", \"/m/01g6gs\": \"Black-an...</td>\n",
       "      <td>(nm0002188,)</td>\n",
       "      <td>(nm0015399,nm0790352,)</td>\n",
       "      <td>False</td>\n",
       "      <td>False</td>\n",
       "      <td>False</td>\n",
       "      <td>False</td>\n",
       "    </tr>\n",
       "    <tr>\n",
       "      <th>4</th>\n",
       "      <td>11250635</td>\n",
       "      <td>/m/02r52hc</td>\n",
       "      <td>The Mechanical Monsters</td>\n",
       "      <td>NaN</td>\n",
       "      <td>NaN</td>\n",
       "      <td>NaN</td>\n",
       "      <td>{\"/m/02h40lc\": \"English Language\"}</td>\n",
       "      <td>{\"/m/09c7w0\": \"United States of America\"}</td>\n",
       "      <td>{\"/m/06n90\": \"Science Fiction\", \"/m/03k9fj\": \"...</td>\n",
       "      <td>(nm0281487,nm0611157,)</td>\n",
       "      <td>(nm0795975,nm0796950,nm0816917,nm0460667,)</td>\n",
       "      <td>False</td>\n",
       "      <td>False</td>\n",
       "      <td>False</td>\n",
       "      <td>False</td>\n",
       "    </tr>\n",
       "  </tbody>\n",
       "</table>\n",
       "</div>"
      ],
      "text/plain": [
       "   wiki_movieID freebase_movieID                      name     release  \\\n",
       "0        975900        /m/03vyhn            Ghosts of Mars  2001-08-24   \n",
       "1      13696889       /m/03cfc81             The Gangsters  1913-05-29   \n",
       "2      10408933       /m/02qc0j7  Alexander's Ragtime Band  1938-08-16   \n",
       "3        175026        /m/017n1p             Sarah and Son        1930   \n",
       "4      11250635       /m/02r52hc   The Mechanical Monsters         NaN   \n",
       "\n",
       "      revenue  runtime                                          languages  \\\n",
       "0  14010832.0     98.0                 {\"/m/02h40lc\": \"English Language\"}   \n",
       "1         NaN     35.0  {\"/m/06ppq\": \"Silent film\", \"/m/02h40lc\": \"Eng...   \n",
       "2   3600000.0    106.0                 {\"/m/02h40lc\": \"English Language\"}   \n",
       "3         NaN     86.0                 {\"/m/02h40lc\": \"English Language\"}   \n",
       "4         NaN      NaN                 {\"/m/02h40lc\": \"English Language\"}   \n",
       "\n",
       "                                   countries  \\\n",
       "0  {\"/m/09c7w0\": \"United States of America\"}   \n",
       "1  {\"/m/09c7w0\": \"United States of America\"}   \n",
       "2  {\"/m/09c7w0\": \"United States of America\"}   \n",
       "3  {\"/m/09c7w0\": \"United States of America\"}   \n",
       "4  {\"/m/09c7w0\": \"United States of America\"}   \n",
       "\n",
       "                                              genres  \\\n",
       "0  {\"/m/01jfsb\": \"Thriller\", \"/m/06n90\": \"Science...   \n",
       "1  {\"/m/02hmvc\": \"Short Film\", \"/m/06ppq\": \"Silen...   \n",
       "2  {\"/m/04t36\": \"Musical\", \"/m/01z4y\": \"Comedy\", ...   \n",
       "3  {\"/m/07s9rl0\": \"Drama\", \"/m/01g6gs\": \"Black-an...   \n",
       "4  {\"/m/06n90\": \"Science Fiction\", \"/m/03k9fj\": \"...   \n",
       "\n",
       "                                          directors  \\\n",
       "0                        (nm0000118, \\N, nm3973010)   \n",
       "1  (nm0499883, nm0727225, nm4215028, \\N, nm5698891)   \n",
       "2       (nm0281487, nm0281487,nm0191386, nm0454771)   \n",
       "3                                      (nm0002188,)   \n",
       "4                            (nm0281487,nm0611157,)   \n",
       "\n",
       "                                             writers  dir_one_fem  \\\n",
       "0  (nm0837917,nm0000118, \\N, nm4270124,nm3973010,...        False   \n",
       "1   (nm0629243, nm0727225, nm4215028, \\N, nm5698891)        False   \n",
       "2  (\\N, \\N, nm0778636,nm0873707,nm0792553,nm00009...        False   \n",
       "3                             (nm0015399,nm0790352,)        False   \n",
       "4         (nm0795975,nm0796950,nm0816917,nm0460667,)        False   \n",
       "\n",
       "   dir_all_fem  wri_one_fem  wri_all_fem  \n",
       "0        False        False        False  \n",
       "1        False        False        False  \n",
       "2        False        False        False  \n",
       "3        False        False        False  \n",
       "4        False        False        False  "
      ]
     },
     "execution_count": 17,
     "metadata": {},
     "output_type": "execute_result"
    }
   ],
   "source": [
    "movies_crew.head(5)"
   ]
  },
  {
   "cell_type": "markdown",
   "id": "ee23cbe4-71e0-496b-b2f3-c5cae006e56a",
   "metadata": {
    "tags": []
   },
   "source": [
    "### Question 5 : Does the proportion of movies with ethnic people/women in the crew change with time ?"
   ]
  },
  {
   "cell_type": "code",
   "execution_count": 34,
   "id": "00e750cd",
   "metadata": {},
   "outputs": [],
   "source": [
    "# Build specific DataFrames\n",
    "# For this part, wa refers to at least one woman, w to all women, m to all men\n",
    "# In terms of the directors\n",
    "movies_dir_wa = movies_crew[movies_crew['dir_one_fem']==True]\n",
    "movies_dir_w = movies_crew[movies_crew['dir_all_fem']==True]\n",
    "movies_dir_m = movies_crew[movies_crew['dir_one_fem']==False]\n",
    "# In terms of the writers\n",
    "movies_wri_wa = movies_crew[movies_crew['wri_one_fem']==True]\n",
    "movies_wri_w = movies_crew[movies_crew['wri_all_fem']==True]\n",
    "movies_wri_m = movies_crew[movies_crew['wri_one_fem']==False]"
   ]
  },
  {
   "cell_type": "code",
   "execution_count": 35,
   "id": "895fe664",
   "metadata": {
    "scrolled": true
   },
   "outputs": [
    {
     "name": "stdout",
     "output_type": "stream",
     "text": [
      "Number of movies directed by all women: 0 == 0.00% of total movies in dataset\n",
      "Number of movies directed by at least one woman: 794 == 2.94% of total movies in dataset\n",
      "Number of movies directed by all men: 26990 == 100.00% of total movies in dataset\n",
      "\n",
      "Number of movies written by all women: 0 == 0.00% of total movies in dataset\n",
      "Number of movies directed by at least one woman: 487 == 1.78% of total movies in dataset\n",
      "Number of movies written by all men: 27297 == 100.00% of total movies in dataset\n"
     ]
    }
   ],
   "source": [
    "# Check proportions for each crew member\n",
    "tot = len(movies_dir_w) + len(movies_dir_m)\n",
    "print('Number of movies directed by all women: ' + f\"{len(movies_dir_w)}\" + \" == \" + \"{:.2%}\".format(len(movies_dir_w) / tot) + \" of total movies in dataset\")\n",
    "print('Number of movies directed by at least one woman: ' + f\"{len(movies_dir_wa)}\" + \" == \" + \"{:.2%}\".format(len(movies_dir_wa) / tot) + \" of total movies in dataset\")\n",
    "print('Number of movies directed by all men: ' + f\"{len(movies_dir_m)}\" + \" == \" + \"{:.2%}\".format(len(movies_dir_m) / tot) +  \" of total movies in dataset\")\n",
    "tot = len(movies_wri_w) + len(movies_wri_m)\n",
    "print('\\nNumber of movies written by all women: ' + f\"{len(movies_wri_w)}\" + \" == \" + \"{:.2%}\".format(len(movies_wri_w) / tot) + \" of total movies in dataset\")\n",
    "print('Number of movies written by at least one woman: ' + f\"{len(movies_wri_wa)}\" + \" == \" + \"{:.2%}\".format(len(movies_wri_wa) / tot) + \" of total movies in dataset\")\n",
    "print('Number of movies written by all men: ' + f\"{len(movies_wri_m)}\" + \" == \" + \"{:.2%}\".format(len(movies_wri_m) / tot) + \" of total movies in dataset\")"
   ]
  },
  {
   "cell_type": "code",
   "execution_count": 42,
   "id": "e689b55d",
   "metadata": {},
   "outputs": [
    {
     "name": "stderr",
     "output_type": "stream",
     "text": [
      "/tmp/ipykernel_5348/1892078688.py:3: SettingWithCopyWarning:\n",
      "\n",
      "\n",
      "A value is trying to be set on a copy of a slice from a DataFrame.\n",
      "Try using .loc[row_indexer,col_indexer] = value instead\n",
      "\n",
      "See the caveats in the documentation: https://pandas.pydata.org/pandas-docs/stable/user_guide/indexing.html#returning-a-view-versus-a-copy\n",
      "\n",
      "/tmp/ipykernel_5348/1892078688.py:4: SettingWithCopyWarning:\n",
      "\n",
      "\n",
      "A value is trying to be set on a copy of a slice from a DataFrame.\n",
      "Try using .loc[row_indexer,col_indexer] = value instead\n",
      "\n",
      "See the caveats in the documentation: https://pandas.pydata.org/pandas-docs/stable/user_guide/indexing.html#returning-a-view-versus-a-copy\n",
      "\n",
      "/tmp/ipykernel_5348/1892078688.py:10: SettingWithCopyWarning:\n",
      "\n",
      "\n",
      "A value is trying to be set on a copy of a slice from a DataFrame.\n",
      "Try using .loc[row_indexer,col_indexer] = value instead\n",
      "\n",
      "See the caveats in the documentation: https://pandas.pydata.org/pandas-docs/stable/user_guide/indexing.html#returning-a-view-versus-a-copy\n",
      "\n",
      "/tmp/ipykernel_5348/1892078688.py:11: SettingWithCopyWarning:\n",
      "\n",
      "\n",
      "A value is trying to be set on a copy of a slice from a DataFrame.\n",
      "Try using .loc[row_indexer,col_indexer] = value instead\n",
      "\n",
      "See the caveats in the documentation: https://pandas.pydata.org/pandas-docs/stable/user_guide/indexing.html#returning-a-view-versus-a-copy\n",
      "\n"
     ]
    }
   ],
   "source": [
    "# Yearly releases of movies directed by men/women \n",
    "movies_dir_w['year'] = pd.to_datetime(movies_dir_w['release']).apply(lambda x: x.year)\n",
    "movies_dir_wa['year'] = pd.to_datetime(movies_dir_wa['release']).apply(lambda x: x.year)\n",
    "movies_dir_m['year'] = pd.to_datetime(movies_dir_m['release']).apply(lambda x: x.year)\n",
    "plot_w_d = movies_dir_w.groupby('year').aggregate(sum)['dir_all_fem'] \n",
    "plot_wa_d = movies_dir_wa.groupby('year').aggregate(sum)['dir_one_fem']  \n",
    "plot_m_d = movies_dir_m.groupby('year').aggregate('count')['dir_one_fem'] \n",
    "# Yearly releases of movies written by men/women \n",
    "movies_wri_w['year'] = pd.to_datetime(movies_wri_w['release']).apply(lambda x: x.year)\n",
    "movies_wri_wa['year'] = pd.to_datetime(movies_wri_wa['release']).apply(lambda x: x.year)\n",
    "movies_wri_m['year'] = pd.to_datetime(movies_wri_m['release']).apply(lambda x: x.year)\n",
    "plot_w_w = movies_wri_w.groupby('year').aggregate(sum)['wri_all_fem']\n",
    "plot_wa_w = movies_wri_wa.groupby('year').aggregate(sum)['wri_one_fem']  \n",
    "plot_m_w = movies_wri_m.groupby('year').aggregate('count')['wri_one_fem'] "
   ]
  },
  {
   "cell_type": "code",
   "execution_count": 43,
   "id": "75e2c0eb",
   "metadata": {},
   "outputs": [
    {
     "data": {
      "application/vnd.plotly.v1+json": {
       "config": {
        "plotlyServerURL": "https://plot.ly"
       },
       "data": [
        {
         "line": {
          "color": "#9467BD",
          "width": 4
         },
         "name": "At least one woman director",
         "type": "scatter",
         "x": [
          1909,
          1910,
          1911,
          1912,
          1913,
          1914,
          1915,
          1916,
          1917,
          1918,
          1919,
          1921,
          1922,
          1923,
          1924,
          1926,
          1927,
          1928,
          1930,
          1931,
          1932,
          1933,
          1934,
          1935,
          1936,
          1937,
          1938,
          1939,
          1940,
          1941,
          1942,
          1943,
          1944,
          1945,
          1946,
          1947,
          1948,
          1949,
          1950,
          1951,
          1952,
          1953,
          1954,
          1955,
          1956,
          1957,
          1958,
          1959,
          1960,
          1961,
          1962,
          1964,
          1965,
          1967,
          1968,
          1969,
          1970,
          1971,
          1972,
          1973,
          1974,
          1975,
          1976,
          1977,
          1978,
          1979,
          1980,
          1981,
          1982,
          1983,
          1984,
          1985,
          1986,
          1987,
          1988,
          1989,
          1990,
          1991,
          1992,
          1993,
          1994,
          1995,
          1996,
          1997,
          1998,
          1999,
          2000,
          2001,
          2002,
          2003,
          2004,
          2005,
          2006,
          2007,
          2008,
          2009,
          2010,
          2011,
          2012,
          2013
         ],
         "y": [
          1,
          1,
          1,
          1,
          3,
          3,
          5,
          2,
          2,
          1,
          2,
          1,
          3,
          2,
          3,
          3,
          3,
          5,
          3,
          3,
          3,
          1,
          12,
          2,
          4,
          3,
          1,
          3,
          3,
          2,
          3,
          3,
          6,
          5,
          8,
          3,
          1,
          7,
          5,
          4,
          1,
          2,
          2,
          1,
          5,
          1,
          2,
          4,
          1,
          3,
          5,
          2,
          2,
          5,
          5,
          3,
          3,
          3,
          5,
          6,
          3,
          4,
          6,
          3,
          3,
          4,
          4,
          3,
          8,
          8,
          9,
          7,
          8,
          14,
          8,
          15,
          8,
          14,
          10,
          12,
          10,
          25,
          22,
          21,
          29,
          21,
          23,
          14,
          16,
          20,
          12,
          19,
          30,
          29,
          26,
          37,
          29,
          34,
          18,
          2
         ]
        },
        {
         "line": {
          "color": "#00A08B",
          "width": 4
         },
         "name": "Only men directors",
         "type": "scatter",
         "x": [
          1890,
          1891,
          1893,
          1894,
          1896,
          1897,
          1898,
          1899,
          1900,
          1901,
          1902,
          1903,
          1905,
          1906,
          1907,
          1908,
          1909,
          1910,
          1911,
          1912,
          1913,
          1914,
          1915,
          1916,
          1917,
          1918,
          1919,
          1920,
          1921,
          1922,
          1923,
          1924,
          1925,
          1926,
          1927,
          1928,
          1929,
          1930,
          1931,
          1932,
          1933,
          1934,
          1935,
          1936,
          1937,
          1938,
          1939,
          1940,
          1941,
          1942,
          1943,
          1944,
          1945,
          1946,
          1947,
          1948,
          1949,
          1950,
          1951,
          1952,
          1953,
          1954,
          1955,
          1956,
          1957,
          1958,
          1959,
          1960,
          1961,
          1962,
          1963,
          1964,
          1965,
          1966,
          1967,
          1968,
          1969,
          1970,
          1971,
          1972,
          1973,
          1974,
          1975,
          1976,
          1977,
          1978,
          1979,
          1980,
          1981,
          1982,
          1983,
          1984,
          1985,
          1986,
          1987,
          1988,
          1989,
          1990,
          1991,
          1992,
          1993,
          1994,
          1995,
          1996,
          1997,
          1998,
          1999,
          2000,
          2001,
          2002,
          2003,
          2004,
          2005,
          2006,
          2007,
          2008,
          2009,
          2010,
          2011,
          2012,
          2013,
          2014,
          2016
         ],
         "y": [
          1,
          1,
          1,
          8,
          3,
          3,
          4,
          1,
          9,
          9,
          2,
          3,
          1,
          2,
          2,
          22,
          30,
          29,
          67,
          87,
          190,
          285,
          324,
          265,
          180,
          166,
          176,
          155,
          133,
          125,
          160,
          149,
          175,
          152,
          160,
          167,
          213,
          206,
          236,
          257,
          270,
          272,
          280,
          288,
          288,
          260,
          279,
          268,
          295,
          308,
          275,
          259,
          227,
          230,
          221,
          233,
          220,
          229,
          229,
          237,
          247,
          189,
          215,
          228,
          225,
          187,
          163,
          124,
          137,
          134,
          127,
          135,
          147,
          141,
          149,
          145,
          150,
          159,
          166,
          168,
          175,
          192,
          158,
          170,
          161,
          169,
          166,
          199,
          173,
          187,
          183,
          204,
          243,
          258,
          283,
          303,
          290,
          277,
          281,
          283,
          302,
          332,
          310,
          369,
          359,
          389,
          397,
          362,
          376,
          415,
          433,
          480,
          580,
          753,
          725,
          686,
          596,
          474,
          379,
          268,
          63,
          4,
          1
         ]
        },
        {
         "line": {
          "color": "#9467BD",
          "dash": "dot",
          "width": 4
         },
         "name": "At least one woman writer",
         "type": "scatter",
         "x": [
          1902,
          1910,
          1912,
          1913,
          1914,
          1915,
          1916,
          1917,
          1918,
          1919,
          1921,
          1922,
          1923,
          1924,
          1925,
          1926,
          1928,
          1929,
          1930,
          1931,
          1932,
          1933,
          1934,
          1935,
          1936,
          1937,
          1938,
          1939,
          1940,
          1941,
          1942,
          1943,
          1944,
          1945,
          1946,
          1947,
          1948,
          1949,
          1950,
          1951,
          1952,
          1953,
          1955,
          1956,
          1957,
          1958,
          1959,
          1960,
          1961,
          1962,
          1963,
          1964,
          1965,
          1967,
          1968,
          1969,
          1970,
          1971,
          1972,
          1973,
          1974,
          1975,
          1976,
          1977,
          1978,
          1979,
          1980,
          1981,
          1982,
          1983,
          1984,
          1985,
          1986,
          1987,
          1988,
          1989,
          1990,
          1991,
          1992,
          1993,
          1994,
          1995,
          1996,
          1997,
          1998,
          1999,
          2000,
          2001,
          2002,
          2003,
          2004,
          2005,
          2006,
          2007,
          2008,
          2009,
          2010,
          2011,
          2012,
          2014
         ],
         "y": [
          1,
          1,
          1,
          2,
          2,
          3,
          2,
          1,
          1,
          1,
          3,
          2,
          3,
          1,
          2,
          2,
          1,
          2,
          1,
          4,
          2,
          3,
          6,
          1,
          1,
          2,
          2,
          4,
          1,
          1,
          1,
          2,
          3,
          3,
          1,
          3,
          3,
          5,
          4,
          1,
          2,
          2,
          1,
          1,
          2,
          1,
          3,
          4,
          1,
          1,
          3,
          1,
          2,
          4,
          3,
          1,
          1,
          2,
          3,
          3,
          1,
          3,
          1,
          2,
          3,
          4,
          6,
          2,
          8,
          5,
          6,
          3,
          7,
          11,
          3,
          8,
          10,
          9,
          10,
          11,
          11,
          16,
          12,
          7,
          13,
          11,
          19,
          7,
          10,
          10,
          9,
          8,
          18,
          19,
          13,
          20,
          18,
          10,
          9,
          1
         ]
        },
        {
         "line": {
          "color": "#00A08B",
          "dash": "dot",
          "width": 4
         },
         "name": "Only men writers",
         "type": "scatter",
         "x": [
          1890,
          1891,
          1893,
          1894,
          1896,
          1897,
          1898,
          1899,
          1900,
          1901,
          1902,
          1903,
          1905,
          1906,
          1907,
          1908,
          1909,
          1910,
          1911,
          1912,
          1913,
          1914,
          1915,
          1916,
          1917,
          1918,
          1919,
          1920,
          1921,
          1922,
          1923,
          1924,
          1925,
          1926,
          1927,
          1928,
          1929,
          1930,
          1931,
          1932,
          1933,
          1934,
          1935,
          1936,
          1937,
          1938,
          1939,
          1940,
          1941,
          1942,
          1943,
          1944,
          1945,
          1946,
          1947,
          1948,
          1949,
          1950,
          1951,
          1952,
          1953,
          1954,
          1955,
          1956,
          1957,
          1958,
          1959,
          1960,
          1961,
          1962,
          1963,
          1964,
          1965,
          1966,
          1967,
          1968,
          1969,
          1970,
          1971,
          1972,
          1973,
          1974,
          1975,
          1976,
          1977,
          1978,
          1979,
          1980,
          1981,
          1982,
          1983,
          1984,
          1985,
          1986,
          1987,
          1988,
          1989,
          1990,
          1991,
          1992,
          1993,
          1994,
          1995,
          1996,
          1997,
          1998,
          1999,
          2000,
          2001,
          2002,
          2003,
          2004,
          2005,
          2006,
          2007,
          2008,
          2009,
          2010,
          2011,
          2012,
          2013,
          2014,
          2016
         ],
         "y": [
          1,
          1,
          1,
          8,
          3,
          3,
          4,
          1,
          9,
          9,
          1,
          3,
          1,
          2,
          2,
          22,
          31,
          29,
          68,
          87,
          191,
          286,
          326,
          265,
          181,
          166,
          177,
          155,
          131,
          126,
          159,
          151,
          173,
          153,
          163,
          171,
          211,
          208,
          235,
          258,
          268,
          278,
          281,
          291,
          289,
          259,
          278,
          270,
          296,
          310,
          276,
          262,
          229,
          237,
          221,
          231,
          222,
          230,
          232,
          236,
          247,
          191,
          215,
          232,
          224,
          188,
          164,
          121,
          139,
          138,
          124,
          136,
          147,
          141,
          150,
          147,
          152,
          161,
          167,
          170,
          178,
          194,
          159,
          175,
          162,
          169,
          166,
          197,
          174,
          187,
          186,
          207,
          247,
          259,
          286,
          308,
          297,
          275,
          286,
          283,
          303,
          331,
          319,
          379,
          373,
          405,
          407,
          366,
          383,
          421,
          443,
          483,
          591,
          765,
          735,
          699,
          613,
          485,
          403,
          277,
          65,
          3,
          1
         ]
        }
       ],
       "layout": {
        "template": {
         "data": {
          "bar": [
           {
            "error_x": {
             "color": "#2a3f5f"
            },
            "error_y": {
             "color": "#2a3f5f"
            },
            "marker": {
             "line": {
              "color": "#E5ECF6",
              "width": 0.5
             },
             "pattern": {
              "fillmode": "overlay",
              "size": 10,
              "solidity": 0.2
             }
            },
            "type": "bar"
           }
          ],
          "barpolar": [
           {
            "marker": {
             "line": {
              "color": "#E5ECF6",
              "width": 0.5
             },
             "pattern": {
              "fillmode": "overlay",
              "size": 10,
              "solidity": 0.2
             }
            },
            "type": "barpolar"
           }
          ],
          "carpet": [
           {
            "aaxis": {
             "endlinecolor": "#2a3f5f",
             "gridcolor": "white",
             "linecolor": "white",
             "minorgridcolor": "white",
             "startlinecolor": "#2a3f5f"
            },
            "baxis": {
             "endlinecolor": "#2a3f5f",
             "gridcolor": "white",
             "linecolor": "white",
             "minorgridcolor": "white",
             "startlinecolor": "#2a3f5f"
            },
            "type": "carpet"
           }
          ],
          "choropleth": [
           {
            "colorbar": {
             "outlinewidth": 0,
             "ticks": ""
            },
            "type": "choropleth"
           }
          ],
          "contour": [
           {
            "colorbar": {
             "outlinewidth": 0,
             "ticks": ""
            },
            "colorscale": [
             [
              0,
              "#0d0887"
             ],
             [
              0.1111111111111111,
              "#46039f"
             ],
             [
              0.2222222222222222,
              "#7201a8"
             ],
             [
              0.3333333333333333,
              "#9c179e"
             ],
             [
              0.4444444444444444,
              "#bd3786"
             ],
             [
              0.5555555555555556,
              "#d8576b"
             ],
             [
              0.6666666666666666,
              "#ed7953"
             ],
             [
              0.7777777777777778,
              "#fb9f3a"
             ],
             [
              0.8888888888888888,
              "#fdca26"
             ],
             [
              1,
              "#f0f921"
             ]
            ],
            "type": "contour"
           }
          ],
          "contourcarpet": [
           {
            "colorbar": {
             "outlinewidth": 0,
             "ticks": ""
            },
            "type": "contourcarpet"
           }
          ],
          "heatmap": [
           {
            "colorbar": {
             "outlinewidth": 0,
             "ticks": ""
            },
            "colorscale": [
             [
              0,
              "#0d0887"
             ],
             [
              0.1111111111111111,
              "#46039f"
             ],
             [
              0.2222222222222222,
              "#7201a8"
             ],
             [
              0.3333333333333333,
              "#9c179e"
             ],
             [
              0.4444444444444444,
              "#bd3786"
             ],
             [
              0.5555555555555556,
              "#d8576b"
             ],
             [
              0.6666666666666666,
              "#ed7953"
             ],
             [
              0.7777777777777778,
              "#fb9f3a"
             ],
             [
              0.8888888888888888,
              "#fdca26"
             ],
             [
              1,
              "#f0f921"
             ]
            ],
            "type": "heatmap"
           }
          ],
          "heatmapgl": [
           {
            "colorbar": {
             "outlinewidth": 0,
             "ticks": ""
            },
            "colorscale": [
             [
              0,
              "#0d0887"
             ],
             [
              0.1111111111111111,
              "#46039f"
             ],
             [
              0.2222222222222222,
              "#7201a8"
             ],
             [
              0.3333333333333333,
              "#9c179e"
             ],
             [
              0.4444444444444444,
              "#bd3786"
             ],
             [
              0.5555555555555556,
              "#d8576b"
             ],
             [
              0.6666666666666666,
              "#ed7953"
             ],
             [
              0.7777777777777778,
              "#fb9f3a"
             ],
             [
              0.8888888888888888,
              "#fdca26"
             ],
             [
              1,
              "#f0f921"
             ]
            ],
            "type": "heatmapgl"
           }
          ],
          "histogram": [
           {
            "marker": {
             "pattern": {
              "fillmode": "overlay",
              "size": 10,
              "solidity": 0.2
             }
            },
            "type": "histogram"
           }
          ],
          "histogram2d": [
           {
            "colorbar": {
             "outlinewidth": 0,
             "ticks": ""
            },
            "colorscale": [
             [
              0,
              "#0d0887"
             ],
             [
              0.1111111111111111,
              "#46039f"
             ],
             [
              0.2222222222222222,
              "#7201a8"
             ],
             [
              0.3333333333333333,
              "#9c179e"
             ],
             [
              0.4444444444444444,
              "#bd3786"
             ],
             [
              0.5555555555555556,
              "#d8576b"
             ],
             [
              0.6666666666666666,
              "#ed7953"
             ],
             [
              0.7777777777777778,
              "#fb9f3a"
             ],
             [
              0.8888888888888888,
              "#fdca26"
             ],
             [
              1,
              "#f0f921"
             ]
            ],
            "type": "histogram2d"
           }
          ],
          "histogram2dcontour": [
           {
            "colorbar": {
             "outlinewidth": 0,
             "ticks": ""
            },
            "colorscale": [
             [
              0,
              "#0d0887"
             ],
             [
              0.1111111111111111,
              "#46039f"
             ],
             [
              0.2222222222222222,
              "#7201a8"
             ],
             [
              0.3333333333333333,
              "#9c179e"
             ],
             [
              0.4444444444444444,
              "#bd3786"
             ],
             [
              0.5555555555555556,
              "#d8576b"
             ],
             [
              0.6666666666666666,
              "#ed7953"
             ],
             [
              0.7777777777777778,
              "#fb9f3a"
             ],
             [
              0.8888888888888888,
              "#fdca26"
             ],
             [
              1,
              "#f0f921"
             ]
            ],
            "type": "histogram2dcontour"
           }
          ],
          "mesh3d": [
           {
            "colorbar": {
             "outlinewidth": 0,
             "ticks": ""
            },
            "type": "mesh3d"
           }
          ],
          "parcoords": [
           {
            "line": {
             "colorbar": {
              "outlinewidth": 0,
              "ticks": ""
             }
            },
            "type": "parcoords"
           }
          ],
          "pie": [
           {
            "automargin": true,
            "type": "pie"
           }
          ],
          "scatter": [
           {
            "marker": {
             "colorbar": {
              "outlinewidth": 0,
              "ticks": ""
             }
            },
            "type": "scatter"
           }
          ],
          "scatter3d": [
           {
            "line": {
             "colorbar": {
              "outlinewidth": 0,
              "ticks": ""
             }
            },
            "marker": {
             "colorbar": {
              "outlinewidth": 0,
              "ticks": ""
             }
            },
            "type": "scatter3d"
           }
          ],
          "scattercarpet": [
           {
            "marker": {
             "colorbar": {
              "outlinewidth": 0,
              "ticks": ""
             }
            },
            "type": "scattercarpet"
           }
          ],
          "scattergeo": [
           {
            "marker": {
             "colorbar": {
              "outlinewidth": 0,
              "ticks": ""
             }
            },
            "type": "scattergeo"
           }
          ],
          "scattergl": [
           {
            "marker": {
             "colorbar": {
              "outlinewidth": 0,
              "ticks": ""
             }
            },
            "type": "scattergl"
           }
          ],
          "scattermapbox": [
           {
            "marker": {
             "colorbar": {
              "outlinewidth": 0,
              "ticks": ""
             }
            },
            "type": "scattermapbox"
           }
          ],
          "scatterpolar": [
           {
            "marker": {
             "colorbar": {
              "outlinewidth": 0,
              "ticks": ""
             }
            },
            "type": "scatterpolar"
           }
          ],
          "scatterpolargl": [
           {
            "marker": {
             "colorbar": {
              "outlinewidth": 0,
              "ticks": ""
             }
            },
            "type": "scatterpolargl"
           }
          ],
          "scatterternary": [
           {
            "marker": {
             "colorbar": {
              "outlinewidth": 0,
              "ticks": ""
             }
            },
            "type": "scatterternary"
           }
          ],
          "surface": [
           {
            "colorbar": {
             "outlinewidth": 0,
             "ticks": ""
            },
            "colorscale": [
             [
              0,
              "#0d0887"
             ],
             [
              0.1111111111111111,
              "#46039f"
             ],
             [
              0.2222222222222222,
              "#7201a8"
             ],
             [
              0.3333333333333333,
              "#9c179e"
             ],
             [
              0.4444444444444444,
              "#bd3786"
             ],
             [
              0.5555555555555556,
              "#d8576b"
             ],
             [
              0.6666666666666666,
              "#ed7953"
             ],
             [
              0.7777777777777778,
              "#fb9f3a"
             ],
             [
              0.8888888888888888,
              "#fdca26"
             ],
             [
              1,
              "#f0f921"
             ]
            ],
            "type": "surface"
           }
          ],
          "table": [
           {
            "cells": {
             "fill": {
              "color": "#EBF0F8"
             },
             "line": {
              "color": "white"
             }
            },
            "header": {
             "fill": {
              "color": "#C8D4E3"
             },
             "line": {
              "color": "white"
             }
            },
            "type": "table"
           }
          ]
         },
         "layout": {
          "annotationdefaults": {
           "arrowcolor": "#2a3f5f",
           "arrowhead": 0,
           "arrowwidth": 1
          },
          "autotypenumbers": "strict",
          "coloraxis": {
           "colorbar": {
            "outlinewidth": 0,
            "ticks": ""
           }
          },
          "colorscale": {
           "diverging": [
            [
             0,
             "#8e0152"
            ],
            [
             0.1,
             "#c51b7d"
            ],
            [
             0.2,
             "#de77ae"
            ],
            [
             0.3,
             "#f1b6da"
            ],
            [
             0.4,
             "#fde0ef"
            ],
            [
             0.5,
             "#f7f7f7"
            ],
            [
             0.6,
             "#e6f5d0"
            ],
            [
             0.7,
             "#b8e186"
            ],
            [
             0.8,
             "#7fbc41"
            ],
            [
             0.9,
             "#4d9221"
            ],
            [
             1,
             "#276419"
            ]
           ],
           "sequential": [
            [
             0,
             "#0d0887"
            ],
            [
             0.1111111111111111,
             "#46039f"
            ],
            [
             0.2222222222222222,
             "#7201a8"
            ],
            [
             0.3333333333333333,
             "#9c179e"
            ],
            [
             0.4444444444444444,
             "#bd3786"
            ],
            [
             0.5555555555555556,
             "#d8576b"
            ],
            [
             0.6666666666666666,
             "#ed7953"
            ],
            [
             0.7777777777777778,
             "#fb9f3a"
            ],
            [
             0.8888888888888888,
             "#fdca26"
            ],
            [
             1,
             "#f0f921"
            ]
           ],
           "sequentialminus": [
            [
             0,
             "#0d0887"
            ],
            [
             0.1111111111111111,
             "#46039f"
            ],
            [
             0.2222222222222222,
             "#7201a8"
            ],
            [
             0.3333333333333333,
             "#9c179e"
            ],
            [
             0.4444444444444444,
             "#bd3786"
            ],
            [
             0.5555555555555556,
             "#d8576b"
            ],
            [
             0.6666666666666666,
             "#ed7953"
            ],
            [
             0.7777777777777778,
             "#fb9f3a"
            ],
            [
             0.8888888888888888,
             "#fdca26"
            ],
            [
             1,
             "#f0f921"
            ]
           ]
          },
          "colorway": [
           "#636efa",
           "#EF553B",
           "#00cc96",
           "#ab63fa",
           "#FFA15A",
           "#19d3f3",
           "#FF6692",
           "#B6E880",
           "#FF97FF",
           "#FECB52"
          ],
          "font": {
           "color": "#2a3f5f"
          },
          "geo": {
           "bgcolor": "white",
           "lakecolor": "white",
           "landcolor": "#E5ECF6",
           "showlakes": true,
           "showland": true,
           "subunitcolor": "white"
          },
          "hoverlabel": {
           "align": "left"
          },
          "hovermode": "closest",
          "mapbox": {
           "style": "light"
          },
          "paper_bgcolor": "white",
          "plot_bgcolor": "#E5ECF6",
          "polar": {
           "angularaxis": {
            "gridcolor": "white",
            "linecolor": "white",
            "ticks": ""
           },
           "bgcolor": "#E5ECF6",
           "radialaxis": {
            "gridcolor": "white",
            "linecolor": "white",
            "ticks": ""
           }
          },
          "scene": {
           "xaxis": {
            "backgroundcolor": "#E5ECF6",
            "gridcolor": "white",
            "gridwidth": 2,
            "linecolor": "white",
            "showbackground": true,
            "ticks": "",
            "zerolinecolor": "white"
           },
           "yaxis": {
            "backgroundcolor": "#E5ECF6",
            "gridcolor": "white",
            "gridwidth": 2,
            "linecolor": "white",
            "showbackground": true,
            "ticks": "",
            "zerolinecolor": "white"
           },
           "zaxis": {
            "backgroundcolor": "#E5ECF6",
            "gridcolor": "white",
            "gridwidth": 2,
            "linecolor": "white",
            "showbackground": true,
            "ticks": "",
            "zerolinecolor": "white"
           }
          },
          "shapedefaults": {
           "line": {
            "color": "#2a3f5f"
           }
          },
          "ternary": {
           "aaxis": {
            "gridcolor": "white",
            "linecolor": "white",
            "ticks": ""
           },
           "baxis": {
            "gridcolor": "white",
            "linecolor": "white",
            "ticks": ""
           },
           "bgcolor": "#E5ECF6",
           "caxis": {
            "gridcolor": "white",
            "linecolor": "white",
            "ticks": ""
           }
          },
          "title": {
           "x": 0.05
          },
          "xaxis": {
           "automargin": true,
           "gridcolor": "white",
           "linecolor": "white",
           "ticks": "",
           "title": {
            "standoff": 15
           },
           "zerolinecolor": "white",
           "zerolinewidth": 2
          },
          "yaxis": {
           "automargin": true,
           "gridcolor": "white",
           "linecolor": "white",
           "ticks": "",
           "title": {
            "standoff": 15
           },
           "zerolinecolor": "white",
           "zerolinewidth": 2
          }
         }
        },
        "title": {
         "text": "Movies with women or men in the crew"
        },
        "xaxis": {
         "title": {
          "text": "Years"
         }
        },
        "yaxis": {
         "title": {
          "text": "Number of movies"
         },
         "type": "log"
        }
       }
      },
      "text/html": [
       "<div>                            <div id=\"34c75fbc-c272-44f2-8a1a-a608bd987609\" class=\"plotly-graph-div\" style=\"height:525px; width:100%;\"></div>            <script type=\"text/javascript\">                require([\"plotly\"], function(Plotly) {                    window.PLOTLYENV=window.PLOTLYENV || {};                                    if (document.getElementById(\"34c75fbc-c272-44f2-8a1a-a608bd987609\")) {                    Plotly.newPlot(                        \"34c75fbc-c272-44f2-8a1a-a608bd987609\",                        [{\"line\":{\"color\":\"#9467BD\",\"width\":4},\"name\":\"At least one woman director\",\"x\":[1909.0,1910.0,1911.0,1912.0,1913.0,1914.0,1915.0,1916.0,1917.0,1918.0,1919.0,1921.0,1922.0,1923.0,1924.0,1926.0,1927.0,1928.0,1930.0,1931.0,1932.0,1933.0,1934.0,1935.0,1936.0,1937.0,1938.0,1939.0,1940.0,1941.0,1942.0,1943.0,1944.0,1945.0,1946.0,1947.0,1948.0,1949.0,1950.0,1951.0,1952.0,1953.0,1954.0,1955.0,1956.0,1957.0,1958.0,1959.0,1960.0,1961.0,1962.0,1964.0,1965.0,1967.0,1968.0,1969.0,1970.0,1971.0,1972.0,1973.0,1974.0,1975.0,1976.0,1977.0,1978.0,1979.0,1980.0,1981.0,1982.0,1983.0,1984.0,1985.0,1986.0,1987.0,1988.0,1989.0,1990.0,1991.0,1992.0,1993.0,1994.0,1995.0,1996.0,1997.0,1998.0,1999.0,2000.0,2001.0,2002.0,2003.0,2004.0,2005.0,2006.0,2007.0,2008.0,2009.0,2010.0,2011.0,2012.0,2013.0],\"y\":[1,1,1,1,3,3,5,2,2,1,2,1,3,2,3,3,3,5,3,3,3,1,12,2,4,3,1,3,3,2,3,3,6,5,8,3,1,7,5,4,1,2,2,1,5,1,2,4,1,3,5,2,2,5,5,3,3,3,5,6,3,4,6,3,3,4,4,3,8,8,9,7,8,14,8,15,8,14,10,12,10,25,22,21,29,21,23,14,16,20,12,19,30,29,26,37,29,34,18,2],\"type\":\"scatter\"},{\"line\":{\"color\":\"#00A08B\",\"width\":4},\"name\":\"Only men directors\",\"x\":[1890.0,1891.0,1893.0,1894.0,1896.0,1897.0,1898.0,1899.0,1900.0,1901.0,1902.0,1903.0,1905.0,1906.0,1907.0,1908.0,1909.0,1910.0,1911.0,1912.0,1913.0,1914.0,1915.0,1916.0,1917.0,1918.0,1919.0,1920.0,1921.0,1922.0,1923.0,1924.0,1925.0,1926.0,1927.0,1928.0,1929.0,1930.0,1931.0,1932.0,1933.0,1934.0,1935.0,1936.0,1937.0,1938.0,1939.0,1940.0,1941.0,1942.0,1943.0,1944.0,1945.0,1946.0,1947.0,1948.0,1949.0,1950.0,1951.0,1952.0,1953.0,1954.0,1955.0,1956.0,1957.0,1958.0,1959.0,1960.0,1961.0,1962.0,1963.0,1964.0,1965.0,1966.0,1967.0,1968.0,1969.0,1970.0,1971.0,1972.0,1973.0,1974.0,1975.0,1976.0,1977.0,1978.0,1979.0,1980.0,1981.0,1982.0,1983.0,1984.0,1985.0,1986.0,1987.0,1988.0,1989.0,1990.0,1991.0,1992.0,1993.0,1994.0,1995.0,1996.0,1997.0,1998.0,1999.0,2000.0,2001.0,2002.0,2003.0,2004.0,2005.0,2006.0,2007.0,2008.0,2009.0,2010.0,2011.0,2012.0,2013.0,2014.0,2016.0],\"y\":[1,1,1,8,3,3,4,1,9,9,2,3,1,2,2,22,30,29,67,87,190,285,324,265,180,166,176,155,133,125,160,149,175,152,160,167,213,206,236,257,270,272,280,288,288,260,279,268,295,308,275,259,227,230,221,233,220,229,229,237,247,189,215,228,225,187,163,124,137,134,127,135,147,141,149,145,150,159,166,168,175,192,158,170,161,169,166,199,173,187,183,204,243,258,283,303,290,277,281,283,302,332,310,369,359,389,397,362,376,415,433,480,580,753,725,686,596,474,379,268,63,4,1],\"type\":\"scatter\"},{\"line\":{\"color\":\"#9467BD\",\"dash\":\"dot\",\"width\":4},\"name\":\"At least one woman writer\",\"x\":[1902.0,1910.0,1912.0,1913.0,1914.0,1915.0,1916.0,1917.0,1918.0,1919.0,1921.0,1922.0,1923.0,1924.0,1925.0,1926.0,1928.0,1929.0,1930.0,1931.0,1932.0,1933.0,1934.0,1935.0,1936.0,1937.0,1938.0,1939.0,1940.0,1941.0,1942.0,1943.0,1944.0,1945.0,1946.0,1947.0,1948.0,1949.0,1950.0,1951.0,1952.0,1953.0,1955.0,1956.0,1957.0,1958.0,1959.0,1960.0,1961.0,1962.0,1963.0,1964.0,1965.0,1967.0,1968.0,1969.0,1970.0,1971.0,1972.0,1973.0,1974.0,1975.0,1976.0,1977.0,1978.0,1979.0,1980.0,1981.0,1982.0,1983.0,1984.0,1985.0,1986.0,1987.0,1988.0,1989.0,1990.0,1991.0,1992.0,1993.0,1994.0,1995.0,1996.0,1997.0,1998.0,1999.0,2000.0,2001.0,2002.0,2003.0,2004.0,2005.0,2006.0,2007.0,2008.0,2009.0,2010.0,2011.0,2012.0,2014.0],\"y\":[1,1,1,2,2,3,2,1,1,1,3,2,3,1,2,2,1,2,1,4,2,3,6,1,1,2,2,4,1,1,1,2,3,3,1,3,3,5,4,1,2,2,1,1,2,1,3,4,1,1,3,1,2,4,3,1,1,2,3,3,1,3,1,2,3,4,6,2,8,5,6,3,7,11,3,8,10,9,10,11,11,16,12,7,13,11,19,7,10,10,9,8,18,19,13,20,18,10,9,1],\"type\":\"scatter\"},{\"line\":{\"color\":\"#00A08B\",\"dash\":\"dot\",\"width\":4},\"name\":\"Only men writers\",\"x\":[1890.0,1891.0,1893.0,1894.0,1896.0,1897.0,1898.0,1899.0,1900.0,1901.0,1902.0,1903.0,1905.0,1906.0,1907.0,1908.0,1909.0,1910.0,1911.0,1912.0,1913.0,1914.0,1915.0,1916.0,1917.0,1918.0,1919.0,1920.0,1921.0,1922.0,1923.0,1924.0,1925.0,1926.0,1927.0,1928.0,1929.0,1930.0,1931.0,1932.0,1933.0,1934.0,1935.0,1936.0,1937.0,1938.0,1939.0,1940.0,1941.0,1942.0,1943.0,1944.0,1945.0,1946.0,1947.0,1948.0,1949.0,1950.0,1951.0,1952.0,1953.0,1954.0,1955.0,1956.0,1957.0,1958.0,1959.0,1960.0,1961.0,1962.0,1963.0,1964.0,1965.0,1966.0,1967.0,1968.0,1969.0,1970.0,1971.0,1972.0,1973.0,1974.0,1975.0,1976.0,1977.0,1978.0,1979.0,1980.0,1981.0,1982.0,1983.0,1984.0,1985.0,1986.0,1987.0,1988.0,1989.0,1990.0,1991.0,1992.0,1993.0,1994.0,1995.0,1996.0,1997.0,1998.0,1999.0,2000.0,2001.0,2002.0,2003.0,2004.0,2005.0,2006.0,2007.0,2008.0,2009.0,2010.0,2011.0,2012.0,2013.0,2014.0,2016.0],\"y\":[1,1,1,8,3,3,4,1,9,9,1,3,1,2,2,22,31,29,68,87,191,286,326,265,181,166,177,155,131,126,159,151,173,153,163,171,211,208,235,258,268,278,281,291,289,259,278,270,296,310,276,262,229,237,221,231,222,230,232,236,247,191,215,232,224,188,164,121,139,138,124,136,147,141,150,147,152,161,167,170,178,194,159,175,162,169,166,197,174,187,186,207,247,259,286,308,297,275,286,283,303,331,319,379,373,405,407,366,383,421,443,483,591,765,735,699,613,485,403,277,65,3,1],\"type\":\"scatter\"}],                        {\"template\":{\"data\":{\"bar\":[{\"error_x\":{\"color\":\"#2a3f5f\"},\"error_y\":{\"color\":\"#2a3f5f\"},\"marker\":{\"line\":{\"color\":\"#E5ECF6\",\"width\":0.5},\"pattern\":{\"fillmode\":\"overlay\",\"size\":10,\"solidity\":0.2}},\"type\":\"bar\"}],\"barpolar\":[{\"marker\":{\"line\":{\"color\":\"#E5ECF6\",\"width\":0.5},\"pattern\":{\"fillmode\":\"overlay\",\"size\":10,\"solidity\":0.2}},\"type\":\"barpolar\"}],\"carpet\":[{\"aaxis\":{\"endlinecolor\":\"#2a3f5f\",\"gridcolor\":\"white\",\"linecolor\":\"white\",\"minorgridcolor\":\"white\",\"startlinecolor\":\"#2a3f5f\"},\"baxis\":{\"endlinecolor\":\"#2a3f5f\",\"gridcolor\":\"white\",\"linecolor\":\"white\",\"minorgridcolor\":\"white\",\"startlinecolor\":\"#2a3f5f\"},\"type\":\"carpet\"}],\"choropleth\":[{\"colorbar\":{\"outlinewidth\":0,\"ticks\":\"\"},\"type\":\"choropleth\"}],\"contour\":[{\"colorbar\":{\"outlinewidth\":0,\"ticks\":\"\"},\"colorscale\":[[0.0,\"#0d0887\"],[0.1111111111111111,\"#46039f\"],[0.2222222222222222,\"#7201a8\"],[0.3333333333333333,\"#9c179e\"],[0.4444444444444444,\"#bd3786\"],[0.5555555555555556,\"#d8576b\"],[0.6666666666666666,\"#ed7953\"],[0.7777777777777778,\"#fb9f3a\"],[0.8888888888888888,\"#fdca26\"],[1.0,\"#f0f921\"]],\"type\":\"contour\"}],\"contourcarpet\":[{\"colorbar\":{\"outlinewidth\":0,\"ticks\":\"\"},\"type\":\"contourcarpet\"}],\"heatmap\":[{\"colorbar\":{\"outlinewidth\":0,\"ticks\":\"\"},\"colorscale\":[[0.0,\"#0d0887\"],[0.1111111111111111,\"#46039f\"],[0.2222222222222222,\"#7201a8\"],[0.3333333333333333,\"#9c179e\"],[0.4444444444444444,\"#bd3786\"],[0.5555555555555556,\"#d8576b\"],[0.6666666666666666,\"#ed7953\"],[0.7777777777777778,\"#fb9f3a\"],[0.8888888888888888,\"#fdca26\"],[1.0,\"#f0f921\"]],\"type\":\"heatmap\"}],\"heatmapgl\":[{\"colorbar\":{\"outlinewidth\":0,\"ticks\":\"\"},\"colorscale\":[[0.0,\"#0d0887\"],[0.1111111111111111,\"#46039f\"],[0.2222222222222222,\"#7201a8\"],[0.3333333333333333,\"#9c179e\"],[0.4444444444444444,\"#bd3786\"],[0.5555555555555556,\"#d8576b\"],[0.6666666666666666,\"#ed7953\"],[0.7777777777777778,\"#fb9f3a\"],[0.8888888888888888,\"#fdca26\"],[1.0,\"#f0f921\"]],\"type\":\"heatmapgl\"}],\"histogram\":[{\"marker\":{\"pattern\":{\"fillmode\":\"overlay\",\"size\":10,\"solidity\":0.2}},\"type\":\"histogram\"}],\"histogram2d\":[{\"colorbar\":{\"outlinewidth\":0,\"ticks\":\"\"},\"colorscale\":[[0.0,\"#0d0887\"],[0.1111111111111111,\"#46039f\"],[0.2222222222222222,\"#7201a8\"],[0.3333333333333333,\"#9c179e\"],[0.4444444444444444,\"#bd3786\"],[0.5555555555555556,\"#d8576b\"],[0.6666666666666666,\"#ed7953\"],[0.7777777777777778,\"#fb9f3a\"],[0.8888888888888888,\"#fdca26\"],[1.0,\"#f0f921\"]],\"type\":\"histogram2d\"}],\"histogram2dcontour\":[{\"colorbar\":{\"outlinewidth\":0,\"ticks\":\"\"},\"colorscale\":[[0.0,\"#0d0887\"],[0.1111111111111111,\"#46039f\"],[0.2222222222222222,\"#7201a8\"],[0.3333333333333333,\"#9c179e\"],[0.4444444444444444,\"#bd3786\"],[0.5555555555555556,\"#d8576b\"],[0.6666666666666666,\"#ed7953\"],[0.7777777777777778,\"#fb9f3a\"],[0.8888888888888888,\"#fdca26\"],[1.0,\"#f0f921\"]],\"type\":\"histogram2dcontour\"}],\"mesh3d\":[{\"colorbar\":{\"outlinewidth\":0,\"ticks\":\"\"},\"type\":\"mesh3d\"}],\"parcoords\":[{\"line\":{\"colorbar\":{\"outlinewidth\":0,\"ticks\":\"\"}},\"type\":\"parcoords\"}],\"pie\":[{\"automargin\":true,\"type\":\"pie\"}],\"scatter\":[{\"marker\":{\"colorbar\":{\"outlinewidth\":0,\"ticks\":\"\"}},\"type\":\"scatter\"}],\"scatter3d\":[{\"line\":{\"colorbar\":{\"outlinewidth\":0,\"ticks\":\"\"}},\"marker\":{\"colorbar\":{\"outlinewidth\":0,\"ticks\":\"\"}},\"type\":\"scatter3d\"}],\"scattercarpet\":[{\"marker\":{\"colorbar\":{\"outlinewidth\":0,\"ticks\":\"\"}},\"type\":\"scattercarpet\"}],\"scattergeo\":[{\"marker\":{\"colorbar\":{\"outlinewidth\":0,\"ticks\":\"\"}},\"type\":\"scattergeo\"}],\"scattergl\":[{\"marker\":{\"colorbar\":{\"outlinewidth\":0,\"ticks\":\"\"}},\"type\":\"scattergl\"}],\"scattermapbox\":[{\"marker\":{\"colorbar\":{\"outlinewidth\":0,\"ticks\":\"\"}},\"type\":\"scattermapbox\"}],\"scatterpolar\":[{\"marker\":{\"colorbar\":{\"outlinewidth\":0,\"ticks\":\"\"}},\"type\":\"scatterpolar\"}],\"scatterpolargl\":[{\"marker\":{\"colorbar\":{\"outlinewidth\":0,\"ticks\":\"\"}},\"type\":\"scatterpolargl\"}],\"scatterternary\":[{\"marker\":{\"colorbar\":{\"outlinewidth\":0,\"ticks\":\"\"}},\"type\":\"scatterternary\"}],\"surface\":[{\"colorbar\":{\"outlinewidth\":0,\"ticks\":\"\"},\"colorscale\":[[0.0,\"#0d0887\"],[0.1111111111111111,\"#46039f\"],[0.2222222222222222,\"#7201a8\"],[0.3333333333333333,\"#9c179e\"],[0.4444444444444444,\"#bd3786\"],[0.5555555555555556,\"#d8576b\"],[0.6666666666666666,\"#ed7953\"],[0.7777777777777778,\"#fb9f3a\"],[0.8888888888888888,\"#fdca26\"],[1.0,\"#f0f921\"]],\"type\":\"surface\"}],\"table\":[{\"cells\":{\"fill\":{\"color\":\"#EBF0F8\"},\"line\":{\"color\":\"white\"}},\"header\":{\"fill\":{\"color\":\"#C8D4E3\"},\"line\":{\"color\":\"white\"}},\"type\":\"table\"}]},\"layout\":{\"annotationdefaults\":{\"arrowcolor\":\"#2a3f5f\",\"arrowhead\":0,\"arrowwidth\":1},\"autotypenumbers\":\"strict\",\"coloraxis\":{\"colorbar\":{\"outlinewidth\":0,\"ticks\":\"\"}},\"colorscale\":{\"diverging\":[[0,\"#8e0152\"],[0.1,\"#c51b7d\"],[0.2,\"#de77ae\"],[0.3,\"#f1b6da\"],[0.4,\"#fde0ef\"],[0.5,\"#f7f7f7\"],[0.6,\"#e6f5d0\"],[0.7,\"#b8e186\"],[0.8,\"#7fbc41\"],[0.9,\"#4d9221\"],[1,\"#276419\"]],\"sequential\":[[0.0,\"#0d0887\"],[0.1111111111111111,\"#46039f\"],[0.2222222222222222,\"#7201a8\"],[0.3333333333333333,\"#9c179e\"],[0.4444444444444444,\"#bd3786\"],[0.5555555555555556,\"#d8576b\"],[0.6666666666666666,\"#ed7953\"],[0.7777777777777778,\"#fb9f3a\"],[0.8888888888888888,\"#fdca26\"],[1.0,\"#f0f921\"]],\"sequentialminus\":[[0.0,\"#0d0887\"],[0.1111111111111111,\"#46039f\"],[0.2222222222222222,\"#7201a8\"],[0.3333333333333333,\"#9c179e\"],[0.4444444444444444,\"#bd3786\"],[0.5555555555555556,\"#d8576b\"],[0.6666666666666666,\"#ed7953\"],[0.7777777777777778,\"#fb9f3a\"],[0.8888888888888888,\"#fdca26\"],[1.0,\"#f0f921\"]]},\"colorway\":[\"#636efa\",\"#EF553B\",\"#00cc96\",\"#ab63fa\",\"#FFA15A\",\"#19d3f3\",\"#FF6692\",\"#B6E880\",\"#FF97FF\",\"#FECB52\"],\"font\":{\"color\":\"#2a3f5f\"},\"geo\":{\"bgcolor\":\"white\",\"lakecolor\":\"white\",\"landcolor\":\"#E5ECF6\",\"showlakes\":true,\"showland\":true,\"subunitcolor\":\"white\"},\"hoverlabel\":{\"align\":\"left\"},\"hovermode\":\"closest\",\"mapbox\":{\"style\":\"light\"},\"paper_bgcolor\":\"white\",\"plot_bgcolor\":\"#E5ECF6\",\"polar\":{\"angularaxis\":{\"gridcolor\":\"white\",\"linecolor\":\"white\",\"ticks\":\"\"},\"bgcolor\":\"#E5ECF6\",\"radialaxis\":{\"gridcolor\":\"white\",\"linecolor\":\"white\",\"ticks\":\"\"}},\"scene\":{\"xaxis\":{\"backgroundcolor\":\"#E5ECF6\",\"gridcolor\":\"white\",\"gridwidth\":2,\"linecolor\":\"white\",\"showbackground\":true,\"ticks\":\"\",\"zerolinecolor\":\"white\"},\"yaxis\":{\"backgroundcolor\":\"#E5ECF6\",\"gridcolor\":\"white\",\"gridwidth\":2,\"linecolor\":\"white\",\"showbackground\":true,\"ticks\":\"\",\"zerolinecolor\":\"white\"},\"zaxis\":{\"backgroundcolor\":\"#E5ECF6\",\"gridcolor\":\"white\",\"gridwidth\":2,\"linecolor\":\"white\",\"showbackground\":true,\"ticks\":\"\",\"zerolinecolor\":\"white\"}},\"shapedefaults\":{\"line\":{\"color\":\"#2a3f5f\"}},\"ternary\":{\"aaxis\":{\"gridcolor\":\"white\",\"linecolor\":\"white\",\"ticks\":\"\"},\"baxis\":{\"gridcolor\":\"white\",\"linecolor\":\"white\",\"ticks\":\"\"},\"bgcolor\":\"#E5ECF6\",\"caxis\":{\"gridcolor\":\"white\",\"linecolor\":\"white\",\"ticks\":\"\"}},\"title\":{\"x\":0.05},\"xaxis\":{\"automargin\":true,\"gridcolor\":\"white\",\"linecolor\":\"white\",\"ticks\":\"\",\"title\":{\"standoff\":15},\"zerolinecolor\":\"white\",\"zerolinewidth\":2},\"yaxis\":{\"automargin\":true,\"gridcolor\":\"white\",\"linecolor\":\"white\",\"ticks\":\"\",\"title\":{\"standoff\":15},\"zerolinecolor\":\"white\",\"zerolinewidth\":2}}},\"yaxis\":{\"type\":\"log\",\"title\":{\"text\":\"Number of movies\"}},\"title\":{\"text\":\"Movies with women or men in the crew\"},\"xaxis\":{\"title\":{\"text\":\"Years\"}}},                        {\"responsive\": true}                    ).then(function(){\n",
       "                            \n",
       "var gd = document.getElementById('34c75fbc-c272-44f2-8a1a-a608bd987609');\n",
       "var x = new MutationObserver(function (mutations, observer) {{\n",
       "        var display = window.getComputedStyle(gd).display;\n",
       "        if (!display || display === 'none') {{\n",
       "            console.log([gd, 'removed!']);\n",
       "            Plotly.purge(gd);\n",
       "            observer.disconnect();\n",
       "        }}\n",
       "}});\n",
       "\n",
       "// Listen for the removal of the full notebook cells\n",
       "var notebookContainer = gd.closest('#notebook-container');\n",
       "if (notebookContainer) {{\n",
       "    x.observe(notebookContainer, {childList: true});\n",
       "}}\n",
       "\n",
       "// Listen for the clearing of the current output cell\n",
       "var outputEl = gd.closest('.output');\n",
       "if (outputEl) {{\n",
       "    x.observe(outputEl, {childList: true});\n",
       "}}\n",
       "\n",
       "                        })                };                });            </script>        </div>"
      ]
     },
     "metadata": {},
     "output_type": "display_data"
    }
   ],
   "source": [
    "fig = go.Figure()\n",
    "fig.update_yaxes(type=\"log\")\n",
    "fig.add_trace(go.Scatter(x=plot_wa_d.index, y=plot_wa_d, name='At least one woman director',\n",
    "                         line=dict(color='#9467BD', width=4)))\n",
    "fig.add_trace(go.Scatter(x=plot_m_d.index, y=plot_m_d, name='Only men directors', \n",
    "                         line=dict(color='#00A08B', width=4))) # dash options include 'dash', 'dot', and 'dashdot'\n",
    "\n",
    "fig.add_trace(go.Scatter(x=plot_wa_w.index, y=plot_wa_w, name='At least one woman writer',\n",
    "                         line=dict(color='#9467BD', width=4, dash='dot')))\n",
    "fig.add_trace(go.Scatter(x=plot_m_w.index, y=plot_m_w, name='Only men writers',\n",
    "                         line=dict(color='#00A08B', width=4, dash='dot'))) # dash options include 'dash', 'dot', and 'dashdot'\n",
    "# Edit the layout\n",
    "fig.update_layout(title='Movies with women or men in the crew',\n",
    "                   xaxis_title='Years',\n",
    "                   yaxis_title='Number of movies')\n",
    "\n",
    "\n",
    "fig.show()\n",
    "fig.write_html(\"../test_fig.html\")\n",
    "# The aw line does not appear because it is all zeros so it does not work with the log scale "
   ]
  },
  {
   "cell_type": "code",
   "execution_count": 46,
   "id": "e3d53cbb",
   "metadata": {},
   "outputs": [
    {
     "data": {
      "text/plain": [
       "Ttest_indResult(statistic=-13.806693134365087, pvalue=1.1145869982798473e-31)"
      ]
     },
     "execution_count": 46,
     "metadata": {},
     "output_type": "execute_result"
    }
   ],
   "source": [
    "stats.ttest_ind(plot_wa_d, plot_m_d)"
   ]
  },
  {
   "cell_type": "code",
   "execution_count": 47,
   "id": "3fb459ee",
   "metadata": {},
   "outputs": [
    {
     "data": {
      "text/plain": [
       "Ttest_indResult(statistic=-13.906430007673901, pvalue=5.300352244605379e-32)"
      ]
     },
     "execution_count": 47,
     "metadata": {},
     "output_type": "execute_result"
    }
   ],
   "source": [
    "stats.ttest_ind(plot_wa_w, plot_m_w)"
   ]
  },
  {
   "cell_type": "markdown",
   "id": "536713d5-9309-4e47-9f15-ef61ef668f84",
   "metadata": {
    "tags": []
   },
   "source": [
    "### Question 4 : Is there a noticeable difference in revenue for movies that portray some particular ethnicities/genre? Is there a noticeable difference in revenue for movies created by women ?"
   ]
  },
  {
   "cell_type": "markdown",
   "id": "ef1fde8f",
   "metadata": {},
   "source": [
    "#### Revenue comparison "
   ]
  },
  {
   "cell_type": "code",
   "execution_count": 34,
   "id": "32c74676",
   "metadata": {},
   "outputs": [
    {
     "data": {
      "image/png": "[encoded data removed]",
      "text/plain": [
       "<Figure size 640x480 with 1 Axes>"
      ]
     },
     "metadata": {},
     "output_type": "display_data"
    }
   ],
   "source": [
    "# Plot revenue distribution comparison between gender of the director\n",
    "ax = sns.histplot(movies_dir_w['revenue'], kde=False, stat='density', color='red', label='women')\n",
    "ax = sns.histplot(movies_dir_m['revenue'], kde=False, stat='density', color='blue', label='men')\n",
    "ax.set(title='Revenue distribution comparison between gender of the director',xlabel='Revenue', ylabel='Revenue density')\n",
    "plt.legend()\n",
    "plt.yscale('log'), plt.xscale('log')\n",
    "plt.show()"
   ]
  },
  {
   "cell_type": "code",
   "execution_count": 35,
   "id": "143c5130",
   "metadata": {},
   "outputs": [
    {
     "data": {
      "text/plain": [
       "PearsonRResult(statistic=0.02196558514617169, pvalue=0.11040691488332105)"
      ]
     },
     "execution_count": 35,
     "metadata": {},
     "output_type": "execute_result"
    }
   ],
   "source": [
    "# Correlation between gender of director and revenue\n",
    "movie_stats = movies_crew[['dir_one_fem', 'revenue']].dropna()\n",
    "stats.pearsonr(movie_stats['dir_one_fem'], movie_stats['revenue'])\n",
    "# There is no signficant correlation "
   ]
  },
  {
   "cell_type": "markdown",
   "id": "0cc804a5",
   "metadata": {},
   "source": [
    "#### Budget comparison"
   ]
  },
  {
   "cell_type": "code",
   "execution_count": 48,
   "id": "6a0c5937",
   "metadata": {},
   "outputs": [
    {
     "data": {
      "text/html": [
       "<div>\n",
       "<style scoped>\n",
       "    .dataframe tbody tr th:only-of-type {\n",
       "        vertical-align: middle;\n",
       "    }\n",
       "\n",
       "    .dataframe tbody tr th {\n",
       "        vertical-align: top;\n",
       "    }\n",
       "\n",
       "    .dataframe thead th {\n",
       "        text-align: right;\n",
       "    }\n",
       "</style>\n",
       "<table border=\"1\" class=\"dataframe\">\n",
       "  <thead>\n",
       "    <tr style=\"text-align: right;\">\n",
       "      <th></th>\n",
       "      <th>name</th>\n",
       "      <th>rating</th>\n",
       "      <th>genre</th>\n",
       "      <th>year</th>\n",
       "      <th>released</th>\n",
       "      <th>score</th>\n",
       "      <th>votes</th>\n",
       "      <th>director</th>\n",
       "      <th>writer</th>\n",
       "      <th>star</th>\n",
       "      <th>country</th>\n",
       "      <th>budget</th>\n",
       "      <th>gross</th>\n",
       "      <th>company</th>\n",
       "      <th>runtime</th>\n",
       "    </tr>\n",
       "  </thead>\n",
       "  <tbody>\n",
       "    <tr>\n",
       "      <th>0</th>\n",
       "      <td>The Shining</td>\n",
       "      <td>R</td>\n",
       "      <td>Drama</td>\n",
       "      <td>1980</td>\n",
       "      <td>June 13, 1980 (United States)</td>\n",
       "      <td>8.4</td>\n",
       "      <td>927000.0</td>\n",
       "      <td>Stanley Kubrick</td>\n",
       "      <td>Stephen King</td>\n",
       "      <td>Jack Nicholson</td>\n",
       "      <td>United Kingdom</td>\n",
       "      <td>19000000.0</td>\n",
       "      <td>46998772.0</td>\n",
       "      <td>Warner Bros.</td>\n",
       "      <td>146.0</td>\n",
       "    </tr>\n",
       "  </tbody>\n",
       "</table>\n",
       "</div>"
      ],
      "text/plain": [
       "          name rating  genre  year                       released  score  \\\n",
       "0  The Shining      R  Drama  1980  June 13, 1980 (United States)    8.4   \n",
       "\n",
       "      votes         director        writer            star         country  \\\n",
       "0  927000.0  Stanley Kubrick  Stephen King  Jack Nicholson  United Kingdom   \n",
       "\n",
       "       budget       gross       company  runtime  \n",
       "0  19000000.0  46998772.0  Warner Bros.    146.0  "
      ]
     },
     "execution_count": 48,
     "metadata": {},
     "output_type": "execute_result"
    }
   ],
   "source": [
    "# Adding budget\n",
    "mainchar_budget.head(1)"
   ]
  },
  {
   "cell_type": "code",
   "execution_count": 54,
   "id": "1cae74b8",
   "metadata": {},
   "outputs": [
    {
     "data": {
      "text/plain": [
       "Index(['wiki_movieID', 'freebase_movieID', 'name', 'release', 'revenue',\n",
       "       'runtime_x', 'languages', 'countries', 'genres', 'directors', 'writers',\n",
       "       'dir_one_fem', 'dir_all_fem', 'wri_one_fem', 'wri_all_fem', 'rating',\n",
       "       'genre', 'year', 'released', 'score', 'votes', 'director', 'writer',\n",
       "       'star', 'country', 'budget', 'gross', 'company', 'runtime_y'],\n",
       "      dtype='object')"
      ]
     },
     "execution_count": 54,
     "metadata": {},
     "output_type": "execute_result"
    }
   ],
   "source": [
    "movies_budget = pd.merge(movies_crew, mainchar_budget, on = 'name')\n",
    "movies_budget.columns"
   ]
  },
  {
   "cell_type": "code",
   "execution_count": 51,
   "id": "baff17cd",
   "metadata": {},
   "outputs": [
    {
     "name": "stdout",
     "output_type": "stream",
     "text": [
      "27784 5283 2303\n"
     ]
    }
   ],
   "source": [
    "# Info lost \n",
    "print(len(movies_crew), len(movies_crew['revenue'].dropna()), len(movies_budget))"
   ]
  },
  {
   "cell_type": "code",
   "execution_count": 56,
   "id": "543f3c66",
   "metadata": {},
   "outputs": [
    {
     "data": {
      "text/plain": [
       "(-0.044031654709385665, 0.007733751822148958)"
      ]
     },
     "execution_count": 56,
     "metadata": {},
     "output_type": "execute_result"
    }
   ],
   "source": [
    "# Correlation between budget and gender of crew\n",
    "movie_stats = movies_budget[['budget', 'dir_one_fem']].dropna()\n",
    "stats.pearsonr(movie_stats['budget'], movie_stats['dir_one_fem'])\n",
    "# There is a significant correlation BUT it is very small "
   ]
  },
  {
   "cell_type": "code",
   "execution_count": 57,
   "id": "2d840d60",
   "metadata": {},
   "outputs": [
    {
     "data": {
      "text/plain": [
       "(0.6158385364767315, 8.035188230137459e-277)"
      ]
     },
     "execution_count": 57,
     "metadata": {},
     "output_type": "execute_result"
    }
   ],
   "source": [
    "# Correlation between budget and revenue\n",
    "movie_stats = movies_budget[['budget', 'revenue']].dropna()\n",
    "stats.pearsonr(movie_stats['revenue'], movie_stats['budget'])\n",
    "# There is a significant correlation"
   ]
  },
  {
   "cell_type": "markdown",
   "id": "743cb2b6",
   "metadata": {},
   "source": [
    "#### Matching revenue with budget"
   ]
  },
  {
   "cell_type": "code",
   "execution_count": null,
   "id": "5a228d67-6998-42db-832f-cd5e84527374",
   "metadata": {},
   "outputs": [],
   "source": [
    "## Matching\n",
    "# Separate in the two groups to be matched\n",
    "wa = match_df[match_df['dir_one_fem'] == 1]\n",
    "m = match_df[match_df['dir_one_fem'] == 0]\n",
    "\n",
    "\"\"\"# Create a match column to only match each instance once\n",
    "to_match = np.ones((len(feb_mars),), dtype=int)\n",
    "\n",
    "# Initialize matched dataframe \n",
    "matched_df = pd.DataFrame(columns = match_df.columns)\"\"\""
   ]
  },
  {
   "cell_type": "code",
   "execution_count": null,
   "id": "5eab18cc-8d59-4aba-b31b-2629b656bd94",
   "metadata": {},
   "outputs": [],
   "source": [
    "\"\"\"# Loop through all the pairs of instances\n",
    "for april_may_id, april_may_row in tqdm(april_may.iterrows()):\n",
    "    i = -1\n",
    "    for feb_mars_id, feb_mars_row in feb_mars.iterrows():\n",
    "        i = i+1\n",
    "        if april_may_row['birthyear'] == feb_mars_row['birthyear']\\\n",
    "           and april_may_row['gender'] == feb_mars_row['gender']\\\n",
    "           and april_may_row['occupation'] == feb_mars_row['occupation']:\n",
    "               if to_match[i] == 1: \n",
    "                    # Mark this person as matched so that it will not be matched again later \n",
    "                    to_match[i] = 0\n",
    "                    # Add the matched pair to the matched dataframe \n",
    "                    if matched_df.empty: \n",
    "                        matched_df = matched_df.append(april_may_row)\n",
    "                    else: \n",
    "                        matched_df = pd.concat([matched_df, april_may_row], axis = 0, join='inner')\n",
    "                    matched_df = pd.concat([matched_df, feb_mars_row], axis = 0, join='inner')\n",
    "                    #Break to avoid rematching the april_may instance \n",
    "                    break\n",
    "\n",
    "#matched_df = pd.concat(matched_list)\n",
    "matched_df.head(5)\"\"\""
   ]
  },
  {
   "cell_type": "code",
   "execution_count": null,
   "id": "f81d4760",
   "metadata": {},
   "outputs": [],
   "source": [
    "\"\"\"# Perform an ordinary least squares linear regression\n",
    "results = smf.ols('pageviews_log ~ is_after', data=matched_df).fit()\n",
    "results.summary()\"\"\""
   ]
  }
 ],
 "metadata": {
  "kernelspec": {
   "display_name": "Python 3 (ipykernel)",
   "language": "python",
   "name": "python3"
  },
  "language_info": {
   "codemirror_mode": {
    "name": "ipython",
    "version": 3
   },
   "file_extension": ".py",
   "mimetype": "text/x-python",
   "name": "python",
   "nbconvert_exporter": "python",
   "pygments_lexer": "ipython3",
   "version": "3.9.12"
  }
 },
 "nbformat": 4,
 "nbformat_minor": 5
}
