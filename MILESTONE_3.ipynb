{
 "cells": [
  {
   "cell_type": "markdown",
   "id": "3c33459c-3a7e-4299-81b3-23b5d380965e",
   "metadata": {},
   "source": [
    "# The Outcasts of Hollywood \n",
    "### Ada CS-401 Project \n",
    "### Autumn 2022 - xxdatasiencesxx"
   ]
  },
  {
   "cell_type": "markdown",
   "id": "36cda85e-d22d-4791-9645-c8a93a434818",
   "metadata": {},
   "source": [
    "#### SUMMARY: \n",
    "1. Genders and ethnicities of the actors \n",
    "    * 1.1. Movie revenue distribution in main character database versus cmu movies\n",
    "    * 1.2. Genre distribution in cmu database versus main character database\n",
    "    * 1.3. Are movies genres and gender of the lead role related?\n",
    "    * 1.4. Adding the ethnicity of actors \n",
    "1. Gender of the crew \n",
    "    * 2.1. Data preprocessing\n",
    "    * 2.2. Are the proportions of movies with women in the crew or created by men different ? \n",
    "    * 2.3. Does the proportion of movies with women in the crew change with time ?\n",
    "1. Revenue comparisons\n",
    "    * 3.1. In terms of the gender of the main actor\n",
    "    * 3.2. In terms of the gender of the crew \n",
    "    * 3.3. OLS to predict the revenue\n",
    "1. NLP\n",
    "    * 4.1. Merge the descriptions into the character db\n",
    "    * 4.2. Exploring genders in general\n",
    "    * 4.3. Characters ethnicity\n",
    "    * 4.4. Exploring ethnicities in general   "
   ]
  },
  {
   "cell_type": "markdown",
   "id": "5bc2fcb2-26e0-4670-b36c-a3e97fc06549",
   "metadata": {
    "tags": []
   },
   "source": [
    "# 0 - Imports & Data Wrangling"
   ]
  },
  {
   "cell_type": "code",
   "execution_count": 1,
   "id": "bc5dbdc4-6323-48db-874d-15076b4fce46",
   "metadata": {},
   "outputs": [],
   "source": [
    "# Various imports\n",
    "import numpy as np\n",
    "import pandas as pd\n",
    "from bs4 import BeautifulSoup\n",
    "import gzip\n",
    "import glob, os\n",
    "from tqdm.auto import tqdm\n",
    "tqdm.pandas()\n",
    "from scipy import stats\n",
    "import seaborn as sns\n",
    "import matplotlib.pyplot as plt\n",
    "import networkx as nx\n",
    "import statsmodels.formula.api as smf\n",
    "import statsmodels.tsa.stattools as sts \n",
    "#NLP libraries\n",
    "import spacy, nltk, gensim, sklearn\n",
    "#Scikit imports\n",
    "from gensim.corpora import Dictionary\n",
    "from gensim.models import LdaMulticore\n",
    "from empath import Empath \n",
    "from matplotlib_venn import venn2\n",
    "from wordcloud import WordCloud, STOPWORDS, ImageColorGenerator\n",
    "import ast"
   ]
  },
  {
   "cell_type": "code",
   "execution_count": 7,
   "id": "168e5ebf-0c11-4ed6-b349-51e8742ff031",
   "metadata": {},
   "outputs": [],
   "source": [
    "# Define path of the dataset\n",
    "path = '../MovieSummaries/'"
   ]
  },
  {
   "cell_type": "code",
   "execution_count": 8,
   "id": "6a71c685",
   "metadata": {},
   "outputs": [],
   "source": [
    "# Load various datasets\n",
    "movies_db = pd.read_pickle(path + 'movies_db.pickle')\n",
    "name_clusters = pd.read_pickle(path + 'name_clusters.pickle')\n",
    "crew_basic = pd.read_csv(path + \"imdb_crew.tsv\", sep=\"\\t\")\n",
    "name_basics = pd.read_csv(path + \"imdb_name_basics.tsv\", sep=\"\\t\")\n",
    "movie_basics = pd.read_csv(path + \"imdb_movie_basics.tsv\", sep=\"\\t\", low_memory=False)\n",
    "directors_sex = pd.read_csv(path + \"git_all_directors_gender.csv\", sep=\",\")\n",
    "mainchar_budget = pd.read_csv(path + \"kaggle_movies.csv\", sep=\",\")\n",
    "ethnicity_query = pd.read_csv(path + \"ethnicity_query.csv\", sep=';')\n",
    "characters_db = pd.read_pickle(path + \"characters_db.pickle\")"
   ]
  },
  {
   "cell_type": "code",
   "execution_count": 9,
   "id": "feb44fe9",
   "metadata": {},
   "outputs": [
    {
     "name": "stdout",
     "output_type": "stream",
     "text": [
      "Out of our database, we have 34408 american movies.\n",
      "We ignore 47333 movies from the original dataset.\n"
     ]
    }
   ],
   "source": [
    "# For this project, we will focus on american movies\n",
    "movies_usa = movies_db[movies_db['countries'].apply(lambda x: '\"/m/09c7w0\": \"United States of America\"' in x)]\n",
    "print(f\"Out of our database, we have {len(movies_usa)} american movies.\")\n",
    "print(f\"We ignore {len(movies_db)-len(movies_usa)} movies from the original dataset.\")"
   ]
  },
  {
   "cell_type": "code",
   "execution_count": 10,
   "id": "3ca2658d",
   "metadata": {},
   "outputs": [
    {
     "data": {
      "text/html": [
       "<div>\n",
       "<style scoped>\n",
       "    .dataframe tbody tr th:only-of-type {\n",
       "        vertical-align: middle;\n",
       "    }\n",
       "\n",
       "    .dataframe tbody tr th {\n",
       "        vertical-align: top;\n",
       "    }\n",
       "\n",
       "    .dataframe thead th {\n",
       "        text-align: right;\n",
       "    }\n",
       "</style>\n",
       "<table border=\"1\" class=\"dataframe\">\n",
       "  <thead>\n",
       "    <tr style=\"text-align: right;\">\n",
       "      <th></th>\n",
       "      <th>wiki_movieID</th>\n",
       "      <th>freebase_movieID</th>\n",
       "      <th>name</th>\n",
       "      <th>release</th>\n",
       "      <th>revenue</th>\n",
       "      <th>runtime</th>\n",
       "      <th>languages</th>\n",
       "      <th>countries</th>\n",
       "      <th>genres</th>\n",
       "    </tr>\n",
       "  </thead>\n",
       "  <tbody>\n",
       "    <tr>\n",
       "      <th>0</th>\n",
       "      <td>975900</td>\n",
       "      <td>/m/03vyhn</td>\n",
       "      <td>Ghosts of Mars</td>\n",
       "      <td>2001-08-24</td>\n",
       "      <td>14010832.0</td>\n",
       "      <td>98.0</td>\n",
       "      <td>{\"/m/02h40lc\": \"English Language\"}</td>\n",
       "      <td>{\"/m/09c7w0\": \"United States of America\"}</td>\n",
       "      <td>{\"/m/01jfsb\": \"Thriller\", \"/m/06n90\": \"Science...</td>\n",
       "    </tr>\n",
       "    <tr>\n",
       "      <th>1</th>\n",
       "      <td>3196793</td>\n",
       "      <td>/m/08yl5d</td>\n",
       "      <td>Getting Away with Murder: The JonBenét Ramsey ...</td>\n",
       "      <td>2000-02-16</td>\n",
       "      <td>NaN</td>\n",
       "      <td>95.0</td>\n",
       "      <td>{\"/m/02h40lc\": \"English Language\"}</td>\n",
       "      <td>{\"/m/09c7w0\": \"United States of America\"}</td>\n",
       "      <td>{\"/m/02n4kr\": \"Mystery\", \"/m/03bxz7\": \"Biograp...</td>\n",
       "    </tr>\n",
       "    <tr>\n",
       "      <th>5</th>\n",
       "      <td>13696889</td>\n",
       "      <td>/m/03cfc81</td>\n",
       "      <td>The Gangsters</td>\n",
       "      <td>1913-05-29</td>\n",
       "      <td>NaN</td>\n",
       "      <td>35.0</td>\n",
       "      <td>{\"/m/06ppq\": \"Silent film\", \"/m/02h40lc\": \"Eng...</td>\n",
       "      <td>{\"/m/09c7w0\": \"United States of America\"}</td>\n",
       "      <td>{\"/m/02hmvc\": \"Short Film\", \"/m/06ppq\": \"Silen...</td>\n",
       "    </tr>\n",
       "  </tbody>\n",
       "</table>\n",
       "</div>"
      ],
      "text/plain": [
       "   wiki_movieID freebase_movieID  \\\n",
       "0        975900        /m/03vyhn   \n",
       "1       3196793        /m/08yl5d   \n",
       "5      13696889       /m/03cfc81   \n",
       "\n",
       "                                                name     release     revenue  \\\n",
       "0                                     Ghosts of Mars  2001-08-24  14010832.0   \n",
       "1  Getting Away with Murder: The JonBenét Ramsey ...  2000-02-16         NaN   \n",
       "5                                      The Gangsters  1913-05-29         NaN   \n",
       "\n",
       "   runtime                                          languages  \\\n",
       "0     98.0                 {\"/m/02h40lc\": \"English Language\"}   \n",
       "1     95.0                 {\"/m/02h40lc\": \"English Language\"}   \n",
       "5     35.0  {\"/m/06ppq\": \"Silent film\", \"/m/02h40lc\": \"Eng...   \n",
       "\n",
       "                                   countries  \\\n",
       "0  {\"/m/09c7w0\": \"United States of America\"}   \n",
       "1  {\"/m/09c7w0\": \"United States of America\"}   \n",
       "5  {\"/m/09c7w0\": \"United States of America\"}   \n",
       "\n",
       "                                              genres  \n",
       "0  {\"/m/01jfsb\": \"Thriller\", \"/m/06n90\": \"Science...  \n",
       "1  {\"/m/02n4kr\": \"Mystery\", \"/m/03bxz7\": \"Biograp...  \n",
       "5  {\"/m/02hmvc\": \"Short Film\", \"/m/06ppq\": \"Silen...  "
      ]
     },
     "execution_count": 10,
     "metadata": {},
     "output_type": "execute_result"
    }
   ],
   "source": [
    "movies_usa.head(3)"
   ]
  },
  {
   "cell_type": "markdown",
   "id": "8c2949db-64c0-4953-8d35-b30f74d6d05f",
   "metadata": {
    "tags": []
   },
   "source": [
    "# 1 - Gender and ethnicities of the actors \n",
    "\n",
    "The following analysis will try to give an answer to two questions. \n",
    "1. Are the genre of a movie and the ethnicity of the lead role correlated?\n",
    "2. Are the genre of a movie and the gender of the lead role correlated?"
   ]
  },
  {
   "cell_type": "code",
   "execution_count": 11,
   "id": "3004aaf1",
   "metadata": {},
   "outputs": [
    {
     "name": "stdout",
     "output_type": "stream",
     "text": [
      "We are working with a dataset of 7668 movies for main characters.\n"
     ]
    },
    {
     "data": {
      "text/html": [
       "<div>\n",
       "<style scoped>\n",
       "    .dataframe tbody tr th:only-of-type {\n",
       "        vertical-align: middle;\n",
       "    }\n",
       "\n",
       "    .dataframe tbody tr th {\n",
       "        vertical-align: top;\n",
       "    }\n",
       "\n",
       "    .dataframe thead th {\n",
       "        text-align: right;\n",
       "    }\n",
       "</style>\n",
       "<table border=\"1\" class=\"dataframe\">\n",
       "  <thead>\n",
       "    <tr style=\"text-align: right;\">\n",
       "      <th></th>\n",
       "      <th>name</th>\n",
       "      <th>rating</th>\n",
       "      <th>genre</th>\n",
       "      <th>year</th>\n",
       "      <th>released</th>\n",
       "      <th>score</th>\n",
       "      <th>votes</th>\n",
       "      <th>director</th>\n",
       "      <th>writer</th>\n",
       "      <th>star</th>\n",
       "      <th>country</th>\n",
       "      <th>budget</th>\n",
       "      <th>gross</th>\n",
       "      <th>company</th>\n",
       "      <th>runtime</th>\n",
       "    </tr>\n",
       "  </thead>\n",
       "  <tbody>\n",
       "    <tr>\n",
       "      <th>0</th>\n",
       "      <td>The Shining</td>\n",
       "      <td>R</td>\n",
       "      <td>Drama</td>\n",
       "      <td>1980</td>\n",
       "      <td>June 13, 1980 (United States)</td>\n",
       "      <td>8.4</td>\n",
       "      <td>927000.0</td>\n",
       "      <td>Stanley Kubrick</td>\n",
       "      <td>Stephen King</td>\n",
       "      <td>Jack Nicholson</td>\n",
       "      <td>United Kingdom</td>\n",
       "      <td>19000000.0</td>\n",
       "      <td>46998772.0</td>\n",
       "      <td>Warner Bros.</td>\n",
       "      <td>146.0</td>\n",
       "    </tr>\n",
       "  </tbody>\n",
       "</table>\n",
       "</div>"
      ],
      "text/plain": [
       "          name rating  genre  year                       released  score  \\\n",
       "0  The Shining      R  Drama  1980  June 13, 1980 (United States)    8.4   \n",
       "\n",
       "      votes         director        writer            star         country  \\\n",
       "0  927000.0  Stanley Kubrick  Stephen King  Jack Nicholson  United Kingdom   \n",
       "\n",
       "       budget       gross       company  runtime  \n",
       "0  19000000.0  46998772.0  Warner Bros.    146.0  "
      ]
     },
     "execution_count": 11,
     "metadata": {},
     "output_type": "execute_result"
    }
   ],
   "source": [
    "# Add the main character to the movies_crew database\n",
    "# Load dataset of movies with main character from 1980 onwards\n",
    "main_char = mainchar_budget\n",
    "main_char.drop_duplicates()\n",
    "print(f\"We are working with a dataset of {len(main_char)} movies for main characters.\")\n",
    "main_char.head(1)"
   ]
  },
  {
   "cell_type": "code",
   "execution_count": 12,
   "id": "09cc61bb",
   "metadata": {},
   "outputs": [
    {
     "name": "stdout",
     "output_type": "stream",
     "text": [
      "By using the main character's database, we lose 9801 movies.\n",
      "This is because not all movies in movies_crew are present in the main_char database.\n"
     ]
    }
   ],
   "source": [
    "len_movies_usa = len(movies_usa[movies_usa['release']> '1980-12-06'])\n",
    "len_main_char = len(main_char)\n",
    "print(f\"By using the main character's database, we lose {len_movies_usa - len_main_char} movies.\")\n",
    "print(f\"This is because not all movies in movies_crew are present in the main_char database.\")"
   ]
  },
  {
   "cell_type": "markdown",
   "id": "5ebd6c1d-2cdb-4f11-8b78-57214b038b80",
   "metadata": {},
   "source": [
    "## 1.1 - Movie revenue distribution in main character database versus cmu movies\n",
    "\n",
    "Let us investigate significant differences between the main character dataset we are using and the cmu movie database provided to us for the project.\n",
    "\n",
    "The role of the following analysis will be to see if our results can be biased based on the movie revenues in the datasets.\n",
    "\n",
    "For example, if most movies in the main character database have a higher average revenue, then we can say our analyis mostly applies to movies with high revenue and can be biased for movies of lower revenue."
   ]
  },
  {
   "cell_type": "code",
   "execution_count": 13,
   "id": "29be1452",
   "metadata": {},
   "outputs": [
    {
     "data": {
      "image/png": "[encoded data removed]",
      "text/plain": [
       "<Figure size 432x288 with 1 Axes>"
      ]
     },
     "metadata": {
      "needs_background": "light"
     },
     "output_type": "display_data"
    }
   ],
   "source": [
    "# Plot histograms of the revenue of movies in both databases\n",
    "ax = sns.histplot(main_char['gross'], kde=True, stat='density', color='green', label='Main Character database')\n",
    "ax = sns.histplot(movies_usa['revenue'], kde=True, stat='density', color='red', label='CMU database')\n",
    "ax.set(title='Movie Revenue distribution between two datasets',xlabel='Revenue')\n",
    "ax.semilogx()\n",
    "plt.legend()\n",
    "plt.show()"
   ]
  },
  {
   "cell_type": "code",
   "execution_count": 14,
   "id": "cb8073e0",
   "metadata": {},
   "outputs": [
    {
     "name": "stdout",
     "output_type": "stream",
     "text": [
      "Let us check if the different between the revenues is significant.\n",
      "The mean revenue in the main character database is 78500541.01778312.\n",
      "The mean revenue for the movie metadata database for american movies is 66140256.468948744\n",
      "On average, the revenue of movies in the main character database is 69.46% higher than the revenue of cmu movies.\n"
     ]
    }
   ],
   "source": [
    "print(\"Let us check if the different between the revenues is significant.\")\n",
    "\n",
    "# Let's first compute the mean\n",
    "print(f\"The mean revenue in the main character database is {main_char['gross'].mean()}.\")\n",
    "print(f\"The mean revenue for the movie metadata database for american movies is {movies_usa[movies_usa['release']> '1980-12-06']['revenue'].mean()}\")\n",
    "print(f\"On average, the revenue of movies in the main character database is {round(movies_usa['revenue'].mean()/main_char['gross'].mean(),4)*100}% higher than the revenue of cmu movies.\")                                                                                                                                              "
   ]
  },
  {
   "cell_type": "markdown",
   "id": "a6597d44-8471-4afb-b2c7-3b3c60e2f0f8",
   "metadata": {},
   "source": [
    "The null hypothesis (H0) in conducting T-test is that the distribution of revenue is the same, with the alternative hypothesis being that they are different. Our significance level for this test (alpha) is chosen to be 0.05."
   ]
  },
  {
   "cell_type": "code",
   "execution_count": 15,
   "id": "aba1542f",
   "metadata": {},
   "outputs": [
    {
     "name": "stdout",
     "output_type": "stream",
     "text": [
      "Ttest_indResult(statistic=4.506366155618769, pvalue=6.653073527605449e-06)\n"
     ]
    }
   ],
   "source": [
    "# Conduct the T-test\n",
    "print(stats.ttest_ind(main_char['gross'], movies_usa[movies_usa['release']> '1980-12-06']['revenue'], nan_policy='omit'))"
   ]
  },
  {
   "cell_type": "markdown",
   "id": "1dae7aff-9e06-4b10-958f-f5877c553c7e",
   "metadata": {},
   "source": [
    "The p-value is much smaller than 0.05, meaning **we reject the null hypothesis that the mean revenues for movies from the two databases are the same.**\n",
    "\n",
    "The value of the test statistic is positive, hence, the mean revenue of movies in the main character dataset is larger.\n",
    "Therefore, analysis done in this study applies on american movies released after June 1980 with on average high revenue."
   ]
  },
  {
   "cell_type": "markdown",
   "id": "9c2b1a81-7e7f-4ab3-9998-892d67dc8990",
   "metadata": {},
   "source": [
    "## 1.2 - Genre distribution in cmu database versus main character database\n",
    "\n",
    "Let us investigate more significant differences between the main character dataset we are using and the cmu movie database provided to us for the project. \n",
    "\n",
    "The role of the following analysis will be to see if our results can be biased based on the prevalence of certain movie genres in the dataset.\n",
    "\n",
    "For example, if most movies in the main character database are thrillers, then we can say our analyis mostly applies to thrillers and can be biased for movies of other genres."
   ]
  },
  {
   "cell_type": "code",
   "execution_count": 16,
   "id": "c30b0697",
   "metadata": {},
   "outputs": [
    {
     "data": {
      "text/html": [
       "<div>\n",
       "<style scoped>\n",
       "    .dataframe tbody tr th:only-of-type {\n",
       "        vertical-align: middle;\n",
       "    }\n",
       "\n",
       "    .dataframe tbody tr th {\n",
       "        vertical-align: top;\n",
       "    }\n",
       "\n",
       "    .dataframe thead th {\n",
       "        text-align: right;\n",
       "    }\n",
       "</style>\n",
       "<table border=\"1\" class=\"dataframe\">\n",
       "  <thead>\n",
       "    <tr style=\"text-align: right;\">\n",
       "      <th></th>\n",
       "      <th>movie_number_main_char</th>\n",
       "      <th>movie_%_main_char</th>\n",
       "    </tr>\n",
       "  </thead>\n",
       "  <tbody>\n",
       "    <tr>\n",
       "      <th>Drama</th>\n",
       "      <td>1518</td>\n",
       "      <td>19.8</td>\n",
       "    </tr>\n",
       "    <tr>\n",
       "      <th>Adventure</th>\n",
       "      <td>427</td>\n",
       "      <td>5.57</td>\n",
       "    </tr>\n",
       "    <tr>\n",
       "      <th>Action</th>\n",
       "      <td>1705</td>\n",
       "      <td>22.24</td>\n",
       "    </tr>\n",
       "    <tr>\n",
       "      <th>Comedy</th>\n",
       "      <td>2245</td>\n",
       "      <td>29.28</td>\n",
       "    </tr>\n",
       "    <tr>\n",
       "      <th>Horror</th>\n",
       "      <td>322</td>\n",
       "      <td>4.2</td>\n",
       "    </tr>\n",
       "  </tbody>\n",
       "</table>\n",
       "</div>"
      ],
      "text/plain": [
       "          movie_number_main_char movie_%_main_char\n",
       "Drama                       1518              19.8\n",
       "Adventure                    427              5.57\n",
       "Action                      1705             22.24\n",
       "Comedy                      2245             29.28\n",
       "Horror                       322               4.2"
      ]
     },
     "execution_count": 16,
     "metadata": {},
     "output_type": "execute_result"
    }
   ],
   "source": [
    "# Now get us see if some movie genres are over or under represented in one database compared to the other\n",
    "# Let's store the genre distribution of the main character movie database in a dataframe\n",
    "\n",
    "# Create an array of all the genres \n",
    "genres = main_char['genre'].unique()\n",
    "\n",
    "# Initialize the DataFrame\n",
    "main_char_genres = pd.DataFrame(columns=['movie_number_main_char', 'movie_%_main_char'], \n",
    "                  index = [genres])\n",
    "\n",
    "# Fill DataFrame with the number and proportion \n",
    "for genre in range(len(genres)):\n",
    "    \n",
    "    main_char_genres.iat[genre,0] = main_char[main_char['genre']==genres[genre]]['genre'].count()\n",
    "    main_char_genres.iat[genre,1] = round(main_char_genres.iat[genre,0]/len(main_char)*100,2)\n",
    "    \n",
    "main_char_genres.head()"
   ]
  },
  {
   "cell_type": "code",
   "execution_count": 17,
   "id": "6fffb2c9",
   "metadata": {},
   "outputs": [
    {
     "data": {
      "text/html": [
       "<div>\n",
       "<style scoped>\n",
       "    .dataframe tbody tr th:only-of-type {\n",
       "        vertical-align: middle;\n",
       "    }\n",
       "\n",
       "    .dataframe tbody tr th {\n",
       "        vertical-align: top;\n",
       "    }\n",
       "\n",
       "    .dataframe thead th {\n",
       "        text-align: right;\n",
       "    }\n",
       "</style>\n",
       "<table border=\"1\" class=\"dataframe\">\n",
       "  <thead>\n",
       "    <tr style=\"text-align: right;\">\n",
       "      <th></th>\n",
       "      <th>movie_number_usa</th>\n",
       "      <th>movie_%_usa</th>\n",
       "    </tr>\n",
       "  </thead>\n",
       "  <tbody>\n",
       "    <tr>\n",
       "      <th>Drama</th>\n",
       "      <td>13375</td>\n",
       "      <td>18.88</td>\n",
       "    </tr>\n",
       "    <tr>\n",
       "      <th>Adventure</th>\n",
       "      <td>5477</td>\n",
       "      <td>7.73</td>\n",
       "    </tr>\n",
       "    <tr>\n",
       "      <th>Action</th>\n",
       "      <td>5246</td>\n",
       "      <td>7.4</td>\n",
       "    </tr>\n",
       "    <tr>\n",
       "      <th>Comedy</th>\n",
       "      <td>10973</td>\n",
       "      <td>15.49</td>\n",
       "    </tr>\n",
       "    <tr>\n",
       "      <th>Horror</th>\n",
       "      <td>3050</td>\n",
       "      <td>4.3</td>\n",
       "    </tr>\n",
       "  </tbody>\n",
       "</table>\n",
       "</div>"
      ],
      "text/plain": [
       "          movie_number_usa movie_%_usa\n",
       "Drama                13375       18.88\n",
       "Adventure             5477        7.73\n",
       "Action                5246         7.4\n",
       "Comedy               10973       15.49\n",
       "Horror                3050         4.3"
      ]
     },
     "execution_count": 17,
     "metadata": {},
     "output_type": "execute_result"
    }
   ],
   "source": [
    "# Building genre labels\n",
    "genres = np.array(['Drama', 'Adventure', 'Action', 'Comedy', 'Horror', 'Biography',\n",
    "       'Crime', 'Fantasy', 'Family', 'Science Fiction', 'Animation', 'Romance',\n",
    "       'Music', 'Western', 'Thriller', 'History', 'Mystery', 'Sport',\n",
    "       'Musical'])\n",
    "\n",
    "movies_usa_genres = pd.DataFrame(columns=['movie_number_usa', 'movie_%_usa'], \n",
    "                  index = [genres])\n",
    "\n",
    "# Fill dataframe with the number and proportion \n",
    "for genre in range(len(genres)):\n",
    "    movies_usa_genres.iat[genre,0]=movies_usa[movies_usa['genres'].apply(lambda x: genres[genre] in x)]['genres'].count()\n",
    "    \n",
    "for genre in range(len(genres)):\n",
    "    movies_usa_genres.iat[genre,1]= round(movies_usa_genres.iat[genre,0]/sum(movies_usa_genres['movie_number_usa']) *100,2)\n",
    "\n",
    "# movies_usa_genres.sort_values(by = 'movie_number')    \n",
    "movies_usa_genres.head()"
   ]
  },
  {
   "cell_type": "code",
   "execution_count": 18,
   "id": "36496dac",
   "metadata": {},
   "outputs": [
    {
     "data": {
      "image/png": "[encoded data removed]",
      "text/plain": [
       "<Figure size 432x288 with 1 Axes>"
      ]
     },
     "metadata": {
      "needs_background": "light"
     },
     "output_type": "display_data"
    }
   ],
   "source": [
    "#movies_usa_genres['genre'] = movies_usa_genres.index\n",
    "\n",
    "# Creating a bar plot for main_char\n",
    "ax = sns.countplot(data=main_char, x=\"genre\")\n",
    "ax.set_xticklabels(labels=genres,rotation=90);"
   ]
  },
  {
   "cell_type": "code",
   "execution_count": 19,
   "id": "74522147",
   "metadata": {},
   "outputs": [
    {
     "data": {
      "image/png": "[encoded data removed]",
      "text/plain": [
       "<Figure size 432x288 with 1 Axes>"
      ]
     },
     "metadata": {
      "needs_background": "light"
     },
     "output_type": "display_data"
    }
   ],
   "source": [
    "# Creating a bar plot for movies_usa_genres\n",
    "movies_usa_genres['genre']=movies_usa_genres.index\n",
    "ax = movies_usa_genres.plot.bar(x='genre', y='movie_number_usa', rot=90)\n",
    "ax.set_xticklabels(labels=genres,rotation=90);"
   ]
  },
  {
   "cell_type": "markdown",
   "id": "2330e133-403f-40d0-8dac-dfc2ab98854d",
   "metadata": {},
   "source": [
    "The genre distribution of the two movies looks different: the distribution of genres is not the same across databases."
   ]
  },
  {
   "cell_type": "code",
   "execution_count": 20,
   "id": "abd84faa",
   "metadata": {},
   "outputs": [
    {
     "data": {
      "text/html": [
       "<div>\n",
       "<style scoped>\n",
       "    .dataframe tbody tr th:only-of-type {\n",
       "        vertical-align: middle;\n",
       "    }\n",
       "\n",
       "    .dataframe tbody tr th {\n",
       "        vertical-align: top;\n",
       "    }\n",
       "\n",
       "    .dataframe thead th {\n",
       "        text-align: right;\n",
       "    }\n",
       "</style>\n",
       "<table border=\"1\" class=\"dataframe\">\n",
       "  <thead>\n",
       "    <tr style=\"text-align: right;\">\n",
       "      <th></th>\n",
       "      <th>movie_%_usa</th>\n",
       "      <th>movie_%_main_char</th>\n",
       "      <th>difference</th>\n",
       "    </tr>\n",
       "  </thead>\n",
       "  <tbody>\n",
       "    <tr>\n",
       "      <th>Thriller</th>\n",
       "      <td>7.18</td>\n",
       "      <td>0.21</td>\n",
       "      <td>6.97</td>\n",
       "    </tr>\n",
       "    <tr>\n",
       "      <th>Romance</th>\n",
       "      <td>6.32</td>\n",
       "      <td>0.13</td>\n",
       "      <td>6.19</td>\n",
       "    </tr>\n",
       "    <tr>\n",
       "      <th>Family</th>\n",
       "      <td>4.72</td>\n",
       "      <td>0.14</td>\n",
       "      <td>4.58</td>\n",
       "    </tr>\n",
       "    <tr>\n",
       "      <th>Music</th>\n",
       "      <td>3.22</td>\n",
       "      <td>0.01</td>\n",
       "      <td>3.21</td>\n",
       "    </tr>\n",
       "    <tr>\n",
       "      <th>Science Fiction</th>\n",
       "      <td>2.74</td>\n",
       "      <td>0.13</td>\n",
       "      <td>2.61</td>\n",
       "    </tr>\n",
       "    <tr>\n",
       "      <th>Western</th>\n",
       "      <td>2.63</td>\n",
       "      <td>0.04</td>\n",
       "      <td>2.59</td>\n",
       "    </tr>\n",
       "    <tr>\n",
       "      <th>Musical</th>\n",
       "      <td>2.55</td>\n",
       "      <td>0.03</td>\n",
       "      <td>2.52</td>\n",
       "    </tr>\n",
       "    <tr>\n",
       "      <th>Mystery</th>\n",
       "      <td>2.61</td>\n",
       "      <td>0.26</td>\n",
       "      <td>2.35</td>\n",
       "    </tr>\n",
       "    <tr>\n",
       "      <th>Adventure</th>\n",
       "      <td>7.73</td>\n",
       "      <td>5.57</td>\n",
       "      <td>2.16</td>\n",
       "    </tr>\n",
       "    <tr>\n",
       "      <th>Fantasy</th>\n",
       "      <td>2.25</td>\n",
       "      <td>0.57</td>\n",
       "      <td>1.68</td>\n",
       "    </tr>\n",
       "    <tr>\n",
       "      <th>Sport</th>\n",
       "      <td>1.16</td>\n",
       "      <td>0.01</td>\n",
       "      <td>1.15</td>\n",
       "    </tr>\n",
       "    <tr>\n",
       "      <th>History</th>\n",
       "      <td>0.73</td>\n",
       "      <td>0.01</td>\n",
       "      <td>0.72</td>\n",
       "    </tr>\n",
       "    <tr>\n",
       "      <th>Horror</th>\n",
       "      <td>4.3</td>\n",
       "      <td>4.2</td>\n",
       "      <td>0.1</td>\n",
       "    </tr>\n",
       "    <tr>\n",
       "      <th>Drama</th>\n",
       "      <td>18.88</td>\n",
       "      <td>19.8</td>\n",
       "      <td>-0.92</td>\n",
       "    </tr>\n",
       "    <tr>\n",
       "      <th>Crime</th>\n",
       "      <td>6.16</td>\n",
       "      <td>7.19</td>\n",
       "      <td>-1.03</td>\n",
       "    </tr>\n",
       "    <tr>\n",
       "      <th>Animation</th>\n",
       "      <td>2.58</td>\n",
       "      <td>4.41</td>\n",
       "      <td>-1.83</td>\n",
       "    </tr>\n",
       "    <tr>\n",
       "      <th>Biography</th>\n",
       "      <td>1.37</td>\n",
       "      <td>5.78</td>\n",
       "      <td>-4.41</td>\n",
       "    </tr>\n",
       "    <tr>\n",
       "      <th>Comedy</th>\n",
       "      <td>15.49</td>\n",
       "      <td>29.28</td>\n",
       "      <td>-13.79</td>\n",
       "    </tr>\n",
       "    <tr>\n",
       "      <th>Action</th>\n",
       "      <td>7.4</td>\n",
       "      <td>22.24</td>\n",
       "      <td>-14.84</td>\n",
       "    </tr>\n",
       "  </tbody>\n",
       "</table>\n",
       "</div>"
      ],
      "text/plain": [
       "                movie_%_usa movie_%_main_char difference\n",
       "Thriller               7.18              0.21       6.97\n",
       "Romance                6.32              0.13       6.19\n",
       "Family                 4.72              0.14       4.58\n",
       "Music                  3.22              0.01       3.21\n",
       "Science Fiction        2.74              0.13       2.61\n",
       "Western                2.63              0.04       2.59\n",
       "Musical                2.55              0.03       2.52\n",
       "Mystery                2.61              0.26       2.35\n",
       "Adventure              7.73              5.57       2.16\n",
       "Fantasy                2.25              0.57       1.68\n",
       "Sport                  1.16              0.01       1.15\n",
       "History                0.73              0.01       0.72\n",
       "Horror                  4.3               4.2        0.1\n",
       "Drama                 18.88              19.8      -0.92\n",
       "Crime                  6.16              7.19      -1.03\n",
       "Animation              2.58              4.41      -1.83\n",
       "Biography              1.37              5.78      -4.41\n",
       "Comedy                15.49             29.28     -13.79\n",
       "Action                  7.4             22.24     -14.84"
      ]
     },
     "execution_count": 20,
     "metadata": {},
     "output_type": "execute_result"
    }
   ],
   "source": [
    "# Let's compare the proportions:\n",
    "genre_compare = pd.concat([movies_usa_genres[['movie_%_usa']] ,main_char_genres[['movie_%_main_char']] ], axis = 1)\n",
    "genre_compare['movie_%_main_char'][9] = 0.13\n",
    "genre_compare['difference'] = genre_compare['movie_%_usa']-genre_compare['movie_%_main_char']\n",
    "genre_compare = genre_compare.sort_values(by ='difference', ascending = 0)\n",
    "genre_compare.head(19)"
   ]
  },
  {
   "cell_type": "markdown",
   "id": "f2725275-a62e-4008-bdce-3352b4f5be6a",
   "metadata": {},
   "source": [
    "#### Observations from genre distribution Analysis\n",
    "Our analysis dataset has a smaller proportion of drama, thriller, Romance, Family and Science fiction movies than the original dataset, as well has a much much bigger proportion of Action, Comedy, and Biography movies.\n",
    "\n",
    "Therefore, we can say that **our analysis is mostly valid for Action, Comedy and Biography movies, but very innacurate for Thrillers, Romance and Family movies.** This is a limitation of our study."
   ]
  },
  {
   "cell_type": "code",
   "execution_count": 21,
   "id": "02273e68",
   "metadata": {},
   "outputs": [
    {
     "name": "stdout",
     "output_type": "stream",
     "text": [
      "We are supposed to have about 7668 movies until the end.\n"
     ]
    }
   ],
   "source": [
    "print(f\"We are supposed to have about {len(main_char)} movies until the end.\")"
   ]
  },
  {
   "cell_type": "code",
   "execution_count": 22,
   "id": "b8c37773",
   "metadata": {},
   "outputs": [
    {
     "data": {
      "text/html": [
       "<div>\n",
       "<style scoped>\n",
       "    .dataframe tbody tr th:only-of-type {\n",
       "        vertical-align: middle;\n",
       "    }\n",
       "\n",
       "    .dataframe tbody tr th {\n",
       "        vertical-align: top;\n",
       "    }\n",
       "\n",
       "    .dataframe thead th {\n",
       "        text-align: right;\n",
       "    }\n",
       "</style>\n",
       "<table border=\"1\" class=\"dataframe\">\n",
       "  <thead>\n",
       "    <tr style=\"text-align: right;\">\n",
       "      <th></th>\n",
       "      <th>wiki_movieID</th>\n",
       "      <th>freebase_movieID</th>\n",
       "      <th>name</th>\n",
       "      <th>release</th>\n",
       "      <th>revenue</th>\n",
       "      <th>runtime</th>\n",
       "      <th>languages</th>\n",
       "      <th>countries</th>\n",
       "      <th>genres</th>\n",
       "      <th>rating</th>\n",
       "      <th>...</th>\n",
       "      <th>released</th>\n",
       "      <th>score</th>\n",
       "      <th>votes</th>\n",
       "      <th>director</th>\n",
       "      <th>writer</th>\n",
       "      <th>star</th>\n",
       "      <th>country</th>\n",
       "      <th>budget</th>\n",
       "      <th>gross</th>\n",
       "      <th>company</th>\n",
       "    </tr>\n",
       "  </thead>\n",
       "  <tbody>\n",
       "    <tr>\n",
       "      <th>0</th>\n",
       "      <td>975900</td>\n",
       "      <td>/m/03vyhn</td>\n",
       "      <td>Ghosts of Mars</td>\n",
       "      <td>2001-08-24</td>\n",
       "      <td>14010832.0</td>\n",
       "      <td>98.0</td>\n",
       "      <td>{\"/m/02h40lc\": \"English Language\"}</td>\n",
       "      <td>{\"/m/09c7w0\": \"United States of America\"}</td>\n",
       "      <td>{\"/m/01jfsb\": \"Thriller\", \"/m/06n90\": \"Science...</td>\n",
       "      <td>R</td>\n",
       "      <td>...</td>\n",
       "      <td>August 24, 2001 (United States)</td>\n",
       "      <td>4.9</td>\n",
       "      <td>52000.0</td>\n",
       "      <td>John Carpenter</td>\n",
       "      <td>Larry Sulkis</td>\n",
       "      <td>Natasha Henstridge</td>\n",
       "      <td>United States</td>\n",
       "      <td>28000000.0</td>\n",
       "      <td>14010832.0</td>\n",
       "      <td>Screen Gems</td>\n",
       "    </tr>\n",
       "  </tbody>\n",
       "</table>\n",
       "<p>1 rows × 22 columns</p>\n",
       "</div>"
      ],
      "text/plain": [
       "   wiki_movieID freebase_movieID            name     release     revenue  \\\n",
       "0        975900        /m/03vyhn  Ghosts of Mars  2001-08-24  14010832.0   \n",
       "\n",
       "   runtime                           languages  \\\n",
       "0     98.0  {\"/m/02h40lc\": \"English Language\"}   \n",
       "\n",
       "                                   countries  \\\n",
       "0  {\"/m/09c7w0\": \"United States of America\"}   \n",
       "\n",
       "                                              genres rating  ...  \\\n",
       "0  {\"/m/01jfsb\": \"Thriller\", \"/m/06n90\": \"Science...      R  ...   \n",
       "\n",
       "                          released  score    votes        director  \\\n",
       "0  August 24, 2001 (United States)    4.9  52000.0  John Carpenter   \n",
       "\n",
       "         writer                star        country      budget       gross  \\\n",
       "0  Larry Sulkis  Natasha Henstridge  United States  28000000.0  14010832.0   \n",
       "\n",
       "       company  \n",
       "0  Screen Gems  \n",
       "\n",
       "[1 rows x 22 columns]"
      ]
     },
     "execution_count": 22,
     "metadata": {},
     "output_type": "execute_result"
    }
   ],
   "source": [
    "# Add the main characters to the movies_usa dataset by merge \n",
    "main_char.drop(columns = ['runtime'],inplace = True)\n",
    "movies_usa_lead = pd.merge(movies_usa, main_char, how='inner', left_on='name', right_on='name')\n",
    "movies_usa_lead.head(1)"
   ]
  },
  {
   "cell_type": "code",
   "execution_count": 23,
   "id": "970f5cc5",
   "metadata": {},
   "outputs": [
    {
     "name": "stdout",
     "output_type": "stream",
     "text": [
      "There are 11024 movies lost when we use the main_char dataset\n"
     ]
    }
   ],
   "source": [
    "print(f\"There are {len(movies_usa[movies_usa['release']> '1980-12-06'])-len(main_char[main_char.index<6445])} movies lost when we use the main_char dataset\")"
   ]
  },
  {
   "cell_type": "code",
   "execution_count": 24,
   "id": "d004bc90",
   "metadata": {},
   "outputs": [
    {
     "name": "stdout",
     "output_type": "stream",
     "text": [
      "Length after merge: 6151.\n",
      "We lose 294 movies of missing movies in either dataset or different spelling of the movie title.\n"
     ]
    }
   ],
   "source": [
    "print(f\"Length after merge: {len(movies_usa_lead)}.\")\n",
    "print(f\"We lose {len(main_char[main_char.index<6445]) - len(movies_usa_lead)} movies of missing movies in either dataset or different spelling of the movie title.\")"
   ]
  },
  {
   "cell_type": "code",
   "execution_count": 25,
   "id": "b7b533b1",
   "metadata": {},
   "outputs": [
    {
     "data": {
      "text/html": [
       "<div>\n",
       "<style scoped>\n",
       "    .dataframe tbody tr th:only-of-type {\n",
       "        vertical-align: middle;\n",
       "    }\n",
       "\n",
       "    .dataframe tbody tr th {\n",
       "        vertical-align: top;\n",
       "    }\n",
       "\n",
       "    .dataframe thead th {\n",
       "        text-align: right;\n",
       "    }\n",
       "</style>\n",
       "<table border=\"1\" class=\"dataframe\">\n",
       "  <thead>\n",
       "    <tr style=\"text-align: right;\">\n",
       "      <th></th>\n",
       "      <th>wiki_movieID</th>\n",
       "      <th>freebase_movieID</th>\n",
       "      <th>release</th>\n",
       "      <th>char_name</th>\n",
       "      <th>dob</th>\n",
       "      <th>gender</th>\n",
       "      <th>height</th>\n",
       "      <th>ethnicity</th>\n",
       "      <th>act_name</th>\n",
       "      <th>age_amr</th>\n",
       "      <th>freebase_charmap</th>\n",
       "    </tr>\n",
       "  </thead>\n",
       "  <tbody>\n",
       "    <tr>\n",
       "      <th>0</th>\n",
       "      <td>975900</td>\n",
       "      <td>/m/03vyhn</td>\n",
       "      <td>2001-08-24</td>\n",
       "      <td>Akooshay</td>\n",
       "      <td>1958-08-26</td>\n",
       "      <td>F</td>\n",
       "      <td>1.62</td>\n",
       "      <td>NaN</td>\n",
       "      <td>Wanda De Jesus</td>\n",
       "      <td>42.0</td>\n",
       "      <td>/m/0bgchxw</td>\n",
       "    </tr>\n",
       "  </tbody>\n",
       "</table>\n",
       "</div>"
      ],
      "text/plain": [
       "   wiki_movieID freebase_movieID     release char_name         dob gender  \\\n",
       "0        975900        /m/03vyhn  2001-08-24  Akooshay  1958-08-26      F   \n",
       "\n",
       "   height ethnicity        act_name  age_amr freebase_charmap  \n",
       "0    1.62       NaN  Wanda De Jesus     42.0       /m/0bgchxw  "
      ]
     },
     "execution_count": 25,
     "metadata": {},
     "output_type": "execute_result"
    }
   ],
   "source": [
    "# Characters metadata dataset with all characters and their gender\n",
    "characters_db.head(1)"
   ]
  },
  {
   "cell_type": "code",
   "execution_count": 26,
   "id": "14b9afff",
   "metadata": {},
   "outputs": [],
   "source": [
    "characters_db.drop(columns = ['release'], inplace = True)"
   ]
  },
  {
   "cell_type": "code",
   "execution_count": 27,
   "id": "d213f4eb",
   "metadata": {},
   "outputs": [
    {
     "data": {
      "text/html": [
       "<div>\n",
       "<style scoped>\n",
       "    .dataframe tbody tr th:only-of-type {\n",
       "        vertical-align: middle;\n",
       "    }\n",
       "\n",
       "    .dataframe tbody tr th {\n",
       "        vertical-align: top;\n",
       "    }\n",
       "\n",
       "    .dataframe thead th {\n",
       "        text-align: right;\n",
       "    }\n",
       "</style>\n",
       "<table border=\"1\" class=\"dataframe\">\n",
       "  <thead>\n",
       "    <tr style=\"text-align: right;\">\n",
       "      <th></th>\n",
       "      <th>wiki_movieID</th>\n",
       "      <th>freebase_movieID_x</th>\n",
       "      <th>name</th>\n",
       "      <th>release</th>\n",
       "      <th>revenue</th>\n",
       "      <th>runtime</th>\n",
       "      <th>languages</th>\n",
       "      <th>countries</th>\n",
       "      <th>genres</th>\n",
       "      <th>rating</th>\n",
       "      <th>...</th>\n",
       "      <th>company</th>\n",
       "      <th>freebase_movieID_y</th>\n",
       "      <th>char_name</th>\n",
       "      <th>dob</th>\n",
       "      <th>gender</th>\n",
       "      <th>height</th>\n",
       "      <th>ethnicity</th>\n",
       "      <th>act_name</th>\n",
       "      <th>age_amr</th>\n",
       "      <th>freebase_charmap</th>\n",
       "    </tr>\n",
       "  </thead>\n",
       "  <tbody>\n",
       "    <tr>\n",
       "      <th>0</th>\n",
       "      <td>975900</td>\n",
       "      <td>/m/03vyhn</td>\n",
       "      <td>Ghosts of Mars</td>\n",
       "      <td>2001-08-24</td>\n",
       "      <td>14010832.0</td>\n",
       "      <td>98.0</td>\n",
       "      <td>{\"/m/02h40lc\": \"English Language\"}</td>\n",
       "      <td>{\"/m/09c7w0\": \"United States of America\"}</td>\n",
       "      <td>{\"/m/01jfsb\": \"Thriller\", \"/m/06n90\": \"Science...</td>\n",
       "      <td>R</td>\n",
       "      <td>...</td>\n",
       "      <td>Screen Gems</td>\n",
       "      <td>/m/03vyhn</td>\n",
       "      <td>Lieutenant Melanie Ballard</td>\n",
       "      <td>1974-08-15</td>\n",
       "      <td>F</td>\n",
       "      <td>1.78</td>\n",
       "      <td>/m/044038p</td>\n",
       "      <td>Natasha Henstridge</td>\n",
       "      <td>27.0</td>\n",
       "      <td>/m/0jys3m</td>\n",
       "    </tr>\n",
       "    <tr>\n",
       "      <th>1</th>\n",
       "      <td>612710</td>\n",
       "      <td>/m/02wjqm</td>\n",
       "      <td>New Rose Hotel</td>\n",
       "      <td>1999-10-01</td>\n",
       "      <td>21521.0</td>\n",
       "      <td>92.0</td>\n",
       "      <td>{\"/m/02h40lc\": \"English Language\"}</td>\n",
       "      <td>{\"/m/09c7w0\": \"United States of America\"}</td>\n",
       "      <td>{\"/m/01jfsb\": \"Thriller\", \"/m/06n90\": \"Science...</td>\n",
       "      <td>R</td>\n",
       "      <td>...</td>\n",
       "      <td>Pressman Film</td>\n",
       "      <td>/m/02wjqm</td>\n",
       "      <td>Fox</td>\n",
       "      <td>1943-03-31</td>\n",
       "      <td>M</td>\n",
       "      <td>1.83</td>\n",
       "      <td>/m/01qhm_</td>\n",
       "      <td>Christopher Walken</td>\n",
       "      <td>56.0</td>\n",
       "      <td>/m/02vbmy1</td>\n",
       "    </tr>\n",
       "  </tbody>\n",
       "</table>\n",
       "<p>2 rows × 31 columns</p>\n",
       "</div>"
      ],
      "text/plain": [
       "   wiki_movieID freebase_movieID_x            name     release     revenue  \\\n",
       "0        975900          /m/03vyhn  Ghosts of Mars  2001-08-24  14010832.0   \n",
       "1        612710          /m/02wjqm  New Rose Hotel  1999-10-01     21521.0   \n",
       "\n",
       "   runtime                           languages  \\\n",
       "0     98.0  {\"/m/02h40lc\": \"English Language\"}   \n",
       "1     92.0  {\"/m/02h40lc\": \"English Language\"}   \n",
       "\n",
       "                                   countries  \\\n",
       "0  {\"/m/09c7w0\": \"United States of America\"}   \n",
       "1  {\"/m/09c7w0\": \"United States of America\"}   \n",
       "\n",
       "                                              genres rating  ...  \\\n",
       "0  {\"/m/01jfsb\": \"Thriller\", \"/m/06n90\": \"Science...      R  ...   \n",
       "1  {\"/m/01jfsb\": \"Thriller\", \"/m/06n90\": \"Science...      R  ...   \n",
       "\n",
       "         company  freebase_movieID_y                   char_name         dob  \\\n",
       "0    Screen Gems           /m/03vyhn  Lieutenant Melanie Ballard  1974-08-15   \n",
       "1  Pressman Film           /m/02wjqm                         Fox  1943-03-31   \n",
       "\n",
       "   gender height   ethnicity            act_name age_amr  freebase_charmap  \n",
       "0       F   1.78  /m/044038p  Natasha Henstridge    27.0         /m/0jys3m  \n",
       "1       M   1.83   /m/01qhm_  Christopher Walken    56.0        /m/02vbmy1  \n",
       "\n",
       "[2 rows x 31 columns]"
      ]
     },
     "execution_count": 27,
     "metadata": {},
     "output_type": "execute_result"
    }
   ],
   "source": [
    "movies_usa_gender = pd.merge(movies_usa_lead, characters_db, how = 'inner', right_on= ['wiki_movieID', 'act_name'], left_on = ['wiki_movieID', 'star'])\n",
    "movies_usa_gender.head(2)"
   ]
  },
  {
   "cell_type": "markdown",
   "id": "99819eb2-e4d4-449e-8ec7-86c81920e527",
   "metadata": {},
   "source": [
    "## 1.3 - Are movies genres and gender of the lead role related?"
   ]
  },
  {
   "cell_type": "markdown",
   "id": "bc61bac9-f3e7-4e2f-9909-a1a944987e25",
   "metadata": {},
   "source": [
    "### 1.3.1 - Naïve analysis "
   ]
  },
  {
   "cell_type": "code",
   "execution_count": 28,
   "id": "13606ffd",
   "metadata": {},
   "outputs": [
    {
     "data": {
      "text/html": [
       "<div>\n",
       "<style scoped>\n",
       "    .dataframe tbody tr th:only-of-type {\n",
       "        vertical-align: middle;\n",
       "    }\n",
       "\n",
       "    .dataframe tbody tr th {\n",
       "        vertical-align: top;\n",
       "    }\n",
       "\n",
       "    .dataframe thead th {\n",
       "        text-align: right;\n",
       "    }\n",
       "</style>\n",
       "<table border=\"1\" class=\"dataframe\">\n",
       "  <thead>\n",
       "    <tr style=\"text-align: right;\">\n",
       "      <th>genre</th>\n",
       "      <th>Action</th>\n",
       "      <th>Adventure</th>\n",
       "      <th>Animation</th>\n",
       "      <th>Biography</th>\n",
       "      <th>Comedy</th>\n",
       "      <th>Crime</th>\n",
       "      <th>Drama</th>\n",
       "      <th>Family</th>\n",
       "      <th>Fantasy</th>\n",
       "      <th>Horror</th>\n",
       "      <th>Mystery</th>\n",
       "      <th>Romance</th>\n",
       "      <th>Sci-Fi</th>\n",
       "      <th>Thriller</th>\n",
       "      <th>Western</th>\n",
       "    </tr>\n",
       "    <tr>\n",
       "      <th>gender</th>\n",
       "      <th></th>\n",
       "      <th></th>\n",
       "      <th></th>\n",
       "      <th></th>\n",
       "      <th></th>\n",
       "      <th></th>\n",
       "      <th></th>\n",
       "      <th></th>\n",
       "      <th></th>\n",
       "      <th></th>\n",
       "      <th></th>\n",
       "      <th></th>\n",
       "      <th></th>\n",
       "      <th></th>\n",
       "      <th></th>\n",
       "    </tr>\n",
       "  </thead>\n",
       "  <tbody>\n",
       "    <tr>\n",
       "      <th>F</th>\n",
       "      <td>111</td>\n",
       "      <td>57</td>\n",
       "      <td>30</td>\n",
       "      <td>57</td>\n",
       "      <td>464</td>\n",
       "      <td>66</td>\n",
       "      <td>296</td>\n",
       "      <td>5</td>\n",
       "      <td>9</td>\n",
       "      <td>88</td>\n",
       "      <td>5</td>\n",
       "      <td>2</td>\n",
       "      <td>1</td>\n",
       "      <td>4</td>\n",
       "      <td>0</td>\n",
       "    </tr>\n",
       "    <tr>\n",
       "      <th>M</th>\n",
       "      <td>1021</td>\n",
       "      <td>227</td>\n",
       "      <td>166</td>\n",
       "      <td>159</td>\n",
       "      <td>1145</td>\n",
       "      <td>301</td>\n",
       "      <td>554</td>\n",
       "      <td>2</td>\n",
       "      <td>23</td>\n",
       "      <td>108</td>\n",
       "      <td>12</td>\n",
       "      <td>4</td>\n",
       "      <td>6</td>\n",
       "      <td>2</td>\n",
       "      <td>3</td>\n",
       "    </tr>\n",
       "  </tbody>\n",
       "</table>\n",
       "</div>"
      ],
      "text/plain": [
       "genre   Action  Adventure  Animation  Biography  Comedy  Crime  Drama  Family  \\\n",
       "gender                                                                          \n",
       "F          111         57         30         57     464     66    296       5   \n",
       "M         1021        227        166        159    1145    301    554       2   \n",
       "\n",
       "genre   Fantasy  Horror  Mystery  Romance  Sci-Fi  Thriller  Western  \n",
       "gender                                                                \n",
       "F             9      88        5        2       1         4        0  \n",
       "M            23     108       12        4       6         2        3  "
      ]
     },
     "execution_count": 28,
     "metadata": {},
     "output_type": "execute_result"
    }
   ],
   "source": [
    "# Let's first build a contingency table for analysis \n",
    "gender_contingency = pd.crosstab(movies_usa_gender['gender'], \n",
    "                                 movies_usa_gender['genre'],\n",
    "                                 margins = False)\n",
    "gender_contingency.head()"
   ]
  },
  {
   "cell_type": "code",
   "execution_count": 29,
   "id": "7e21d427",
   "metadata": {},
   "outputs": [
    {
     "data": {
      "image/png": "[encoded data removed]",
      "text/plain": [
       "<Figure size 1080x288 with 1 Axes>"
      ]
     },
     "metadata": {
      "needs_background": "light"
     },
     "output_type": "display_data"
    }
   ],
   "source": [
    "# Visualize this contingency table\n",
    "X = movies_usa_gender['genre'].unique()\n",
    "Y_female = gender_contingency.loc['F',:]\n",
    "Y_male = gender_contingency.loc['M',:]\n",
    "X_axis = np.arange(len(X))\n",
    "\n",
    "plt.figure(figsize=(15,4))\n",
    "plt.bar(X_axis-0.2, Y_female, 0.4, label = 'Female', color = 'orchid')\n",
    "plt.bar(X_axis+0.2, Y_male, 0.4, label = 'Male', color = 'royalblue')\n",
    "\n",
    "plt.xticks(X_axis, X, rotation = 90)\n",
    "plt.xlabel(\"Genres\")\n",
    "plt.ylabel(\"Number of lead roles\")\n",
    "plt.title(\"Lead role gender by movie genre\")\n",
    "plt.legend()\n",
    "plt.show()"
   ]
  },
  {
   "cell_type": "markdown",
   "id": "ad3befa3-eb4c-47e8-94b1-a8475f10e79c",
   "metadata": {},
   "source": [
    "It looks like male actors systemacically have a higher chance at the lead role, with the differences depending upon which movie genre we look at.\n",
    "\n",
    "For example, for action movies, men are far more likely to have the lead role than women, whereas in drama movies, this difference is less stark."
   ]
  },
  {
   "cell_type": "markdown",
   "id": "6e57653a-45a3-4f1a-8602-8dcec7a53961",
   "metadata": {},
   "source": [
    "### 1.3.2 - Statistical analysis \n",
    "**Note:** For some movies genres (Sci-Fi, Family, Thriller, Fantasy, Mystery, Romance and Western) we don't have enough data points to do a firm analysis, hence, **we will drop them and focus our analysis for Drama, Action, Comedy, Crime, Biography, Adventure, Animation and Horror movies.** This is a limitation of our study."
   ]
  },
  {
   "cell_type": "code",
   "execution_count": 30,
   "id": "f350ba29",
   "metadata": {},
   "outputs": [
    {
     "name": "stdout",
     "output_type": "stream",
     "text": [
      "R = 0.23370052243721776\n",
      "The correlation coefficient R is high enough to investigate further.\n"
     ]
    }
   ],
   "source": [
    "# Now let's do more robust tests with statistical methods\n",
    "# Looking at the correlation between the gender of the lead role and the genre of a movie\n",
    "gender_contingency = gender_contingency[['Drama','Action','Comedy','Crime','Biography','Adventure','Animation','Horror']]\n",
    "genres = gender_contingency.columns\n",
    "\n",
    "# Using Cramer's V method to calculate the correlation coefficient between the categorical variables\n",
    "dataset = np.array(gender_contingency)\n",
    "\n",
    "X2 = stats.chi2_contingency(dataset, correction=False)[0]\n",
    "N = np.sum(dataset)\n",
    "minimum_dimension = min(dataset.shape)-1\n",
    "  \n",
    "# Calculate Cramer's V\n",
    "result = np.sqrt((X2/N) / minimum_dimension)\n",
    "print(f\"R = {result}\")\n",
    "print(\"The correlation coefficient R is high enough to investigate further.\")"
   ]
  },
  {
   "cell_type": "markdown",
   "id": "9ce69036-3278-4161-ae0c-bd7c9eb0ce20",
   "metadata": {},
   "source": [
    "Let's run a chi-squared test with the null hypothesis being that the gender of the lead actor isn't related to the genre of movie. The alternative hypothesis is that the gender of the lead actor is related to the genre of movie."
   ]
  },
  {
   "cell_type": "code",
   "execution_count": 31,
   "id": "10a156c3",
   "metadata": {},
   "outputs": [
    {
     "name": "stdout",
     "output_type": "stream",
     "text": [
      "Test statistic = 264.8872808090283, p-value = 1.8714237807602342e-53\n"
     ]
    }
   ],
   "source": [
    "# Running the chi-squared test \n",
    "dataset = np.array(gender_contingency)\n",
    "\n",
    "stat, p_value, dof, expected_freq = stats.chi2_contingency(dataset)\n",
    "print(f\"Test statistic = {stat}, p-value = {p_value}\")"
   ]
  },
  {
   "cell_type": "markdown",
   "id": "437cc212-c02d-4b95-bb21-e328b83fef9b",
   "metadata": {},
   "source": [
    "The p-value is much smaller than 0.05, so **we can reject the null hypothesis that the gender of the lead actor isn't related to the genre of the movie.**"
   ]
  },
  {
   "cell_type": "code",
   "execution_count": 32,
   "id": "12a93b71",
   "metadata": {},
   "outputs": [],
   "source": [
    "# Now let's try to compare the expected frequencies and observed frequencies and visualise the difference\n",
    "# We'll plot them side by side \n",
    "\n",
    "# Creating a new contingency table out of expected frequencies given by the shi-squared test\n",
    "gender_contingency_x2 = pd.DataFrame(expected_freq, columns = genres, index = ['F','M'])\n",
    "\n",
    "# Converting frequencies into percentages\n",
    "gender_contingency_x2 = gender_contingency_x2.apply(lambda x: x/sum(x))\n",
    "gender_contingency = gender_contingency.apply(lambda x: x/sum(x))\n",
    "\n",
    "# Preparing X and Y values for bar plots\n",
    "X = genres\n",
    "Y_female = gender_contingency.loc['F',:]\n",
    "Y_male = gender_contingency.loc['M',:]\n",
    "X_axis = np.arange(len(X))\n",
    "\n",
    "Y_female_exp = gender_contingency_x2.loc['F',:]\n",
    "Y_male_exp = gender_contingency_x2.loc['M',:]\n",
    "\n",
    "contingency_diff = gender_contingency-gender_contingency_x2\n",
    "Y_female_diff = contingency_diff.loc['F',:]\n",
    "Y_male_diff = contingency_diff.loc['M',:]"
   ]
  },
  {
   "cell_type": "code",
   "execution_count": 33,
   "id": "d66f57a2",
   "metadata": {},
   "outputs": [
    {
     "data": {
      "image/png": "[encoded data removed]",
      "text/plain": [
       "<Figure size 1080x720 with 3 Axes>"
      ]
     },
     "metadata": {
      "needs_background": "light"
     },
     "output_type": "display_data"
    }
   ],
   "source": [
    "# Visualising the difference between the expected values and the observed values \n",
    "# The expected values in a chi-squared test are the values we would expect if the null hypothesis was true,\n",
    "# meaning the frequencies we could expect if the gender of the lead actor and movie genre were not correlated\n",
    "\n",
    "fig, ax = plt.subplots(3,1, figsize=(15,10))\n",
    "\n",
    "ax[0].bar(X_axis-0.2, Y_female_exp, 0.4, label = 'Female', color = 'orchid')\n",
    "ax[0].bar(X_axis+0.2, Y_male_exp, 0.4, label = 'Male', color = 'royalblue')\n",
    "\n",
    "ax[1].bar(X_axis-0.2, Y_female, 0.4, label = 'Female', color = 'orchid')\n",
    "ax[1].bar(X_axis+0.2, Y_male, 0.4, label = 'Male', color = 'royalblue')\n",
    "\n",
    "ax[2].bar(X_axis-0.2, Y_female_diff, 0.4, label = 'Female', color = 'orchid')\n",
    "ax[2].bar(X_axis+0.2, Y_male_diff, 0.4, label = 'Male', color = 'royalblue')\n",
    "y = 0*X_axis\n",
    "ax[2].plot(X_axis,y,'-k')\n",
    "\n",
    "# Add some text for labels, title and custom x-axis tick labels, etc.\n",
    "ax[0].set_ylabel('Genres')\n",
    "ax[0].set_title('Expected Frequencies')\n",
    "ax[0].set_xticks(X_axis, genres)\n",
    "ax[0].legend()\n",
    "ax[1].set_ylabel('Genres')\n",
    "ax[1].set_title('Observed Frequencies')\n",
    "ax[1].set_xticks(X_axis, genres)\n",
    "ax[1].legend()\n",
    "ax[2].set_ylabel('Genres')\n",
    "ax[2].set_title('Difference between expected and observed frequencies')\n",
    "ax[2].set_xticks(X_axis, genres)\n",
    "ax[2].legend()\n",
    "plt.tight_layout()"
   ]
  },
  {
   "cell_type": "markdown",
   "id": "21221e8b-bb99-440d-bd64-7bedfb9828bc",
   "metadata": {},
   "source": [
    "####  Observations:\n",
    "Without any correlation between the gender of the lead role and movies genre, men are expected to lead ≃ 75% of movies of all genres and women are expected to lead ≃ 25% of movies across all genres(This is because men are generally occupy the main role in movies more often than women). However, the observed values differ from this prediction. On average, women occupy 25% of the lead roles in movies and men occupy 75% of them.\n",
    "\n",
    "**Drama Films:** In Drama films, women occupy the lead role ≃ 35% of the time and men ≃ 65% of the time. Comparing with the expected values, this means american cinema is more likely to choose women as lead role in Drama movies than men than average.\n",
    "\n",
    "**Comedy Films:** In Comedy films, women occupy the lead role ≃ 30% of the time and men ≃ 70% of the time. Comaring with the expected frequencies, american cinema is more likely to choose women as lead role in Comedy movies than men than average.\n",
    "\n",
    "**Action Films:** In Action films, men occupy the lead role more than 90% of the time while women occupy it less than 10% of the time. Comparing this to the expected values, american cinema is more likely to choose men as their lead role in action movies than average.\n",
    "\n",
    "**Crime Films:** In Crime films, men occupy the lead role more than 80% of the time while women occupy it less than 20% of the time. Comparing is to the expected frequencies, american cinema is more likely to choose men as their lead role in crime movies on average.\n",
    "\n",
    "**Biography Films:** In Biography films, men occupy the lead role about 70% of the time while women occupy it about 30% of the time. Comparing this to the expected values, Biography films star women a bit more than average.\n",
    "\n",
    "**Adventure Films:** In Adventure films, men occupy the lead role more than 70% of the time while women occupy it less than 30% of the time. Comparing this to the expected values, Adventure films star women a bit more than average.\n",
    "\n",
    "**Horror Films:** Horror films seem to do the best in terms of gender distribution of main roles. Women occupy the lead role 44% of the tie while men occupy it 55% of the time. Comparing this to the expected values, Horror movies are much more likely to portray women than men compared to average.\n",
    "\n"
   ]
  },
  {
   "cell_type": "markdown",
   "id": "80614bf6-ecf3-4f5e-9536-5e62949849c6",
   "metadata": {},
   "source": [
    "## 1.4 - Adding the ethnicity of actors (when available)\n",
    "In this section, we will use the CUM character database that has the freebaseID of actor's ethnicity, and match it with the ethnicities in our ethnicity query database that contains the ethnicity corresponding to every freebaseID code."
   ]
  },
  {
   "cell_type": "code",
   "execution_count": 34,
   "id": "3345c752",
   "metadata": {},
   "outputs": [
    {
     "data": {
      "text/html": [
       "<div>\n",
       "<style scoped>\n",
       "    .dataframe tbody tr th:only-of-type {\n",
       "        vertical-align: middle;\n",
       "    }\n",
       "\n",
       "    .dataframe tbody tr th {\n",
       "        vertical-align: top;\n",
       "    }\n",
       "\n",
       "    .dataframe thead th {\n",
       "        text-align: right;\n",
       "    }\n",
       "</style>\n",
       "<table border=\"1\" class=\"dataframe\">\n",
       "  <thead>\n",
       "    <tr style=\"text-align: right;\">\n",
       "      <th></th>\n",
       "      <th>ethnicity_freebaseID</th>\n",
       "      <th>ethnicity_original</th>\n",
       "      <th>ethnicity</th>\n",
       "    </tr>\n",
       "  </thead>\n",
       "  <tbody>\n",
       "    <tr>\n",
       "      <th>0</th>\n",
       "      <td>/m/038cy</td>\n",
       "      <td>Germanic peoples</td>\n",
       "      <td>NaN</td>\n",
       "    </tr>\n",
       "  </tbody>\n",
       "</table>\n",
       "</div>"
      ],
      "text/plain": [
       "  ethnicity_freebaseID ethnicity_original ethnicity\n",
       "0             /m/038cy   Germanic peoples       NaN"
      ]
     },
     "execution_count": 34,
     "metadata": {},
     "output_type": "execute_result"
    }
   ],
   "source": [
    "# Adding ethnicity of every main actor\n",
    "\n",
    "# Load ethnicity query database containing corresponding ethnicity of every freebaseID code\n",
    "ethnicity_query.rename(columns = {'name': 'ethnicity_original'}, inplace = True)\n",
    "ethnicity_query.rename(columns = {'freebaseID': 'ethnicity_freebaseID'}, inplace = True)\n",
    "ethnicity_query.drop(columns = ['item'], inplace = True)\n",
    "ethnicity_query.head(1)"
   ]
  },
  {
   "cell_type": "code",
   "execution_count": 35,
   "id": "08da88a4",
   "metadata": {},
   "outputs": [
    {
     "data": {
      "text/html": [
       "<div>\n",
       "<style scoped>\n",
       "    .dataframe tbody tr th:only-of-type {\n",
       "        vertical-align: middle;\n",
       "    }\n",
       "\n",
       "    .dataframe tbody tr th {\n",
       "        vertical-align: top;\n",
       "    }\n",
       "\n",
       "    .dataframe thead th {\n",
       "        text-align: right;\n",
       "    }\n",
       "</style>\n",
       "<table border=\"1\" class=\"dataframe\">\n",
       "  <thead>\n",
       "    <tr style=\"text-align: right;\">\n",
       "      <th></th>\n",
       "      <th>wiki_movieID</th>\n",
       "      <th>freebase_movieID</th>\n",
       "      <th>char_name</th>\n",
       "      <th>dob</th>\n",
       "      <th>gender</th>\n",
       "      <th>height</th>\n",
       "      <th>ethnicity</th>\n",
       "      <th>act_name</th>\n",
       "      <th>age_amr</th>\n",
       "      <th>freebase_charmap</th>\n",
       "    </tr>\n",
       "  </thead>\n",
       "  <tbody>\n",
       "    <tr>\n",
       "      <th>0</th>\n",
       "      <td>975900</td>\n",
       "      <td>/m/03vyhn</td>\n",
       "      <td>Akooshay</td>\n",
       "      <td>1958-08-26</td>\n",
       "      <td>F</td>\n",
       "      <td>1.62</td>\n",
       "      <td>NaN</td>\n",
       "      <td>Wanda De Jesus</td>\n",
       "      <td>42.0</td>\n",
       "      <td>/m/0bgchxw</td>\n",
       "    </tr>\n",
       "  </tbody>\n",
       "</table>\n",
       "</div>"
      ],
      "text/plain": [
       "   wiki_movieID freebase_movieID char_name         dob gender  height  \\\n",
       "0        975900        /m/03vyhn  Akooshay  1958-08-26      F    1.62   \n",
       "\n",
       "  ethnicity        act_name  age_amr freebase_charmap  \n",
       "0       NaN  Wanda De Jesus     42.0       /m/0bgchxw  "
      ]
     },
     "execution_count": 35,
     "metadata": {},
     "output_type": "execute_result"
    }
   ],
   "source": [
    "# Load characters metadata dataset with all characters and their eithnicity code \n",
    "characters_db.head(1)"
   ]
  },
  {
   "cell_type": "code",
   "execution_count": 36,
   "id": "f0be949b",
   "metadata": {},
   "outputs": [
    {
     "data": {
      "text/html": [
       "<div>\n",
       "<style scoped>\n",
       "    .dataframe tbody tr th:only-of-type {\n",
       "        vertical-align: middle;\n",
       "    }\n",
       "\n",
       "    .dataframe tbody tr th {\n",
       "        vertical-align: top;\n",
       "    }\n",
       "\n",
       "    .dataframe thead th {\n",
       "        text-align: right;\n",
       "    }\n",
       "</style>\n",
       "<table border=\"1\" class=\"dataframe\">\n",
       "  <thead>\n",
       "    <tr style=\"text-align: right;\">\n",
       "      <th></th>\n",
       "      <th>wiki_movieID</th>\n",
       "      <th>freebase_movieID</th>\n",
       "      <th>char_name</th>\n",
       "      <th>dob</th>\n",
       "      <th>gender</th>\n",
       "      <th>act_name</th>\n",
       "      <th>age_amr</th>\n",
       "      <th>freebase_charmap</th>\n",
       "      <th>ethnicity_freebaseID</th>\n",
       "      <th>ethnicity_original</th>\n",
       "      <th>ethnicity</th>\n",
       "    </tr>\n",
       "  </thead>\n",
       "  <tbody>\n",
       "    <tr>\n",
       "      <th>0</th>\n",
       "      <td>975900</td>\n",
       "      <td>/m/03vyhn</td>\n",
       "      <td>Tres</td>\n",
       "      <td>1959-03-09</td>\n",
       "      <td>M</td>\n",
       "      <td>Rodney A. Grant</td>\n",
       "      <td>42.0</td>\n",
       "      <td>/m/0bgchrs</td>\n",
       "      <td>/m/064b9n</td>\n",
       "      <td>Omaha people</td>\n",
       "      <td>Native American</td>\n",
       "    </tr>\n",
       "  </tbody>\n",
       "</table>\n",
       "</div>"
      ],
      "text/plain": [
       "   wiki_movieID freebase_movieID char_name         dob gender  \\\n",
       "0        975900        /m/03vyhn      Tres  1959-03-09      M   \n",
       "\n",
       "          act_name  age_amr freebase_charmap ethnicity_freebaseID  \\\n",
       "0  Rodney A. Grant     42.0       /m/0bgchrs            /m/064b9n   \n",
       "\n",
       "  ethnicity_original        ethnicity  \n",
       "0       Omaha people  Native American  "
      ]
     },
     "execution_count": 36,
     "metadata": {},
     "output_type": "execute_result"
    }
   ],
   "source": [
    "# Add correct ethnicity in characters_db instead of code with help of ethnicity_query table\n",
    "characters_ethnicity = pd.merge(characters_db, ethnicity_query, how='inner', left_on='ethnicity', right_on='ethnicity_freebaseID')\n",
    "characters_ethnicity.drop(columns = ['ethnicity_x'], inplace = True)\n",
    "characters_ethnicity.rename(columns = {'ethnicity_y': 'ethnicity'}, inplace = True)\n",
    "characters_ethnicity.drop(columns = ['height'], inplace = True)\n",
    "characters_ethnicity.head(1)"
   ]
  },
  {
   "cell_type": "code",
   "execution_count": 37,
   "id": "adef0e27",
   "metadata": {},
   "outputs": [
    {
     "data": {
      "text/html": [
       "<div>\n",
       "<style scoped>\n",
       "    .dataframe tbody tr th:only-of-type {\n",
       "        vertical-align: middle;\n",
       "    }\n",
       "\n",
       "    .dataframe tbody tr th {\n",
       "        vertical-align: top;\n",
       "    }\n",
       "\n",
       "    .dataframe thead th {\n",
       "        text-align: right;\n",
       "    }\n",
       "</style>\n",
       "<table border=\"1\" class=\"dataframe\">\n",
       "  <thead>\n",
       "    <tr style=\"text-align: right;\">\n",
       "      <th></th>\n",
       "      <th>wiki_movieID</th>\n",
       "      <th>freebase_movieID_x</th>\n",
       "      <th>name</th>\n",
       "      <th>release</th>\n",
       "      <th>revenue</th>\n",
       "      <th>runtime</th>\n",
       "      <th>languages</th>\n",
       "      <th>countries</th>\n",
       "      <th>genres</th>\n",
       "      <th>rating</th>\n",
       "      <th>...</th>\n",
       "      <th>freebase_movieID_y</th>\n",
       "      <th>char_name</th>\n",
       "      <th>dob</th>\n",
       "      <th>gender</th>\n",
       "      <th>act_name</th>\n",
       "      <th>age_amr</th>\n",
       "      <th>freebase_charmap</th>\n",
       "      <th>ethnicity_freebaseID</th>\n",
       "      <th>ethnicity_original</th>\n",
       "      <th>ethnicity</th>\n",
       "    </tr>\n",
       "  </thead>\n",
       "  <tbody>\n",
       "    <tr>\n",
       "      <th>0</th>\n",
       "      <td>612710</td>\n",
       "      <td>/m/02wjqm</td>\n",
       "      <td>New Rose Hotel</td>\n",
       "      <td>1999-10-01</td>\n",
       "      <td>21521.0</td>\n",
       "      <td>92.0</td>\n",
       "      <td>{\"/m/02h40lc\": \"English Language\"}</td>\n",
       "      <td>{\"/m/09c7w0\": \"United States of America\"}</td>\n",
       "      <td>{\"/m/01jfsb\": \"Thriller\", \"/m/06n90\": \"Science...</td>\n",
       "      <td>R</td>\n",
       "      <td>...</td>\n",
       "      <td>/m/02wjqm</td>\n",
       "      <td>Fox</td>\n",
       "      <td>1943-03-31</td>\n",
       "      <td>M</td>\n",
       "      <td>Christopher Walken</td>\n",
       "      <td>56.0</td>\n",
       "      <td>/m/02vbmy1</td>\n",
       "      <td>/m/01qhm_</td>\n",
       "      <td>German Americans</td>\n",
       "      <td>White</td>\n",
       "    </tr>\n",
       "  </tbody>\n",
       "</table>\n",
       "<p>1 rows × 32 columns</p>\n",
       "</div>"
      ],
      "text/plain": [
       "   wiki_movieID freebase_movieID_x            name     release  revenue  \\\n",
       "0        612710          /m/02wjqm  New Rose Hotel  1999-10-01  21521.0   \n",
       "\n",
       "   runtime                           languages  \\\n",
       "0     92.0  {\"/m/02h40lc\": \"English Language\"}   \n",
       "\n",
       "                                   countries  \\\n",
       "0  {\"/m/09c7w0\": \"United States of America\"}   \n",
       "\n",
       "                                              genres rating  ...  \\\n",
       "0  {\"/m/01jfsb\": \"Thriller\", \"/m/06n90\": \"Science...      R  ...   \n",
       "\n",
       "  freebase_movieID_y  char_name         dob  gender            act_name  \\\n",
       "0          /m/02wjqm        Fox  1943-03-31       M  Christopher Walken   \n",
       "\n",
       "  age_amr freebase_charmap ethnicity_freebaseID ethnicity_original  ethnicity  \n",
       "0    56.0       /m/02vbmy1            /m/01qhm_   German Americans      White  \n",
       "\n",
       "[1 rows x 32 columns]"
      ]
     },
     "execution_count": 37,
     "metadata": {},
     "output_type": "execute_result"
    }
   ],
   "source": [
    "# Merging movies database with characters' ethnicity\n",
    "movies_usa_ethnicity = pd.merge(movies_usa_lead, characters_ethnicity, how = 'inner', right_on= ['wiki_movieID', 'act_name'], left_on = ['wiki_movieID', 'star'])\n",
    "movies_usa_ethnicity.head(1)"
   ]
  },
  {
   "cell_type": "code",
   "execution_count": 38,
   "id": "7da24350-8a31-48e4-aa30-619f8269b7e3",
   "metadata": {},
   "outputs": [
    {
     "name": "stdout",
     "output_type": "stream",
     "text": [
      "movies_usa_lead went from 6151 movies to 1741 after merging\n"
     ]
    }
   ],
   "source": [
    "# Checking amount of movies lost when merging\n",
    "print(f'movies_usa_lead went from {len(movies_usa_lead)} movies to {len(movies_usa_ethnicity)} after merging')"
   ]
  },
  {
   "cell_type": "markdown",
   "id": "082a4b26-facc-4454-8b8d-1c9ac493399f",
   "metadata": {},
   "source": [
    "**Observations:** \n",
    "We notice here that we go from a dataset of 6151 movies to a dataset of 1741 movies by merging characters_db and movies_usa_lead. This is because of the ethnicity column. Movies are un-able to merge and lost because of two reasons. Either the ethnicity of the actor was not available in the characters_db dataset. Or the freebaseID ethnicity code in characters_db  didn't correspond to any codes in our query table. We will however continue our analysis on ethnicity of lead roles in american movies."
   ]
  },
  {
   "cell_type": "code",
   "execution_count": 39,
   "id": "d67cd274",
   "metadata": {},
   "outputs": [
    {
     "data": {
      "text/html": [
       "<div>\n",
       "<style scoped>\n",
       "    .dataframe tbody tr th:only-of-type {\n",
       "        vertical-align: middle;\n",
       "    }\n",
       "\n",
       "    .dataframe tbody tr th {\n",
       "        vertical-align: top;\n",
       "    }\n",
       "\n",
       "    .dataframe thead th {\n",
       "        text-align: right;\n",
       "    }\n",
       "</style>\n",
       "<table border=\"1\" class=\"dataframe\">\n",
       "  <thead>\n",
       "    <tr style=\"text-align: right;\">\n",
       "      <th>ethnicity</th>\n",
       "      <th>Black</th>\n",
       "      <th>East Asian</th>\n",
       "      <th>Indo-Aryan</th>\n",
       "      <th>Jew</th>\n",
       "      <th>Latin American</th>\n",
       "      <th>Middle Eastern</th>\n",
       "      <th>Multiracial American</th>\n",
       "      <th>Native American</th>\n",
       "      <th>Native Pacific Islander</th>\n",
       "      <th>Other</th>\n",
       "      <th>South Asian</th>\n",
       "      <th>South-East Asian</th>\n",
       "      <th>West Asian</th>\n",
       "      <th>White</th>\n",
       "    </tr>\n",
       "    <tr>\n",
       "      <th>genre</th>\n",
       "      <th></th>\n",
       "      <th></th>\n",
       "      <th></th>\n",
       "      <th></th>\n",
       "      <th></th>\n",
       "      <th></th>\n",
       "      <th></th>\n",
       "      <th></th>\n",
       "      <th></th>\n",
       "      <th></th>\n",
       "      <th></th>\n",
       "      <th></th>\n",
       "      <th></th>\n",
       "      <th></th>\n",
       "    </tr>\n",
       "  </thead>\n",
       "  <tbody>\n",
       "    <tr>\n",
       "      <th>Action</th>\n",
       "      <td>1</td>\n",
       "      <td>25</td>\n",
       "      <td>0</td>\n",
       "      <td>5</td>\n",
       "      <td>2</td>\n",
       "      <td>0</td>\n",
       "      <td>7</td>\n",
       "      <td>27</td>\n",
       "      <td>0</td>\n",
       "      <td>0</td>\n",
       "      <td>0</td>\n",
       "      <td>5</td>\n",
       "      <td>0</td>\n",
       "      <td>372</td>\n",
       "    </tr>\n",
       "    <tr>\n",
       "      <th>Adventure</th>\n",
       "      <td>0</td>\n",
       "      <td>3</td>\n",
       "      <td>1</td>\n",
       "      <td>0</td>\n",
       "      <td>0</td>\n",
       "      <td>0</td>\n",
       "      <td>0</td>\n",
       "      <td>1</td>\n",
       "      <td>0</td>\n",
       "      <td>0</td>\n",
       "      <td>2</td>\n",
       "      <td>0</td>\n",
       "      <td>0</td>\n",
       "      <td>80</td>\n",
       "    </tr>\n",
       "    <tr>\n",
       "      <th>Animation</th>\n",
       "      <td>1</td>\n",
       "      <td>0</td>\n",
       "      <td>1</td>\n",
       "      <td>2</td>\n",
       "      <td>0</td>\n",
       "      <td>0</td>\n",
       "      <td>0</td>\n",
       "      <td>1</td>\n",
       "      <td>0</td>\n",
       "      <td>0</td>\n",
       "      <td>0</td>\n",
       "      <td>0</td>\n",
       "      <td>0</td>\n",
       "      <td>70</td>\n",
       "    </tr>\n",
       "    <tr>\n",
       "      <th>Biography</th>\n",
       "      <td>1</td>\n",
       "      <td>1</td>\n",
       "      <td>0</td>\n",
       "      <td>1</td>\n",
       "      <td>1</td>\n",
       "      <td>1</td>\n",
       "      <td>1</td>\n",
       "      <td>1</td>\n",
       "      <td>1</td>\n",
       "      <td>1</td>\n",
       "      <td>0</td>\n",
       "      <td>3</td>\n",
       "      <td>1</td>\n",
       "      <td>76</td>\n",
       "    </tr>\n",
       "    <tr>\n",
       "      <th>Comedy</th>\n",
       "      <td>1</td>\n",
       "      <td>1</td>\n",
       "      <td>3</td>\n",
       "      <td>8</td>\n",
       "      <td>10</td>\n",
       "      <td>6</td>\n",
       "      <td>3</td>\n",
       "      <td>8</td>\n",
       "      <td>0</td>\n",
       "      <td>4</td>\n",
       "      <td>6</td>\n",
       "      <td>2</td>\n",
       "      <td>2</td>\n",
       "      <td>451</td>\n",
       "    </tr>\n",
       "  </tbody>\n",
       "</table>\n",
       "</div>"
      ],
      "text/plain": [
       "ethnicity  Black  East Asian  Indo-Aryan  Jew  Latin American  Middle Eastern  \\\n",
       "genre                                                                           \n",
       "Action         1          25           0    5               2               0   \n",
       "Adventure      0           3           1    0               0               0   \n",
       "Animation      1           0           1    2               0               0   \n",
       "Biography      1           1           0    1               1               1   \n",
       "Comedy         1           1           3    8              10               6   \n",
       "\n",
       "ethnicity  Multiracial American  Native American  Native Pacific Islander  \\\n",
       "genre                                                                       \n",
       "Action                        7               27                        0   \n",
       "Adventure                     0                1                        0   \n",
       "Animation                     0                1                        0   \n",
       "Biography                     1                1                        1   \n",
       "Comedy                        3                8                        0   \n",
       "\n",
       "ethnicity  Other  South Asian  South-East Asian  West Asian  White  \n",
       "genre                                                               \n",
       "Action         0            0                 5           0    372  \n",
       "Adventure      0            2                 0           0     80  \n",
       "Animation      0            0                 0           0     70  \n",
       "Biography      1            0                 3           1     76  \n",
       "Comedy         4            6                 2           2    451  "
      ]
     },
     "execution_count": 39,
     "metadata": {},
     "output_type": "execute_result"
    }
   ],
   "source": [
    "# Build contingency table for movie genres and ethnicity of main actors \n",
    "ethnicity_contingency = pd.crosstab(movies_usa_ethnicity['genre'], \n",
    "                                    movies_usa_ethnicity['ethnicity'],\n",
    "                                    margins = False)\n",
    "ethnicity_contingency.head()"
   ]
  },
  {
   "cell_type": "code",
   "execution_count": 40,
   "id": "eace7ff1",
   "metadata": {},
   "outputs": [
    {
     "data": {
      "text/html": [
       "<div>\n",
       "<style scoped>\n",
       "    .dataframe tbody tr th:only-of-type {\n",
       "        vertical-align: middle;\n",
       "    }\n",
       "\n",
       "    .dataframe tbody tr th {\n",
       "        vertical-align: top;\n",
       "    }\n",
       "\n",
       "    .dataframe thead th {\n",
       "        text-align: right;\n",
       "    }\n",
       "</style>\n",
       "<table border=\"1\" class=\"dataframe\">\n",
       "  <thead>\n",
       "    <tr style=\"text-align: right;\">\n",
       "      <th>genre</th>\n",
       "      <th>Action</th>\n",
       "      <th>Adventure</th>\n",
       "      <th>Animation</th>\n",
       "      <th>Biography</th>\n",
       "      <th>Comedy</th>\n",
       "      <th>Crime</th>\n",
       "      <th>Drama</th>\n",
       "      <th>Horror</th>\n",
       "    </tr>\n",
       "    <tr>\n",
       "      <th>ethnicity</th>\n",
       "      <th></th>\n",
       "      <th></th>\n",
       "      <th></th>\n",
       "      <th></th>\n",
       "      <th></th>\n",
       "      <th></th>\n",
       "      <th></th>\n",
       "      <th></th>\n",
       "    </tr>\n",
       "  </thead>\n",
       "  <tbody>\n",
       "    <tr>\n",
       "      <th>Black</th>\n",
       "      <td>1</td>\n",
       "      <td>0</td>\n",
       "      <td>1</td>\n",
       "      <td>1</td>\n",
       "      <td>1</td>\n",
       "      <td>0</td>\n",
       "      <td>1</td>\n",
       "      <td>0</td>\n",
       "    </tr>\n",
       "    <tr>\n",
       "      <th>Jew</th>\n",
       "      <td>5</td>\n",
       "      <td>0</td>\n",
       "      <td>2</td>\n",
       "      <td>1</td>\n",
       "      <td>8</td>\n",
       "      <td>1</td>\n",
       "      <td>7</td>\n",
       "      <td>0</td>\n",
       "    </tr>\n",
       "    <tr>\n",
       "      <th>Latin American</th>\n",
       "      <td>2</td>\n",
       "      <td>0</td>\n",
       "      <td>0</td>\n",
       "      <td>1</td>\n",
       "      <td>10</td>\n",
       "      <td>3</td>\n",
       "      <td>4</td>\n",
       "      <td>2</td>\n",
       "    </tr>\n",
       "    <tr>\n",
       "      <th>Middle Eastern</th>\n",
       "      <td>0</td>\n",
       "      <td>0</td>\n",
       "      <td>0</td>\n",
       "      <td>1</td>\n",
       "      <td>6</td>\n",
       "      <td>1</td>\n",
       "      <td>3</td>\n",
       "      <td>0</td>\n",
       "    </tr>\n",
       "    <tr>\n",
       "      <th>Native American</th>\n",
       "      <td>27</td>\n",
       "      <td>1</td>\n",
       "      <td>1</td>\n",
       "      <td>1</td>\n",
       "      <td>8</td>\n",
       "      <td>1</td>\n",
       "      <td>10</td>\n",
       "      <td>0</td>\n",
       "    </tr>\n",
       "    <tr>\n",
       "      <th>Other</th>\n",
       "      <td>7</td>\n",
       "      <td>0</td>\n",
       "      <td>0</td>\n",
       "      <td>3</td>\n",
       "      <td>7</td>\n",
       "      <td>1</td>\n",
       "      <td>2</td>\n",
       "      <td>1</td>\n",
       "    </tr>\n",
       "    <tr>\n",
       "      <th>White</th>\n",
       "      <td>372</td>\n",
       "      <td>80</td>\n",
       "      <td>70</td>\n",
       "      <td>76</td>\n",
       "      <td>451</td>\n",
       "      <td>126</td>\n",
       "      <td>291</td>\n",
       "      <td>47</td>\n",
       "    </tr>\n",
       "    <tr>\n",
       "      <th>Asian</th>\n",
       "      <td>30</td>\n",
       "      <td>6</td>\n",
       "      <td>1</td>\n",
       "      <td>5</td>\n",
       "      <td>14</td>\n",
       "      <td>4</td>\n",
       "      <td>4</td>\n",
       "      <td>3</td>\n",
       "    </tr>\n",
       "  </tbody>\n",
       "</table>\n",
       "</div>"
      ],
      "text/plain": [
       "genre            Action  Adventure  Animation  Biography  Comedy  Crime  \\\n",
       "ethnicity                                                                 \n",
       "Black                 1          0          1          1       1      0   \n",
       "Jew                   5          0          2          1       8      1   \n",
       "Latin American        2          0          0          1      10      3   \n",
       "Middle Eastern        0          0          0          1       6      1   \n",
       "Native American      27          1          1          1       8      1   \n",
       "Other                 7          0          0          3       7      1   \n",
       "White               372         80         70         76     451    126   \n",
       "Asian                30          6          1          5      14      4   \n",
       "\n",
       "genre            Drama  Horror  \n",
       "ethnicity                       \n",
       "Black                1       0  \n",
       "Jew                  7       0  \n",
       "Latin American       4       2  \n",
       "Middle Eastern       3       0  \n",
       "Native American     10       0  \n",
       "Other                2       1  \n",
       "White              291      47  \n",
       "Asian                4       3  "
      ]
     },
     "execution_count": 40,
     "metadata": {},
     "output_type": "execute_result"
    }
   ],
   "source": [
    "# Drop columns with very small number of data points\n",
    "ethnicity_contingency.drop(index = ['Thriller','Romance', 'Sci-Fi','Mystery','Fantasy','Family'], inplace = True)\n",
    "\n",
    "# Aggregate Asian ethnicity columns \n",
    "ethnicity_contingency['Asian'] = ethnicity_contingency['East Asian']+ ethnicity_contingency['Indo-Aryan']+ethnicity_contingency['South Asian']+ ethnicity_contingency['South-East Asian']+ ethnicity_contingency['West Asian']\n",
    "\n",
    "# Drop useless Asian ethnicity columns\n",
    "ethnicity_contingency.drop(columns = ['East Asian','Indo-Aryan','South Asian','South-East Asian','West Asian'], inplace = True)\n",
    "\n",
    "# Put native pacific islander ethnicit with 'others'\n",
    "ethnicity_contingency['Other'] = ethnicity_contingency['Other']+ethnicity_contingency['Native Pacific Islander']\n",
    "ethnicity_contingency.drop(columns = ['Native Pacific Islander'], inplace = True)\n",
    "\n",
    "# Put multiracial Amercian ethnicity with 'other'\n",
    "ethnicity_contingency['Other'] = ethnicity_contingency['Other']+ethnicity_contingency['Multiracial American']\n",
    "ethnicity_contingency.drop(columns = ['Multiracial American'], inplace = True)\n",
    "ethnicity_contingency = ethnicity_contingency.transpose()\n",
    "\n",
    "ethnicity_contingency.head(8)"
   ]
  },
  {
   "cell_type": "code",
   "execution_count": 41,
   "id": "df983f79",
   "metadata": {},
   "outputs": [
    {
     "data": {
      "text/plain": [
       "[]"
      ]
     },
     "execution_count": 41,
     "metadata": {},
     "output_type": "execute_result"
    },
    {
     "data": {
      "image/png": "[encoded data removed]",
      "text/plain": [
       "<Figure size 1440x360 with 1 Axes>"
      ]
     },
     "metadata": {
      "needs_background": "light"
     },
     "output_type": "display_data"
    }
   ],
   "source": [
    "# Visualize this contingency table\n",
    "ax = ethnicity_contingency.plot.bar(rot=90, figsize = (20,5))\n",
    "ax.semilogy()"
   ]
  },
  {
   "cell_type": "markdown",
   "id": "a5c9015e-b235-40c3-9271-169042eb4061",
   "metadata": {},
   "source": [
    "### 1.4.1 - Statistical analysis "
   ]
  },
  {
   "cell_type": "code",
   "execution_count": 42,
   "id": "f93aa2a8",
   "metadata": {},
   "outputs": [
    {
     "name": "stdout",
     "output_type": "stream",
     "text": [
      "R = 0.08365343176852458\n"
     ]
    }
   ],
   "source": [
    "# Let's do more rebust statistical tests\n",
    "# We'll look at the correlation between the ethnicity of the lead role and the genre of a movie\n",
    "genres = ethnicity_contingency.columns\n",
    "\n",
    "# Using Cramer's V method to compute the correlation coefficient between the categorical variables\n",
    "dataset_eth = np.array(ethnicity_contingency)\n",
    "X2_eth = stats.chi2_contingency(dataset_eth, correction=False)[0]\n",
    "N = np.sum(dataset_eth)\n",
    "minimum_dimension = min(dataset_eth.shape)-1\n",
    "  \n",
    "# Compute Cramer's V\n",
    "result = np.sqrt((X2_eth/N) / minimum_dimension)\n",
    "print(f\"R = {result}\")"
   ]
  },
  {
   "cell_type": "markdown",
   "id": "3129ddd0-d51a-42da-851d-aca3234af5cb",
   "metadata": {},
   "source": [
    "Let's run a chi-squared test with the null hypothesis being that there is no relationship between the ethnicity of the main actor and the genre of the movie, and the alternative hypothesis being that there is a relationship between the two."
   ]
  },
  {
   "cell_type": "code",
   "execution_count": 43,
   "id": "dc517868",
   "metadata": {},
   "outputs": [
    {
     "name": "stdout",
     "output_type": "stream",
     "text": [
      "Test statistic = 83.86279341346795, p-value = 0.0014175513032746816\n"
     ]
    }
   ],
   "source": [
    "# Chi-squared test\n",
    "dataset_eth = np.array(ethnicity_contingency)\n",
    "\n",
    "stat_eth, p_value_eth, dof_eth, expected_freq_eth = stats.chi2_contingency(dataset_eth)\n",
    "print(f\"Test statistic = {stat_eth}, p-value = {p_value_eth}\")"
   ]
  },
  {
   "cell_type": "markdown",
   "id": "6ddf86e3-970b-4aa6-b162-d7029063c506",
   "metadata": {},
   "source": [
    "The p-value of the chi-square test is much smaller than 0.05, hence, **we can reject the null hypothesis that there is no relationship between the ethnicity of the main actor and genre of the movie.**\n",
    "\n",
    "Let us investigate further. We will compare the expected frequencies with the observed frequencies of the number of actors for the lead of a movie by genre per ethnicity."
   ]
  },
  {
   "cell_type": "code",
   "execution_count": 44,
   "id": "e7b1fb37",
   "metadata": {},
   "outputs": [
    {
     "data": {
      "text/plain": [
       "<matplotlib.legend.Legend at 0x7f6b156a1f40>"
      ]
     },
     "execution_count": 44,
     "metadata": {},
     "output_type": "execute_result"
    },
    {
     "data": {
      "image/png": "[encoded data removed]",
      "text/plain": [
       "<Figure size 1440x360 with 1 Axes>"
      ]
     },
     "metadata": {
      "needs_background": "light"
     },
     "output_type": "display_data"
    },
    {
     "data": {
      "image/png": "[encoded data removed]",
      "text/plain": [
       "<Figure size 1440x360 with 1 Axes>"
      ]
     },
     "metadata": {
      "needs_background": "light"
     },
     "output_type": "display_data"
    },
    {
     "data": {
      "image/png": "[encoded data removed]",
      "text/plain": [
       "<Figure size 1440x432 with 1 Axes>"
      ]
     },
     "metadata": {
      "needs_background": "light"
     },
     "output_type": "display_data"
    }
   ],
   "source": [
    "# Converting expected frequencies into percentages\n",
    "exp = pd.DataFrame(expected_freq_eth, index = ethnicity_contingency.index, columns = ethnicity_contingency.columns).apply(lambda x: x/sum(x))\n",
    "\n",
    "# Plotting the expected frequencies\n",
    "ax1 = exp.plot.bar(rot=90, figsize = (20,5))\n",
    "ax1.semilogy()\n",
    "ax1.set_title('Expected Frequencies')\n",
    "\n",
    "# Converting observed frequencies into percentages\n",
    "obs = pd.DataFrame(ethnicity_contingency).apply(lambda x: x/sum(x))\n",
    "\n",
    "# Plotting the observed frequencies\n",
    "ax2 = obs.plot.bar(rot=90, figsize = (20,5))\n",
    "ax2.semilogy()\n",
    "ax2.set_title('Observed Frequencies')\n",
    "\n",
    "# Getting difference between observed and expected frequencies in percentage\n",
    "y = 0*X_axis\n",
    "diff_eth = obs - exp\n",
    "\n",
    "# Plotting the difference\n",
    "ax3 = diff_eth.plot.bar(rot=90, figsize=(20,6))\n",
    "ax3.plot(X_axis*2,y,'-k')\n",
    "ax3.set_title('Difference between observed and expected frequencies')\n",
    "ax3.legend(loc='upper right')"
   ]
  },
  {
   "cell_type": "markdown",
   "id": "1fafe45a-0b81-4cc6-9173-061efbf6a561",
   "metadata": {
    "tags": []
   },
   "source": [
    "# 2 - Gender of the crew"
   ]
  },
  {
   "cell_type": "markdown",
   "id": "ab719082-6d74-4b28-9def-802b7570572e",
   "metadata": {
    "tags": []
   },
   "source": [
    "## 2.1 - Data preprocessing\n",
    "First, we need to process the data to get a dataframe that also contains the crew information."
   ]
  },
  {
   "cell_type": "code",
   "execution_count": 45,
   "id": "78138bfa",
   "metadata": {},
   "outputs": [
    {
     "data": {
      "application/vnd.jupyter.widget-view+json": {
       "model_id": "06b7d4c473ce46fabde034ad7ec28dd5",
       "version_major": 2,
       "version_minor": 0
      },
      "text/plain": [
       "  0%|          | 0/4284769 [00:00<?, ?it/s]"
      ]
     },
     "metadata": {},
     "output_type": "display_data"
    }
   ],
   "source": [
    "# Merge ImDB crew and movie info\n",
    "crew_title = pd.merge(crew_basic, movie_basics, on = 'tconst')\n",
    "crew_title.rename(columns = {'primaryTitle': 'name'}, inplace = True)\n",
    "\n",
    "# Duplicates in the crew_title dataset are deleted\n",
    "# Still difference with number of unique names -> group by name by aggregating to a list the other info\n",
    "crew_title = crew_title[['name', 'directors', 'writers']].drop_duplicates().groupby(\"name\").progress_aggregate(lambda x: tuple(x))\n",
    "movies_crew = movies_usa.merge(crew_title, on = 'name', how = 'inner')\n",
    "movies_crew = movies_crew.dropna()\n",
    "\n",
    "# Add gender to name dataset - \n",
    "# Use of the ImdB dataset to get info on director and not just use of the directors_sex because it hase multiple \n",
    "# directors per movies and contains info on writers as well. Also, it is a more reliable source\n",
    "directors_sex.rename(columns = {'director': 'primaryName'}, inplace = True)\n",
    "name_genders = pd.merge(name_basics, directors_sex[['primaryName', 'gender']], on = 'primaryName')"
   ]
  },
  {
   "cell_type": "code",
   "execution_count": 46,
   "id": "f1a232bd",
   "metadata": {},
   "outputs": [
    {
     "data": {
      "text/html": [
       "<div>\n",
       "<style scoped>\n",
       "    .dataframe tbody tr th:only-of-type {\n",
       "        vertical-align: middle;\n",
       "    }\n",
       "\n",
       "    .dataframe tbody tr th {\n",
       "        vertical-align: top;\n",
       "    }\n",
       "\n",
       "    .dataframe thead th {\n",
       "        text-align: right;\n",
       "    }\n",
       "</style>\n",
       "<table border=\"1\" class=\"dataframe\">\n",
       "  <thead>\n",
       "    <tr style=\"text-align: right;\">\n",
       "      <th></th>\n",
       "      <th>wiki_movieID</th>\n",
       "      <th>freebase_movieID</th>\n",
       "      <th>name</th>\n",
       "      <th>release</th>\n",
       "      <th>revenue</th>\n",
       "      <th>runtime</th>\n",
       "      <th>languages</th>\n",
       "      <th>countries</th>\n",
       "      <th>genres</th>\n",
       "      <th>directors</th>\n",
       "      <th>writers</th>\n",
       "    </tr>\n",
       "  </thead>\n",
       "  <tbody>\n",
       "    <tr>\n",
       "      <th>0</th>\n",
       "      <td>975900</td>\n",
       "      <td>/m/03vyhn</td>\n",
       "      <td>Ghosts of Mars</td>\n",
       "      <td>2001-08-24</td>\n",
       "      <td>14010832.0</td>\n",
       "      <td>98.0</td>\n",
       "      <td>{\"/m/02h40lc\": \"English Language\"}</td>\n",
       "      <td>{\"/m/09c7w0\": \"United States of America\"}</td>\n",
       "      <td>{\"/m/01jfsb\": \"Thriller\", \"/m/06n90\": \"Science...</td>\n",
       "      <td>(nm0000118, \\N, nm3973010)</td>\n",
       "      <td>(nm0837917,nm0000118, \\N, nm4270124,nm3973010,...</td>\n",
       "    </tr>\n",
       "  </tbody>\n",
       "</table>\n",
       "</div>"
      ],
      "text/plain": [
       "   wiki_movieID freebase_movieID            name     release     revenue  \\\n",
       "0        975900        /m/03vyhn  Ghosts of Mars  2001-08-24  14010832.0   \n",
       "\n",
       "   runtime                           languages  \\\n",
       "0     98.0  {\"/m/02h40lc\": \"English Language\"}   \n",
       "\n",
       "                                   countries  \\\n",
       "0  {\"/m/09c7w0\": \"United States of America\"}   \n",
       "\n",
       "                                              genres  \\\n",
       "0  {\"/m/01jfsb\": \"Thriller\", \"/m/06n90\": \"Science...   \n",
       "\n",
       "                    directors  \\\n",
       "0  (nm0000118, \\N, nm3973010)   \n",
       "\n",
       "                                             writers  \n",
       "0  (nm0837917,nm0000118, \\N, nm4270124,nm3973010,...  "
      ]
     },
     "execution_count": 46,
     "metadata": {},
     "output_type": "execute_result"
    }
   ],
   "source": [
    "movies_crew.head(1)"
   ]
  },
  {
   "cell_type": "code",
   "execution_count": 47,
   "id": "dca3b775",
   "metadata": {},
   "outputs": [
    {
     "name": "stdout",
     "output_type": "stream",
     "text": [
      "Total movies at beginning: 81741\n",
      "Total american movies: 34408\n",
      "After merge with crew info: 6623\n",
      "\n",
      "Samples lost to have info on crew/director: 27785\n"
     ]
    }
   ],
   "source": [
    "# Print info possibly lost \n",
    "print(f'Total movies at beginning: {len(movies_db)}')\n",
    "print(f'Total american movies: {len(movies_usa)}')\n",
    "print(f'After merge with crew info: {len(movies_crew)}')\n",
    "print(f'\\nSamples lost to have info on crew/director: {len(movies_usa) - len(movies_crew)}')"
   ]
  },
  {
   "cell_type": "code",
   "execution_count": 48,
   "id": "42b66e10",
   "metadata": {},
   "outputs": [
    {
     "data": {
      "application/vnd.jupyter.widget-view+json": {
       "model_id": "5e19e7bb508a460c9e1264a0c099a4c6",
       "version_major": 2,
       "version_minor": 0
      },
      "text/plain": [
       "  0%|          | 0/6623 [00:00<?, ?it/s]"
      ]
     },
     "metadata": {},
     "output_type": "display_data"
    }
   ],
   "source": [
    "# Add the presence of at least one women or all women in crew to DataFrame\n",
    "women = name_genders[name_genders['gender']=='female']['nconst']\n",
    "movies_crew['dir_one_fem'] = movies_crew['directors'].progress_apply(\n",
    "    lambda x: any(const_women == const_dir\n",
    "                  for directors in x\n",
    "                  for const_dir in directors.split(',')\n",
    "                  for const_women in women\n",
    "                 )) "
   ]
  },
  {
   "cell_type": "code",
   "execution_count": 49,
   "id": "bae70be5",
   "metadata": {},
   "outputs": [
    {
     "data": {
      "application/vnd.jupyter.widget-view+json": {
       "model_id": "93fbe7e5ade94a4c8893adbaaf88ae10",
       "version_major": 2,
       "version_minor": 0
      },
      "text/plain": [
       "  0%|          | 0/6623 [00:00<?, ?it/s]"
      ]
     },
     "metadata": {},
     "output_type": "display_data"
    }
   ],
   "source": [
    "movies_crew['dir_all_fem'] = movies_crew['directors'].progress_apply(\n",
    "    lambda x: all(const_women == const_dir\n",
    "                  for directors in x\n",
    "                  for const_dir in directors.split(',')\n",
    "                  for const_women in women\n",
    "                 )) "
   ]
  },
  {
   "cell_type": "code",
   "execution_count": 50,
   "id": "611295f7",
   "metadata": {},
   "outputs": [
    {
     "data": {
      "application/vnd.jupyter.widget-view+json": {
       "model_id": "7d6b97cd0f344f3cbba0b1bb3faea4c3",
       "version_major": 2,
       "version_minor": 0
      },
      "text/plain": [
       "  0%|          | 0/6623 [00:00<?, ?it/s]"
      ]
     },
     "metadata": {},
     "output_type": "display_data"
    }
   ],
   "source": [
    "movies_crew['wri_one_fem'] = movies_crew['writers'].progress_apply(\n",
    "    lambda x: any(const_women == const_wri\n",
    "                  for writers in x\n",
    "                  for const_wri in writers.split(',')\n",
    "                  for const_women in women\n",
    "                 )) "
   ]
  },
  {
   "cell_type": "code",
   "execution_count": 51,
   "id": "c9d351b6",
   "metadata": {},
   "outputs": [
    {
     "data": {
      "application/vnd.jupyter.widget-view+json": {
       "model_id": "4894ced9737e4c07a987a42aa9834961",
       "version_major": 2,
       "version_minor": 0
      },
      "text/plain": [
       "  0%|          | 0/6623 [00:00<?, ?it/s]"
      ]
     },
     "metadata": {},
     "output_type": "display_data"
    }
   ],
   "source": [
    "movies_crew['wri_all_fem'] = movies_crew['writers'].progress_apply(\n",
    "    lambda x: all(const_women == const_wri\n",
    "                  for writers in x\n",
    "                  for const_wri in writers.split(',')\n",
    "                  for const_women in women\n",
    "                 )) "
   ]
  },
  {
   "cell_type": "code",
   "execution_count": 52,
   "id": "cbaa9bc9",
   "metadata": {},
   "outputs": [
    {
     "data": {
      "text/html": [
       "<div>\n",
       "<style scoped>\n",
       "    .dataframe tbody tr th:only-of-type {\n",
       "        vertical-align: middle;\n",
       "    }\n",
       "\n",
       "    .dataframe tbody tr th {\n",
       "        vertical-align: top;\n",
       "    }\n",
       "\n",
       "    .dataframe thead th {\n",
       "        text-align: right;\n",
       "    }\n",
       "</style>\n",
       "<table border=\"1\" class=\"dataframe\">\n",
       "  <thead>\n",
       "    <tr style=\"text-align: right;\">\n",
       "      <th></th>\n",
       "      <th>wiki_movieID</th>\n",
       "      <th>freebase_movieID</th>\n",
       "      <th>name</th>\n",
       "      <th>release</th>\n",
       "      <th>revenue</th>\n",
       "      <th>runtime</th>\n",
       "      <th>languages</th>\n",
       "      <th>countries</th>\n",
       "      <th>genres</th>\n",
       "      <th>directors</th>\n",
       "      <th>writers</th>\n",
       "      <th>dir_one_fem</th>\n",
       "      <th>dir_all_fem</th>\n",
       "      <th>wri_one_fem</th>\n",
       "      <th>wri_all_fem</th>\n",
       "    </tr>\n",
       "  </thead>\n",
       "  <tbody>\n",
       "    <tr>\n",
       "      <th>0</th>\n",
       "      <td>975900</td>\n",
       "      <td>/m/03vyhn</td>\n",
       "      <td>Ghosts of Mars</td>\n",
       "      <td>2001-08-24</td>\n",
       "      <td>14010832.0</td>\n",
       "      <td>98.0</td>\n",
       "      <td>{\"/m/02h40lc\": \"English Language\"}</td>\n",
       "      <td>{\"/m/09c7w0\": \"United States of America\"}</td>\n",
       "      <td>{\"/m/01jfsb\": \"Thriller\", \"/m/06n90\": \"Science...</td>\n",
       "      <td>(nm0000118, \\N, nm3973010)</td>\n",
       "      <td>(nm0837917,nm0000118, \\N, nm4270124,nm3973010,...</td>\n",
       "      <td>False</td>\n",
       "      <td>False</td>\n",
       "      <td>False</td>\n",
       "      <td>False</td>\n",
       "    </tr>\n",
       "  </tbody>\n",
       "</table>\n",
       "</div>"
      ],
      "text/plain": [
       "   wiki_movieID freebase_movieID            name     release     revenue  \\\n",
       "0        975900        /m/03vyhn  Ghosts of Mars  2001-08-24  14010832.0   \n",
       "\n",
       "   runtime                           languages  \\\n",
       "0     98.0  {\"/m/02h40lc\": \"English Language\"}   \n",
       "\n",
       "                                   countries  \\\n",
       "0  {\"/m/09c7w0\": \"United States of America\"}   \n",
       "\n",
       "                                              genres  \\\n",
       "0  {\"/m/01jfsb\": \"Thriller\", \"/m/06n90\": \"Science...   \n",
       "\n",
       "                    directors  \\\n",
       "0  (nm0000118, \\N, nm3973010)   \n",
       "\n",
       "                                             writers  dir_one_fem  \\\n",
       "0  (nm0837917,nm0000118, \\N, nm4270124,nm3973010,...        False   \n",
       "\n",
       "   dir_all_fem  wri_one_fem  wri_all_fem  \n",
       "0        False        False        False  "
      ]
     },
     "execution_count": 52,
     "metadata": {},
     "output_type": "execute_result"
    }
   ],
   "source": [
    "movies_crew.head(1)"
   ]
  },
  {
   "cell_type": "markdown",
   "id": "df3ca4e1-7ad4-4b96-8aad-2b6148c83f2c",
   "metadata": {
    "tags": []
   },
   "source": [
    "## 2.2 -  Does the proportion of movies with women in the crew change with time ?"
   ]
  },
  {
   "cell_type": "markdown",
   "id": "d9c1acb3-e367-4bc6-9f02-a6d29d4478c8",
   "metadata": {},
   "source": [
    "### 2.2.1 - Yearly means"
   ]
  },
  {
   "cell_type": "code",
   "execution_count": 53,
   "id": "04907f88",
   "metadata": {},
   "outputs": [],
   "source": [
    "# Extract the year out of the date \n",
    "movies_crew['year'] = pd.to_datetime(movies_crew['release']).apply(lambda x: x.year)\n",
    "movies_crew = movies_crew.dropna()"
   ]
  },
  {
   "cell_type": "code",
   "execution_count": 54,
   "id": "00e750cd",
   "metadata": {},
   "outputs": [],
   "source": [
    "# Build specific DataFrames\n",
    "# For this part, wa refers to at least one woman, w to all women, m to all men\n",
    "\n",
    "# In terms of the directors\n",
    "movies_dir_wa = movies_crew[movies_crew['dir_one_fem']==True]\n",
    "movies_dir_w = movies_crew[movies_crew['dir_all_fem']==True]\n",
    "movies_dir_m = movies_crew[movies_crew['dir_one_fem']==False]\n",
    "\n",
    "# In terms of the writers\n",
    "movies_wri_wa = movies_crew[movies_crew['wri_one_fem']==True]\n",
    "movies_wri_w = movies_crew[movies_crew['wri_all_fem']==True]\n",
    "movies_wri_m = movies_crew[movies_crew['wri_one_fem']==False]\n",
    "\n",
    "# In terms of whole crew \n",
    "movies_crew['crew_one_fem'] = movies_crew['wri_one_fem'].apply(lambda x: int(x)) + movies_crew['dir_one_fem'].apply(lambda x: int(x)) > 0\n",
    "movies_wa = movies_crew[movies_crew['crew_one_fem']==True]\n",
    "movies_w = movies_crew[movies_crew['wri_all_fem']==True]\n",
    "movies_w = movies_w[movies_w['dir_all_fem']==True]\n",
    "movies_m = movies_crew[movies_crew['wri_one_fem']==False]\n",
    "movies_m = movies_m[movies_m['dir_one_fem']==False]"
   ]
  },
  {
   "cell_type": "code",
   "execution_count": 55,
   "id": "895fe664",
   "metadata": {
    "scrolled": true
   },
   "outputs": [
    {
     "name": "stdout",
     "output_type": "stream",
     "text": [
      "Number of movies directed by all women: 0 == 0.00% of total movies in dataset\n",
      "Number of movies directed by at least one woman: 396 == 5.98% of total movies in dataset\n",
      "Number of movies directed by all men: 6227 == 94.02% of total movies in dataset\n",
      "\n",
      "Number of movies written by all women: 0 == 0.00% of total movies in dataset\n",
      "Number of movies written by at least one woman: 278 == 4.20% of total movies in dataset\n",
      "Number of movies written by all men: 6345 == 95.80% of total movies in dataset\n",
      "\n",
      "Number of movies written and directed by women: 0 == 0.00% of total movies in dataset\n",
      "Number of movies written and directed by at least one woman: 515 == 7.78% of total movies in dataset\n",
      "Number of movies written and directed by all men: 6108 == 92.22% of total movies in dataset\n"
     ]
    }
   ],
   "source": [
    "tot = len(movies_crew)\n",
    "\n",
    "# Check proportions of women directors\n",
    "print('Number of movies directed by all women: ' + f\"{len(movies_dir_w)}\" + \" == \" + \"{:.2%}\".format(len(movies_dir_w) / tot) + \" of total movies in dataset\")\n",
    "print('Number of movies directed by at least one woman: ' + f\"{len(movies_dir_wa)}\" + \" == \" + \"{:.2%}\".format(len(movies_dir_wa) / tot) + \" of total movies in dataset\")\n",
    "print('Number of movies directed by all men: ' + f\"{len(movies_dir_m)}\" + \" == \" + \"{:.2%}\".format(len(movies_dir_m) / tot) +  \" of total movies in dataset\")\n",
    "\n",
    "# Check proportions of women writers\n",
    "print('\\nNumber of movies written by all women: ' + f\"{len(movies_wri_w)}\" + \" == \" + \"{:.2%}\".format(len(movies_wri_w) / tot) + \" of total movies in dataset\")\n",
    "print('Number of movies written by at least one woman: ' + f\"{len(movies_wri_wa)}\" + \" == \" + \"{:.2%}\".format(len(movies_wri_wa) / tot) + \" of total movies in dataset\")\n",
    "print('Number of movies written by all men: ' + f\"{len(movies_wri_m)}\" + \" == \" + \"{:.2%}\".format(len(movies_wri_m) / tot) + \" of total movies in dataset\")\n",
    "\n",
    "# Check proportions of women crew members\n",
    "print('\\nNumber of movies written and directed by women: ' + f\"{len(movies_w)}\" + \" == \" + \"{:.2%}\".format(len(movies_w) / tot) + \" of total movies in dataset\")\n",
    "print('Number of movies written and directed by at least one woman: ' + f\"{len(movies_wa)}\" + \" == \" + \"{:.2%}\".format(len(movies_wa) / tot) + \" of total movies in dataset\")\n",
    "print('Number of movies written and directed by all men: ' + f\"{len(movies_m)}\" + \" == \" + \"{:.2%}\".format(len(movies_m) / tot) + \" of total movies in dataset\")"
   ]
  },
  {
   "cell_type": "markdown",
   "id": "e9bae9cd-350a-4190-a5b0-fa67ba2f220c",
   "metadata": {},
   "source": [
    "### 2.2.2 - Plot the yearly evolution"
   ]
  },
  {
   "cell_type": "code",
   "execution_count": 56,
   "id": "dd2adf0a",
   "metadata": {},
   "outputs": [],
   "source": [
    "# Yearly releases of movies \n",
    "tot = movies_crew.groupby('year').aggregate('count')['wiki_movieID']\n",
    "\n",
    "# Yearly releases of movies directed by men/women \n",
    "plot_w_d = movies_crew.groupby('year').aggregate(sum)['dir_all_fem'] \n",
    "plot_wa_d = movies_crew.groupby('year').aggregate(sum)['dir_one_fem'] \n",
    "\n",
    "# Yearly releases of movies written by men/women \n",
    "plot_w_w = movies_crew.groupby('year').aggregate(sum)['wri_all_fem']\n",
    "plot_wa_w = movies_crew.groupby('year').aggregate(sum)['wri_one_fem']\n",
    "\n",
    "# Yearly releases of movies containing at least one woman in the crew\n",
    "plot_wa = movies_crew.groupby('year').aggregate(sum)['crew_one_fem']  \n",
    "plot_m = tot - plot_wa"
   ]
  },
  {
   "cell_type": "code",
   "execution_count": 57,
   "id": "96fc5118",
   "metadata": {},
   "outputs": [
    {
     "data": {
      "image/png": "[encoded data removed]",
      "text/plain": [
       "<Figure size 432x288 with 1 Axes>"
      ]
     },
     "metadata": {
      "needs_background": "light"
     },
     "output_type": "display_data"
    }
   ],
   "source": [
    "# Plotting these percentages\n",
    "plt.plot(plot_wa_d.index, plot_wa_d/tot*100)\n",
    "plt.plot(plot_wa_w.index, plot_wa_w/tot*100)\n",
    "plt.plot(plot_wa.index, plot_wa/tot*100)\n",
    "plt.legend(['At least one woman director', 'At least one woman writer', 'At least one woman in the crew'])\n",
    "plt.title('Percentage of movies with women in the crew through the years')\n",
    "plt.xlabel('Year')\n",
    "plt.ylabel('Percentage of movies')\n",
    "plt.show()"
   ]
  },
  {
   "cell_type": "markdown",
   "id": "afa1e095-20a7-4973-89ad-6d46ed2474e3",
   "metadata": {},
   "source": [
    "### 2.2.3 -  Statstical tests\n",
    "To look at the impact of the gender of the crew on the number of movies we will use the Mann Whitney U test. \n",
    "\n",
    "The Mann-Whitney U test is a nonparametric test of the null hypothesis that the distribution underlying sample x is the same as the distribution underlying sample y. It is often used as a test of difference in location between distributions."
   ]
  },
  {
   "cell_type": "code",
   "execution_count": 58,
   "id": "5fc7043e",
   "metadata": {},
   "outputs": [
    {
     "name": "stdout",
     "output_type": "stream",
     "text": [
      "MannwhitneyuResult(statistic=1016.5, pvalue=5.688230337318429e-20)\n",
      "The p-value is under 0.05 so there we can significantly reject the null hypothesis. \n",
      "The two distributions are statistically different.\n"
     ]
    }
   ],
   "source": [
    "result = stats.mannwhitneyu(plot_wa, plot_m)\n",
    "print(result)\n",
    "print('The p-value is under 0.05 so there we can significantly reject the null hypothesis. \\nThe two distributions are statistically different.')"
   ]
  },
  {
   "cell_type": "markdown",
   "id": "472babcf-31fa-48b8-8d20-aa17413b2015",
   "metadata": {},
   "source": [
    "Next, we want to check if the proportion of women in the crew changes with time. This means that we need to test if the time-series is stationnary, meaning that the mean and variance are constant with time and that there is a constant covariance between periods of identical distance. For this, we use an ADF-Test. The null hypothesis is that the time-serie is not stationary. Hence, this test will not confirm that the time-series is not stationary, it will just tell us if we can reject this hypothesis.   "
   ]
  },
  {
   "cell_type": "code",
   "execution_count": 59,
   "id": "108bca3c",
   "metadata": {},
   "outputs": [
    {
     "name": "stdout",
     "output_type": "stream",
     "text": [
      "(1.0656587124422596, 0.9949126093466334, 11, 82, {'1%': -3.512738056978279, '5%': -2.8974898650628984, '10%': -2.585948732897085}, 395.00840769103934)\n",
      "p-value = 0.995 > 0.05\n"
     ]
    }
   ],
   "source": [
    "result = sts.adfuller(plot_wa)\n",
    "print(result)\n",
    "print(f'p-value = {0.995} > 0.05')"
   ]
  },
  {
   "cell_type": "markdown",
   "id": "a2c6fb12-5640-4f96-b5b1-d2080f1a0c01",
   "metadata": {},
   "source": [
    "The p-value is higher than 0.05, therefore **we cannot reject the hypothesis that this time-series is stationary**"
   ]
  },
  {
   "cell_type": "code",
   "execution_count": 60,
   "id": "a40aa815",
   "metadata": {},
   "outputs": [
    {
     "name": "stdout",
     "output_type": "stream",
     "text": [
      "(-4.491996303059679, 0.00020329271109391212, 0, 26, {'1%': -3.7112123008648155, '5%': -2.981246804733728, '10%': -2.6300945562130176}, 110.84838421774963)\n",
      "p-value = 0.0002 < 0.05\n"
     ]
    }
   ],
   "source": [
    "# Let us now try with a subset of the dataset, namely the movies that were released after 1985\n",
    "result = sts.adfuller(plot_wa[plot_wa.index>1985])\n",
    "print(result)\n",
    "print(f'p-value = {0.0002} < 0.05')"
   ]
  },
  {
   "cell_type": "markdown",
   "id": "2bdc1241-cb38-40ea-9c05-d05825aca918",
   "metadata": {},
   "source": [
    "The p-value is lower than 0.05, therefore **we can reject the hypothesis that this time-series is stationary.**\n",
    "\n",
    "In fact, there has been no evolution of the proportion of woman in the crew since 1985"
   ]
  },
  {
   "cell_type": "markdown",
   "id": "ac1588c1-b1ce-43e4-b299-9df18a14348b",
   "metadata": {
    "tags": []
   },
   "source": [
    "# 3 - Revenue comparisons \n",
    "\n",
    "Finally, we will answer these questions: \n",
    "\n",
    "Is there a noticeable difference in revenue for movies that portray some particular genre? Is there a noticeable difference in revenue for movies created by women ?\n",
    "\n",
    "We will not look at the statistical difference for ethnicities as there are not enough minorities samples. However, the impact of main character being white or not will be measured in part 4.3. \n",
    "\n",
    "To look at the impact of the gender on the revenue we will use the Mann Whitney U test. The Mann-Whitney U test is a nonparametric test of the null hypothesis that the distribution underlying sample x is the same as the distribution underlying sample y. It is often used as a test of difference in location between distributions."
   ]
  },
  {
   "cell_type": "markdown",
   "id": "322ba166-c4f6-43bd-afde-a9d7c4f8b0be",
   "metadata": {},
   "source": [
    "## 3.1 - In terms of the gender of the main actor"
   ]
  },
  {
   "cell_type": "markdown",
   "id": "e6caf322-fcc9-4604-a9d0-bcb9b11a14d4",
   "metadata": {},
   "source": [
    "### 3.1.1 - Naïve approach"
   ]
  },
  {
   "cell_type": "code",
   "execution_count": 61,
   "id": "c2415be6",
   "metadata": {},
   "outputs": [
    {
     "name": "stdout",
     "output_type": "stream",
     "text": [
      "We have 1195 movies starring women and 3733 movies starring men.\n"
     ]
    }
   ],
   "source": [
    "# Building the DataFrames to work on for this part of the analysis \n",
    "gender = movies_usa_gender.copy()\n",
    "female = gender[gender['gender']=='F']\n",
    "male = gender[gender['gender']=='M']\n",
    "print(f\"We have {len(female)} movies starring women and {len(male)} movies starring men.\")"
   ]
  },
  {
   "cell_type": "code",
   "execution_count": 62,
   "id": "4b137753",
   "metadata": {},
   "outputs": [
    {
     "data": {
      "text/plain": [
       "count    9.890000e+02\n",
       "mean     5.853681e+07\n",
       "std      9.051694e+07\n",
       "min      1.333000e+04\n",
       "25%      7.828841e+06\n",
       "50%      2.628554e+07\n",
       "75%      6.978766e+07\n",
       "max      1.024300e+09\n",
       "Name: revenue, dtype: float64"
      ]
     },
     "execution_count": 62,
     "metadata": {},
     "output_type": "execute_result"
    }
   ],
   "source": [
    "female.revenue.describe()"
   ]
  },
  {
   "cell_type": "code",
   "execution_count": 63,
   "id": "d8359070",
   "metadata": {},
   "outputs": [
    {
     "data": {
      "text/plain": [
       "count    3.132000e+03\n",
       "mean     8.528242e+07\n",
       "std      1.559382e+08\n",
       "min      1.327600e+04\n",
       "25%      9.796496e+06\n",
       "50%      2.938607e+07\n",
       "75%      9.284595e+07\n",
       "max      2.782275e+09\n",
       "Name: revenue, dtype: float64"
      ]
     },
     "execution_count": 63,
     "metadata": {},
     "output_type": "execute_result"
    }
   ],
   "source": [
    "male.revenue.describe()"
   ]
  },
  {
   "cell_type": "code",
   "execution_count": 64,
   "id": "1ae06360",
   "metadata": {},
   "outputs": [
    {
     "data": {
      "image/png": "[encoded data removed]",
      "text/plain": [
       "<Figure size 1080x360 with 1 Axes>"
      ]
     },
     "metadata": {
      "needs_background": "light"
     },
     "output_type": "display_data"
    }
   ],
   "source": [
    "# Let's look at movie revenue differences between male and female movie stars\n",
    "female = gender[gender['gender']=='F']\n",
    "male = gender[gender['gender']=='M']\n",
    "\n",
    "plt.figure(figsize=(15,5))\n",
    "ax = sns.histplot(female['revenue'], kde=True, stat='density', color='purple', label='female')\n",
    "ax = sns.histplot(male['revenue'], kde=True, stat='density', color='blue', label='male')\n",
    "ax.set(title='Movie Revenue distribution for male and female stars',xlabel='Revenue', ylabel='Revenue density')\n",
    "plt.legend()\n",
    "plt.semilogx()\n",
    "plt.show()"
   ]
  },
  {
   "cell_type": "markdown",
   "id": "243a2072-022c-49b1-9f81-c694837e0bd4",
   "metadata": {},
   "source": [
    "The mean revenue of movies starring women is about 5.8 million dollars and the mean revenue of movies starring men is about 8.5 million dollars. With a naive analysis, **it looks like movies with male protagonists earn more revenue.**"
   ]
  },
  {
   "cell_type": "markdown",
   "id": "73140b7b-185a-42ab-9a1c-a3ad7f93cd6a",
   "metadata": {},
   "source": [
    "Let us investigate wether or not this difference is significant with a statistical test. These distributions are not normally distributed, so we cannot use a t-test which is a parametric statistical test. We can use a non-parametric equivalent which is the Mann–Whitney U test. The variable we are analysing (revenue) is continuous, revenue observations from male and female movie groups are independent of each other, and the variable of intrest is skewed.\n",
    "\n",
    "The null hypothesis (H0) in conducting the Mann–Whitney U test is that the revenue for movies with male versus female protagonists are equal. With the alternative hypothesis being that they are different. Our significance level for this test (alpha) is chosen to be 0.05."
   ]
  },
  {
   "cell_type": "code",
   "execution_count": 66,
   "id": "5c6831e8",
   "metadata": {},
   "outputs": [
    {
     "name": "stdout",
     "output_type": "stream",
     "text": [
      "MannwhitneyuResult(statistic=1979521.0, pvalue=8.06845962460493e-06)\n",
      "Movies portraying men have a 150.0% higher budget on average.\n"
     ]
    }
   ],
   "source": [
    "revenue_F = list(female['gross'].dropna())\n",
    "revenue_M = list(male['gross'].dropna())\n",
    "result = stats.mannwhitneyu(revenue_F, revenue_M)\n",
    "\n",
    "print(result)\n",
    "print(f\"Movies portraying men have a {round(male['gross'].mean()/female['gross'].mean(),2)*100}% higher budget on average.\")"
   ]
  },
  {
   "cell_type": "markdown",
   "id": "6cfb830f-9dda-47bd-8d5b-ddb4b62d7af9",
   "metadata": {},
   "source": [
    "The p-value is much smaller than 0.05, hence, **we can reject the hull hypothesis that there is no difference between the movie revenue for movies portraying male versus female actors.** Movies portraying men earn significantly more than movies portraying women. "
   ]
  },
  {
   "cell_type": "markdown",
   "id": "4330bd34-2bde-4049-8fea-f05236e7bbc0",
   "metadata": {},
   "source": [
    "However, we already know that there is a correlation between budget and revenue for movies. Some movie genres could also be more popular than others, the revenue of a movie can also depend on it's score... All these variables could be confounders that influence the revenue of a movie as well as wether or not the protagonist is a male or female. So let's check if this difference in revenue isn't because of a lower spending budget, or some other factor to begin with."
   ]
  },
  {
   "cell_type": "markdown",
   "id": "16224092-7078-487d-8895-eb7940fb153e",
   "metadata": {},
   "source": [
    "### 3.1.2 - Robust analysis with propensity score matching "
   ]
  },
  {
   "cell_type": "markdown",
   "id": "74379264-ecb0-4fa4-a10d-6d210e23bcc7",
   "metadata": {},
   "source": [
    "Our first job is to look at wether or not there could be some confounding factors affecting the revenue of the movie and the gender of the movie star. These could be the genre of the movie, the score of the movie, the budget of the movie or the year of release of the movie. We will investigate the features one by one."
   ]
  },
  {
   "cell_type": "code",
   "execution_count": 67,
   "id": "188d9b08",
   "metadata": {},
   "outputs": [
    {
     "data": {
      "text/html": [
       "<div>\n",
       "<style scoped>\n",
       "    .dataframe tbody tr th:only-of-type {\n",
       "        vertical-align: middle;\n",
       "    }\n",
       "\n",
       "    .dataframe tbody tr th {\n",
       "        vertical-align: top;\n",
       "    }\n",
       "\n",
       "    .dataframe thead th {\n",
       "        text-align: right;\n",
       "    }\n",
       "</style>\n",
       "<table border=\"1\" class=\"dataframe\">\n",
       "  <thead>\n",
       "    <tr style=\"text-align: right;\">\n",
       "      <th></th>\n",
       "      <th>wiki_movieID</th>\n",
       "      <th>freebase_movieID_x</th>\n",
       "      <th>name</th>\n",
       "      <th>release</th>\n",
       "      <th>revenue</th>\n",
       "      <th>runtime</th>\n",
       "      <th>languages</th>\n",
       "      <th>countries</th>\n",
       "      <th>genres</th>\n",
       "      <th>rating</th>\n",
       "      <th>...</th>\n",
       "      <th>company</th>\n",
       "      <th>freebase_movieID_y</th>\n",
       "      <th>char_name</th>\n",
       "      <th>dob</th>\n",
       "      <th>gender</th>\n",
       "      <th>height</th>\n",
       "      <th>ethnicity</th>\n",
       "      <th>act_name</th>\n",
       "      <th>age_amr</th>\n",
       "      <th>freebase_charmap</th>\n",
       "    </tr>\n",
       "  </thead>\n",
       "  <tbody>\n",
       "    <tr>\n",
       "      <th>0</th>\n",
       "      <td>975900</td>\n",
       "      <td>/m/03vyhn</td>\n",
       "      <td>Ghosts of Mars</td>\n",
       "      <td>2001-08-24</td>\n",
       "      <td>14010832.0</td>\n",
       "      <td>98.0</td>\n",
       "      <td>{\"/m/02h40lc\": \"English Language\"}</td>\n",
       "      <td>{\"/m/09c7w0\": \"United States of America\"}</td>\n",
       "      <td>{\"/m/01jfsb\": \"Thriller\", \"/m/06n90\": \"Science...</td>\n",
       "      <td>R</td>\n",
       "      <td>...</td>\n",
       "      <td>Screen Gems</td>\n",
       "      <td>/m/03vyhn</td>\n",
       "      <td>Lieutenant Melanie Ballard</td>\n",
       "      <td>1974-08-15</td>\n",
       "      <td>F</td>\n",
       "      <td>1.78</td>\n",
       "      <td>/m/044038p</td>\n",
       "      <td>Natasha Henstridge</td>\n",
       "      <td>27.0</td>\n",
       "      <td>/m/0jys3m</td>\n",
       "    </tr>\n",
       "  </tbody>\n",
       "</table>\n",
       "<p>1 rows × 31 columns</p>\n",
       "</div>"
      ],
      "text/plain": [
       "   wiki_movieID freebase_movieID_x            name     release     revenue  \\\n",
       "0        975900          /m/03vyhn  Ghosts of Mars  2001-08-24  14010832.0   \n",
       "\n",
       "   runtime                           languages  \\\n",
       "0     98.0  {\"/m/02h40lc\": \"English Language\"}   \n",
       "\n",
       "                                   countries  \\\n",
       "0  {\"/m/09c7w0\": \"United States of America\"}   \n",
       "\n",
       "                                              genres rating  ...      company  \\\n",
       "0  {\"/m/01jfsb\": \"Thriller\", \"/m/06n90\": \"Science...      R  ...  Screen Gems   \n",
       "\n",
       "   freebase_movieID_y                   char_name         dob  gender height  \\\n",
       "0           /m/03vyhn  Lieutenant Melanie Ballard  1974-08-15       F   1.78   \n",
       "\n",
       "    ethnicity            act_name age_amr  freebase_charmap  \n",
       "0  /m/044038p  Natasha Henstridge    27.0         /m/0jys3m  \n",
       "\n",
       "[1 rows x 31 columns]"
      ]
     },
     "execution_count": 67,
     "metadata": {},
     "output_type": "execute_result"
    }
   ],
   "source": [
    "# Creating data frame for further analysis\n",
    "gender = movies_usa_gender.copy()\n",
    "gender.head(1)"
   ]
  },
  {
   "cell_type": "code",
   "execution_count": 68,
   "id": "f5df7ae0",
   "metadata": {},
   "outputs": [
    {
     "data": {
      "image/png": "[encoded data removed]",
      "text/plain": [
       "<Figure size 360x360 with 1 Axes>"
      ]
     },
     "metadata": {
      "needs_background": "light"
     },
     "output_type": "display_data"
    }
   ],
   "source": [
    "# Let's look at the movie score distribution by gender of main character\n",
    "gender.boxplot(by='gender', column='score', figsize = [5, 5], grid=True)\n",
    "plt.show()"
   ]
  },
  {
   "cell_type": "markdown",
   "id": "4cea6c27-a183-4707-b933-58d65ec85a2c",
   "metadata": {},
   "source": [
    "Movies that portray men have a higher scores on average."
   ]
  },
  {
   "cell_type": "code",
   "execution_count": 69,
   "id": "137d3b43",
   "metadata": {},
   "outputs": [
    {
     "data": {
      "image/png": "[encoded data removed]",
      "text/plain": [
       "<Figure size 360x360 with 1 Axes>"
      ]
     },
     "metadata": {
      "needs_background": "light"
     },
     "output_type": "display_data"
    }
   ],
   "source": [
    "# Let's look at the release year of movies as a function of the gender of the movie star\n",
    "gender.boxplot(by='gender', column='year', figsize = [5, 5], grid=True)\n",
    "plt.show()"
   ]
  },
  {
   "cell_type": "markdown",
   "id": "def623c3-31ef-443c-92d7-33b66ff32155",
   "metadata": {},
   "source": [
    "Recently released movies are more likely to portray women than older movies."
   ]
  },
  {
   "cell_type": "code",
   "execution_count": 70,
   "id": "4f1588df",
   "metadata": {},
   "outputs": [
    {
     "data": {
      "image/png": "[encoded data removed]",
      "text/plain": [
       "<Figure size 432x288 with 1 Axes>"
      ]
     },
     "metadata": {
      "needs_background": "light"
     },
     "output_type": "display_data"
    }
   ],
   "source": [
    "# Let's look at movie budget differences between male and female movie stars\n",
    "female = gender[gender['gender']=='F']\n",
    "male = gender[gender['gender']=='M']\n",
    "ax = sns.histplot(female['budget'], kde=True, stat='density', color='purple', label='female')\n",
    "ax = sns.histplot(male['budget'], kde=True, stat='density', color='blue', label='male')\n",
    "ax.set(title='Movie Budget distribution for male and female protagonists',xlabel='Budget', ylabel='Budget density')\n",
    "plt.legend()\n",
    "plt.show()"
   ]
  },
  {
   "cell_type": "markdown",
   "id": "92cae786-edff-49c3-baeb-b17c3c9bdbac",
   "metadata": {},
   "source": [
    "Women seem to star in movies that have a smaller budget to begin with, which could in turn impact the revenue of the movie. This can also be a confounding factor in our analysis. \n",
    "\n",
    "Let's investigate if this difference is significant. These distributions are not normally distributed, so we cannot use a t-test which is a parametric statistical test. We can use a non-parametric equivalent which is the Mann–Whitney U test. The variable we are analysing (revenue) is continuous, revenue observations from male and female movie groups are independent of each other, and the variable of intrest is skewed.\n",
    "\n",
    "The null hypothesis is that there is no significant difference in budget for movies who portray female actors versus male actors. Alternative hypothesis is that there is a significant difference."
   ]
  },
  {
   "cell_type": "code",
   "execution_count": 71,
   "id": "ce2aeedf",
   "metadata": {},
   "outputs": [
    {
     "name": "stdout",
     "output_type": "stream",
     "text": [
      "MannwhitneyuResult(statistic=1170414.0, pvalue=3.91957160816077e-11)\n",
      "Movies portraying men have a 139.0% higher budget on average.\n"
     ]
    }
   ],
   "source": [
    "# Create lists of budgets of female and male movies \n",
    "budget_F = list(female['budget'].dropna())\n",
    "budget_M = list(male['budget'].dropna())\n",
    "\n",
    "# Run Mann Whitney U test\n",
    "result = stats.mannwhitneyu(budget_F, budget_M)\n",
    "print(result)\n",
    "print(f\"Movies portraying men have a {round(male['budget'].mean()/female['budget'].mean(),2)*100}% higher budget on average.\")"
   ]
  },
  {
   "cell_type": "markdown",
   "id": "91716ce0-a06a-420e-951f-41ab85e0d903",
   "metadata": {},
   "source": [
    "The p-value for this test is much smaller than 0.05. Hence, **we reject the hull hypothesis that there is no significant difference in budget for movies who portray female actors versus male actors.**"
   ]
  },
  {
   "cell_type": "code",
   "execution_count": 72,
   "id": "80b14a61",
   "metadata": {},
   "outputs": [
    {
     "data": {
      "image/png": "[encoded data removed]",
      "text/plain": [
       "<Figure size 1080x288 with 1 Axes>"
      ]
     },
     "metadata": {
      "needs_background": "light"
     },
     "output_type": "display_data"
    }
   ],
   "source": [
    "# Visualise the difference between stars' genders for movie genres\n",
    "gender_contingency = pd.crosstab(movies_usa_gender['gender'],\n",
    "                            movies_usa_gender['genre'],\n",
    "                                margins = False)\n",
    "X = movies_usa_gender['genre'].unique()\n",
    "Y_female = gender_contingency.loc['F',:]\n",
    "Y_male = gender_contingency.loc['M',:]\n",
    "X_axis = np.arange(len(X))\n",
    "\n",
    "plt.figure(figsize=(15,4))\n",
    "plt.bar(X_axis-0.2, Y_female, 0.4, label = 'Female', color = 'orchid')\n",
    "plt.bar(X_axis+0.2, Y_male, 0.4, label = 'Male', color = 'royalblue')\n",
    "\n",
    "plt.xticks(X_axis, X, rotation = 90)\n",
    "plt.xlabel(\"Genres\")\n",
    "plt.ylabel(\"Number of lead roles\")\n",
    "plt.title(\"Lead role gender by movie genre\")\n",
    "plt.legend()\n",
    "plt.show()"
   ]
  },
  {
   "cell_type": "markdown",
   "id": "259dd72c-0403-41fe-8d64-bc863f665dbd",
   "metadata": {},
   "source": [
    "From the analysis done in the previous part, we know that women are more likely to star in Horror, Drama and Comedy movies, but less likely to star in Action, Crime, or Animation movies. Hence, the genre of the movie could also be a confounding factor in the movie revenue (outcome)."
   ]
  },
  {
   "cell_type": "code",
   "execution_count": 73,
   "id": "771e19cc",
   "metadata": {},
   "outputs": [
    {
     "data": {
      "text/html": [
       "<div>\n",
       "<style scoped>\n",
       "    .dataframe tbody tr th:only-of-type {\n",
       "        vertical-align: middle;\n",
       "    }\n",
       "\n",
       "    .dataframe tbody tr th {\n",
       "        vertical-align: top;\n",
       "    }\n",
       "\n",
       "    .dataframe thead th {\n",
       "        text-align: right;\n",
       "    }\n",
       "</style>\n",
       "<table border=\"1\" class=\"dataframe\">\n",
       "  <thead>\n",
       "    <tr style=\"text-align: right;\">\n",
       "      <th></th>\n",
       "      <th>wiki_movieID</th>\n",
       "      <th>freebase_movieID_x</th>\n",
       "      <th>name</th>\n",
       "      <th>release</th>\n",
       "      <th>revenue</th>\n",
       "      <th>runtime</th>\n",
       "      <th>languages</th>\n",
       "      <th>countries</th>\n",
       "      <th>genres</th>\n",
       "      <th>rating</th>\n",
       "      <th>...</th>\n",
       "      <th>genre_Crime</th>\n",
       "      <th>genre_Drama</th>\n",
       "      <th>genre_Family</th>\n",
       "      <th>genre_Fantasy</th>\n",
       "      <th>genre_Horror</th>\n",
       "      <th>genre_Mystery</th>\n",
       "      <th>genre_Romance</th>\n",
       "      <th>genre_Sci-Fi</th>\n",
       "      <th>genre_Thriller</th>\n",
       "      <th>genre_Western</th>\n",
       "    </tr>\n",
       "  </thead>\n",
       "  <tbody>\n",
       "    <tr>\n",
       "      <th>0</th>\n",
       "      <td>975900</td>\n",
       "      <td>/m/03vyhn</td>\n",
       "      <td>Ghosts of Mars</td>\n",
       "      <td>2001-08-24</td>\n",
       "      <td>14010832.0</td>\n",
       "      <td>-8.259568</td>\n",
       "      <td>{\"/m/02h40lc\": \"English Language\"}</td>\n",
       "      <td>{\"/m/09c7w0\": \"United States of America\"}</td>\n",
       "      <td>{\"/m/01jfsb\": \"Thriller\", \"/m/06n90\": \"Science...</td>\n",
       "      <td>R</td>\n",
       "      <td>...</td>\n",
       "      <td>0</td>\n",
       "      <td>0</td>\n",
       "      <td>0</td>\n",
       "      <td>0</td>\n",
       "      <td>0</td>\n",
       "      <td>0</td>\n",
       "      <td>0</td>\n",
       "      <td>0</td>\n",
       "      <td>0</td>\n",
       "      <td>0</td>\n",
       "    </tr>\n",
       "  </tbody>\n",
       "</table>\n",
       "<p>1 rows × 45 columns</p>\n",
       "</div>"
      ],
      "text/plain": [
       "   wiki_movieID freebase_movieID_x            name     release     revenue  \\\n",
       "0        975900          /m/03vyhn  Ghosts of Mars  2001-08-24  14010832.0   \n",
       "\n",
       "    runtime                           languages  \\\n",
       "0 -8.259568  {\"/m/02h40lc\": \"English Language\"}   \n",
       "\n",
       "                                   countries  \\\n",
       "0  {\"/m/09c7w0\": \"United States of America\"}   \n",
       "\n",
       "                                              genres rating  ...  genre_Crime  \\\n",
       "0  {\"/m/01jfsb\": \"Thriller\", \"/m/06n90\": \"Science...      R  ...            0   \n",
       "\n",
       "  genre_Drama  genre_Family  genre_Fantasy genre_Horror genre_Mystery  \\\n",
       "0           0             0              0            0             0   \n",
       "\n",
       "  genre_Romance genre_Sci-Fi  genre_Thriller  genre_Western  \n",
       "0             0            0               0              0  \n",
       "\n",
       "[1 rows x 45 columns]"
      ]
     },
     "execution_count": 73,
     "metadata": {},
     "output_type": "execute_result"
    }
   ],
   "source": [
    "# Propensity score matching \n",
    "# Our features are: genre, rating, year, budget\n",
    "\n",
    "# Make dummy variables for movie genres\n",
    "gender = pd.get_dummies(gender, columns=['genre'])\n",
    "gender['gender'] = gender['gender'].apply(lambda x: 1 if x=='F' else 0)\n",
    "gender.head(1)\n",
    "\n",
    "# Standardize continuous features\n",
    "gender['score'] = (gender['score'] - gender['score'].mean())/gender['score'].std()\n",
    "gender['year'] = (gender['year'] - gender['year'].mean())/gender['year'].std()\n",
    "gender['budget'] = (gender['budget'] - gender['budget'].mean())/gender['score'].std()\n",
    "gender['runtime'] = (gender['runtime'] - gender['runtime'].mean())/gender['score'].std()\n",
    "\n",
    "# Drop movies without any budget information\n",
    "gender = gender.dropna(subset=['budget'])\n",
    "\n",
    "gender.head(1)"
   ]
  },
  {
   "cell_type": "code",
   "execution_count": 74,
   "id": "fd1a1962",
   "metadata": {},
   "outputs": [
    {
     "name": "stdout",
     "output_type": "stream",
     "text": [
      "Optimization terminated successfully.\n",
      "         Current function value: 0.491413\n",
      "         Iterations 6\n",
      "                           Logit Regression Results                           \n",
      "==============================================================================\n",
      "Dep. Variable:                 gender   No. Observations:                 3939\n",
      "Model:                          Logit   Df Residuals:                     3925\n",
      "Method:                           MLE   Df Model:                           13\n",
      "Date:                Fri, 23 Dec 2022   Pseudo R-squ.:                 0.08773\n",
      "Time:                        21:47:48   Log-Likelihood:                -1935.7\n",
      "converged:                       True   LL-Null:                       -2121.8\n",
      "Covariance Type:            nonrobust   LLR p-value:                 1.560e-71\n",
      "===================================================================================\n",
      "                      coef    std err          z      P>|z|      [0.025      0.975]\n",
      "-----------------------------------------------------------------------------------\n",
      "Intercept          -0.7090      0.508     -1.396      0.163      -1.705       0.287\n",
      "score              -0.2858      0.041     -7.024      0.000      -0.366      -0.206\n",
      "year                0.3282      0.044      7.419      0.000       0.242       0.415\n",
      "budget          -6.782e-09   1.59e-09     -4.252      0.000   -9.91e-09   -3.66e-09\n",
      "genre_Action       -1.6904      0.522     -3.241      0.001      -2.713      -0.668\n",
      "genre_Adventure    -0.7443      0.535     -1.392      0.164      -1.793       0.304\n",
      "genre_Animation    -0.9612      0.557     -1.725      0.084      -2.053       0.131\n",
      "genre_Biography    -0.4299      0.541     -0.794      0.427      -1.491       0.631\n",
      "genre_Comedy       -0.3332      0.512     -0.651      0.515      -1.337       0.670\n",
      "genre_Crime        -0.8262      0.529     -1.563      0.118      -1.862       0.210\n",
      "genre_Drama        -0.0465      0.515     -0.090      0.928      -1.057       0.964\n",
      "genre_Fantasy      -0.3109      0.648     -0.480      0.632      -1.582       0.960\n",
      "genre_Horror        0.2674      0.531      0.503      0.615      -0.774       1.309\n",
      "genre_Mystery      -0.3010      0.778     -0.387      0.699      -1.825       1.223\n",
      "===================================================================================\n"
     ]
    }
   ],
   "source": [
    "# Rename sci-fi column to avoid error in logistic regression\n",
    "gender.rename(columns = {'genre_Sci-Fi':'genre_SciFi'}, inplace = True)\n",
    "\n",
    "# Run logistic regression to predict propensity score\n",
    "mod = smf.logit(formula='gender ~  score + year + budget + genre_Action  + genre_Adventure + genre_Animation + \\\n",
    "        + genre_Biography + genre_Comedy + genre_Crime + genre_Drama +  genre_Fantasy \\\n",
    "        + genre_Horror + genre_Mystery', data=gender)\n",
    "\n",
    "res = mod.fit()\n",
    "\n",
    "# Extract the estimated propensity scores\n",
    "gender['Propensity_score'] = res.predict()\n",
    "\n",
    "print(res.summary())"
   ]
  },
  {
   "cell_type": "code",
   "execution_count": 75,
   "id": "4ddd1ad4",
   "metadata": {},
   "outputs": [],
   "source": [
    "def get_similarity(propensity_score1, propensity_score2):\n",
    "    '''Calculate similarity for instances with given propensity scores'''\n",
    "    return 1-np.abs(propensity_score1-propensity_score2)"
   ]
  },
  {
   "cell_type": "code",
   "execution_count": 76,
   "id": "af6c1b7c-d6ed-4d7f-8bfb-fca3fbcceec4",
   "metadata": {},
   "outputs": [
    {
     "name": "stdout",
     "output_type": "stream",
     "text": [
      "1804\n"
     ]
    }
   ],
   "source": [
    "# Let's balance the datasets further by doing exact matching on the movie genre\n",
    "\n",
    "# The actual matching (below) does not have to be run each time as it is very long, the dataframe is saved and loaded\n",
    "balanced_df_genre = pd.read_csv(path + \"balanced_df_genre.csv\")\n",
    "print(len(balanced_df_genre))"
   ]
  },
  {
   "cell_type": "code",
   "execution_count": 77,
   "id": "22b5db5d",
   "metadata": {},
   "outputs": [],
   "source": [
    "'''# Separate the treatment and control groups\n",
    "female = gender[gender['gender'] == 1]\n",
    "male = gender[gender['gender'] == 0]\n",
    "\n",
    "# Create an empty undirected graph\n",
    "G = nx.Graph()\n",
    "\n",
    "# Loop through all the pairs of instances\n",
    "for male_id, male_row in male.iterrows():\n",
    "    for female_id, female_row in female.iterrows():\n",
    "\n",
    "        # Do exact matching on the movie genre\n",
    "        if (male_row['genre_Action'] == female_row['genre_Action']\n",
    "            and male_row['genre_Adventure'] == female_row['genre_Adventure']\n",
    "            and male_row['genre_Animation'] == female_row['genre_Animation']\n",
    "            and male_row['genre_Biography'] == female_row['genre_Biography']\n",
    "            and male_row['genre_Comedy'] == female_row['genre_Comedy']\n",
    "            and male_row['genre_Crime'] == female_row['genre_Crime']\n",
    "            and male_row['genre_Drama'] == female_row['genre_Drama']\n",
    "            and male_row['genre_Family'] == female_row['genre_Family']\n",
    "            and male_row['genre_Fantasy'] == female_row['genre_Fantasy']\n",
    "            and male_row['genre_Horror'] == female_row['genre_Horror']\n",
    "            and male_row['genre_Mystery'] == female_row['genre_Mystery']\n",
    "            and male_row['genre_Romance'] == female_row['genre_Romance']\n",
    "            and male_row['genre_SciFi'] == female_row['genre_SciFi']\n",
    "            and male_row['genre_Thriller'] == female_row['genre_Thriller']\n",
    "            and male_row['genre_Western'] == female_row['genre_Western']):\n",
    "\n",
    "            # Calculate the similarity \n",
    "            similarity = get_similarity(male_row['Propensity_score'],\n",
    "                                        female_row['Propensity_score'])\n",
    "\n",
    "            # Add an edge between the two instances weighted by the similarity between them\n",
    "            G.add_weighted_edges_from([(male_id, female_id, similarity)])\n",
    "            \n",
    "# Generate and return the maximum weight matching on the generated graph\n",
    "matching = nx.max_weight_matching(G)\n",
    "matched = [i[0] for i in list(matching)] + [i[1] for i in list(matching)]\n",
    "balanced_df_genre = gender.loc[matched]\n",
    "balanced_df_genre.to_csv(path + 'balanced_df_genre.csv')''';"
   ]
  },
  {
   "cell_type": "code",
   "execution_count": 78,
   "id": "4fbfc42f",
   "metadata": {},
   "outputs": [],
   "source": [
    "# Let us look at movie revenue differences between male and female movie stars\n",
    "female_balanced_genre = balanced_df_genre[balanced_df_genre['gender'] == 1] # women\n",
    "male_balanced_genre = balanced_df_genre[balanced_df_genre['gender'] == 0] # men"
   ]
  },
  {
   "cell_type": "code",
   "execution_count": 79,
   "id": "be1b7b8a",
   "metadata": {},
   "outputs": [
    {
     "data": {
      "text/plain": [
       "count    7.870000e+02\n",
       "mean     6.952131e+07\n",
       "std      9.792036e+07\n",
       "min      4.374900e+04\n",
       "25%      1.191149e+07\n",
       "50%      3.436848e+07\n",
       "75%      8.945151e+07\n",
       "max      1.024300e+09\n",
       "Name: revenue, dtype: float64"
      ]
     },
     "execution_count": 79,
     "metadata": {},
     "output_type": "execute_result"
    }
   ],
   "source": [
    "female_balanced_genre.revenue.describe()"
   ]
  },
  {
   "cell_type": "code",
   "execution_count": 80,
   "id": "8689ac4a",
   "metadata": {},
   "outputs": [
    {
     "data": {
      "text/plain": [
       "count    7.760000e+02\n",
       "mean     6.205643e+07\n",
       "std      1.017081e+08\n",
       "min      1.679900e+04\n",
       "25%      9.759210e+06\n",
       "50%      2.699294e+07\n",
       "75%      7.288406e+07\n",
       "max      1.063172e+09\n",
       "Name: revenue, dtype: float64"
      ]
     },
     "execution_count": 80,
     "metadata": {},
     "output_type": "execute_result"
    }
   ],
   "source": [
    "male_balanced_genre.revenue.describe()"
   ]
  },
  {
   "cell_type": "code",
   "execution_count": 81,
   "id": "b9285dca",
   "metadata": {},
   "outputs": [
    {
     "data": {
      "image/png": "[encoded data removed]",
      "text/plain": [
       "<Figure size 1080x360 with 1 Axes>"
      ]
     },
     "metadata": {
      "needs_background": "light"
     },
     "output_type": "display_data"
    }
   ],
   "source": [
    "# Plot movie revenue differences between male and female movie stars\n",
    "plt.figure(figsize=(15,5))\n",
    "ax = sns.histplot(female_balanced_genre['revenue'], kde=True, stat='density', color='purple', label='female')\n",
    "ax = sns.histplot(male_balanced_genre['revenue'], kde=True, stat='density', color='blue', label='male')\n",
    "ax.set(title='Movie Revenue distribution for male and female stars',xlabel='Revenue', ylabel='Revenue density')\n",
    "plt.legend()\n",
    "plt.semilogx()\n",
    "plt.show()"
   ]
  },
  {
   "cell_type": "code",
   "execution_count": 83,
   "id": "488ed7c7",
   "metadata": {},
   "outputs": [
    {
     "name": "stdout",
     "output_type": "stream",
     "text": [
      "MannwhitneyuResult(statistic=329226.0, pvalue=0.007462829764027036)\n"
     ]
    }
   ],
   "source": [
    "# Using the Mann Whitney U test again on revenue\n",
    "revenue_F = list(female_balanced_genre['revenue'].dropna())\n",
    "revenue_M = list(male_balanced_genre['revenue'].dropna())\n",
    "\n",
    "result = stats.mannwhitneyu(revenue_F, revenue_M)\n",
    "print(result)"
   ]
  },
  {
   "cell_type": "code",
   "execution_count": 84,
   "id": "e54f7c35",
   "metadata": {},
   "outputs": [
    {
     "name": "stdout",
     "output_type": "stream",
     "text": [
      "Movies portraying women have earned on average 69.52 milion USD.\n",
      "Movies portraying men have earned on average 62.06 milion USD.\n",
      "Hence, movies portraying women earn 112.03% more than movies portraying Men.\n"
     ]
    }
   ],
   "source": [
    "print(f\"Movies portraying women have earned on average {round(female_balanced_genre['revenue'].mean()/1000000,2)} milion USD.\")\n",
    "print(f\"Movies portraying men have earned on average {round(male_balanced_genre['revenue'].mean()/1000000,2)} milion USD.\")\n",
    "print(f\"Hence, movies portraying women earn {round(female_balanced_genre['revenue'].mean()/male_balanced_genre['revenue'].mean()*100,2)}% more than movies portraying Men.\")"
   ]
  },
  {
   "cell_type": "markdown",
   "id": "5941f486-6d43-47aa-8b3b-f626048081cd",
   "metadata": {},
   "source": [
    "## 3.2 - In terms of the gender of the crew"
   ]
  },
  {
   "cell_type": "markdown",
   "id": "b51a7b43-96c4-48d4-9cdc-e80788e2f7ad",
   "metadata": {},
   "source": [
    "### 3.2.1 - Naïve approach"
   ]
  },
  {
   "cell_type": "code",
   "execution_count": 85,
   "id": "93958bf2",
   "metadata": {},
   "outputs": [
    {
     "data": {
      "image/png": "[encoded data removed]",
      "text/plain": [
       "<Figure size 1080x360 with 1 Axes>"
      ]
     },
     "metadata": {
      "needs_background": "light"
     },
     "output_type": "display_data"
    }
   ],
   "source": [
    "# Let's look at movie revenue differences between crews with one woman or not\n",
    "female = movies_crew[movies_crew['crew_one_fem'] == 1]\n",
    "male = movies_crew[movies_crew['crew_one_fem'] == 0]\n",
    "\n",
    "plt.figure(figsize=(15,5))\n",
    "ax = sns.histplot(female['revenue'], kde=True, stat='density', color='purple', label='at least one woman')\n",
    "ax = sns.histplot(male['revenue'], kde=True, stat='density', color='blue', label='only men')\n",
    "ax.set(title='Movie Revenue distribution for movies with at least one woman in the crew or just men',xlabel='Revenue', ylabel='Revenue density')\n",
    "plt.legend()\n",
    "plt.semilogx()\n",
    "plt.show()"
   ]
  },
  {
   "cell_type": "markdown",
   "id": "b2e11e7e-7686-49c8-95dd-7dd018f5142b",
   "metadata": {},
   "source": [
    "### 3.2.2 - Matching revenue with budget"
   ]
  },
  {
   "cell_type": "code",
   "execution_count": 86,
   "id": "ec97daa3",
   "metadata": {},
   "outputs": [],
   "source": [
    "# Matching DataFrames movies_budget and movies_crew\n",
    "movies_budget = pd.merge(movies_crew, mainchar_budget[['name', 'budget', 'genre','score']], on = 'name').dropna()"
   ]
  },
  {
   "cell_type": "code",
   "execution_count": 87,
   "id": "d36cdb8f",
   "metadata": {},
   "outputs": [
    {
     "name": "stdout",
     "output_type": "stream",
     "text": [
      "Total movies at beginning: 6623\n",
      "After merge with budget info: 3601\n",
      "\n",
      "Samples lost to have info on budget: 3022\n"
     ]
    }
   ],
   "source": [
    "# Info lost \n",
    "print(f'Total movies at beginning: {len(movies_crew)}')\n",
    "print(f'After merge with budget info: {len(movies_budget)}')\n",
    "print(f'\\nSamples lost to have info on budget: {len(movies_crew) - len(movies_budget)}')"
   ]
  },
  {
   "cell_type": "code",
   "execution_count": 88,
   "id": "29354164",
   "metadata": {},
   "outputs": [
    {
     "name": "stdout",
     "output_type": "stream",
     "text": [
      "(0.6269933725690559, 0.0)\n",
      "p-value is below 0.05. \n",
      "There is a significant positive correlation between the revenue and the budget. \n",
      "Matching on the budget to study the revenue makes sense.\n"
     ]
    }
   ],
   "source": [
    "# Correlation between budget and revenue\n",
    "result = stats.pearsonr(movies_budget['revenue'], movies_budget['budget'])\n",
    "print(result)\n",
    "print('p-value is below 0.05. \\nThere is a significant positive correlation between the revenue and the budget. \\nMatching on the budget to study the revenue makes sense.')"
   ]
  },
  {
   "cell_type": "code",
   "execution_count": 89,
   "id": "11a6a7d7",
   "metadata": {},
   "outputs": [
    {
     "data": {
      "text/plain": [
       "Text(0, 0.5, 'Budget [dollars]')"
      ]
     },
     "execution_count": 89,
     "metadata": {},
     "output_type": "execute_result"
    },
    {
     "data": {
      "image/png": "[encoded data removed]",
      "text/plain": [
       "<Figure size 432x288 with 1 Axes>"
      ]
     },
     "metadata": {
      "needs_background": "light"
     },
     "output_type": "display_data"
    }
   ],
   "source": [
    "# Visualize revenue vs. budget\n",
    "plt.scatter(movies_budget['revenue'], movies_budget['budget'])\n",
    "plt.title('Revenue VS Budget')\n",
    "plt.xlabel('Revenue [dollars]')\n",
    "plt.ylabel('Budget [dollars]')"
   ]
  },
  {
   "cell_type": "code",
   "execution_count": 90,
   "id": "db46aa17",
   "metadata": {},
   "outputs": [
    {
     "name": "stdout",
     "output_type": "stream",
     "text": [
      "Index(['wiki_movieID', 'freebase_movieID', 'name', 'release', 'revenue',\n",
      "       'runtime', 'languages', 'countries', 'genres', 'directors', 'writers',\n",
      "       'dir_one_fem', 'dir_all_fem', 'wri_one_fem', 'wri_all_fem', 'year',\n",
      "       'crew_one_fem', 'budget', 'genre', 'score'],\n",
      "      dtype='object')\n"
     ]
    }
   ],
   "source": [
    "# Preprocess movie_budget DataFrame\n",
    "\n",
    "# Standardize continuous features\n",
    "movies_budget['year'] = (movies_budget['year'] - movies_budget['year'].mean())/movies_budget['year'].std()\n",
    "movies_budget['score'] = (movies_budget['score'] - movies_budget['score'].mean())/movies_budget['score'].std()\n",
    "movies_budget['budget'] = (movies_budget['budget'] - movies_budget['budget'].mean())/movies_budget['budget'].std()\n",
    "\n",
    "# To numeric to make the regression work  \n",
    "movies_budget['year'] = pd.to_numeric(movies_budget['year'])\n",
    "movies_budget['budget'] = pd.to_numeric(movies_budget['budget'])\n",
    "movies_budget['crew_one_fem'] = pd.to_numeric(movies_budget['crew_one_fem'].apply(lambda x: int(x)))\n",
    "\n",
    "print(movies_budget.columns)"
   ]
  },
  {
   "cell_type": "code",
   "execution_count": 91,
   "id": "367aba1d",
   "metadata": {},
   "outputs": [],
   "source": [
    "# Create dummy variables for movie genre in movies_budget\n",
    "movies_budget = pd.get_dummies(movies_budget, columns=['genre'])"
   ]
  },
  {
   "cell_type": "code",
   "execution_count": 92,
   "id": "cdfaf3df",
   "metadata": {},
   "outputs": [
    {
     "name": "stdout",
     "output_type": "stream",
     "text": [
      "Optimization terminated successfully.\n",
      "         Current function value: 0.326639\n",
      "         Iterations 7\n",
      "                           Logit Regression Results                           \n",
      "==============================================================================\n",
      "Dep. Variable:           crew_one_fem   No. Observations:                 3601\n",
      "Model:                          Logit   Df Residuals:                     3587\n",
      "Method:                           MLE   Df Model:                           13\n",
      "Date:                Fri, 23 Dec 2022   Pseudo R-squ.:                 0.01342\n",
      "Time:                        21:51:33   Log-Likelihood:                -1176.2\n",
      "converged:                       True   LL-Null:                       -1192.2\n",
      "Covariance Type:            nonrobust   LLR p-value:                  0.002405\n",
      "===================================================================================\n",
      "                      coef    std err          z      P>|z|      [0.025      0.975]\n",
      "-----------------------------------------------------------------------------------\n",
      "Intercept          -2.4958      1.041     -2.397      0.017      -4.536      -0.455\n",
      "year               -0.0348      0.055     -0.632      0.527      -0.143       0.073\n",
      "budget              0.0104      0.065      0.162      0.872      -0.116       0.137\n",
      "score               0.0839      0.060      1.401      0.161      -0.034       0.201\n",
      "genre_Action       -0.0387      1.049     -0.037      0.971      -2.096       2.018\n",
      "genre_Adventure    -0.2649      1.080     -0.245      0.806      -2.381       1.852\n",
      "genre_Animation     0.3267      1.075      0.304      0.761      -1.780       2.433\n",
      "genre_Biography     0.4155      1.072      0.388      0.698      -1.685       2.516\n",
      "genre_Comedy        0.5920      1.045      0.566      0.571      -1.457       2.641\n",
      "genre_Crime         0.4708      1.057      0.445      0.656      -1.601       2.543\n",
      "genre_Drama         0.4795      1.049      0.457      0.648      -1.577       2.536\n",
      "genre_Fantasy       0.2760      1.206      0.229      0.819      -2.087       2.639\n",
      "genre_Horror       -0.2447      1.092     -0.224      0.823      -2.384       1.895\n",
      "genre_Mystery       0.8512      1.298      0.656      0.512      -1.693       3.396\n",
      "===================================================================================\n"
     ]
    }
   ],
   "source": [
    "# Logistic regression \n",
    "mod = smf.logit(formula='crew_one_fem ~ year + budget + score + genre_Action\\\n",
    "        + genre_Adventure + genre_Animation + \\\n",
    "        + genre_Biography + genre_Comedy + genre_Crime + genre_Drama +  genre_Fantasy \\\n",
    "        + genre_Horror + genre_Mystery', data=movies_budget)\n",
    "res = mod.fit()\n",
    "\n",
    "# Extract the estimated propensity scores\n",
    "movies_budget['Propensity_score'] = res.predict()\n",
    "print(res.summary())"
   ]
  },
  {
   "cell_type": "code",
   "execution_count": 93,
   "id": "01873bdc",
   "metadata": {},
   "outputs": [],
   "source": [
    "# Similarity function \n",
    "def get_similarity(propensity_score1, propensity_score2):\n",
    "    '''Calculate similarity for instances with given propensity scores'''\n",
    "    return 1-np.abs(propensity_score1-propensity_score2)"
   ]
  },
  {
   "cell_type": "code",
   "execution_count": 94,
   "id": "57204305",
   "metadata": {},
   "outputs": [],
   "source": [
    "# Separate in the two groups to be matched (at least one women, only men)\n",
    "wa = movies_budget[movies_budget['crew_one_fem'] == 1]\n",
    "m = movies_budget[movies_budget['crew_one_fem'] == 0]"
   ]
  },
  {
   "cell_type": "code",
   "execution_count": 95,
   "id": "2d104017",
   "metadata": {},
   "outputs": [
    {
     "name": "stdout",
     "output_type": "stream",
     "text": [
      "740\n"
     ]
    }
   ],
   "source": [
    "# The actual matching (below) does not have to be run each time as it is very long, the dataframe is saved and loaded\n",
    "matched_df2 = pd.read_csv(path + \"matched_df2.csv\")\n",
    "print(len(matched_df2))"
   ]
  },
  {
   "cell_type": "code",
   "execution_count": 96,
   "id": "9b43019c",
   "metadata": {},
   "outputs": [],
   "source": [
    "\"\"\"# Create an empty undirected graph\n",
    "G = nx.Graph()\n",
    "# Loop through all the pairs of instances\n",
    "for male_id, male_row in m.iterrows():\n",
    "    for female_id, female_row in wa.iterrows():\n",
    "        \n",
    "        if (male_row['genre_Action'] == female_row['genre_Action']\n",
    "            and male_row['genre_Adventure'] == female_row['genre_Adventure']\n",
    "            and male_row['genre_Animation'] == female_row['genre_Animation']\n",
    "            and male_row['genre_Biography'] == female_row['genre_Biography']\n",
    "            and male_row['genre_Comedy'] == female_row['genre_Comedy']\n",
    "            and male_row['genre_Crime'] == female_row['genre_Crime']\n",
    "            and male_row['genre_Drama'] == female_row['genre_Drama']\n",
    "            and male_row['genre_Family'] == female_row['genre_Family']\n",
    "            and male_row['genre_Fantasy'] == female_row['genre_Fantasy']\n",
    "            and male_row['genre_Horror'] == female_row['genre_Horror']\n",
    "            and male_row['genre_Mystery'] == female_row['genre_Mystery']\n",
    "            and male_row['genre_Romance'] == female_row['genre_Romance']\n",
    "            and male_row['genre_Sci-Fi'] == female_row['genre_Sci-Fi']\n",
    "            and male_row['genre_Thriller'] == female_row['genre_Thriller']\n",
    "            and male_row['genre_Western'] == female_row['genre_Western']):   \n",
    "            \n",
    "        \n",
    "            # Calculate the similarity \n",
    "            similarity = get_similarity(male_row['Propensity_score'],\n",
    "                                        female_row['Propensity_score'])\n",
    "            # Add an edge between the two instances weighted by the similarity between them\n",
    "            G.add_weighted_edges_from([(male_id, female_id, similarity)])\n",
    "\n",
    "# Generate and return the maximum weight matching on the generated graph\n",
    "matching = nx.max_weight_matching(G)\n",
    "matched_pro = [i[0] for i in list(matching)] + [i[1] for i in list(matching)]\n",
    "matched_df2 = movies_budget.loc[matched_pro]\n",
    "matched_df2.to_csv(path + 'matched_df2.csv')\"\"\";\n"
   ]
  },
  {
   "cell_type": "markdown",
   "id": "4fe31cc0-b203-4841-9bf5-3566e2f0507d",
   "metadata": {},
   "source": [
    "### 3.2.3 - Plots"
   ]
  },
  {
   "cell_type": "code",
   "execution_count": 97,
   "id": "899f7879",
   "metadata": {},
   "outputs": [
    {
     "data": {
      "image/png": "[encoded data removed]",
      "text/plain": [
       "<Figure size 1080x360 with 1 Axes>"
      ]
     },
     "metadata": {
      "needs_background": "light"
     },
     "output_type": "display_data"
    }
   ],
   "source": [
    "female = matched_df2[matched_df2['crew_one_fem']==1]\n",
    "male = matched_df2[matched_df2['crew_one_fem']==0]\n",
    "\n",
    "plt.figure(figsize=(15,5))\n",
    "ax = sns.histplot(female['revenue'], kde=True, stat='density', color='purple', label='at least one woman')\n",
    "ax = sns.histplot(male['revenue'], kde=True, stat='density', color='blue', label='only men')\n",
    "ax.set(title='Movie Revenue distribution for movies with at least one woman in the crew or just men',xlabel='Revenue', ylabel='Revenue density')\n",
    "plt.legend()\n",
    "plt.semilogx()\n",
    "plt.show()"
   ]
  },
  {
   "cell_type": "markdown",
   "id": "2553dc5b-4b1f-46df-9798-861927199052",
   "metadata": {},
   "source": [
    "### 3.2.4 - Statistical tests\n",
    "\n",
    "We will use Mann-Whitney U-tests, with the null hypothesis being the distribution of the budget is not different wether the crew contains a woman or not. The alternative hypothesis is that the distribution is different. We will also test wether matching changes the outcome of these statistical tests"
   ]
  },
  {
   "cell_type": "code",
   "execution_count": 98,
   "id": "7bda3bfe",
   "metadata": {},
   "outputs": [
    {
     "name": "stdout",
     "output_type": "stream",
     "text": [
      "\n",
      "BEFORE MATCHING\n",
      "MannwhitneyuResult(statistic=589054.5, pvalue=0.6467054320149348)\n",
      "AFTER MATCHING\n",
      "MannwhitneyuResult(statistic=69888.0, pvalue=0.6209136892633367)\n"
     ]
    }
   ],
   "source": [
    "# Correlation between gender of crew and budget\n",
    "\n",
    "# Results before matching\n",
    "revenue_F = movies_budget[movies_budget['crew_one_fem']==1]['budget']\n",
    "revenue_M = movies_budget[movies_budget['crew_one_fem']==0]['budget']\n",
    "result = stats.mannwhitneyu(revenue_F, revenue_M)\n",
    "print('\\nBEFORE MATCHING')\n",
    "print(result)\n",
    "\n",
    "# Results after matching\n",
    "revenue_F = matched_df2[matched_df2['crew_one_fem']==1]['budget']\n",
    "revenue_M = matched_df2[matched_df2['crew_one_fem']==0]['budget']\n",
    "result = stats.mannwhitneyu(revenue_F, revenue_M)\n",
    "print('AFTER MATCHING')\n",
    "print(result)"
   ]
  },
  {
   "cell_type": "markdown",
   "id": "65fb384c-17a1-46d5-bbec-378ad9b3b460",
   "metadata": {},
   "source": [
    "The p-value is bigger than 0.05, so **we cannot reject the null hypthesis that the distribution of the budget is not different if the crew contains a woman or not.**"
   ]
  },
  {
   "cell_type": "code",
   "execution_count": 99,
   "id": "ece7df7c",
   "metadata": {},
   "outputs": [
    {
     "name": "stdout",
     "output_type": "stream",
     "text": [
      "\n",
      "BEFORE MATCHING\n",
      "MannwhitneyuResult(statistic=587356.0, pvalue=0.5837755347691154)\n",
      "AFTER MATCHING\n",
      "MannwhitneyuResult(statistic=68637.0, pvalue=0.9488552451588196)\n"
     ]
    }
   ],
   "source": [
    "# Correlation between gender of crew and revenue\n",
    "\n",
    "# Results before matching\n",
    "revenue_F = movies_budget[movies_budget['crew_one_fem']==1]['revenue']\n",
    "revenue_M = movies_budget[movies_budget['crew_one_fem']==0]['revenue']\n",
    "result = stats.mannwhitneyu(revenue_F, revenue_M)\n",
    "print('\\nBEFORE MATCHING')\n",
    "print(result)\n",
    "\n",
    "# Results after matching\n",
    "revenue_F = matched_df2[matched_df2['crew_one_fem']==1]['revenue']\n",
    "revenue_M = matched_df2[matched_df2['crew_one_fem']==0]['revenue']\n",
    "result = stats.mannwhitneyu(revenue_F, revenue_M)\n",
    "print('AFTER MATCHING')\n",
    "print(result)"
   ]
  },
  {
   "cell_type": "markdown",
   "id": "2817cdf3-a02c-4b23-847b-410ed4bd6bb3",
   "metadata": {},
   "source": [
    "The p-value is bigger than 0.05 so, **we cannot reject the null hypthesis that the distribution of the revenue is not different if the crew contains a woman or not.**\n",
    "Matching did not change the outcome of the tests."
   ]
  },
  {
   "cell_type": "markdown",
   "id": "0d1d429f-6767-4fdc-9663-16f884416fdc",
   "metadata": {
    "tags": []
   },
   "source": [
    "# 4 - Natural Language Processing of movie summaries"
   ]
  },
  {
   "cell_type": "markdown",
   "id": "0c20ddb1-c119-45b0-b8a6-db9d22953a23",
   "metadata": {},
   "source": [
    "These two next cell takes at least 5 hours to run, the output is a dataframe of all characters with word lemmas related to them.\n",
    "#### You can skip the two next cells, the output can directly be loaded from a csv called 'descriptions'"
   ]
  },
  {
   "cell_type": "code",
   "execution_count": 100,
   "id": "5551730c-64e2-4a6e-b4f2-347ed1679755",
   "metadata": {},
   "outputs": [
    {
     "data": {
      "text/plain": [
       "''"
      ]
     },
     "execution_count": 100,
     "metadata": {},
     "output_type": "execute_result"
    }
   ],
   "source": [
    "'''# Get all wiki_ids with processed NLP\n",
    "wikid_nlp = [int(os.path.basename(x)[0:-7]) for x in glob.glob(path + '/corenlp_plot_summaries/*.xml.gz')]\n",
    "\n",
    "# Get wikid_id intersection of american movies and movies with NLP processed plot\n",
    "wikid_usa = set(movies_usa['wiki_movieID'].values) & set(wikid_nlp)\n",
    "\n",
    "# Remove movies without plots summary and that are not american\n",
    "wikid_remove = set(wikid_nlp) - wikid_usa\n",
    "_ = [os.remove('../corenlp_plot_summaries/'+str(wiki)+'.xml.gz') for wiki in wikid_remove]\n",
    "\n",
    "len_nlp = len(os.listdir(path + 'corenlp_plot_summaries/'))\n",
    "print(f'{len_nlp} plots will be processed')'''\n",
    ";"
   ]
  },
  {
   "cell_type": "code",
   "execution_count": 101,
   "id": "7351560d-7136-4a80-873b-892dfeb1653b",
   "metadata": {},
   "outputs": [
    {
     "data": {
      "text/plain": [
       "''"
      ]
     },
     "execution_count": 101,
     "metadata": {},
     "output_type": "execute_result"
    }
   ],
   "source": [
    "\"\"\"#This will be the fataframe containing all characters descriptions\n",
    "descriptions=pd.DataFrame(columns=['wiki_id', 'character', 'mentioning', \n",
    "                                   'sentence_position', 'word_position', 'descriptions'])\n",
    "#Looping through all files in folder\n",
    "for filename in tqdm(glob.glob('../corenlp_plot_summaries/*.xml.gz')):\n",
    "        with gzip.open('../corenlp_plot_summaries/'+filename, 'r') as f:\n",
    "            \n",
    "            # Reading the data inside the xml file to a variable under the name data\n",
    "            data = f.read()\n",
    "            \n",
    "            #Get wiki id by getting the basename and removing the extension\n",
    "            wikid = os.path.basename(filename)[0:-7]\n",
    "            \n",
    "            # Passing the stored data inside the beautifulsoup parser\n",
    "            soup = BeautifulSoup(data, \"xml\")\n",
    "            \n",
    "            #DataFrame of all coreferences of the movie     \n",
    "            coreferences = pd.DataFrame(columns=['wiki_id', 'character', 'mentioning', \n",
    "                                   'sentence_position', 'word_position', 'descriptions'])\n",
    "\n",
    "            #Find all entities with coreferences \n",
    "            entities = soup.find_all(\"coreference\")\n",
    "            entities = entities[1:]\n",
    "\n",
    "            for entity in entities:\n",
    "                #Find every time this entity is mentioned\n",
    "                mentions = entity.find_all(\"mention\")\n",
    "                \n",
    "                #Find the representative aka the original mention of entity\n",
    "                rep = entity.find(\"mention\", {'representative':True})\n",
    "                \n",
    "                #Get sentence and word position of this representative\n",
    "                sent_pos = int(rep.sentence.text)\n",
    "                word_pos = int(rep.head.text)\n",
    "                \n",
    "                #Search for the word using positions\n",
    "                sent = soup.find('sentence', {'id':sent_pos})\n",
    "                word = sent.find('token', {'id':word_pos})\n",
    "                \n",
    "                #If the word is a person (character) create a full name variable\n",
    "                if word.NER.text == 'PERSON':\n",
    "                    person = word\n",
    "                    full_name = person.word.text\n",
    "                else: #Else the representative is not a character\n",
    "                    continue #skip this entity\n",
    "\n",
    "                #Finding the words before (e.g Dr. Prof.) that are part of the full name\n",
    "                word_before = person.previous_sibling.previous_sibling\n",
    "            \n",
    "                if word_before is not None:\n",
    "                    \n",
    "                    #Loop while the words before are compounds of the proper noun\n",
    "                    while word_before.POS.text == 'NNP':\n",
    "                        full_name = word_before.word.text+' ' +full_name\n",
    "                        word_before = word_before.previous_sibling.previous_sibling\n",
    "                        if word_before is None:\n",
    "                            break\n",
    "\n",
    "                #Finding the words after (last name)     \n",
    "                word_after = person.next_sibling.next_sibling\n",
    "                if word_after is not None:\n",
    "                    \n",
    "                    #Loop while the words after are compounds of the proper noun\n",
    "                    while word_after.POS.text=='NNP':\n",
    "                        full_name = full_name+ ' ' + word_after.word.text\n",
    "                        word_after = word_after.next_sibling.next_sibling\n",
    "                        if word_after is None:\n",
    "                            break\n",
    "                            \n",
    "                \n",
    "                #Loop through the other mentioning of the representative\n",
    "                for mention in mentions:\n",
    "                    \n",
    "                    #Get sentence and word position of mention\n",
    "                    sent_pos = int(mention.sentence.text)\n",
    "                    word_pos = int(mention.head.text)\n",
    "                    \n",
    "                    #Retrieve the word\n",
    "                    sent = soup.find('sentence', {'id':sent_pos})\n",
    "                    word = sent.find('token', {'id':word_pos}).word.text\n",
    "                    \n",
    "                    #Create the tuple for this mention and append it to the coreferences dataframe\n",
    "                    add_tuple = pd.DataFrame([[wikid, full_name, word,sent_pos,word_pos]], columns=['wiki_id', 'character', 'mentioning', \n",
    "                                                   'sentence_position', 'word_position'])\n",
    "\n",
    "                    coreferences = pd.concat([coreferences, add_tuple])\n",
    "    \n",
    "\n",
    "            #Find all dependencies in the plot. Creates a list of dependencies\n",
    "            #each element is a sentence\n",
    "            deps = soup.find_all(\"collapsed-ccprocessed-dependencies\")\n",
    "            \n",
    "            #Enumerate all the coreferences of the plot to find their dependencies\n",
    "            for i, (char, sent_pos,token_pos) in enumerate(coreferences[['character', 'sentence_position', 'word_position']].values):   \n",
    "                \n",
    "                #List for character as dependent\n",
    "                char_as_dep = set()\n",
    "                #List for character as governor\n",
    "                char_as_gov = set()\n",
    "                \n",
    "                #Get the right sentence\n",
    "                sentence = deps[sent_pos-1]\n",
    "                \n",
    "                #With token position of the coreference, find its relationship with other words\n",
    "                \n",
    "                #As dependent first\n",
    "                dependent = sentence.find_all('dependent', {'idx':token_pos})\n",
    "                for dep in dependent:\n",
    "                    relation = dep.parent\n",
    "                    \n",
    "                    #We search for the relation types of our interest\n",
    "                    if relation['type'] == 'nsubj' or relation['type'] == 'appos' \\\n",
    "                            or relation['type'] == 'nsubjpass' :\n",
    "                        #We could directly retrieve the word in this dependence section \n",
    "                        #but we rather have the lemmatized token\n",
    "                        word_pos = relation.governor['idx']\n",
    "                        sent = soup.find('sentence', {'id':sent_pos})\n",
    "                        word = sent.find('token', {'id':int(word_pos)})\n",
    "                        char_as_dep.update({word.lemma.text})\n",
    "    \n",
    "                #As governor\n",
    "                governor = sentence.find_all('governor', {'idx':token_pos})\n",
    "                for gov in governor:\n",
    "                    relation = gov.parent\n",
    "                    if relation['type'] == 'rcmod' or relation['type'] == 'amod':\n",
    "                        word_pos = relation.dependent['idx']\n",
    "                        sent = soup.find('sentence', {'id':sent_pos})\n",
    "                        word = sent.find('token', {'id':int(word_pos)})\n",
    "                        char_as_gov.update({word.lemma.text})\n",
    "                \n",
    "                #Add the descriptions to the coreferences tuple\n",
    "                char_as_dep.update(char_as_gov)\n",
    "                coreferences['descriptions'].iloc[i] = char_as_dep\n",
    "            \n",
    "            #Append the coreferences of the movie to the global DataFrame\n",
    "            descriptions=pd.concat([descriptions, coreferences])\n",
    "            \n",
    "            \n",
    "#Some duplicates happen. We drop them but need to stringify because sets are not hashable.\n",
    "descriptions = descriptions[~descriptions.astype(str).duplicated(keep='first')]\n",
    "\n",
    "descriptions = descriptions.groupby(['wiki_id', 'character'])['descriptions'].apply(list).reset_index(name='descriptions')\n",
    "\n",
    "descriptions['descriptions']=descriptions['descriptions'].apply(lambda x: [val for sublist in x for val in sublist])\n",
    "\n",
    "#descriptions.to_csv('descriptions.csv')\"\"\"\n",
    ";"
   ]
  },
  {
   "cell_type": "code",
   "execution_count": 109,
   "id": "c916c484-0cda-4fd9-b24a-faf28837d86f",
   "metadata": {},
   "outputs": [
    {
     "data": {
      "text/html": [
       "<div>\n",
       "<style scoped>\n",
       "    .dataframe tbody tr th:only-of-type {\n",
       "        vertical-align: middle;\n",
       "    }\n",
       "\n",
       "    .dataframe tbody tr th {\n",
       "        vertical-align: top;\n",
       "    }\n",
       "\n",
       "    .dataframe thead th {\n",
       "        text-align: right;\n",
       "    }\n",
       "</style>\n",
       "<table border=\"1\" class=\"dataframe\">\n",
       "  <thead>\n",
       "    <tr style=\"text-align: right;\">\n",
       "      <th></th>\n",
       "      <th>wiki_movieID</th>\n",
       "      <th>char_name</th>\n",
       "      <th>descriptions</th>\n",
       "    </tr>\n",
       "  </thead>\n",
       "  <tbody>\n",
       "    <tr>\n",
       "      <th>0</th>\n",
       "      <td>10002175</td>\n",
       "      <td>Clancy</td>\n",
       "      <td>[]</td>\n",
       "    </tr>\n",
       "    <tr>\n",
       "      <th>1</th>\n",
       "      <td>10002175</td>\n",
       "      <td>Clancy Whitfield</td>\n",
       "      <td>[high]</td>\n",
       "    </tr>\n",
       "    <tr>\n",
       "      <th>2</th>\n",
       "      <td>10002175</td>\n",
       "      <td>Joan</td>\n",
       "      <td>[try, find, support, subject, see, help]</td>\n",
       "    </tr>\n",
       "  </tbody>\n",
       "</table>\n",
       "</div>"
      ],
      "text/plain": [
       "   wiki_movieID         char_name                              descriptions\n",
       "0      10002175            Clancy                                        []\n",
       "1      10002175  Clancy Whitfield                                    [high]\n",
       "2      10002175              Joan  [try, find, support, subject, see, help]"
      ]
     },
     "execution_count": 109,
     "metadata": {},
     "output_type": "execute_result"
    }
   ],
   "source": [
    "# Load the descriptions data from csv file\n",
    "descriptions = pd.read_csv(path + \"descriptions.csv\")\n",
    "\n",
    "# Drop unnamed descriptions\n",
    "descriptions.drop(['Unnamed: 0'], axis=1, inplace=True)\n",
    "#descriptions.drop(['Unnamed: 0.1'], axis=1, inplace=True)\n",
    "\n",
    "# Rename columns according to other datasets\n",
    "descriptions.rename(columns={\"character\": \"char_name\", 'wiki_id': 'wiki_movieID'}, inplace=True)\n",
    "\n",
    "# Unstringify the lists\n",
    "descriptions['descriptions'] = descriptions['descriptions'].apply(lambda x: ast.literal_eval(x))\n",
    "\n",
    "descriptions.head(3)"
   ]
  },
  {
   "cell_type": "markdown",
   "id": "b8a16ee7-a175-4824-a3d9-32120877aa74",
   "metadata": {},
   "source": [
    "## 4.1 - Merge the descriptions into the character db\n",
    "\n",
    "\n",
    "The character dataset contains the full names of the caracters. Although we tried our best to retrieve the full names from the plot, it happens often that the full name is not cited in the plot and therefore not retrievable.\n",
    "\n",
    "There are two way to join the data. First one is brute-force merging and accepting a lot of loss due to the lack of last name. Second way is applying a word split on both dataset characters to only keep the first word of the character names, usually the first name or titles (Dr., Prof.). We just hope that there is not a lot of movies with two characters sharing first names or titles. But we believe that these errors strongly outweigh the loss from the brute join.<br>\n",
    "\n",
    "\n",
    "It was decided to proceed this way: On a first round, the brute join and for the remaining characters we will join the first word. "
   ]
  },
  {
   "cell_type": "code",
   "execution_count": 110,
   "id": "8c002310-aeff-4044-b52d-9572ef1529fb",
   "metadata": {},
   "outputs": [
    {
     "name": "stdout",
     "output_type": "stream",
     "text": [
      "437380 characters with their descriptions were found after round one.\n",
      "7824 additional characters were added with round 2\n"
     ]
    }
   ],
   "source": [
    "# Perform round 1\n",
    "round1 = characters_db.merge(descriptions, how='left', on=['wiki_movieID', 'char_name'])\n",
    "\n",
    "# Prepare the unmerged characters for round 2\n",
    "round2 = round1[round1['descriptions'].isna()]\n",
    "round1 = round1[round1['descriptions'].notna()]\n",
    "round2.drop(['descriptions'], axis=1, inplace=True)\n",
    "print(f'{len(round2)} characters with their descriptions were found after round one.')\n",
    "\n",
    "# Perform round 2\n",
    "round2['char_name'] = round2['char_name'].astype('str').apply(lambda x: x.split(' ')[0])\n",
    "descriptions['char_name'] = descriptions['char_name'].astype('str').apply(lambda x: x.split(' ')[0])\n",
    "\n",
    "round2 = round2.merge(descriptions, how='left', on=['wiki_movieID', 'char_name'])\n",
    "round2 = round2[round2['descriptions'].notna()]\n",
    "\n",
    "print(f'{len(round2)} additional characters were added with round 2')"
   ]
  },
  {
   "cell_type": "code",
   "execution_count": 111,
   "id": "a01e5123-e572-47f9-a3a0-2bdf2fb8e8ed",
   "metadata": {},
   "outputs": [
    {
     "ename": "OSError",
     "evalue": "[E050] Can't find model 'en_core_web_sm'. It doesn't seem to be a Python package or a valid path to a data directory.",
     "output_type": "error",
     "traceback": [
      "\u001b[0;31m---------------------------------------------------------------------------\u001b[0m",
      "\u001b[0;31mOSError\u001b[0m                                   Traceback (most recent call last)",
      "Input \u001b[0;32mIn [111]\u001b[0m, in \u001b[0;36m<cell line: 2>\u001b[0;34m()\u001b[0m\n\u001b[1;32m      1\u001b[0m \u001b[38;5;66;03m# Opening a dictionary of stopwords\u001b[39;00m\n\u001b[0;32m----> 2\u001b[0m \u001b[43mspacy\u001b[49m\u001b[38;5;241;43m.\u001b[39;49m\u001b[43mload\u001b[49m\u001b[43m(\u001b[49m\u001b[38;5;124;43m'\u001b[39;49m\u001b[38;5;124;43men_core_web_sm\u001b[39;49m\u001b[38;5;124;43m'\u001b[39;49m\u001b[43m)\u001b[49m\n\u001b[1;32m      3\u001b[0m STOPWORDS \u001b[38;5;241m=\u001b[39m spacy\u001b[38;5;241m.\u001b[39mlang\u001b[38;5;241m.\u001b[39men\u001b[38;5;241m.\u001b[39mstop_words\u001b[38;5;241m.\u001b[39mSTOP_WORDS\n\u001b[1;32m      4\u001b[0m char_desc \u001b[38;5;241m=\u001b[39m pd\u001b[38;5;241m.\u001b[39mconcat([round1, round2])\n",
      "File \u001b[0;32m~/Anaconda3/lib/python3.9/site-packages/spacy/__init__.py:54\u001b[0m, in \u001b[0;36mload\u001b[0;34m(name, vocab, disable, enable, exclude, config)\u001b[0m\n\u001b[1;32m     30\u001b[0m \u001b[38;5;28;01mdef\u001b[39;00m \u001b[38;5;21mload\u001b[39m(\n\u001b[1;32m     31\u001b[0m     name: Union[\u001b[38;5;28mstr\u001b[39m, Path],\n\u001b[1;32m     32\u001b[0m     \u001b[38;5;241m*\u001b[39m,\n\u001b[0;32m   (...)\u001b[0m\n\u001b[1;32m     37\u001b[0m     config: Union[Dict[\u001b[38;5;28mstr\u001b[39m, Any], Config] \u001b[38;5;241m=\u001b[39m util\u001b[38;5;241m.\u001b[39mSimpleFrozenDict(),\n\u001b[1;32m     38\u001b[0m ) \u001b[38;5;241m-\u001b[39m\u001b[38;5;241m>\u001b[39m Language:\n\u001b[1;32m     39\u001b[0m     \u001b[38;5;124;03m\"\"\"Load a spaCy model from an installed package or a local path.\u001b[39;00m\n\u001b[1;32m     40\u001b[0m \n\u001b[1;32m     41\u001b[0m \u001b[38;5;124;03m    name (str): Package name or model path.\u001b[39;00m\n\u001b[0;32m   (...)\u001b[0m\n\u001b[1;32m     52\u001b[0m \u001b[38;5;124;03m    RETURNS (Language): The loaded nlp object.\u001b[39;00m\n\u001b[1;32m     53\u001b[0m \u001b[38;5;124;03m    \"\"\"\u001b[39;00m\n\u001b[0;32m---> 54\u001b[0m     \u001b[38;5;28;01mreturn\u001b[39;00m \u001b[43mutil\u001b[49m\u001b[38;5;241;43m.\u001b[39;49m\u001b[43mload_model\u001b[49m\u001b[43m(\u001b[49m\n\u001b[1;32m     55\u001b[0m \u001b[43m        \u001b[49m\u001b[43mname\u001b[49m\u001b[43m,\u001b[49m\n\u001b[1;32m     56\u001b[0m \u001b[43m        \u001b[49m\u001b[43mvocab\u001b[49m\u001b[38;5;241;43m=\u001b[39;49m\u001b[43mvocab\u001b[49m\u001b[43m,\u001b[49m\n\u001b[1;32m     57\u001b[0m \u001b[43m        \u001b[49m\u001b[43mdisable\u001b[49m\u001b[38;5;241;43m=\u001b[39;49m\u001b[43mdisable\u001b[49m\u001b[43m,\u001b[49m\n\u001b[1;32m     58\u001b[0m \u001b[43m        \u001b[49m\u001b[43menable\u001b[49m\u001b[38;5;241;43m=\u001b[39;49m\u001b[43menable\u001b[49m\u001b[43m,\u001b[49m\n\u001b[1;32m     59\u001b[0m \u001b[43m        \u001b[49m\u001b[43mexclude\u001b[49m\u001b[38;5;241;43m=\u001b[39;49m\u001b[43mexclude\u001b[49m\u001b[43m,\u001b[49m\n\u001b[1;32m     60\u001b[0m \u001b[43m        \u001b[49m\u001b[43mconfig\u001b[49m\u001b[38;5;241;43m=\u001b[39;49m\u001b[43mconfig\u001b[49m\u001b[43m,\u001b[49m\n\u001b[1;32m     61\u001b[0m \u001b[43m    \u001b[49m\u001b[43m)\u001b[49m\n",
      "File \u001b[0;32m~/Anaconda3/lib/python3.9/site-packages/spacy/util.py:439\u001b[0m, in \u001b[0;36mload_model\u001b[0;34m(name, vocab, disable, enable, exclude, config)\u001b[0m\n\u001b[1;32m    437\u001b[0m \u001b[38;5;28;01mif\u001b[39;00m name \u001b[38;5;129;01min\u001b[39;00m OLD_MODEL_SHORTCUTS:\n\u001b[1;32m    438\u001b[0m     \u001b[38;5;28;01mraise\u001b[39;00m \u001b[38;5;167;01mIOError\u001b[39;00m(Errors\u001b[38;5;241m.\u001b[39mE941\u001b[38;5;241m.\u001b[39mformat(name\u001b[38;5;241m=\u001b[39mname, full\u001b[38;5;241m=\u001b[39mOLD_MODEL_SHORTCUTS[name]))  \u001b[38;5;66;03m# type: ignore[index]\u001b[39;00m\n\u001b[0;32m--> 439\u001b[0m \u001b[38;5;28;01mraise\u001b[39;00m \u001b[38;5;167;01mIOError\u001b[39;00m(Errors\u001b[38;5;241m.\u001b[39mE050\u001b[38;5;241m.\u001b[39mformat(name\u001b[38;5;241m=\u001b[39mname))\n",
      "\u001b[0;31mOSError\u001b[0m: [E050] Can't find model 'en_core_web_sm'. It doesn't seem to be a Python package or a valid path to a data directory."
     ]
    }
   ],
   "source": [
    "# Opening a dictionary of stopwords\n",
    "spacy.load('en_core_web_sm')\n",
    "STOPWORDS = spacy.lang.en.stop_words.STOP_WORDS\n",
    "char_desc = pd.concat([round1, round2])\n",
    "print(f'In total {len(char_desc)} characters have descriptions.')\n",
    "\n",
    "# Remove stop words\n",
    "char_desc['descriptions'] = char_desc['descriptions'].apply(lambda x: [token for token in x if token not in STOPWORDS])\n",
    "char_desc = char_desc.merge(movies_usa[['wiki_movieID', 'genres']], how='left', on='wiki_movieID')\n",
    "\n",
    "# Unstringify genres\n",
    "char_desc['genres'] = char_desc['genres'].apply(lambda x: ast.literal_eval(x))\n",
    "\n",
    "# We remove the freebase id in lsit of genres\n",
    "char_desc['genres'] = char_desc['genres'].apply(lambda x: [val[1] for val in list(x.items())])"
   ]
  },
  {
   "cell_type": "markdown",
   "id": "cc84c588-4d63-44c7-a61d-9333dd1133dc",
   "metadata": {},
   "source": [
    "## 4.2 - Exploring genders in general"
   ]
  },
  {
   "cell_type": "code",
   "execution_count": null,
   "id": "83131d95-2b5c-49d2-9a4c-a350ac76c2fc",
   "metadata": {
    "tags": []
   },
   "outputs": [],
   "source": [
    "desc_gender=char_desc.groupby('gender')['descriptions'].aggregate([list]).reset_index().rename(columns={'list':'descriptions'})\n",
    "desc_gender['descriptions'] = desc_gender['descriptions'].apply(lambda x: [val for sublist in x for val in sublist])\n",
    "male_desc = desc_gender.loc[desc_gender['gender']=='M']['descriptions'].values[0]\n",
    "female_desc = desc_gender.loc[desc_gender['gender']=='F']['descriptions'].values[0]\n",
    "\n",
    "n=1000\n",
    "chunks_male = [male_desc[i:i + n] for i in range(0, len(male_desc), n)]\n",
    "chunks_female = [female_desc[i:i + n] for i in range(0, len(female_desc), n)]\n",
    "\n",
    "doc_male = \" \".join(male_desc)\n",
    "doc_female = \" \".join(female_desc)"
   ]
  },
  {
   "cell_type": "code",
   "execution_count": null,
   "id": "af01565d-c254-462d-915a-42a12aead376",
   "metadata": {},
   "outputs": [],
   "source": [
    "# Build a dictionary of word chunks for males\n",
    "dictionary = Dictionary(chunks_male)\n",
    "\n",
    "# Remove rare and common tokens.\n",
    "# Filter out words that occur too frequently or too rarely.\n",
    "max_freq = 0.5\n",
    "min_wordcount = 1\n",
    "\n",
    "dictionary.filter_extremes(no_below=min_wordcount, no_above=max_freq)\n",
    "\n",
    "# Bag-of-words representation of the documents.\n",
    "corpus = [dictionary.doc2bow(doc) for doc in chunks_male]\n",
    "\n",
    "print('Number of unique tokens: %d' % len(dictionary))\n",
    "print('Number of rows: %d' % len(corpus))\n",
    "\n",
    "params = {'passes': 10}\n",
    "base_models = dict()\n",
    "model_male = LdaMulticore(corpus=corpus, num_topics=1, id2word=dictionary, workers=6,\n",
    "                passes=params['passes'])"
   ]
  },
  {
   "cell_type": "code",
   "execution_count": 112,
   "id": "8b138960-70f0-4943-8712-68ea50177e76",
   "metadata": {},
   "outputs": [
    {
     "ename": "NameError",
     "evalue": "name 'chunks_female' is not defined",
     "output_type": "error",
     "traceback": [
      "\u001b[0;31m---------------------------------------------------------------------------\u001b[0m",
      "\u001b[0;31mNameError\u001b[0m                                 Traceback (most recent call last)",
      "Input \u001b[0;32mIn [112]\u001b[0m, in \u001b[0;36m<cell line: 2>\u001b[0;34m()\u001b[0m\n\u001b[1;32m      1\u001b[0m \u001b[38;5;66;03m# Build a dictionary of word chunks for females\u001b[39;00m\n\u001b[0;32m----> 2\u001b[0m dictionary \u001b[38;5;241m=\u001b[39m Dictionary(\u001b[43mchunks_female\u001b[49m)\n\u001b[1;32m      4\u001b[0m \u001b[38;5;66;03m# Remove rare and common tokens.\u001b[39;00m\n\u001b[1;32m      5\u001b[0m \u001b[38;5;66;03m# Filter out words that occur too frequently or too rarely.\u001b[39;00m\n\u001b[1;32m      6\u001b[0m dictionary\u001b[38;5;241m.\u001b[39mfilter_extremes(no_below\u001b[38;5;241m=\u001b[39mmin_wordcount, no_above\u001b[38;5;241m=\u001b[39mmax_freq)\n",
      "\u001b[0;31mNameError\u001b[0m: name 'chunks_female' is not defined"
     ]
    }
   ],
   "source": [
    "# Build a dictionary of word chunks for females\n",
    "dictionary = Dictionary(chunks_female)\n",
    "\n",
    "# Remove rare and common tokens.\n",
    "# Filter out words that occur too frequently or too rarely.\n",
    "dictionary.filter_extremes(no_below=min_wordcount, no_above=max_freq)\n",
    "\n",
    "\n",
    "# Bag-of-words representation of the documents.\n",
    "corpus = [dictionary.doc2bow(doc) for doc in chunks_female]\n",
    "\n",
    "print('Number of unique tokens: %d' % len(dictionary))\n",
    "print('Number of rows: %d' % len(corpus))\n",
    "\n",
    "params = {'passes': 10}\n",
    "base_models = dict()\n",
    "model_female = LdaMulticore(corpus=corpus, num_topics=1, id2word=dictionary, workers=6,\n",
    "                passes=params['passes'])"
   ]
  },
  {
   "cell_type": "code",
   "execution_count": 113,
   "id": "ffdbca17-fc73-48ab-a2a2-df036a924efe",
   "metadata": {},
   "outputs": [
    {
     "ename": "NameError",
     "evalue": "name 'Image' is not defined",
     "output_type": "error",
     "traceback": [
      "\u001b[0;31m---------------------------------------------------------------------------\u001b[0m",
      "\u001b[0;31mNameError\u001b[0m                                 Traceback (most recent call last)",
      "Input \u001b[0;32mIn [113]\u001b[0m, in \u001b[0;36m<cell line: 2>\u001b[0;34m()\u001b[0m\n\u001b[1;32m      1\u001b[0m \u001b[38;5;66;03m# Let's plot a wordcloud for males to see the most used words\u001b[39;00m\n\u001b[0;32m----> 2\u001b[0m male_mask \u001b[38;5;241m=\u001b[39m np\u001b[38;5;241m.\u001b[39marray(\u001b[43mImage\u001b[49m\u001b[38;5;241m.\u001b[39mopen(path \u001b[38;5;241m+\u001b[39m \u001b[38;5;124m'\u001b[39m\u001b[38;5;124mmale_sign.jpg\u001b[39m\u001b[38;5;124m'\u001b[39m))\n\u001b[1;32m      3\u001b[0m wordcloud \u001b[38;5;241m=\u001b[39m WordCloud(background_color\u001b[38;5;241m=\u001b[39m\u001b[38;5;124m\"\u001b[39m\u001b[38;5;124mwhite\u001b[39m\u001b[38;5;124m\"\u001b[39m,\n\u001b[1;32m      4\u001b[0m                       max_words\u001b[38;5;241m=\u001b[39m\u001b[38;5;241m50\u001b[39m,\n\u001b[1;32m      5\u001b[0m                       width\u001b[38;5;241m=\u001b[39m\u001b[38;5;241m3000\u001b[39m,\n\u001b[1;32m      6\u001b[0m                       height\u001b[38;5;241m=\u001b[39m\u001b[38;5;241m1000\u001b[39m,\n\u001b[1;32m      7\u001b[0m                      mask \u001b[38;5;241m=\u001b[39m male_mask,)\u001b[38;5;241m.\u001b[39mgenerate_from_frequencies(\u001b[38;5;28mdict\u001b[39m(model_male\u001b[38;5;241m.\u001b[39mshow_topic(\u001b[38;5;241m0\u001b[39m, \u001b[38;5;241m400\u001b[39m)))\n\u001b[1;32m      8\u001b[0m plt\u001b[38;5;241m.\u001b[39maxis(\u001b[38;5;124m'\u001b[39m\u001b[38;5;124moff\u001b[39m\u001b[38;5;124m'\u001b[39m)\n",
      "\u001b[0;31mNameError\u001b[0m: name 'Image' is not defined"
     ]
    }
   ],
   "source": [
    "# Let's plot a wordcloud for males to see the most used words\n",
    "male_mask = np.array(Image.open(path + 'male_sign.jpg'))\n",
    "wordcloud = WordCloud(background_color=\"white\",\n",
    "                      max_words=50,\n",
    "                      width=3000,\n",
    "                      height=1000,\n",
    "                     mask = male_mask,).generate_from_frequencies(dict(model_male.show_topic(0, 400)))\n",
    "plt.axis('off')\n",
    "plt.imshow(wordcloud)\n",
    "# Save figure if needed\n",
    "#plt.savefig(path + 'gender_wordcloud_male.png', dpi = 2000)"
   ]
  },
  {
   "cell_type": "code",
   "execution_count": 114,
   "id": "b81c1e16-869c-4fcf-b94b-0b6a9d301b85",
   "metadata": {},
   "outputs": [
    {
     "ename": "NameError",
     "evalue": "name 'Image' is not defined",
     "output_type": "error",
     "traceback": [
      "\u001b[0;31m---------------------------------------------------------------------------\u001b[0m",
      "\u001b[0;31mNameError\u001b[0m                                 Traceback (most recent call last)",
      "Input \u001b[0;32mIn [114]\u001b[0m, in \u001b[0;36m<cell line: 2>\u001b[0;34m()\u001b[0m\n\u001b[1;32m      1\u001b[0m \u001b[38;5;66;03m# Let's plot a wordcloud for females\u001b[39;00m\n\u001b[0;32m----> 2\u001b[0m female_mask \u001b[38;5;241m=\u001b[39m np\u001b[38;5;241m.\u001b[39marray(\u001b[43mImage\u001b[49m\u001b[38;5;241m.\u001b[39mopen(path \u001b[38;5;241m+\u001b[39m \u001b[38;5;124m'\u001b[39m\u001b[38;5;124mfemale_sign.jpg\u001b[39m\u001b[38;5;124m'\u001b[39m))\n\u001b[1;32m      3\u001b[0m wordcloud \u001b[38;5;241m=\u001b[39m WordCloud(background_color\u001b[38;5;241m=\u001b[39m\u001b[38;5;124m\"\u001b[39m\u001b[38;5;124mwhite\u001b[39m\u001b[38;5;124m\"\u001b[39m,\n\u001b[1;32m      4\u001b[0m                       max_words\u001b[38;5;241m=\u001b[39m\u001b[38;5;241m50\u001b[39m,\n\u001b[1;32m      5\u001b[0m                       width\u001b[38;5;241m=\u001b[39m\u001b[38;5;241m3000\u001b[39m,\n\u001b[1;32m      6\u001b[0m                       height\u001b[38;5;241m=\u001b[39m\u001b[38;5;241m1000\u001b[39m,\n\u001b[1;32m      7\u001b[0m                      mask \u001b[38;5;241m=\u001b[39m female_mask,)\u001b[38;5;241m.\u001b[39mgenerate_from_frequencies(\u001b[38;5;28mdict\u001b[39m(model_female\u001b[38;5;241m.\u001b[39mshow_topic(\u001b[38;5;241m0\u001b[39m, \u001b[38;5;241m400\u001b[39m)))\n\u001b[1;32m      8\u001b[0m plt\u001b[38;5;241m.\u001b[39mimshow(wordcloud)\n",
      "\u001b[0;31mNameError\u001b[0m: name 'Image' is not defined"
     ]
    }
   ],
   "source": [
    "# Let's plot a wordcloud for females\n",
    "female_mask = np.array(Image.open(path + 'female_sign.jpg'))\n",
    "wordcloud = WordCloud(background_color=\"white\",\n",
    "                      max_words=50,\n",
    "                      width=3000,\n",
    "                      height=1000,\n",
    "                     mask = female_mask,).generate_from_frequencies(dict(model_female.show_topic(0, 400)))\n",
    "plt.imshow(wordcloud)\n",
    "plt.axis('off')\n",
    "\n",
    "# Save figure if needed\n",
    "#plt.savefig(path + 'gender_wordcloud_female.png', dpi = 2000)"
   ]
  },
  {
   "cell_type": "code",
   "execution_count": 115,
   "id": "4ffa5da4-f786-448b-84ae-f20423a2db70",
   "metadata": {},
   "outputs": [
    {
     "ename": "NameError",
     "evalue": "name 'doc_male' is not defined",
     "output_type": "error",
     "traceback": [
      "\u001b[0;31m---------------------------------------------------------------------------\u001b[0m",
      "\u001b[0;31mNameError\u001b[0m                                 Traceback (most recent call last)",
      "Input \u001b[0;32mIn [115]\u001b[0m, in \u001b[0;36m<cell line: 4>\u001b[0;34m()\u001b[0m\n\u001b[1;32m      2\u001b[0m gender_lexicon \u001b[38;5;241m=\u001b[39m []\n\u001b[1;32m      3\u001b[0m lexicon \u001b[38;5;241m=\u001b[39m Empath()\n\u001b[0;32m----> 4\u001b[0m gender_lexicon\u001b[38;5;241m.\u001b[39mappend(lexicon\u001b[38;5;241m.\u001b[39manalyze(\u001b[43mdoc_male\u001b[49m, normalize\u001b[38;5;241m=\u001b[39m\u001b[38;5;28;01mTrue\u001b[39;00m))\n\u001b[1;32m      5\u001b[0m gender_lexicon\u001b[38;5;241m.\u001b[39mappend(lexicon\u001b[38;5;241m.\u001b[39manalyze(doc_female, normalize\u001b[38;5;241m=\u001b[39m\u001b[38;5;28;01mTrue\u001b[39;00m))\n\u001b[1;32m      7\u001b[0m \u001b[38;5;66;03m#To a dataframe\u001b[39;00m\n",
      "\u001b[0;31mNameError\u001b[0m: name 'doc_male' is not defined"
     ]
    }
   ],
   "source": [
    "# Building a lexicon of each word for each gender\n",
    "gender_lexicon = []\n",
    "lexicon = Empath()\n",
    "gender_lexicon.append(lexicon.analyze(doc_male, normalize=True))\n",
    "gender_lexicon.append(lexicon.analyze(doc_female, normalize=True))\n",
    "\n",
    "#To a dataframe\n",
    "gender_lexicon = pd.DataFrame(gender_lexicon, index = ['Male', 'Female'])\n",
    "#gender_lexicon=gender_lexicon.T \n",
    "\n",
    "#thres=2\n",
    "#male_lexicon=gender_lexicon.loc[gender_lexicon['Male']>thres*gender_lexicon['Female']]\n",
    "#female_lexicon=gender_lexicon.loc[thres*gender_lexicon['Male']<gender_lexicon['Female']]"
   ]
  },
  {
   "cell_type": "code",
   "execution_count": 116,
   "id": "705261f6-6d87-487d-9c0c-ca3e6f236876",
   "metadata": {},
   "outputs": [
    {
     "ename": "AttributeError",
     "evalue": "'list' object has no attribute 'T'",
     "output_type": "error",
     "traceback": [
      "\u001b[0;31m---------------------------------------------------------------------------\u001b[0m",
      "\u001b[0;31mAttributeError\u001b[0m                            Traceback (most recent call last)",
      "Input \u001b[0;32mIn [116]\u001b[0m, in \u001b[0;36m<cell line: 3>\u001b[0;34m()\u001b[0m\n\u001b[1;32m      1\u001b[0m \u001b[38;5;66;03m# Create plot with lexical fields ordered by importance for each gender\u001b[39;00m\n\u001b[0;32m----> 3\u001b[0m temp_df \u001b[38;5;241m=\u001b[39m \u001b[43mgender_lexicon\u001b[49m\u001b[38;5;241;43m.\u001b[39;49m\u001b[43mcopy\u001b[49m\u001b[43m(\u001b[49m\u001b[43m)\u001b[49m\u001b[38;5;241;43m.\u001b[39;49m\u001b[43mT\u001b[49m \n\u001b[1;32m      4\u001b[0m temp_df\u001b[38;5;241m.\u001b[39mreset_index(inplace\u001b[38;5;241m=\u001b[39m\u001b[38;5;28;01mTrue\u001b[39;00m)\n\u001b[1;32m      7\u001b[0m \u001b[38;5;66;03m# Create a Figure object with two subplots\u001b[39;00m\n",
      "\u001b[0;31mAttributeError\u001b[0m: 'list' object has no attribute 'T'"
     ]
    }
   ],
   "source": [
    "# Create plot with lexical fields ordered by importance for each gender\n",
    "\n",
    "temp_df = gender_lexicon.copy().T \n",
    "temp_df.reset_index(inplace=True)\n",
    "\n",
    "\n",
    "# Create a Figure object with two subplots\n",
    "fig, ax = plt.subplots(1, 2, figsize=(15, 30))\n",
    "fig.suptitle(\"Lexical fields ordered by importance for each gender\",  fontsize=15)\n",
    "\n",
    "\n",
    "# Sort the dataframe by the Male column in descending order\n",
    "temp_df = temp_df.sort_values(by=['Male'],  ascending=False)\n",
    "\n",
    "# Add the first bar plot to the first subplot\n",
    "sns.barplot(x=-temp_df['Male'], y=temp_df['index'], ax=ax[0], color='blue')\n",
    "\n",
    "# Add labels and customize the appearance\n",
    "ax[0].set_xlabel(\"Frequency of appearance\")\n",
    "ax[0].set_ylabel(\"Lexical fields\")\n",
    "ax[0].set_title(\"Male\")\n",
    "\n",
    "# Sort the dataframe by the Female column in descending order\n",
    "temp_df = temp_df.sort_values(by=['Female'],  ascending=False)\n",
    "\n",
    "# Add the second bar plot to the second subplot\n",
    "sns.barplot(x=temp_df['Female'], y=temp_df['index'], ax=ax[1], color='red')\n",
    "\n",
    "# Add labels and customize the appearance\n",
    "ax[1].set_xlabel(\"Frequency of appearance\")\n",
    "ax[1].set_ylabel(\"\")\n",
    "ax[1].set_title(\"Female\")\n",
    "\n",
    "# Adjust the layout\n",
    "fig.tight_layout(rect=[0, 0.03, 1, 0.98])\n",
    "\n",
    "# Show the plot\n",
    "plt.show()\n"
   ]
  },
  {
   "cell_type": "code",
   "execution_count": null,
   "id": "8aba09dc-89eb-4646-b1e0-d01e78fa9f86",
   "metadata": {},
   "outputs": [],
   "source": [
    "# Building rel_diff_male, measuring the relative difference between men and women for each lexical field\n",
    "temp_df = gender_lexicon.copy().T \n",
    "temp_df.reset_index(inplace=True)\n",
    "temp_df['rel_diff_male'] = 0\n",
    "temp_df = temp_df.assign(rel_diff_male = lambda x: np.log(x.Male/x.Female))\n",
    "\n",
    "temp_df['rel_diff_female'] = 0\n",
    "temp_df = temp_df.assign(rel_diff_female = lambda x: -np.log(x.Female/x.Male))\n",
    "temp_df = temp_df.replace([np.inf, -np.inf], np.nan)\n",
    "temp_df = temp_df.dropna(subset='rel_diff_male')"
   ]
  },
  {
   "cell_type": "code",
   "execution_count": null,
   "id": "6670c1b4-12a7-47c2-81dc-99351253f344",
   "metadata": {},
   "outputs": [],
   "source": [
    "# Add the lexical field's importance to the DataFrame, descending order\n",
    "temp_df['lex_field_importance'] = 0\n",
    "temp_df = temp_df.assign(lex_field_importance = lambda x: x.Male+x.Female)\n",
    "temp_df = temp_df.sort_values(by=['lex_field_importance'],  ascending=False)\n",
    "\n",
    "# Add the rolling mean of bias\n",
    "temp_df['rolling_mean'] = temp_df['rel_diff_male'].rolling(10).mean()\n",
    "temp_df"
   ]
  },
  {
   "cell_type": "code",
   "execution_count": null,
   "id": "3007a855-99d0-42a8-96c9-eee91899074b",
   "metadata": {},
   "outputs": [],
   "source": [
    "\n",
    "# Create a figure and subplots\n",
    "fig, ax = plt.subplots(1, 2, figsize=(22, 35))\n",
    "fig.subplots_adjust(top=0.96)\n",
    "\n",
    "# Add the first bar plot to the first subplot\n",
    "sns.barplot(x=temp_df['rel_diff_male'], y=temp_df['index'],\n",
    "            ax=ax[0], color='blue')\n",
    "\n",
    "# Add labels and customize the appearance\n",
    "ax[0].set_xlabel('Relative difference')\n",
    "ax[0].set_ylabel('Lexical fields')\n",
    "\n",
    "# Add the second line plot to the second subplot\n",
    "\n",
    "ax[1].hlines(y=temp_df['index'][::-1], xmin=0, xmax=temp_df['rolling_mean'], color='red')\n",
    "\n",
    "# Add labels and customize the appearance\n",
    "ax[1].set_ylabel('Relative difference')\n",
    "ax[1].set_xlabel('')\n",
    "\n",
    "# Add a vertical line at x=0\n",
    "ax[1].axvline(x=0, color='black', linestyle='--')\n",
    "\n",
    "# Add a title to the figure\n",
    "fig.suptitle(\"Relative bias - Left: female, Right: male\", fontsize=15)\n",
    "\n",
    "# Show the plot\n",
    "plt.show()"
   ]
  },
  {
   "cell_type": "code",
   "execution_count": null,
   "id": "8bea3d03-8e0b-42d9-a377-32520222d112",
   "metadata": {},
   "outputs": [],
   "source": [
    "#number of quotes to keep per category\n",
    "N = 15\n",
    "\n",
    "# we isolate the N most common lexical fields from our three categories, except the first three who are shared quite equally.\n",
    "temp_df = temp_df.sort_values(by=['Male'],  ascending=False, ignore_index=True)\n",
    "male_LFs = temp_df.loc[:N-1,'index'].values\n",
    "temp_df = temp_df.sort_values(by=['Female'],  ascending=False, ignore_index=True)\n",
    "female_LFs = temp_df.loc[:N-1,'index'].values\n",
    "\n",
    "# we remove duplicates:\n",
    "most_common_LFs = np.concatenate([male_LFs, female_LFs])\n",
    "most_common_LFs = np.unique(most_common_LFs)"
   ]
  },
  {
   "cell_type": "code",
   "execution_count": null,
   "id": "645f3afa-ced9-489b-9809-a8cd7c082311",
   "metadata": {},
   "outputs": [],
   "source": [
    "# PLotting Venn diagram\n",
    "A = set(male_LFs)\n",
    "B = set(female_LFs)\n",
    "\n",
    "fig, ax = plt.subplots(1,1, figsize=(10, 10))\n",
    "\n",
    "v = venn2([A, B], ('Male characters', \"Female characters\"))\n",
    "\n",
    "v.get_label_by_id('11').set_text('\\n'.join(A&B))\n",
    "v.get_label_by_id('10').set_text('\\n'.join(A-B))\n",
    "v.get_label_by_id('01').set_text('\\n'.join(B-A))\n",
    "\n",
    "# we manually adapt the colors to match the colors used in the rest of our analysis\n",
    "v.get_patch_by_id('01').set_color('red')\n",
    "v.get_patch_by_id('11').set_color('orange')\n",
    "v.get_patch_by_id('10').set_color('blue')\n",
    "\n",
    "plt.title(\"Top 15 lexical fields\", fontsize = 17)\n",
    "# plt.savefig(path + 'gender_venn.png', dpi = 2000) "
   ]
  },
  {
   "cell_type": "code",
   "execution_count": null,
   "id": "7805ad11-cb54-4914-89f7-8aab3f598a60",
   "metadata": {},
   "outputs": [],
   "source": [
    "#We explode the list of genres -> WHY ?\n",
    "char_desc=char_desc.explode('genres')\n",
    "\n",
    "#char_desc=char_desc[char_desc['genres'].isin(genres)]\n",
    "\n",
    "genre_count = char_desc.groupby('genres')['descriptions'].aggregate([list, 'count']).rename(columns={'list':'descriptions'})\n",
    "main_genres = genre_count[genre_count['count'] > 1000].index"
   ]
  },
  {
   "cell_type": "code",
   "execution_count": null,
   "id": "e512cff4-8ffb-4dfd-911c-64de7d93413e",
   "metadata": {},
   "outputs": [],
   "source": [
    "desc_gender = char_desc.groupby(['gender', 'genres'])['descriptions'].aggregate(list).reset_index(name='descriptions')\n",
    "#We need to unstringify the nested lists before groupingby\n",
    "desc_gender['descriptions'] = desc_gender['descriptions'].apply(lambda x: [val for sublist in x for val in sublist])\n",
    "#desc_gender.reset_index(inplace=True)\n",
    "#We keep the main genres\n",
    "female_desc = desc_gender.loc[(desc_gender['genres'].isin(main_genres)) & (desc_gender['gender']=='F')]"
   ]
  },
  {
   "cell_type": "markdown",
   "id": "65bd206e-e1fc-485c-9ae2-5ade8392e3d9",
   "metadata": {},
   "source": [
    "## 4.3 - Characters ethnicity"
   ]
  },
  {
   "cell_type": "code",
   "execution_count": null,
   "id": "71ae1305-ddfa-46c0-8448-5311b52c7bc1",
   "metadata": {},
   "outputs": [],
   "source": [
    "characters_ethnicity.head(3)"
   ]
  },
  {
   "cell_type": "code",
   "execution_count": null,
   "id": "23671ae2-be31-40c0-a9da-cb5021a1bbd5",
   "metadata": {},
   "outputs": [],
   "source": [
    "# Add descriptions\n",
    "descriptions=pd.read_csv(path+\"descriptions.csv\")\n",
    "descriptions.drop(['Unnamed: 0'], axis=1, inplace=True)\n",
    "#descriptions.drop(['Unnamed: 0.1'], axis=1, inplace=True)\n",
    "descriptions.rename(columns={\"character\": \"char_name\", 'wiki_id': 'wiki_movieID'}, inplace=True)\n",
    "\n",
    "# Unstringify the lists\n",
    "descriptions['descriptions']=descriptions['descriptions'].apply(lambda x: ast.literal_eval(x))\n",
    "\n",
    "\n",
    "round1 = characters_ethnicity.merge(descriptions, how='left', on=['wiki_movieID', 'char_name'])\n",
    "round2 = round1[round1['descriptions'].isna()]\n",
    "round1 = round1[round1['descriptions'].notna()]\n",
    "round2.drop(['descriptions'], axis=1, inplace=True)\n",
    "print(f'{len(round2)} characters with their descriptions after round one.')"
   ]
  },
  {
   "cell_type": "code",
   "execution_count": null,
   "id": "8a35ee94-1161-43b2-93b0-af2bf26195c7",
   "metadata": {},
   "outputs": [],
   "source": [
    "round2['char_name'] = round2['char_name'].astype('str').apply(lambda x: x.split(' ')[0])\n",
    "descriptions['char_name'] = descriptions['char_name'].astype('str').apply(lambda x: x.split(' ')[0])"
   ]
  },
  {
   "cell_type": "code",
   "execution_count": null,
   "id": "c17a2acc-589c-4466-bbcd-7ccc3a467306",
   "metadata": {},
   "outputs": [],
   "source": [
    "round2 = round2.merge(descriptions, how='left', on=['wiki_movieID', 'char_name'])\n",
    "round2 = round2[round2['descriptions'].notna()]\n",
    "\n",
    "print(f'{len(round2)} additional movies will be added with round 2')"
   ]
  },
  {
   "cell_type": "code",
   "execution_count": null,
   "id": "f7291543-c0af-425a-a6cd-20b6a02ad3a1",
   "metadata": {},
   "outputs": [],
   "source": [
    "round2.head(3)"
   ]
  },
  {
   "cell_type": "code",
   "execution_count": null,
   "id": "30a83689-5fd2-4272-b9ce-b44e1d882300",
   "metadata": {},
   "outputs": [],
   "source": [
    "char_desc_ethnicity = pd.concat([round1, round2])\n",
    "print(f'In total {len(char_desc_ethnicity)} characters have descriptions.')\n",
    "#Remove stop words\n",
    "char_desc_ethnicity['descriptions'] = char_desc_ethnicity['descriptions'].apply(lambda x: [token for token in x if token not in STOPWORDS])"
   ]
  },
  {
   "cell_type": "markdown",
   "id": "f6acd1be-8742-43f9-a90f-42a59410a19f",
   "metadata": {},
   "source": [
    "## 4.4 - Exploring ethnicities in general"
   ]
  },
  {
   "cell_type": "code",
   "execution_count": null,
   "id": "71da8ef1-9cc5-486b-aa2f-0877c6eb57c8",
   "metadata": {},
   "outputs": [],
   "source": [
    "# Building the same DataFrames as in gender analysis\n",
    "desc_ethnicity=char_desc_ethnicity.groupby('ethnicity')['descriptions'].aggregate([list]).reset_index().rename(columns={'list':'descriptions'})\n",
    "desc_ethnicity['descriptions'] = desc_ethnicity['descriptions'].apply(lambda x: [val for sublist in x for val in sublist])\n"
   ]
  },
  {
   "cell_type": "code",
   "execution_count": null,
   "id": "d10d6fbd-2d46-463b-81dc-0f0c4830b609",
   "metadata": {},
   "outputs": [],
   "source": [
    "# Making and grouping dictionaries of words into python dicts for every ethnicity\n",
    "desc = dict()\n",
    "chunks = dict()\n",
    "doc = dict()\n",
    "corpus = dict()\n",
    "model = dict()\n",
    "\n",
    "for ethnicity in desc_ethnicity['ethnicity']:\n",
    "    desc[ethnicity] = desc_ethnicity.loc[desc_ethnicity['ethnicity']==ethnicity]['descriptions'].values[0]\n",
    "    chunks[ethnicity] = [desc[ethnicity][i:i + n] for i in range(0, len(desc[ethnicity]), n)]\n",
    "    doc[ethnicity] = \" \".join(desc[ethnicity])\n",
    "    \n",
    "    max_freq = 0.95\n",
    "    min_wordcount = 1\n",
    "    dictionary = Dictionary(list(chunks[ethnicity]))\n",
    "    if ethnicity == 'White':\n",
    "        dictionary.filter_extremes(no_below=min_wordcount, no_above=max_freq)\n",
    "    \n",
    "    # Bag-of-words representation of the documents.\n",
    "    corpus[ethnicity] = [dictionary.doc2bow(doc) for doc in chunks[ethnicity]]\n",
    "    print(f'Ethnicity = {ethnicity}')\n",
    "    print('Number of unique tokens: %d' % len(dictionary))\n",
    "    print('Number of rows: %d' % len(corpus[ethnicity]))\n",
    "    \n",
    "    params = {'passes': 10}\n",
    "    base_models = dict()\n",
    "    \n",
    "    model[ethnicity] = LdaMulticore(corpus=corpus[ethnicity], num_topics=1, id2word=dictionary, workers=6,\n",
    "                passes=params['passes'])\n"
   ]
  },
  {
   "cell_type": "code",
   "execution_count": null,
   "id": "b861fea4-5fd8-4447-bb02-d04f50792776",
   "metadata": {},
   "outputs": [],
   "source": [
    "desc_ethnicity"
   ]
  },
  {
   "cell_type": "code",
   "execution_count": null,
   "id": "6914b598-96f3-44cd-b584-042eacc30ced",
   "metadata": {},
   "outputs": [],
   "source": [
    "# Grouping all non-white ethnicities into one\n",
    "desc_nonwhite=list()\n",
    "for ethnicity in desc_ethnicity['ethnicity']:\n",
    "    if ethnicity != 'White':\n",
    "        desc_nonwhite = desc_nonwhite + desc_ethnicity[desc_ethnicity['ethnicity'] == ethnicity].descriptions.values[0]\n",
    "desc_nonwhite = pd.DataFrame({'ethnicity': ['Non-white'], 'descriptions': [desc_nonwhite]})\n",
    "desc_ethnicity = desc_ethnicity.drop(desc_ethnicity[desc_ethnicity['ethnicity'] != 'White'].index)\n",
    "desc_ethnicity = desc_ethnicity.append(desc_nonwhite)\n",
    "\n",
    "\n"
   ]
  },
  {
   "cell_type": "code",
   "execution_count": null,
   "id": "82940da5-f785-4137-b630-66b9fd1aea9d",
   "metadata": {},
   "outputs": [],
   "source": [
    "desc_ethnicity"
   ]
  },
  {
   "cell_type": "code",
   "execution_count": null,
   "id": "844aebff-72d2-4fbe-9c74-e869290122de",
   "metadata": {},
   "outputs": [],
   "source": [
    "# Re-build DataFrame for just White & Non-white\n",
    "for ethnicity in desc_ethnicity['ethnicity']:\n",
    "    desc[ethnicity] = desc_ethnicity.loc[desc_ethnicity['ethnicity']==ethnicity]['descriptions'].values[0]\n",
    "    chunks[ethnicity] = [desc[ethnicity][i:i + n] for i in range(0, len(desc[ethnicity]), n)]\n",
    "    doc[ethnicity] = \" \".join(desc[ethnicity])\n",
    "    \n",
    "    max_freq = 0.95\n",
    "    min_wordcount = 1\n",
    "    dictionary = Dictionary(list(chunks[ethnicity]))\n",
    "    dictionary.filter_extremes(no_below=min_wordcount, no_above=max_freq)\n",
    "    \n",
    "    # Bag-of-words representation of the documents.\n",
    "    corpus[ethnicity] = [dictionary.doc2bow(doc) for doc in chunks[ethnicity]]\n",
    "    print(f'Ethnicity = {ethnicity}')\n",
    "    print('Number of unique tokens: %d' % len(dictionary))\n",
    "    print('Number of rows: %d' % len(corpus[ethnicity]))\n",
    "    \n",
    "    params = {'passes': 10}\n",
    "    base_models = dict()\n",
    "    \n",
    "    model[ethnicity] = LdaMulticore(corpus=corpus[ethnicity], num_topics=1, id2word=dictionary, workers=6,\n",
    "                passes=params['passes'])"
   ]
  },
  {
   "cell_type": "code",
   "execution_count": null,
   "id": "c874203a-f76e-4f05-a44a-6f1c977f9c3a",
   "metadata": {},
   "outputs": [],
   "source": [
    "# Matplotlib wordcloud for whites\n",
    "wordcloud = WordCloud(background_color=\"white\",\n",
    "                      max_words=50,\n",
    "                      width=3000,\n",
    "                      height=1000,\n",
    "                     #mask = male_mask,\n",
    "                     ).generate_from_frequencies(dict(model['White'].show_topic(0, 400)))\n",
    "plt.imshow(wordcloud)\n",
    "plt.axis('off')\n",
    "plt.savefig(path + 'ethnicity_wordcloud_white.png', dpi = 2000)"
   ]
  },
  {
   "cell_type": "code",
   "execution_count": null,
   "id": "f18fa1ec-3832-4ccc-a9c7-1ca7afd1dca6",
   "metadata": {},
   "outputs": [],
   "source": [
    "# Matplotlib wordcloud for non-whites\n",
    "wordcloud = WordCloud(background_color=\"white\",\n",
    "                      max_words=50,\n",
    "                      width=3000,\n",
    "                      height=1000,\n",
    "                     #mask = male_mask,\n",
    "                     ).generate_from_frequencies(dict(model['Non-white'].show_topic(0, 400)))\n",
    "plt.imshow(wordcloud)\n",
    "plt.axis('off')\n",
    "plt.savefig(path + 'ethnicity_wordcloud_nonwhite.png', dpi = 2000)"
   ]
  },
  {
   "cell_type": "code",
   "execution_count": null,
   "id": "ead61652-3d8e-4d5d-be9a-73e900a1a8f3",
   "metadata": {},
   "outputs": [],
   "source": [
    "# Building a lexicon for ethnicities\n",
    "ethnicity_lexicon = []\n",
    "lexicon = Empath()\n",
    "ethnicity_lexicon.append(lexicon.analyze(doc['White'], normalize=True))\n",
    "ethnicity_lexicon.append(lexicon.analyze(doc['Non-white'], normalize=True))\n",
    "\n",
    "#To a dataframe\n",
    "ethnicity_lexicon = pd.DataFrame(ethnicity_lexicon, index = ['White', 'Non-white'])"
   ]
  },
  {
   "cell_type": "code",
   "execution_count": null,
   "id": "ae62f1f1-0832-462d-a1d1-1acceace2742",
   "metadata": {},
   "outputs": [],
   "source": [
    "ethnicity_lexicon\n"
   ]
  },
  {
   "cell_type": "code",
   "execution_count": null,
   "id": "a61c59cc-985e-4553-b35b-1151d24ddda1",
   "metadata": {},
   "outputs": [],
   "source": [
    "temp_df = ethnicity_lexicon.copy().T \n",
    "temp_df.reset_index(inplace=True)\n",
    "\n",
    "# Create a Figure object with two subplots\n",
    "fig, ax = plt.subplots(1, 2, figsize=(15, 30))\n",
    "fig.suptitle(\"Lexical fields ordered by importance for each ethnicity\",  fontsize=15)\n",
    "\n",
    "\n",
    "# Sort the dataframe by the Male column in descending order\n",
    "temp_df = temp_df.sort_values(by=['White'],  ascending=False)\n",
    "\n",
    "# Add the first bar plot to the first subplot\n",
    "sns.barplot(x=temp_df['White'], y=temp_df['index'], ax=ax[0], color='blue')\n",
    "\n",
    "# Add labels and customize the appearance\n",
    "ax[0].set_xlabel(\"Frequency of appearance\")\n",
    "ax[0].set_ylabel(\"Lexical fields\")\n",
    "ax[0].set_title(\"White\")\n",
    "ax[0].invert_xaxis()\n",
    "\n",
    "# Sort the dataframe by the Female column in descending order\n",
    "temp_df = temp_df.sort_values(by=['Non-white'],  ascending=False)\n",
    "\n",
    "# Add the second bar plot to the second subplot\n",
    "sns.barplot(x=temp_df['White'], y=temp_df['index'], ax=ax[1], color='red')\n",
    "\n",
    "# Add labels and customize the appearance\n",
    "ax[1].set_xlabel(\"Frequency of appearance\")\n",
    "ax[1].set_ylabel(\"\")\n",
    "ax[1].set_title(\"Non-White\")\n",
    "\n",
    "# Adjust the layout\n",
    "fig.tight_layout(rect=[0, 0.03, 1, 0.98])\n",
    "\n",
    "# Show the plot\n",
    "plt.show()\n"
   ]
  },
  {
   "cell_type": "code",
   "execution_count": null,
   "id": "ff3cbc8e-f854-4505-8184-bb94793337bc",
   "metadata": {},
   "outputs": [],
   "source": [
    "# Building rel_diff_male, measuring the relative difference between men and women for each lexical field\n",
    "temp_df = ethnicity_lexicon.copy().T \n",
    "temp_df.reset_index(inplace=True)\n",
    "temp_df['rel_diff_white'] = 0\n",
    "temp_df = temp_df.assign(rel_diff_white = lambda x: np.log(x.White/x['Non-white']))\n",
    "\n",
    "temp_df['rel_diff_nonwhite'] = 0\n",
    "temp_df = temp_df.assign(rel_diff_nonwhite = lambda x: -np.log(x['Non-white']/x['White']))\n",
    "\n",
    "temp_df = temp_df.replace([np.inf, -np.inf], np.nan)\n",
    "temp_df = temp_df.dropna(subset='rel_diff_white')"
   ]
  },
  {
   "cell_type": "code",
   "execution_count": null,
   "id": "8e8f210c-dab5-4ecf-9958-890a4834c275",
   "metadata": {},
   "outputs": [],
   "source": [
    "# Create a Figure object with two subplots\n",
    "# Sort the dataframe by the Male column in ascending order\n",
    "temp_df = temp_df.sort_values(by=['rel_diff_white'],  ascending=True)\n",
    "\n",
    "# Create a figure and axes object using plt.subplots()\n",
    "fig, ax = plt.subplots(1, 2, figsize=(25, 30))\n",
    "fig.subplots_adjust(top=0.95)\n",
    "\n",
    "\n",
    "# Select the male bias data from the dataframe\n",
    "white = temp_df[temp_df['rel_diff_white'] > 0]\n",
    "\n",
    "# Use the barplot() function of seaborn to plot the data on the first subplot\n",
    "sns.barplot(x=white['rel_diff_white'], y=white['index'][::-1], ax=ax[0], color='blue')\n",
    "\n",
    "# Set the x-axis label for the first subplot\n",
    "ax[0].set_xlabel(\"Relative difference in frequency\")\n",
    "ax[0].set_ylabel(\"Lexical Fields\")\n",
    "\n",
    "ax[0].set_title('White bias')\n",
    "ax[0].invert_xaxis()\n",
    "\n",
    "# Sort the dataframe by the Female column in descending order\n",
    "temp_df = temp_df.sort_values(by=['rel_diff_nonwhite'],  ascending=True)\n",
    "\n",
    "# Select the female bias data from the dataframe\n",
    "nonwhite = temp_df[temp_df['rel_diff_white'] < 0]\n",
    "\n",
    "# Use the barplot() function of seaborn to plot the data on the second subplot\n",
    "sns.barplot(x=-nonwhite['rel_diff_nonwhite'], y=nonwhite['index'], ax=ax[1], color='red')\n",
    "\n",
    "# Add a vertical line at x=0 on the second subplot for clarity\n",
    "ax[1].axvline(x=0, color='k')\n",
    "\n",
    "# Set the x-axis label for the second subplot\n",
    "ax[1].set_xlabel(\"Relative difference in frequency\")\n",
    "ax[1].set_ylabel(\"\")\n",
    "\n",
    "ax[1].set_title('Non-White bias')\n",
    "# Set the title of the figure\n",
    "fig.suptitle(\"Lexical fields for ethnic bias\", fontsize=15)\n",
    "\n",
    "# Show the plot\n",
    "plt.show()"
   ]
  },
  {
   "cell_type": "code",
   "execution_count": null,
   "id": "52acce18-ca73-449d-b23f-05cacf64255b",
   "metadata": {},
   "outputs": [],
   "source": [
    "# Building rel_diff, measuring the relative difference between men and women for each lexical field\n",
    "temp_df['lex_field_importance'] = 0\n",
    "temp_df = temp_df.assign(lex_field_importance = lambda x: x['White']+x['Non-white'])\n",
    "temp_df = temp_df.sort_values(by=['lex_field_importance'],  ascending=False)\n",
    "temp_df['rolling_mean'] = temp_df['rel_diff_white'].rolling(10).mean()\n",
    "temp_df"
   ]
  },
  {
   "cell_type": "code",
   "execution_count": null,
   "id": "e9f7bada-e9b2-4ad3-9121-111d5f98d7c5",
   "metadata": {},
   "outputs": [],
   "source": [
    "# Create a figure and subplots\n",
    "fig, ax = plt.subplots(1, 2, figsize=(22, 35))\n",
    "fig.subplots_adjust(top=0.96)\n",
    "\n",
    "# Add the first bar plot to the first subplot\n",
    "sns.barplot(x=temp_df['rel_diff_white'], y=temp_df['index'],\n",
    "            ax=ax[0], color='blue')\n",
    "\n",
    "# Add labels and customize the appearance\n",
    "ax[0].set_xlabel('Relative difference')\n",
    "ax[0].set_ylabel('Lexical fields')\n",
    "ax[1].set_title('Relative difference')\n",
    "\n",
    "# Add the second line plot to the second subplot\n",
    "\n",
    "ax[1].hlines(y=temp_df['index'][::-1], xmin=0, xmax=temp_df['rolling_mean'], color='red')\n",
    "\n",
    "# Add labels and customize the appearance\n",
    "ax[1].set_ylabel('')\n",
    "ax[1].set_xlabel('Mean')\n",
    "ax[1].set_title('Rolling mean')\n",
    "\n",
    "# Add a vertical line at x=0\n",
    "ax[1].axvline(x=0, color='black', linestyle='--')\n",
    "\n",
    "# Add a title to the figure\n",
    "fig.suptitle(\"Relative bias - Left: White, Right: Non-White\", fontsize=15)\n",
    "\n",
    "# Show the plot\n",
    "plt.show()"
   ]
  },
  {
   "cell_type": "code",
   "execution_count": null,
   "id": "6c2f0d1d-4946-48b6-b71f-264d10991f05",
   "metadata": {},
   "outputs": [],
   "source": [
    "# We explode the list of genres\n",
    "ethnicity_desc=char_desc.explode('ethnicity')\n",
    "\n",
    "#char_desc=char_desc[char_desc['genres'].isin(genres)]\n",
    "\n",
    "ethnicity_count = ethnicity_desc.groupby('ethnicity')['descriptions'].aggregate([list, 'count']).rename(columns={'list':'descriptions'})\n",
    "main_ethnicities = ethnicity_count[ethnicity_count['count'] > 1000].index"
   ]
  },
  {
   "cell_type": "code",
   "execution_count": null,
   "id": "5e80f12f-dbc8-4c12-8015-1cc9f8f8f235",
   "metadata": {},
   "outputs": [],
   "source": [
    "# Number of quotes to keep per category\n",
    "N = 15\n",
    "\n",
    "# Isolate the N most common lexical fields from our three categories, except the first three who are shared quite equally.\n",
    "temp_df = temp_df.sort_values(by=['White'],  ascending=False, ignore_index=True)\n",
    "white_LFs = temp_df.loc[:N-1,'index'].values\n",
    "temp_df = temp_df.sort_values(by=['Non-white'],  ascending=False, ignore_index=True)\n",
    "nonwhite_LFs = temp_df.loc[:N-1,'index'].values\n",
    "\n",
    "# Remove duplicates:\n",
    "most_common_LFs = np.concatenate([white_LFs, nonwhite_LFs])\n",
    "\n",
    "most_common_LFs = np.unique(most_common_LFs)\n",
    "\n",
    "# Venn diagram\n",
    "\n",
    "A = set(white_LFs)\n",
    "B = set(nonwhite_LFs)\n",
    "\n",
    "fig, ax = plt.subplots(1,1, figsize=(10, 10))\n",
    "\n",
    "v = venn2([A, B], ('white characters', \"nonwhite characters\"))\n",
    "\n",
    "v.get_label_by_id('11').set_text('\\n'.join(A&B))\n",
    "v.get_label_by_id('10').set_text('\\n'.join(A-B))\n",
    "v.get_label_by_id('01').set_text('\\n'.join(B-A))\n",
    "\n",
    "#we manually adapt the colors to match the colors used in the rest of our analysis\n",
    "v.get_patch_by_id('01').set_color('red')\n",
    "v.get_patch_by_id('11').set_color('orange')\n",
    "v.get_patch_by_id('10').set_color('blue')\n",
    "\n",
    "plt.title(\"Top 15 lexical field\", fontsize = 17)\n",
    "#plt.savefig(path + 'ethnicity_venn.png', dpi = 2000)"
   ]
  },
  {
   "cell_type": "code",
   "execution_count": null,
   "id": "bf0a1b7b",
   "metadata": {},
   "outputs": [],
   "source": []
  }
 ],
 "metadata": {
  "kernelspec": {
   "display_name": "Python 3 (ipykernel)",
   "language": "python",
   "name": "python3"
  },
  "language_info": {
   "codemirror_mode": {
    "name": "ipython",
    "version": 3
   },
   "file_extension": ".py",
   "mimetype": "text/x-python",
   "name": "python",
   "nbconvert_exporter": "python",
   "pygments_lexer": "ipython3",
   "version": "3.9.12"
  }
 },
 "nbformat": 4,
 "nbformat_minor": 5
}
